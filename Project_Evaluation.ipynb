{
 "cells": [
  {
   "cell_type": "markdown",
   "metadata": {},
   "source": [
    "# Load Data"
   ]
  },
  {
   "cell_type": "code",
   "execution_count": 1,
   "metadata": {},
   "outputs": [],
   "source": [
    "hyperparameters = {'hidden_dim': 128, 'batch_size': 128, 'n1_gat_layers': 1, 'n2_gru_layers': 1, 'num_heads': 4, 'dropout': 0.04033931265087129, 'learning_rate': 0.00015574186652855083, 'pos_lambda': 0.5756532880616873, 'bios_hidden_dim': 32, 'pres_hidden_dim': 64, 'k': 5, 'num_clusters': 240}"
   ]
  },
  {
   "cell_type": "code",
   "execution_count": 2,
   "metadata": {},
   "outputs": [
    {
     "name": "stderr",
     "output_type": "stream",
     "text": [
      "2025-09-10 14:45:49.933306: E external/local_xla/xla/stream_executor/cuda/cuda_fft.cc:467] Unable to register cuFFT factory: Attempting to register factory for plugin cuFFT when one has already been registered\n",
      "WARNING: All log messages before absl::InitializeLog() is called are written to STDERR\n",
      "E0000 00:00:1757504749.946934 1417543 cuda_dnn.cc:8579] Unable to register cuDNN factory: Attempting to register factory for plugin cuDNN when one has already been registered\n",
      "E0000 00:00:1757504749.951076 1417543 cuda_blas.cc:1407] Unable to register cuBLAS factory: Attempting to register factory for plugin cuBLAS when one has already been registered\n",
      "W0000 00:00:1757504749.962670 1417543 computation_placer.cc:177] computation placer already registered. Please check linkage and avoid linking the same target more than once.\n",
      "W0000 00:00:1757504749.962690 1417543 computation_placer.cc:177] computation placer already registered. Please check linkage and avoid linking the same target more than once.\n",
      "W0000 00:00:1757504749.962693 1417543 computation_placer.cc:177] computation placer already registered. Please check linkage and avoid linking the same target more than once.\n",
      "W0000 00:00:1757504749.962694 1417543 computation_placer.cc:177] computation placer already registered. Please check linkage and avoid linking the same target more than once.\n",
      "2025-09-10 14:45:49.966380: I tensorflow/core/platform/cpu_feature_guard.cc:210] This TensorFlow binary is optimized to use available CPU instructions in performance-critical operations.\n",
      "To enable the following instructions: AVX2 FMA, in other operations, rebuild TensorFlow with the appropriate compiler flags.\n",
      "/tmp/ipykernel_1417543/2064997824.py:2: DeprecationWarning: the imp module is deprecated in favour of importlib and slated for removal in Python 3.12; see the module's documentation for alternative uses\n",
      "  import imp\n"
     ]
    },
    {
     "name": "stdout",
     "output_type": "stream",
     "text": [
      "1. Include only first admissions: N=32513\n",
      "2. Exclusion by ages: N=25548\n",
      "3. Include only patients who admitted for at least 24 hours: N=25168\n",
      "4. Exclude patients who died within 54-hours of admission: N=24556\n"
     ]
    },
    {
     "name": "stderr",
     "output_type": "stream",
     "text": [
      "/home/bnet/kupershmidt/HML/preprocess.py:246: FutureWarning: 'H' is deprecated and will be removed in a future version, please use 'h' instead.\n",
      "  pivot = pd.pivot_table(merged, index=['subject_id', 'hadm_id', pd.Grouper(key='charttime', freq=PREDICT_FREQ)],\n",
      "/home/bnet/kupershmidt/HML/preprocess.py:306: SettingWithCopyWarning: \n",
      "A value is trying to be set on a copy of a slice from a DataFrame\n",
      "\n",
      "See the caveats in the documentation: https://pandas.pydata.org/pandas-docs/stable/user_guide/indexing.html#returning-a-view-versus-a-copy\n",
      "  X_train.drop(columns=[\"mort_30day\",\"prolonged_stay\",\"readmission_30day\"], axis=1, inplace=True)\n",
      "/home/bnet/kupershmidt/HML/preprocess.py:310: SettingWithCopyWarning: \n",
      "A value is trying to be set on a copy of a slice from a DataFrame\n",
      "\n",
      "See the caveats in the documentation: https://pandas.pydata.org/pandas-docs/stable/user_guide/indexing.html#returning-a-view-versus-a-copy\n",
      "  X_val.drop(columns=[\"mort_30day\",\"prolonged_stay\",\"readmission_30day\"], axis=1, inplace=True)\n",
      "/home/bnet/kupershmidt/HML/preprocess.py:314: SettingWithCopyWarning: \n",
      "A value is trying to be set on a copy of a slice from a DataFrame\n",
      "\n",
      "See the caveats in the documentation: https://pandas.pydata.org/pandas-docs/stable/user_guide/indexing.html#returning-a-view-versus-a-copy\n",
      "  X_test.drop(columns=[\"mort_30day\",\"prolonged_stay\",\"readmission_30day\"], axis=1, inplace=True)\n"
     ]
    },
    {
     "name": "stdout",
     "output_type": "stream",
     "text": [
      "Pooled embeddings shape: 24529\n",
      "Number of subjects: 24529\n"
     ]
    }
   ],
   "source": [
    "import preprocess\n",
    "import imp\n",
    "imp.reload(preprocess)\n",
    "\n",
    "data = preprocess.preprocess_pipeline(num_clusters=hyperparameters['num_clusters'])"
   ]
  },
  {
   "cell_type": "markdown",
   "metadata": {},
   "source": [
    "# Datasets creation"
   ]
  },
  {
   "cell_type": "code",
   "execution_count": 3,
   "metadata": {},
   "outputs": [
    {
     "data": {
      "text/plain": [
       "True"
      ]
     },
     "execution_count": 3,
     "metadata": {},
     "output_type": "execute_result"
    }
   ],
   "source": [
    "data[\"prescriptions_train\"].shape[0] == data[\"padded_tensor_train\"].shape[0]"
   ]
  },
  {
   "cell_type": "code",
   "execution_count": 15,
   "metadata": {},
   "outputs": [
    {
     "name": "stderr",
     "output_type": "stream",
     "text": [
      "/home/bnet/kupershmidt/HML/Dataset.py:14: UserWarning: To copy construct from a tensor, it is recommended to use sourceTensor.clone().detach() or sourceTensor.clone().detach().requires_grad_(True), rather than torch.tensor(sourceTensor).\n",
      "  self.bios = torch.tensor(bios,dtype=torch.float32)\n",
      "/home/bnet/kupershmidt/HML/Dataset.py:15: UserWarning: To copy construct from a tensor, it is recommended to use sourceTensor.clone().detach() or sourceTensor.clone().detach().requires_grad_(True), rather than torch.tensor(sourceTensor).\n",
      "  self.prescriptions =  torch.tensor(prescriptions,dtype=torch.float32)\n"
     ]
    }
   ],
   "source": [
    "import Dataset\n",
    "import imp\n",
    "imp.reload(Dataset)\n",
    "import torch\n",
    "from torch.utils.data import DataLoader\n",
    "DEVICE = torch.device(\"cuda\" if torch.cuda.is_available() else \"cpu\")\n",
    "k = hyperparameters['k']\n",
    "\n",
    "train_labels = torch.tensor(data[\"y_train\"][['mort_30day', 'prolonged_stay', 'readmission_30day']].values, dtype=torch.float32).to(DEVICE)\n",
    "val_labels = torch.tensor(data[\"y_val\"][['mort_30day', 'prolonged_stay', 'readmission_30day']].values, dtype=torch.float32).to(DEVICE)\n",
    "test_labels = torch.tensor(data[\"y_test\"][['mort_30day', 'prolonged_stay', 'readmission_30day']].values, dtype=torch.float32).to(DEVICE)\n",
    "\n",
    "\n",
    "batch_size = hyperparameters['batch_size']\n",
    "datasets = {x: Dataset.PatientDataset(d, y, core=data[\"padded_tensor_core\"], padding_mask=m, padding_mask_core=data[\"padding_mask_core\"], k=k ,notes=n, bios=b, prescriptions=p) for x, d, y, m, n, b, p in\n",
    "        zip(['train', 'val', 'test'], [data[\"padded_tensor_train\"], data[\"padded_tensor_val\"], data[\"padded_tensor_test\"]],\n",
    "            [train_labels, val_labels, test_labels],\n",
    "            [data[\"padding_mask_train\"], data[\"padding_mask_val\"], data[\"padding_mask_test\"]],\n",
    "            [data[\"notes_df_train\"].embeddings.values.tolist(),\n",
    "             data[\"notes_df_val\"].embeddings.values.tolist(),\n",
    "             data[\"notes_df_test\"].embeddings.values.tolist()],\n",
    "             [torch.tensor(data[\"bio_train\"].values >= 1, dtype=torch.float32).to(DEVICE),\n",
    "              torch.tensor(data[\"bio_val\"].values >= 1, dtype=torch.float32).to(DEVICE),\n",
    "              torch.tensor(data[\"bio_test\"].values >= 1, dtype=torch.float32).to(DEVICE)],\n",
    "              [torch.tensor(data[\"prescriptions_train\"].values, dtype=torch.float32).to(DEVICE), \n",
    "              torch.tensor(data[\"prescriptions_val\"].values, dtype=torch.float32).to(DEVICE), \n",
    "              torch.tensor(data[\"prescriptions_test\"].values, dtype=torch.float32).to(DEVICE)])}\n",
    "dataloaders = {x: DataLoader(datasets[x], batch_size=batch_size, shuffle=True) for x in ['train', 'val', 'test']}"
   ]
  },
  {
   "cell_type": "markdown",
   "metadata": {},
   "source": [
    "# Model Training"
   ]
  },
  {
   "cell_type": "code",
   "execution_count": 116,
   "metadata": {},
   "outputs": [
    {
     "name": "stderr",
     "output_type": "stream",
     "text": [
      "/home/bnet/kupershmidt/anaconda3/envs/spider/lib/python3.10/site-packages/torch/nn/modules/rnn.py:123: UserWarning: dropout option adds dropout after all but last recurrent layer, so non-zero dropout expects num_layers greater than 1, but got dropout=0.04033931265087129 and num_layers=1\n",
      "  warnings.warn(\n",
      "/home/bnet/kupershmidt/anaconda3/envs/spider/lib/python3.10/site-packages/torch/optim/lr_scheduler.py:62: UserWarning: The verbose parameter is deprecated. Please use get_last_lr() to access the learning rate.\n",
      "  warnings.warn(\n"
     ]
    },
    {
     "name": "stdout",
     "output_type": "stream",
     "text": [
      "Pos weight 0: 7.5538\n",
      "Pos weight 1: 1.1253\n",
      "Pos weight 2: 23.8500\n",
      "Starting epoch 1/10\n",
      "100%|██████████| 152/152 [01:39<00:00,  1.53it/s]\n",
      "Epoch 1/10, Loss: 2.3130\n",
      "100%|██████████| 20/20 [00:12<00:00,  1.61it/s]\n",
      "Val Mortality - AUC: 0.7886 | AP: 0.3381\n",
      "Val Prolonged LOS - AUC: 0.7366 | AP: 0.7184\n",
      "Val Readmission - AUC: 0.6431 | AP: 0.0844\n",
      "Best model updated\n",
      "Starting epoch 2/10\n",
      "100%|██████████| 152/152 [01:37<00:00,  1.56it/s]\n",
      "Epoch 2/10, Loss: 2.1684\n",
      "100%|██████████| 20/20 [00:12<00:00,  1.63it/s]\n",
      "Val Mortality - AUC: 0.8139 | AP: 0.3765\n",
      "Val Prolonged LOS - AUC: 0.7635 | AP: 0.7449\n",
      "Val Readmission - AUC: 0.6382 | AP: 0.0661\n",
      "Best model updated\n",
      "Starting epoch 3/10\n",
      "100%|██████████| 152/152 [01:37<00:00,  1.55it/s]\n",
      "Epoch 3/10, Loss: 2.1128\n",
      "100%|██████████| 20/20 [00:12<00:00,  1.63it/s]\n",
      "Val Mortality - AUC: 0.8269 | AP: 0.3918\n",
      "Val Prolonged LOS - AUC: 0.7735 | AP: 0.7514\n",
      "Val Readmission - AUC: 0.6440 | AP: 0.0701\n",
      "Best model updated\n",
      "Starting epoch 4/10\n",
      "100%|██████████| 152/152 [01:37<00:00,  1.55it/s]\n",
      "Epoch 4/10, Loss: 2.0668\n",
      "100%|██████████| 20/20 [00:12<00:00,  1.62it/s]\n",
      "Val Mortality - AUC: 0.8294 | AP: 0.4039\n",
      "Val Prolonged LOS - AUC: 0.7831 | AP: 0.7634\n",
      "Val Readmission - AUC: 0.6404 | AP: 0.0733\n",
      "Best model updated\n",
      "Starting epoch 5/10\n",
      "100%|██████████| 152/152 [01:38<00:00,  1.55it/s]\n",
      "Epoch 5/10, Loss: 2.0249\n",
      "100%|██████████| 20/20 [00:12<00:00,  1.63it/s]\n",
      "Val Mortality - AUC: 0.8344 | AP: 0.4139\n",
      "Val Prolonged LOS - AUC: 0.7929 | AP: 0.7726\n",
      "Val Readmission - AUC: 0.6605 | AP: 0.0890\n",
      "Best model updated\n",
      "Starting epoch 6/10\n",
      "100%|██████████| 152/152 [01:38<00:00,  1.55it/s]\n",
      "Epoch 6/10, Loss: 1.9999\n",
      "100%|██████████| 20/20 [00:12<00:00,  1.61it/s]\n",
      "Val Mortality - AUC: 0.8320 | AP: 0.4251\n",
      "Val Prolonged LOS - AUC: 0.7907 | AP: 0.7701\n",
      "Val Readmission - AUC: 0.6495 | AP: 0.0847\n",
      "Best model updated\n",
      "Starting epoch 7/10\n",
      "100%|██████████| 152/152 [01:38<00:00,  1.55it/s]\n",
      "Epoch 7/10, Loss: 1.9644\n",
      "100%|██████████| 20/20 [00:12<00:00,  1.63it/s]\n",
      "Val Mortality - AUC: 0.8320 | AP: 0.4258\n",
      "Val Prolonged LOS - AUC: 0.7946 | AP: 0.7731\n",
      "Val Readmission - AUC: 0.6273 | AP: 0.0658\n",
      "Best model updated\n",
      "Starting epoch 8/10\n",
      "100%|██████████| 152/152 [01:38<00:00,  1.54it/s]\n",
      "Epoch 8/10, Loss: 1.9337\n",
      "100%|██████████| 20/20 [00:12<00:00,  1.62it/s]\n",
      "Val Mortality - AUC: 0.8338 | AP: 0.4313\n",
      "Val Prolonged LOS - AUC: 0.7914 | AP: 0.7699\n",
      "Val Readmission - AUC: 0.6498 | AP: 0.0703\n",
      "Best model updated\n",
      "Starting epoch 9/10\n",
      "100%|██████████| 152/152 [01:38<00:00,  1.54it/s]\n",
      "Epoch 9/10, Loss: 1.9062\n",
      "100%|██████████| 20/20 [00:12<00:00,  1.62it/s]\n",
      "Val Mortality - AUC: 0.8330 | AP: 0.4309\n",
      "Val Prolonged LOS - AUC: 0.7947 | AP: 0.7744\n",
      "Val Readmission - AUC: 0.6413 | AP: 0.0711\n",
      "Starting epoch 10/10\n",
      "100%|██████████| 152/152 [01:38<00:00,  1.54it/s]\n",
      "Epoch 10/10, Loss: 1.8777\n",
      "100%|██████████| 20/20 [00:12<00:00,  1.61it/s]\n",
      "Val Mortality - AUC: 0.8259 | AP: 0.4309\n",
      "Val Prolonged LOS - AUC: 0.7926 | AP: 0.7742\n",
      "Val Readmission - AUC: 0.6527 | AP: 0.0755\n",
      "100%|██████████| 20/20 [00:13<00:00,  1.53it/s]\n",
      "initializing calibrator\n",
      "Training completed. Validating on test set...\n",
      "100%|██████████| 20/20 [00:12<00:00,  1.59it/s]\n"
     ]
    },
    {
     "data": {
      "text/plain": [
       "(0.8661206932607515,\n",
       " 0.5180461697851331,\n",
       " 0.8093948080798675,\n",
       " 0.783683030037214,\n",
       " 0.6313058137724186,\n",
       " 0.07783062835753989)"
      ]
     },
     "execution_count": 116,
     "metadata": {},
     "output_type": "execute_result"
    }
   ],
   "source": [
    "import Model \n",
    "import imp\n",
    "imp.reload(Model)\n",
    "model = Model.GraphGRUMortalityModel(input_dim=data[\"padded_tensor_train\"].shape[2], hidden_dim=hyperparameters['hidden_dim'], \n",
    "                                     n1_gat_layers=1, n2_gru_layers=1, \n",
    "                                     X_core=data[\"padded_tensor_core\"], num_of_bios=data[\"bio_train\"].shape[1],\n",
    "                                     num_prescriptions=data[\"prescriptions_train\"].shape[-1], \n",
    "                                     bios_hidden_dim=hyperparameters['bios_hidden_dim'], pres_hidden_dim=hyperparameters['pres_hidden_dim'], \n",
    "                                     core_padding_mask=data[\"padding_mask_core\"], num_heads=hyperparameters['num_heads'], \n",
    "                                     dropout=hyperparameters['dropout'], seq_len=data[\"padded_tensor_train\"].shape[1], k=k, gnn_flag=True).to(DEVICE)\n",
    "torch.manual_seed(1234)\n",
    "model.train_all(dataloaders, datasets, epochs=10, learning_rate=hyperparameters['learning_rate'], pos_lambda=hyperparameters['pos_lambda'])\n",
    "print(\"Training completed. Validating on test set...\")\n",
    "\n",
    "model.validate(dataloaders['test'], datasets['test'])\n"
   ]
  },
  {
   "cell_type": "code",
   "execution_count": 129,
   "metadata": {},
   "outputs": [
    {
     "name": "stdout",
     "output_type": "stream",
     "text": [
      "100%|██████████| 20/20 [00:13<00:00,  1.51it/s]\n",
      "initializing calibrator\n"
     ]
    }
   ],
   "source": [
    "model.initialize_calibrator(datasets['val'].y,model.validate(dataloaders['val'], datasets['val'], return_predictions=True, calibrate=False)[1]) "
   ]
  },
  {
   "cell_type": "code",
   "execution_count": 130,
   "metadata": {},
   "outputs": [
    {
     "name": "stdout",
     "output_type": "stream",
     "text": [
      "100%|██████████| 20/20 [00:12<00:00,  1.58it/s]\n",
      "Test Mortality: AUC-ROC: 0.87  AP: 0.52\n",
      "Test Prolonged Stay: AUC-ROC: 0.81  AP: 0.78\n",
      "Test Readmission: AUC-ROC: 0.63  AP: 0.08\n"
     ]
    }
   ],
   "source": [
    "res = model.validate(dataloaders['test'], datasets['test'])\n",
    "\n",
    "print(f\"Test Mortality: AUC-ROC: {res[0]:.2f}  AP: {res[1]:.2f}\")\n",
    "print(f\"Test Prolonged Stay: AUC-ROC: {res[2]:.2f}  AP: {res[3]:.2f}\")\n",
    "print(f\"Test Readmission: AUC-ROC: {res[4]:.2f}  AP: {res[5]:.2f}\")"
   ]
  },
  {
   "cell_type": "code",
   "execution_count": 323,
   "metadata": {},
   "outputs": [],
   "source": [
    "# torch.save(model, 'model.pt')\n",
    "\n",
    "# model = torch.load('model.pt')\n",
    "# baseline_model = torch.load('baseline_model.pt')"
   ]
  },
  {
   "cell_type": "code",
   "execution_count": 83,
   "metadata": {},
   "outputs": [],
   "source": [
    "# import matplotlib.pyplot as plt\n",
    "# import numpy as np\n",
    "# from sklearn.metrics import roc_curve, precision_recall_curve, auc\n",
    "\n",
    "# # Additional Analysis: Individual ROC and PR curves for each task\n",
    "# print(\"Generating predictions on test set...\")\n",
    "# y_trues, y_preds = model.validate(dataloaders['test'], datasets['test'], return_predictions=True)\n",
    "\n",
    "# # Define task names for better visualization\n",
    "# task_names = ['Mortality (30-day)', 'Prolonged Stay', 'Readmission (30-day)']\n",
    "\n",
    "# # Convert to numpy arrays for easier handling\n",
    "# for i in range(3):\n",
    "#     y_trues[i] = np.array(y_trues[i])\n",
    "#     y_preds[i] = np.array(y_preds[i])\n",
    "\n",
    "# fig, axes = plt.subplots(2, 3, figsize=(18, 12))\n",
    "# fig.suptitle('Individual ROC and PR Curves for Each Task', fontsize=16, fontweight='bold')\n",
    "\n",
    "# # Colors: model in blue/green/red, baseline in orange\n",
    "# model_colors = 'blue'\n",
    "# baseline_color = 'orange'\n",
    "\n",
    "# # Load baseline model predictions\n",
    "# # Assumes baseline_model is loaded and has a .validate method like the main model\n",
    "# y_trues_baseline, y_preds_baseline = baseline_model.validate(dataloaders['test'], datasets['test'], return_predictions=True)\n",
    "# for i in range(3):\n",
    "#     y_trues_baseline[i] = np.array(y_trues_baseline[i])\n",
    "#     y_preds_baseline[i] = np.array(y_preds_baseline[i])\n",
    "\n",
    "# for i, task_name in enumerate(task_names):\n",
    "#     # Model\n",
    "#     y_true = y_trues[i]\n",
    "#     y_pred = y_preds[i]\n",
    "#     # Baseline\n",
    "#     y_true_base = y_trues_baseline[i]\n",
    "#     y_pred_base = y_preds_baseline[i]\n",
    "    \n",
    "#     # ROC Curve\n",
    "#     fpr, tpr, _ = roc_curve(y_true, y_pred)\n",
    "#     roc_auc = auc(fpr, tpr)\n",
    "#     fpr_base, tpr_base, _ = roc_curve(y_true_base, y_pred_base)\n",
    "#     roc_auc_base = auc(fpr_base, tpr_base)\n",
    "    \n",
    "#     axes[0, i].plot(fpr, tpr, color=model_colors, lw=2, \n",
    "#                    label=f'Model AUC = {roc_auc:.3f}')\n",
    "#     axes[0, i].plot(fpr_base, tpr_base, color=baseline_color, lw=2, linestyle='--', \n",
    "#                    label=f'Baseline AUC = {roc_auc_base:.3f}')\n",
    "#     axes[0, i].plot([0, 1], [0, 1], color='gray', lw=1, linestyle=':', alpha=0.8)\n",
    "#     axes[0, i].set_xlim([0.0, 1.0])\n",
    "#     axes[0, i].set_ylim([0.0, 1.05])\n",
    "#     axes[0, i].set_xlabel('False Positive Rate')\n",
    "#     axes[0, i].set_ylabel('True Positive Rate')\n",
    "#     axes[0, i].set_title(f'ROC Curve - {task_name}')\n",
    "#     axes[0, i].legend(loc=\"lower right\")\n",
    "#     axes[0, i].grid(True, alpha=0.3)\n",
    "    \n",
    "#     # PR Curve\n",
    "#     precision, recall, _ = precision_recall_curve(y_true, y_pred)\n",
    "#     pr_auc = auc(recall, precision)\n",
    "#     precision_base, recall_base, _ = precision_recall_curve(y_true_base, y_pred_base)\n",
    "#     pr_auc_base = auc(recall_base, precision_base)\n",
    "#     baseline = np.mean(y_true)\n",
    "    \n",
    "#     axes[1, i].plot(recall, precision, color=model_colors, lw=2, \n",
    "#                    label=f'Model AP = {pr_auc:.3f}')\n",
    "#     axes[1, i].plot(recall_base, precision_base, color=baseline_color, lw=2, linestyle='--', \n",
    "#                    label=f'Baseline AP = {pr_auc_base:.3f}')\n",
    "#     axes[1, i].axhline(y=baseline, color='gray', linestyle=':', alpha=0.8, \n",
    "#                       label=f'Random (AP = {baseline:.3f})')\n",
    "#     axes[1, i].set_xlim([0.0, 1.0])\n",
    "#     axes[1, i].set_ylim([0.0, 1.05])\n",
    "#     axes[1, i].set_xlabel('Recall')\n",
    "#     axes[1, i].set_ylabel('Precision')\n",
    "#     axes[1, i].set_title(f'PR Curve - {task_name}')\n",
    "#     axes[1, i].legend(loc=\"lower left\")\n",
    "#     axes[1, i].grid(True, alpha=0.3)\n",
    "\n",
    "# plt.tight_layout()\n",
    "# plt.show()\n"
   ]
  },
  {
   "cell_type": "code",
   "execution_count": 119,
   "metadata": {},
   "outputs": [],
   "source": [
    "import numpy as np\n",
    "import matplotlib.pyplot as plt\n",
    "from sklearn.calibration import calibration_curve\n",
    "from sklearn.metrics import brier_score_loss\n",
    "import seaborn as sns\n",
    "\n",
    "def calculate_ece(y_true, y_prob, n_bins=10):\n",
    "    \"\"\"\n",
    "    Calculate Expected Calibration Error (ECE)\n",
    "    \"\"\"\n",
    "    bin_boundaries = np.linspace(0, 1, n_bins + 1)\n",
    "    bin_lowers = bin_boundaries[:-1]\n",
    "    bin_uppers = bin_boundaries[1:]\n",
    "    \n",
    "    ece = 0\n",
    "    for bin_lower, bin_upper in zip(bin_lowers, bin_uppers):\n",
    "        in_bin = (y_prob > bin_lower) & (y_prob <= bin_upper)\n",
    "        prop_in_bin = in_bin.mean()\n",
    "        \n",
    "        if prop_in_bin > 0:\n",
    "            accuracy_in_bin = y_true[in_bin].mean()\n",
    "            avg_confidence_in_bin = y_prob[in_bin].mean()\n",
    "            ece += np.abs(avg_confidence_in_bin - accuracy_in_bin) * prop_in_bin\n",
    "    \n",
    "    return ece\n",
    "\n",
    "def calculate_mce(y_true, y_prob, n_bins=10):\n",
    "    \"\"\"\n",
    "    Calculate Maximum Calibration Error (MCE)\n",
    "    \"\"\"\n",
    "    bin_boundaries = np.linspace(0, 1, n_bins + 1)\n",
    "    bin_lowers = bin_boundaries[:-1]\n",
    "    bin_uppers = bin_boundaries[1:]\n",
    "    \n",
    "    mce = 0\n",
    "    for bin_lower, bin_upper in zip(bin_lowers, bin_uppers):\n",
    "        in_bin = (y_prob > bin_lower) & (y_prob <= bin_upper)\n",
    "        prop_in_bin = in_bin.mean()\n",
    "        \n",
    "        if prop_in_bin > 0:\n",
    "            accuracy_in_bin = y_true[in_bin].mean()\n",
    "            avg_confidence_in_bin = y_prob[in_bin].mean()\n",
    "            mce = max(mce, np.abs(avg_confidence_in_bin - accuracy_in_bin))\n",
    "    \n",
    "    return mce\n",
    "\n",
    "def plot_calibration_curve(y_true, y_prob, task_name, n_bins=10, ax=None):\n",
    "    \"\"\"\n",
    "    Plot calibration curve with reliability diagram\n",
    "    \"\"\"\n",
    "    if ax is None:\n",
    "        fig, ax = plt.subplots(1, 1, figsize=(8, 6))\n",
    "    \n",
    "    # Calculate calibration curve\n",
    "    fraction_of_positives, mean_predicted_value = calibration_curve(\n",
    "        y_true, y_prob, n_bins=n_bins, strategy='uniform'\n",
    "    )\n",
    "    \n",
    "    # Plot reliability diagram\n",
    "    ax.plot(mean_predicted_value, fraction_of_positives, \"s-\", \n",
    "            label=f'{task_name} (ECE: {calculate_ece(y_true, y_prob, n_bins):.3f})',\n",
    "            linewidth=2, markersize=8)\n",
    "    \n",
    "    # Plot perfect calibration line\n",
    "    ax.plot([0, 1], [0, 1], \"k:\", label=\"Perfectly calibrated\", linewidth=2)\n",
    "    \n",
    "    # Calculate and display metrics\n",
    "    ece = calculate_ece(y_true, y_prob, n_bins)\n",
    "    mce = calculate_mce(y_true, y_prob, n_bins)\n",
    "    brier = brier_score_loss(y_true, y_prob)\n",
    "    \n",
    "    ax.set_xlabel('Mean Predicted Probability', fontsize=12)\n",
    "    ax.set_ylabel('Fraction of Positives', fontsize=12)\n",
    "    ax.set_title(f'Calibration Curve - {task_name}', fontsize=14, fontweight='bold')\n",
    "    ax.legend(fontsize=10)\n",
    "    ax.grid(True, alpha=0.3)\n",
    "    \n",
    "    # Add metrics as text\n",
    "    metrics_text = f'ECE: {ece:.3f}\\nMCE: {mce:.3f}\\nBrier Score: {brier:.3f}'\n",
    "    ax.text(0.05, 0.95, metrics_text, transform=ax.transAxes, \n",
    "            verticalalignment='top', bbox=dict(boxstyle='round', facecolor='wheat', alpha=0.8),\n",
    "            fontsize=10)\n",
    "    \n",
    "    return ax, ece, mce, brier\n",
    "\n",
    "\n"
   ]
  },
  {
   "cell_type": "code",
   "execution_count": 140,
   "metadata": {},
   "outputs": [],
   "source": [
    "def plot_calibration_curve(y_true, y_prob, n_bins=5, ax=None, hist=True, normalize=False):\n",
    "    prob_true, prob_pred = calibration_curve(y_true, y_prob, n_bins=n_bins, strategy='quantile')\n",
    "    if ax is None:\n",
    "        ax = plt.gca()\n",
    "    if hist:\n",
    "        ax.hist(y_prob, weights=np.ones_like(y_prob) / len(y_prob), alpha=.4,\n",
    "               bins=np.maximum(10, n_bins))\n",
    "    ax.plot([0, 1], [0, 1], ':', c='k')\n",
    "    curve = ax.plot(prob_pred, prob_true, marker=\"o\")\n",
    "\n",
    "    ax.set_xlabel(\"predicted probability\")\n",
    "    ax.set_ylabel(\"fraction of positive samples\")\n",
    "\n",
    "    ax.set(aspect='equal')\n",
    "    return curve\n"
   ]
  },
  {
   "cell_type": "code",
   "execution_count": 141,
   "metadata": {},
   "outputs": [
    {
     "name": "stdout",
     "output_type": "stream",
     "text": [
      "Generating predictions for calibration analysis...\n",
      "100%|██████████| 20/20 [00:13<00:00,  1.48it/s]\n"
     ]
    }
   ],
   "source": [
    "# Generate predictions for calibration analysis\n",
    "import numpy as np\n",
    "print(\"Generating predictions for calibration analysis...\")\n",
    "\n",
    "# Get predictions from both models\n",
    "y_trues_model, y_preds_model = model.validate(dataloaders['test'], datasets['test'], return_predictions=True, calibrate=True)\n",
    "\n",
    "# Convert to numpy arrays\n",
    "task_names = ['Mortality (30-day)', 'Prolonged Stay', 'Readmission (30-day)']\n",
    "model_predictions = {}\n",
    "true_labels = {}\n",
    "\n",
    "for i, task_name in enumerate(task_names):\n",
    "    model_predictions[task_name] = np.array(y_preds_model[i])\n",
    "    true_labels[task_name] = np.array(y_trues_model[i])\n"
   ]
  },
  {
   "cell_type": "code",
   "execution_count": 142,
   "metadata": {},
   "outputs": [
    {
     "name": "stdout",
     "output_type": "stream",
     "text": [
      "Creating calibration plots...\n"
     ]
    },
    {
     "data": {
      "image/png": "[encoded data removed]",
      "text/plain": [
       "<Figure size 2000x600 with 3 Axes>"
      ]
     },
     "metadata": {},
     "output_type": "display_data"
    },
    {
     "name": "stdout",
     "output_type": "stream",
     "text": [
      "Calibration plots created successfully!\n"
     ]
    }
   ],
   "source": [
    "import matplotlib.pyplot as plt\n",
    "import seaborn as sns\n",
    "\n",
    "# Create comprehensive calibration plots\n",
    "print(\"Creating calibration plots...\")\n",
    "\n",
    "# Set up the plotting style\n",
    "plt.style.use('default')\n",
    "sns.set_palette(\"husl\")\n",
    "\n",
    "fig, axes = plt.subplots(1, 3, figsize=(20, 6))\n",
    "fig.suptitle('Model Calibration Analysis: Graph-GRU vs Baseline', fontsize=16, fontweight='bold')\n",
    "\n",
    "for i, task_name in enumerate(task_names):\n",
    "    ax_model = axes[i]\n",
    "    plot_calibration_curve(true_labels[task_name], model_predictions[task_name], \n",
    "                          ax=ax_model, n_bins=10)\n",
    "plt.tight_layout()\n",
    "plt.show()\n",
    "\n",
    "print(\"Calibration plots created successfully!\")\n"
   ]
  },
  {
   "cell_type": "markdown",
   "metadata": {},
   "source": [
    "<!-- 100%|██████████| 10/10 [00:07<00:00,  1.38it/s]\n",
    "Test Mortality: AUC-ROC: 0.85  AP: 0.52\n",
    "Test Prolonged Stay: AUC-ROC: 0.82  AP: 0.80\n",
    "Test Readmission: AUC-ROC: 0.62  AP: 0.08 -->"
   ]
  },
  {
   "cell_type": "markdown",
   "metadata": {},
   "source": [
    "<!-- Test Mortality: AUC-ROC: 0.87  AP: 0.52\n",
    "Test Prolonged Stay: AUC-ROC: 0.83  AP: 0.81\n",
    "Test Readmission: AUC-ROC: 0.62  AP: 0.08 -->"
   ]
  }
 ],
 "metadata": {
  "colab": {
   "provenance": []
  },
  "kernelspec": {
   "display_name": "Python 3 (ipykernel)",
   "language": "python",
   "name": "python3"
  },
  "language_info": {
   "codemirror_mode": {
    "name": "ipython",
    "version": 3
   },
   "file_extension": ".py",
   "mimetype": "text/x-python",
   "name": "python",
   "nbconvert_exporter": "python",
   "pygments_lexer": "ipython3",
   "version": "3.10.15"
  },
  "widgets": {
   "application/vnd.jupyter.widget-state+json": {
    "1ddf7f8e5bd9405fb67d08725d4983e5": {
     "model_module": "@jupyter-widgets/controls",
     "model_module_version": "1.5.0",
     "model_name": "ProgressStyleModel",
     "state": {
      "_model_module": "@jupyter-widgets/controls",
      "_model_module_version": "1.5.0",
      "_model_name": "ProgressStyleModel",
      "_view_count": null,
      "_view_module": "@jupyter-widgets/base",
      "_view_module_version": "1.2.0",
      "_view_name": "StyleView",
      "bar_color": "black",
      "description_width": ""
     }
    },
    "56463d5b8bee4a088d7c9d7613fd6e20": {
     "model_module": "@jupyter-widgets/base",
     "model_module_version": "1.2.0",
     "model_name": "LayoutModel",
     "state": {
      "_model_module": "@jupyter-widgets/base",
      "_model_module_version": "1.2.0",
      "_model_name": "LayoutModel",
      "_view_count": null,
      "_view_module": "@jupyter-widgets/base",
      "_view_module_version": "1.2.0",
      "_view_name": "LayoutView",
      "align_content": null,
      "align_items": null,
      "align_self": null,
      "border": null,
      "bottom": null,
      "display": null,
      "flex": null,
      "flex_flow": null,
      "grid_area": null,
      "grid_auto_columns": null,
      "grid_auto_flow": null,
      "grid_auto_rows": null,
      "grid_column": null,
      "grid_gap": null,
      "grid_row": null,
      "grid_template_areas": null,
      "grid_template_columns": null,
      "grid_template_rows": null,
      "height": null,
      "justify_content": null,
      "justify_items": null,
      "left": null,
      "margin": null,
      "max_height": null,
      "max_width": null,
      "min_height": null,
      "min_width": null,
      "object_fit": null,
      "object_position": null,
      "order": null,
      "overflow": null,
      "overflow_x": null,
      "overflow_y": null,
      "padding": null,
      "right": null,
      "top": null,
      "visibility": null,
      "width": "auto"
     }
    },
    "78c007406aa24a9f80d79038bb6e14a1": {
     "model_module": "@jupyter-widgets/controls",
     "model_module_version": "1.5.0",
     "model_name": "FloatProgressModel",
     "state": {
      "_dom_classes": [],
      "_model_module": "@jupyter-widgets/controls",
      "_model_module_version": "1.5.0",
      "_model_name": "FloatProgressModel",
      "_view_count": null,
      "_view_module": "@jupyter-widgets/controls",
      "_view_module_version": "1.5.0",
      "_view_name": "ProgressView",
      "bar_style": "",
      "description": "",
      "description_tooltip": null,
      "layout": "IPY_MODEL_fb91ad428b04480f995aced9d968ba18",
      "max": 100,
      "min": 0,
      "orientation": "horizontal",
      "style": "IPY_MODEL_1ddf7f8e5bd9405fb67d08725d4983e5",
      "value": 84
     }
    },
    "befffb4f7372406291ce48f9bfcdb07b": {
     "model_module": "@jupyter-widgets/controls",
     "model_module_version": "1.5.0",
     "model_name": "FloatProgressModel",
     "state": {
      "_dom_classes": [],
      "_model_module": "@jupyter-widgets/controls",
      "_model_module_version": "1.5.0",
      "_model_name": "FloatProgressModel",
      "_view_count": null,
      "_view_module": "@jupyter-widgets/controls",
      "_view_module_version": "1.5.0",
      "_view_name": "ProgressView",
      "bar_style": "",
      "description": "",
      "description_tooltip": null,
      "layout": "IPY_MODEL_56463d5b8bee4a088d7c9d7613fd6e20",
      "max": 100,
      "min": 0,
      "orientation": "horizontal",
      "style": "IPY_MODEL_da6f1034c8da4045a1b7aee2d5f78d5d",
      "value": 100
     }
    },
    "c82cd5cfb39e42af888dc187b5d8a58c": {
     "model_module": "@jupyter-widgets/base",
     "model_module_version": "1.2.0",
     "model_name": "LayoutModel",
     "state": {
      "_model_module": "@jupyter-widgets/base",
      "_model_module_version": "1.2.0",
      "_model_name": "LayoutModel",
      "_view_count": null,
      "_view_module": "@jupyter-widgets/base",
      "_view_module_version": "1.2.0",
      "_view_name": "LayoutView",
      "align_content": null,
      "align_items": null,
      "align_self": null,
      "border": null,
      "bottom": null,
      "display": null,
      "flex": null,
      "flex_flow": null,
      "grid_area": null,
      "grid_auto_columns": null,
      "grid_auto_flow": null,
      "grid_auto_rows": null,
      "grid_column": null,
      "grid_gap": null,
      "grid_row": null,
      "grid_template_areas": null,
      "grid_template_columns": null,
      "grid_template_rows": null,
      "height": null,
      "justify_content": null,
      "justify_items": null,
      "left": null,
      "margin": null,
      "max_height": null,
      "max_width": null,
      "min_height": null,
      "min_width": null,
      "object_fit": null,
      "object_position": null,
      "order": null,
      "overflow": null,
      "overflow_x": null,
      "overflow_y": null,
      "padding": null,
      "right": null,
      "top": null,
      "visibility": null,
      "width": "auto"
     }
    },
    "c94eb62fe73b4171937f354e2c2f06fa": {
     "model_module": "@jupyter-widgets/controls",
     "model_module_version": "1.5.0",
     "model_name": "ProgressStyleModel",
     "state": {
      "_model_module": "@jupyter-widgets/controls",
      "_model_module_version": "1.5.0",
      "_model_name": "ProgressStyleModel",
      "_view_count": null,
      "_view_module": "@jupyter-widgets/base",
      "_view_module_version": "1.2.0",
      "_view_name": "StyleView",
      "bar_color": "black",
      "description_width": ""
     }
    },
    "da6f1034c8da4045a1b7aee2d5f78d5d": {
     "model_module": "@jupyter-widgets/controls",
     "model_module_version": "1.5.0",
     "model_name": "ProgressStyleModel",
     "state": {
      "_model_module": "@jupyter-widgets/controls",
      "_model_module_version": "1.5.0",
      "_model_name": "ProgressStyleModel",
      "_view_count": null,
      "_view_module": "@jupyter-widgets/base",
      "_view_module_version": "1.2.0",
      "_view_name": "StyleView",
      "bar_color": "black",
      "description_width": ""
     }
    },
    "e6c51c60ee844703a0339b2e1dccc64b": {
     "model_module": "@jupyter-widgets/controls",
     "model_module_version": "1.5.0",
     "model_name": "FloatProgressModel",
     "state": {
      "_dom_classes": [],
      "_model_module": "@jupyter-widgets/controls",
      "_model_module_version": "1.5.0",
      "_model_name": "FloatProgressModel",
      "_view_count": null,
      "_view_module": "@jupyter-widgets/controls",
      "_view_module_version": "1.5.0",
      "_view_name": "ProgressView",
      "bar_style": "",
      "description": "",
      "description_tooltip": null,
      "layout": "IPY_MODEL_c82cd5cfb39e42af888dc187b5d8a58c",
      "max": 100,
      "min": 0,
      "orientation": "horizontal",
      "style": "IPY_MODEL_c94eb62fe73b4171937f354e2c2f06fa",
      "value": 59
     }
    },
    "fb91ad428b04480f995aced9d968ba18": {
     "model_module": "@jupyter-widgets/base",
     "model_module_version": "1.2.0",
     "model_name": "LayoutModel",
     "state": {
      "_model_module": "@jupyter-widgets/base",
      "_model_module_version": "1.2.0",
      "_model_name": "LayoutModel",
      "_view_count": null,
      "_view_module": "@jupyter-widgets/base",
      "_view_module_version": "1.2.0",
      "_view_name": "LayoutView",
      "align_content": null,
      "align_items": null,
      "align_self": null,
      "border": null,
      "bottom": null,
      "display": null,
      "flex": null,
      "flex_flow": null,
      "grid_area": null,
      "grid_auto_columns": null,
      "grid_auto_flow": null,
      "grid_auto_rows": null,
      "grid_column": null,
      "grid_gap": null,
      "grid_row": null,
      "grid_template_areas": null,
      "grid_template_columns": null,
      "grid_template_rows": null,
      "height": null,
      "justify_content": null,
      "justify_items": null,
      "left": null,
      "margin": null,
      "max_height": null,
      "max_width": null,
      "min_height": null,
      "min_width": null,
      "object_fit": null,
      "object_position": null,
      "order": null,
      "overflow": null,
      "overflow_x": null,
      "overflow_y": null,
      "padding": null,
      "right": null,
      "top": null,
      "visibility": null,
      "width": "auto"
     }
    }
   }
  }
 },
 "nbformat": 4,
 "nbformat_minor": 0
}
