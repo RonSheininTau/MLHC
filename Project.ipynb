{
 "cells": [
  {
   "cell_type": "markdown",
   "metadata": {},
   "source": [
    "# Load Data"
   ]
  },
  {
   "cell_type": "code",
   "execution_count": 1,
   "metadata": {},
   "outputs": [
    {
     "name": "stderr",
     "output_type": "stream",
     "text": [
      "2025-08-28 15:05:11.927823: E external/local_xla/xla/stream_executor/cuda/cuda_fft.cc:467] Unable to register cuFFT factory: Attempting to register factory for plugin cuFFT when one has already been registered\n",
      "WARNING: All log messages before absl::InitializeLog() is called are written to STDERR\n",
      "E0000 00:00:1756382711.941500 2536057 cuda_dnn.cc:8579] Unable to register cuDNN factory: Attempting to register factory for plugin cuDNN when one has already been registered\n",
      "E0000 00:00:1756382711.945921 2536057 cuda_blas.cc:1407] Unable to register cuBLAS factory: Attempting to register factory for plugin cuBLAS when one has already been registered\n",
      "W0000 00:00:1756382711.957598 2536057 computation_placer.cc:177] computation placer already registered. Please check linkage and avoid linking the same target more than once.\n",
      "W0000 00:00:1756382711.957619 2536057 computation_placer.cc:177] computation placer already registered. Please check linkage and avoid linking the same target more than once.\n",
      "W0000 00:00:1756382711.957621 2536057 computation_placer.cc:177] computation placer already registered. Please check linkage and avoid linking the same target more than once.\n",
      "W0000 00:00:1756382711.957622 2536057 computation_placer.cc:177] computation placer already registered. Please check linkage and avoid linking the same target more than once.\n",
      "2025-08-28 15:05:11.961692: I tensorflow/core/platform/cpu_feature_guard.cc:210] This TensorFlow binary is optimized to use available CPU instructions in performance-critical operations.\n",
      "To enable the following instructions: AVX2 FMA, in other operations, rebuild TensorFlow with the appropriate compiler flags.\n",
      "/tmp/ipykernel_2536057/3105110755.py:2: DeprecationWarning: the imp module is deprecated in favour of importlib and slated for removal in Python 3.12; see the module's documentation for alternative uses\n",
      "  import imp\n"
     ]
    },
    {
     "name": "stdout",
     "output_type": "stream",
     "text": [
      "1. Include only first admissions: N=32513\n",
      "2. Exclusion by ages: N=25548\n",
      "3. Include only patients who admitted for at least 24 hours: N=25168\n",
      "4. Exclude patients who died within 54-hours of admission: N=24556\n"
     ]
    },
    {
     "name": "stderr",
     "output_type": "stream",
     "text": [
      "/home/bnet/kupershmidt/HML/preprocess.py:209: FutureWarning: 'H' is deprecated and will be removed in a future version, please use 'h' instead.\n",
      "  pivot = pd.pivot_table(merged, index=['subject_id', 'hadm_id', pd.Grouper(key='charttime', freq=PREDICT_FREQ)],\n",
      "/home/bnet/kupershmidt/HML/preprocess.py:269: SettingWithCopyWarning: \n",
      "A value is trying to be set on a copy of a slice from a DataFrame\n",
      "\n",
      "See the caveats in the documentation: https://pandas.pydata.org/pandas-docs/stable/user_guide/indexing.html#returning-a-view-versus-a-copy\n",
      "  X_train.drop(columns=[\"mort_30day\",\"prolonged_stay\",\"readmission_30day\"], axis=1, inplace=True)\n",
      "/home/bnet/kupershmidt/HML/preprocess.py:273: SettingWithCopyWarning: \n",
      "A value is trying to be set on a copy of a slice from a DataFrame\n",
      "\n",
      "See the caveats in the documentation: https://pandas.pydata.org/pandas-docs/stable/user_guide/indexing.html#returning-a-view-versus-a-copy\n",
      "  X_val.drop(columns=[\"mort_30day\",\"prolonged_stay\",\"readmission_30day\"], axis=1, inplace=True)\n",
      "/home/bnet/kupershmidt/HML/preprocess.py:277: SettingWithCopyWarning: \n",
      "A value is trying to be set on a copy of a slice from a DataFrame\n",
      "\n",
      "See the caveats in the documentation: https://pandas.pydata.org/pandas-docs/stable/user_guide/indexing.html#returning-a-view-versus-a-copy\n",
      "  X_test.drop(columns=[\"mort_30day\",\"prolonged_stay\",\"readmission_30day\"], axis=1, inplace=True)\n"
     ]
    },
    {
     "name": "stdout",
     "output_type": "stream",
     "text": [
      "Pooled embeddings shape: 24529\n",
      "Number of subjects: 24529\n"
     ]
    }
   ],
   "source": [
    "import preprocess\n",
    "import imp\n",
    "imp.reload(preprocess)\n",
    "\n",
    "data = preprocess.preprocess_pipeline()"
   ]
  },
  {
   "cell_type": "markdown",
   "metadata": {},
   "source": [
    "# Datasets creation"
   ]
  },
  {
   "cell_type": "code",
   "execution_count": 2,
   "metadata": {},
   "outputs": [
    {
     "data": {
      "text/plain": [
       "True"
      ]
     },
     "execution_count": 2,
     "metadata": {},
     "output_type": "execute_result"
    }
   ],
   "source": [
    "data[\"prescriptions_train\"].shape[0] == data[\"padded_tensor_train\"].shape[0]"
   ]
  },
  {
   "cell_type": "code",
   "execution_count": 3,
   "metadata": {},
   "outputs": [],
   "source": [
    "hyperparameters = {'hidden_dim': 128, 'batch_size': 128, 'n1_gat_layers': 1, 'n2_gru_layers': 2, 'num_heads': 4, 'dropout': 0.04033931265087129, 'learning_rate': 0.00015574186652855083, 'pos_lambda': 0.5756532880616873, 'bios_hidden_dim': 32, 'pres_hidden_dim': 64, 'k': 5, 'num_clusters': 182}"
   ]
  },
  {
   "cell_type": "code",
   "execution_count": 7,
   "metadata": {},
   "outputs": [],
   "source": [
    "import Dataset\n",
    "import imp\n",
    "imp.reload(Dataset)\n",
    "import torch\n",
    "from torch.utils.data import DataLoader\n",
    "DEVICE = torch.device(\"cuda\" if torch.cuda.is_available() else \"cpu\")\n",
    "k = hyperparameters['k']\n",
    "\n",
    "train_labels = torch.tensor(data[\"y_train\"][['mort_30day', 'prolonged_stay', 'readmission_30day']].values, dtype=torch.float32).to(DEVICE)\n",
    "val_labels = torch.tensor(data[\"y_val\"][['mort_30day', 'prolonged_stay', 'readmission_30day']].values, dtype=torch.float32).to(DEVICE)\n",
    "test_labels = torch.tensor(data[\"y_test\"][['mort_30day', 'prolonged_stay', 'readmission_30day']].values, dtype=torch.float32).to(DEVICE)\n",
    "\n",
    "\n",
    "batch_size = hyperparameters['batch_size']\n",
    "datasets = {x: Dataset.PatientDataset(d, y, core=data[\"padded_tensor_core\"], padding_mask=m, padding_mask_core=data[\"padding_mask_core\"], k=k ,notes=n, bios=b, prescriptions=p) for x, d, y, m, n, b, p in\n",
    "        zip(['train', 'val', 'test'], [data[\"padded_tensor_train\"], data[\"padded_tensor_val\"], data[\"padded_tensor_test\"]],\n",
    "            [train_labels, val_labels, test_labels],\n",
    "            [data[\"padding_mask_train\"], data[\"padding_mask_val\"], data[\"padding_mask_test\"]],\n",
    "            [torch.stack(data[\"notes_df_train\"].embeddings.values.tolist()),\n",
    "             torch.stack(data[\"notes_df_val\"].embeddings.values.tolist()),\n",
    "             torch.stack(data[\"notes_df_test\"].embeddings.values.tolist())],\n",
    "             [torch.tensor(data[\"bio_train\"].values >= 1, dtype=torch.float32).to(DEVICE),\n",
    "              torch.tensor(data[\"bio_val\"].values >= 1, dtype=torch.float32).to(DEVICE),\n",
    "              torch.tensor(data[\"bio_test\"].values >= 1, dtype=torch.float32).to(DEVICE)],\n",
    "              [torch.tensor(data[\"prescriptions_train\"].values, dtype=torch.float32).to(DEVICE), \n",
    "              torch.tensor(data[\"prescriptions_val\"].values, dtype=torch.float32).to(DEVICE), \n",
    "              torch.tensor(data[\"prescriptions_test\"].values, dtype=torch.float32).to(DEVICE)])}\n",
    "dataloaders = {x: DataLoader(datasets[x], batch_size=batch_size, shuffle=True) for x in ['train', 'val', 'test']}"
   ]
  },
  {
   "cell_type": "markdown",
   "metadata": {},
   "source": [
    "# Model Training"
   ]
  },
  {
   "cell_type": "code",
   "execution_count": 11,
   "metadata": {},
   "outputs": [
    {
     "name": "stderr",
     "output_type": "stream",
     "text": [
      "/home/bnet/kupershmidt/anaconda3/envs/spider/lib/python3.10/site-packages/torch/nn/modules/rnn.py:123: UserWarning: dropout option adds dropout after all but last recurrent layer, so non-zero dropout expects num_layers greater than 1, but got dropout=0.04033931265087129 and num_layers=1\n",
      "  warnings.warn(\n"
     ]
    },
    {
     "name": "stdout",
     "output_type": "stream",
     "text": [
      "Pos weight 0: 7.5538\n",
      "Pos weight 1: 1.1253\n",
      "Pos weight 2: 23.8500\n",
      "Starting epoch 1/15\n",
      "100%|██████████| 152/152 [01:31<00:00,  1.66it/s]\n",
      "Epoch 1/15, Loss: 3.1087\n",
      "100%|██████████| 20/20 [00:11<00:00,  1.74it/s]\n",
      "Val Mortality - AUC: 0.7934 | AP: 0.3412\n",
      "Val Prolonged LOS - AUC: 0.7398 | AP: 0.7129\n",
      "Val Readmission - AUC: 0.6141 | AP: 0.0579\n",
      "Best model updated\n",
      "Starting epoch 2/15\n",
      "100%|██████████| 152/152 [01:31<00:00,  1.66it/s]\n",
      "Epoch 2/15, Loss: 2.8927\n",
      "100%|██████████| 20/20 [00:11<00:00,  1.72it/s]\n",
      "Val Mortality - AUC: 0.8077 | AP: 0.3566\n",
      "Val Prolonged LOS - AUC: 0.7741 | AP: 0.7475\n",
      "Val Readmission - AUC: 0.6482 | AP: 0.0696\n",
      "Best model updated\n",
      "Starting epoch 3/15\n",
      "100%|██████████| 152/152 [01:31<00:00,  1.66it/s]\n",
      "Epoch 3/15, Loss: 2.8105\n",
      "100%|██████████| 20/20 [00:11<00:00,  1.74it/s]\n",
      "Val Mortality - AUC: 0.8196 | AP: 0.3794\n",
      "Val Prolonged LOS - AUC: 0.7839 | AP: 0.7537\n",
      "Val Readmission - AUC: 0.6587 | AP: 0.0676\n",
      "Best model updated\n",
      "Starting epoch 4/15\n",
      "100%|██████████| 152/152 [01:30<00:00,  1.67it/s]\n",
      "Epoch 4/15, Loss: 2.7402\n",
      "100%|██████████| 20/20 [00:11<00:00,  1.68it/s]\n",
      "Val Mortality - AUC: 0.8260 | AP: 0.3890\n",
      "Val Prolonged LOS - AUC: 0.7889 | AP: 0.7613\n",
      "Val Readmission - AUC: 0.6309 | AP: 0.0686\n",
      "Best model updated\n",
      "Starting epoch 5/15\n",
      "100%|██████████| 152/152 [01:30<00:00,  1.67it/s]\n",
      "Epoch 5/15, Loss: 2.7087\n",
      "100%|██████████| 20/20 [00:11<00:00,  1.69it/s]\n",
      "Val Mortality - AUC: 0.8290 | AP: 0.3969\n",
      "Val Prolonged LOS - AUC: 0.7894 | AP: 0.7659\n",
      "Val Readmission - AUC: 0.6773 | AP: 0.0763\n",
      "Best model updated\n",
      "Starting epoch 6/15\n",
      "100%|██████████| 152/152 [01:31<00:00,  1.67it/s]\n",
      "Epoch 6/15, Loss: 2.6635\n",
      "100%|██████████| 20/20 [00:11<00:00,  1.73it/s]\n",
      "Val Mortality - AUC: 0.8297 | AP: 0.4019\n",
      "Val Prolonged LOS - AUC: 0.8001 | AP: 0.7748\n",
      "Val Readmission - AUC: 0.6699 | AP: 0.0733\n",
      "Best model updated\n",
      "Starting epoch 7/15\n",
      "100%|██████████| 152/152 [01:32<00:00,  1.65it/s]\n",
      "Epoch 7/15, Loss: 2.6275\n",
      "100%|██████████| 20/20 [00:11<00:00,  1.72it/s]\n",
      "Val Mortality - AUC: 0.8351 | AP: 0.4182\n",
      "Val Prolonged LOS - AUC: 0.7966 | AP: 0.7726\n",
      "Val Readmission - AUC: 0.6704 | AP: 0.0825\n",
      "Best model updated\n",
      "Starting epoch 8/15\n",
      "100%|██████████| 152/152 [01:32<00:00,  1.64it/s]\n",
      "Epoch 8/15, Loss: 2.5897\n",
      "100%|██████████| 20/20 [00:11<00:00,  1.72it/s]\n",
      "Val Mortality - AUC: 0.8350 | AP: 0.4186\n",
      "Val Prolonged LOS - AUC: 0.7871 | AP: 0.7633\n",
      "Val Readmission - AUC: 0.6620 | AP: 0.0787\n",
      "Best model updated\n",
      "Starting epoch 9/15\n",
      "100%|██████████| 152/152 [01:32<00:00,  1.64it/s]\n",
      "Epoch 9/15, Loss: 2.5360\n",
      "100%|██████████| 20/20 [00:11<00:00,  1.71it/s]\n",
      "Val Mortality - AUC: 0.8328 | AP: 0.4166\n",
      "Val Prolonged LOS - AUC: 0.7971 | AP: 0.7751\n",
      "Val Readmission - AUC: 0.6565 | AP: 0.0787\n",
      "Starting epoch 10/15\n",
      "100%|██████████| 152/152 [01:32<00:00,  1.64it/s]\n",
      "Epoch 10/15, Loss: 2.5350\n",
      "100%|██████████| 20/20 [00:11<00:00,  1.73it/s]\n",
      "Val Mortality - AUC: 0.8302 | AP: 0.4120\n",
      "Val Prolonged LOS - AUC: 0.7929 | AP: 0.7735\n",
      "Val Readmission - AUC: 0.6684 | AP: 0.0798\n",
      "Starting epoch 11/15\n",
      "100%|██████████| 152/152 [01:32<00:00,  1.64it/s]\n",
      "Epoch 11/15, Loss: 2.4681\n",
      "100%|██████████| 20/20 [00:11<00:00,  1.69it/s]\n",
      "Val Mortality - AUC: 0.8281 | AP: 0.4165\n",
      "Val Prolonged LOS - AUC: 0.8014 | AP: 0.7796\n",
      "Val Readmission - AUC: 0.6526 | AP: 0.0763\n",
      "Starting epoch 12/15\n",
      "100%|██████████| 152/152 [01:32<00:00,  1.64it/s]\n",
      "Epoch 12/15, Loss: 2.4377\n",
      "100%|██████████| 20/20 [00:11<00:00,  1.69it/s]\n",
      "Val Mortality - AUC: 0.8271 | AP: 0.4135\n",
      "Val Prolonged LOS - AUC: 0.7979 | AP: 0.7747\n",
      "Val Readmission - AUC: 0.6337 | AP: 0.0693\n",
      "Starting epoch 13/15\n",
      "100%|██████████| 152/152 [01:32<00:00,  1.64it/s]\n",
      "Epoch 13/15, Loss: 2.3874\n",
      "100%|██████████| 20/20 [00:11<00:00,  1.70it/s]\n",
      "Val Mortality - AUC: 0.8295 | AP: 0.4155\n",
      "Val Prolonged LOS - AUC: 0.8007 | AP: 0.7791\n",
      "Val Readmission - AUC: 0.6638 | AP: 0.0761\n",
      "Starting epoch 14/15\n",
      "100%|██████████| 152/152 [01:31<00:00,  1.66it/s]\n",
      "Epoch 14/15, Loss: 2.3622\n",
      "100%|██████████| 20/20 [00:11<00:00,  1.68it/s]\n",
      "Val Mortality - AUC: 0.8347 | AP: 0.4197\n",
      "Val Prolonged LOS - AUC: 0.8025 | AP: 0.7801\n",
      "Val Readmission - AUC: 0.6419 | AP: 0.0696\n",
      "Best model updated\n",
      "Starting epoch 15/15\n",
      "100%|██████████| 152/152 [01:31<00:00,  1.66it/s]\n",
      "Epoch 15/15, Loss: 2.3031\n",
      "100%|██████████| 20/20 [00:11<00:00,  1.69it/s]\n",
      "Val Mortality - AUC: 0.8236 | AP: 0.4084\n",
      "Val Prolonged LOS - AUC: 0.7948 | AP: 0.7736\n",
      "Val Readmission - AUC: 0.6634 | AP: 0.0716\n",
      "Training completed. Validating on test set...\n",
      "100%|██████████| 20/20 [00:11<00:00,  1.74it/s]\n"
     ]
    },
    {
     "data": {
      "text/plain": [
       "(0.8697208361082424,\n",
       " 0.5294962372610046,\n",
       " 0.8098144982673646,\n",
       " 0.7859860250898981,\n",
       " 0.6328291616170507,\n",
       " 0.09066275128605009)"
      ]
     },
     "execution_count": 11,
     "metadata": {},
     "output_type": "execute_result"
    }
   ],
   "source": [
    "import Model \n",
    "import imp\n",
    "imp.reload(Model)\n",
    "model = Model.GraphGRUMortalityModel(input_dim=data[\"padded_tensor_train\"].shape[2], hidden_dim=hyperparameters['hidden_dim'], \n",
    "                                     n1_gat_layers=1, n2_gru_layers=1, \n",
    "                                     X_core=data[\"padded_tensor_core\"], num_of_bios=data[\"bio_train\"].shape[1],\n",
    "                                     num_prescriptions=data[\"prescriptions_train\"].shape[-1], \n",
    "                                     bios_hidden_dim=hyperparameters['bios_hidden_dim'], pres_hidden_dim=hyperparameters['pres_hidden_dim'], \n",
    "                                     core_padding_mask=data[\"padding_mask_core\"], num_heads=hyperparameters['num_heads'], \n",
    "                                     dropout=hyperparameters['dropout'], seq_len=data[\"padded_tensor_train\"].shape[1], k=k, gnn_flag=True).to(DEVICE)\n",
    "torch.manual_seed(42)\n",
    "model.train_all(dataloaders, datasets, epochs=15, learning_rate=hyperparameters['learning_rate'])\n",
    "print(\"Training completed. Validating on test set...\")\n",
    "\n",
    "model.validate(dataloaders['test'], datasets['test'])\n",
    "#print(f'Test Accuracy in model: {acc:.4f}, AUC: {auc:.4f}, AP: {pr:.4f}')"
   ]
  },
  {
   "cell_type": "code",
   "execution_count": null,
   "metadata": {},
   "outputs": [
    {
     "name": "stdout",
     "output_type": "stream",
     "text": [
      "Test Mortality: AUC-ROC: 0.87  AP: 0.52\n",
      "Test Prolonged Stay: AUC-ROC: 0.83  AP: 0.81\n",
      "Test Readmission: AUC-ROC: 0.63  AP: 0.08\n"
     ]
    }
   ],
   "source": [
    "res = model.validate(dataloaders['test'], datasets['test'])\n",
    "\n",
    "print(f\"Test Mortality: AUC-ROC: {res[0]:.2f}  AP: {res[1]:.2f}\")\n",
    "print(f\"Test Prolonged Stay: AUC-ROC: {res[2]:.2f}  AP: {res[3]:.2f}\")\n",
    "print(f\"Test Readmission: AUC-ROC: {res[4]:.2f}  AP: {res[5]:.2f}\")"
   ]
  },
  {
   "cell_type": "markdown",
   "metadata": {},
   "source": [
    "<!-- 100%|██████████| 10/10 [00:07<00:00,  1.38it/s]\n",
    "Test Mortality: AUC-ROC: 0.85  AP: 0.52\n",
    "Test Prolonged Stay: AUC-ROC: 0.82  AP: 0.80\n",
    "Test Readmission: AUC-ROC: 0.62  AP: 0.08 -->"
   ]
  },
  {
   "cell_type": "markdown",
   "metadata": {},
   "source": [
    "<!-- Test Mortality: AUC-ROC: 0.87  AP: 0.52\n",
    "Test Prolonged Stay: AUC-ROC: 0.83  AP: 0.81\n",
    "Test Readmission: AUC-ROC: 0.62  AP: 0.08 -->"
   ]
  },
  {
   "cell_type": "code",
   "execution_count": null,
   "metadata": {},
   "outputs": [
    {
     "name": "stderr",
     "output_type": "stream",
     "text": [
      "100%|██████████| 10/10 [00:07<00:00,  1.39it/s]\n"
     ]
    },
    {
     "data": {
      "text/plain": [
       "(0.862270225393303,\n",
       " 0.5374146532039636,\n",
       " 0.8114620700121142,\n",
       " 0.7750227972338779,\n",
       " 0.5760484176849882,\n",
       " 0.05048034000235363)"
      ]
     },
     "execution_count": 9,
     "metadata": {},
     "output_type": "execute_result"
    }
   ],
   "source": [
    "model.validate(dataloaders['test'], datasets['test'])\n"
   ]
  },
  {
   "cell_type": "code",
   "execution_count": null,
   "metadata": {},
   "outputs": [],
   "source": []
  }
 ],
 "metadata": {
  "colab": {
   "provenance": []
  },
  "kernelspec": {
   "display_name": "Python 3 (ipykernel)",
   "language": "python",
   "name": "python3"
  },
  "language_info": {
   "codemirror_mode": {
    "name": "ipython",
    "version": 3
   },
   "file_extension": ".py",
   "mimetype": "text/x-python",
   "name": "python",
   "nbconvert_exporter": "python",
   "pygments_lexer": "ipython3",
   "version": "3.10.15"
  },
  "widgets": {
   "application/vnd.jupyter.widget-state+json": {
    "1ddf7f8e5bd9405fb67d08725d4983e5": {
     "model_module": "@jupyter-widgets/controls",
     "model_module_version": "1.5.0",
     "model_name": "ProgressStyleModel",
     "state": {
      "_model_module": "@jupyter-widgets/controls",
      "_model_module_version": "1.5.0",
      "_model_name": "ProgressStyleModel",
      "_view_count": null,
      "_view_module": "@jupyter-widgets/base",
      "_view_module_version": "1.2.0",
      "_view_name": "StyleView",
      "bar_color": "black",
      "description_width": ""
     }
    },
    "56463d5b8bee4a088d7c9d7613fd6e20": {
     "model_module": "@jupyter-widgets/base",
     "model_module_version": "1.2.0",
     "model_name": "LayoutModel",
     "state": {
      "_model_module": "@jupyter-widgets/base",
      "_model_module_version": "1.2.0",
      "_model_name": "LayoutModel",
      "_view_count": null,
      "_view_module": "@jupyter-widgets/base",
      "_view_module_version": "1.2.0",
      "_view_name": "LayoutView",
      "align_content": null,
      "align_items": null,
      "align_self": null,
      "border": null,
      "bottom": null,
      "display": null,
      "flex": null,
      "flex_flow": null,
      "grid_area": null,
      "grid_auto_columns": null,
      "grid_auto_flow": null,
      "grid_auto_rows": null,
      "grid_column": null,
      "grid_gap": null,
      "grid_row": null,
      "grid_template_areas": null,
      "grid_template_columns": null,
      "grid_template_rows": null,
      "height": null,
      "justify_content": null,
      "justify_items": null,
      "left": null,
      "margin": null,
      "max_height": null,
      "max_width": null,
      "min_height": null,
      "min_width": null,
      "object_fit": null,
      "object_position": null,
      "order": null,
      "overflow": null,
      "overflow_x": null,
      "overflow_y": null,
      "padding": null,
      "right": null,
      "top": null,
      "visibility": null,
      "width": "auto"
     }
    },
    "78c007406aa24a9f80d79038bb6e14a1": {
     "model_module": "@jupyter-widgets/controls",
     "model_module_version": "1.5.0",
     "model_name": "FloatProgressModel",
     "state": {
      "_dom_classes": [],
      "_model_module": "@jupyter-widgets/controls",
      "_model_module_version": "1.5.0",
      "_model_name": "FloatProgressModel",
      "_view_count": null,
      "_view_module": "@jupyter-widgets/controls",
      "_view_module_version": "1.5.0",
      "_view_name": "ProgressView",
      "bar_style": "",
      "description": "",
      "description_tooltip": null,
      "layout": "IPY_MODEL_fb91ad428b04480f995aced9d968ba18",
      "max": 100,
      "min": 0,
      "orientation": "horizontal",
      "style": "IPY_MODEL_1ddf7f8e5bd9405fb67d08725d4983e5",
      "value": 84
     }
    },
    "befffb4f7372406291ce48f9bfcdb07b": {
     "model_module": "@jupyter-widgets/controls",
     "model_module_version": "1.5.0",
     "model_name": "FloatProgressModel",
     "state": {
      "_dom_classes": [],
      "_model_module": "@jupyter-widgets/controls",
      "_model_module_version": "1.5.0",
      "_model_name": "FloatProgressModel",
      "_view_count": null,
      "_view_module": "@jupyter-widgets/controls",
      "_view_module_version": "1.5.0",
      "_view_name": "ProgressView",
      "bar_style": "",
      "description": "",
      "description_tooltip": null,
      "layout": "IPY_MODEL_56463d5b8bee4a088d7c9d7613fd6e20",
      "max": 100,
      "min": 0,
      "orientation": "horizontal",
      "style": "IPY_MODEL_da6f1034c8da4045a1b7aee2d5f78d5d",
      "value": 100
     }
    },
    "c82cd5cfb39e42af888dc187b5d8a58c": {
     "model_module": "@jupyter-widgets/base",
     "model_module_version": "1.2.0",
     "model_name": "LayoutModel",
     "state": {
      "_model_module": "@jupyter-widgets/base",
      "_model_module_version": "1.2.0",
      "_model_name": "LayoutModel",
      "_view_count": null,
      "_view_module": "@jupyter-widgets/base",
      "_view_module_version": "1.2.0",
      "_view_name": "LayoutView",
      "align_content": null,
      "align_items": null,
      "align_self": null,
      "border": null,
      "bottom": null,
      "display": null,
      "flex": null,
      "flex_flow": null,
      "grid_area": null,
      "grid_auto_columns": null,
      "grid_auto_flow": null,
      "grid_auto_rows": null,
      "grid_column": null,
      "grid_gap": null,
      "grid_row": null,
      "grid_template_areas": null,
      "grid_template_columns": null,
      "grid_template_rows": null,
      "height": null,
      "justify_content": null,
      "justify_items": null,
      "left": null,
      "margin": null,
      "max_height": null,
      "max_width": null,
      "min_height": null,
      "min_width": null,
      "object_fit": null,
      "object_position": null,
      "order": null,
      "overflow": null,
      "overflow_x": null,
      "overflow_y": null,
      "padding": null,
      "right": null,
      "top": null,
      "visibility": null,
      "width": "auto"
     }
    },
    "c94eb62fe73b4171937f354e2c2f06fa": {
     "model_module": "@jupyter-widgets/controls",
     "model_module_version": "1.5.0",
     "model_name": "ProgressStyleModel",
     "state": {
      "_model_module": "@jupyter-widgets/controls",
      "_model_module_version": "1.5.0",
      "_model_name": "ProgressStyleModel",
      "_view_count": null,
      "_view_module": "@jupyter-widgets/base",
      "_view_module_version": "1.2.0",
      "_view_name": "StyleView",
      "bar_color": "black",
      "description_width": ""
     }
    },
    "da6f1034c8da4045a1b7aee2d5f78d5d": {
     "model_module": "@jupyter-widgets/controls",
     "model_module_version": "1.5.0",
     "model_name": "ProgressStyleModel",
     "state": {
      "_model_module": "@jupyter-widgets/controls",
      "_model_module_version": "1.5.0",
      "_model_name": "ProgressStyleModel",
      "_view_count": null,
      "_view_module": "@jupyter-widgets/base",
      "_view_module_version": "1.2.0",
      "_view_name": "StyleView",
      "bar_color": "black",
      "description_width": ""
     }
    },
    "e6c51c60ee844703a0339b2e1dccc64b": {
     "model_module": "@jupyter-widgets/controls",
     "model_module_version": "1.5.0",
     "model_name": "FloatProgressModel",
     "state": {
      "_dom_classes": [],
      "_model_module": "@jupyter-widgets/controls",
      "_model_module_version": "1.5.0",
      "_model_name": "FloatProgressModel",
      "_view_count": null,
      "_view_module": "@jupyter-widgets/controls",
      "_view_module_version": "1.5.0",
      "_view_name": "ProgressView",
      "bar_style": "",
      "description": "",
      "description_tooltip": null,
      "layout": "IPY_MODEL_c82cd5cfb39e42af888dc187b5d8a58c",
      "max": 100,
      "min": 0,
      "orientation": "horizontal",
      "style": "IPY_MODEL_c94eb62fe73b4171937f354e2c2f06fa",
      "value": 59
     }
    },
    "fb91ad428b04480f995aced9d968ba18": {
     "model_module": "@jupyter-widgets/base",
     "model_module_version": "1.2.0",
     "model_name": "LayoutModel",
     "state": {
      "_model_module": "@jupyter-widgets/base",
      "_model_module_version": "1.2.0",
      "_model_name": "LayoutModel",
      "_view_count": null,
      "_view_module": "@jupyter-widgets/base",
      "_view_module_version": "1.2.0",
      "_view_name": "LayoutView",
      "align_content": null,
      "align_items": null,
      "align_self": null,
      "border": null,
      "bottom": null,
      "display": null,
      "flex": null,
      "flex_flow": null,
      "grid_area": null,
      "grid_auto_columns": null,
      "grid_auto_flow": null,
      "grid_auto_rows": null,
      "grid_column": null,
      "grid_gap": null,
      "grid_row": null,
      "grid_template_areas": null,
      "grid_template_columns": null,
      "grid_template_rows": null,
      "height": null,
      "justify_content": null,
      "justify_items": null,
      "left": null,
      "margin": null,
      "max_height": null,
      "max_width": null,
      "min_height": null,
      "min_width": null,
      "object_fit": null,
      "object_position": null,
      "order": null,
      "overflow": null,
      "overflow_x": null,
      "overflow_y": null,
      "padding": null,
      "right": null,
      "top": null,
      "visibility": null,
      "width": "auto"
     }
    }
   }
  }
 },
 "nbformat": 4,
 "nbformat_minor": 0
}
