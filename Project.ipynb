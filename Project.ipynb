{
 "cells": [
  {
   "cell_type": "code",
   "execution_count": 1,
   "metadata": {},
   "outputs": [
    {
     "name": "stderr",
     "output_type": "stream",
     "text": [
      "2025-08-21 17:40:30.339023: E external/local_xla/xla/stream_executor/cuda/cuda_fft.cc:467] Unable to register cuFFT factory: Attempting to register factory for plugin cuFFT when one has already been registered\n",
      "WARNING: All log messages before absl::InitializeLog() is called are written to STDERR\n",
      "E0000 00:00:1755787230.355942   94071 cuda_dnn.cc:8579] Unable to register cuDNN factory: Attempting to register factory for plugin cuDNN when one has already been registered\n",
      "E0000 00:00:1755787230.360555   94071 cuda_blas.cc:1407] Unable to register cuBLAS factory: Attempting to register factory for plugin cuBLAS when one has already been registered\n",
      "W0000 00:00:1755787230.372341   94071 computation_placer.cc:177] computation placer already registered. Please check linkage and avoid linking the same target more than once.\n",
      "W0000 00:00:1755787230.372357   94071 computation_placer.cc:177] computation placer already registered. Please check linkage and avoid linking the same target more than once.\n",
      "W0000 00:00:1755787230.372359   94071 computation_placer.cc:177] computation placer already registered. Please check linkage and avoid linking the same target more than once.\n",
      "W0000 00:00:1755787230.372360   94071 computation_placer.cc:177] computation placer already registered. Please check linkage and avoid linking the same target more than once.\n",
      "2025-08-21 17:40:30.376608: I tensorflow/core/platform/cpu_feature_guard.cc:210] This TensorFlow binary is optimized to use available CPU instructions in performance-critical operations.\n",
      "To enable the following instructions: AVX2 FMA, in other operations, rebuild TensorFlow with the appropriate compiler flags.\n"
     ]
    },
    {
     "name": "stdout",
     "output_type": "stream",
     "text": [
      "1. Include only first admissions: N=32513\n",
      "2. Exclusion by ages: N=25548\n",
      "3. Include only patients who admitted for at least 24 hours: N=25168\n",
      "4. Exclude patients who died within 48-hours of admission: N=24825\n"
     ]
    },
    {
     "name": "stderr",
     "output_type": "stream",
     "text": [
      "/home/bnet/ronsheinin/MLHC/MLHC/preprocess.py:203: FutureWarning: 'H' is deprecated and will be removed in a future version, please use 'h' instead.\n",
      "  pivot = pd.pivot_table(merged, index=['subject_id', 'hadm_id', pd.Grouper(key='charttime', freq=PREDICT_FREQ)],\n",
      "/home/bnet/ronsheinin/MLHC/MLHC/preprocess.py:263: SettingWithCopyWarning: \n",
      "A value is trying to be set on a copy of a slice from a DataFrame\n",
      "\n",
      "See the caveats in the documentation: https://pandas.pydata.org/pandas-docs/stable/user_guide/indexing.html#returning-a-view-versus-a-copy\n",
      "  X_train.drop(columns=[\"mort_30day\",\"prolonged_stay\",\"readmission_30day\"], axis=1, inplace=True)\n",
      "/home/bnet/ronsheinin/MLHC/MLHC/preprocess.py:267: SettingWithCopyWarning: \n",
      "A value is trying to be set on a copy of a slice from a DataFrame\n",
      "\n",
      "See the caveats in the documentation: https://pandas.pydata.org/pandas-docs/stable/user_guide/indexing.html#returning-a-view-versus-a-copy\n",
      "  X_val.drop(columns=[\"mort_30day\",\"prolonged_stay\",\"readmission_30day\"], axis=1, inplace=True)\n",
      "/home/bnet/ronsheinin/MLHC/MLHC/preprocess.py:271: SettingWithCopyWarning: \n",
      "A value is trying to be set on a copy of a slice from a DataFrame\n",
      "\n",
      "See the caveats in the documentation: https://pandas.pydata.org/pandas-docs/stable/user_guide/indexing.html#returning-a-view-versus-a-copy\n",
      "  X_test.drop(columns=[\"mort_30day\",\"prolonged_stay\",\"readmission_30day\"], axis=1, inplace=True)\n"
     ]
    },
    {
     "name": "stdout",
     "output_type": "stream",
     "text": [
      "Pooled embeddings shape: 24798\n",
      "Number of subjects: 24798\n"
     ]
    }
   ],
   "source": [
    "from preprocess import preprocess_pipeline\n",
    "\n",
    "data = preprocess_pipeline()"
   ]
  },
  {
   "cell_type": "code",
   "execution_count": 2,
   "metadata": {},
   "outputs": [],
   "source": [
    "from Dataset import PatientDataset\n",
    "import torch\n",
    "from torch.utils.data import DataLoader\n",
    "DEVICE = torch.device(\"cuda\" if torch.cuda.is_available() else \"cpu\")\n",
    "k=10\n",
    "\n",
    "train_labels = torch.tensor(data[\"y_train\"][['mort_30day', 'prolonged_stay', 'readmission_30day']].values, dtype=torch.float32).to(DEVICE)\n",
    "val_labels = torch.tensor(data[\"y_val\"][['mort_30day', 'prolonged_stay', 'readmission_30day']].values, dtype=torch.float32).to(DEVICE)\n",
    "test_labels = torch.tensor(data[\"y_test\"][['mort_30day', 'prolonged_stay', 'readmission_30day']].values, dtype=torch.float32).to(DEVICE)\n",
    "\n",
    "\n",
    "batch_size = 256\n",
    "datasets = {x: PatientDataset(d, y, core=data[\"padded_tensor_core\"], padding_mask=m, padding_mask_core=data[\"padding_mask_core\"], k=k ,notes=n) for x, d, y, m, n in\n",
    "        zip(['train', 'val', 'test'], [data[\"padded_tensor_train\"], data[\"padded_tensor_val\"], data[\"padded_tensor_test\"]],\n",
    "            [train_labels, val_labels, test_labels],\n",
    "            [data[\"padding_mask_train\"], data[\"padding_mask_val\"], data[\"padding_mask_test\"]],\n",
    "            [torch.stack(data[\"notes_df_train\"].embeddings.values.tolist()),\n",
    "             torch.stack(data[\"notes_df_val\"].embeddings.values.tolist()),\n",
    "             torch.stack(data[\"notes_df_test\"].embeddings.values.tolist())])}\n",
    "dataloaders = {x: DataLoader(datasets[x], batch_size=batch_size, shuffle=True) for x in ['train', 'val', 'test']}"
   ]
  },
  {
   "cell_type": "code",
   "execution_count": 4,
   "metadata": {},
   "outputs": [
    {
     "name": "stdout",
     "output_type": "stream",
     "text": [
      "Pos weight: 6.8738\n",
      "Starting epoch 1/10\n"
     ]
    },
    {
     "name": "stderr",
     "output_type": "stream",
     "text": [
      "  0%|          | 0/77 [00:00<?, ?it/s]"
     ]
    },
    {
     "name": "stderr",
     "output_type": "stream",
     "text": [
      "100%|██████████| 77/77 [00:51<00:00,  1.49it/s]\n"
     ]
    },
    {
     "name": "stdout",
     "output_type": "stream",
     "text": [
      "Epoch 1/10, Loss: 1.0506\n"
     ]
    },
    {
     "name": "stderr",
     "output_type": "stream",
     "text": [
      "100%|██████████| 10/10 [00:06<00:00,  1.53it/s]\n"
     ]
    },
    {
     "name": "stdout",
     "output_type": "stream",
     "text": [
      "Validation Accuracy: 0.7448 | AUC: 0.8219 | AP: 0.4436\n",
      "Best model updated\n",
      "Starting epoch 2/10\n"
     ]
    },
    {
     "name": "stderr",
     "output_type": "stream",
     "text": [
      "100%|██████████| 77/77 [00:52<00:00,  1.47it/s]\n"
     ]
    },
    {
     "name": "stdout",
     "output_type": "stream",
     "text": [
      "Epoch 2/10, Loss: 0.9133\n"
     ]
    },
    {
     "name": "stderr",
     "output_type": "stream",
     "text": [
      "100%|██████████| 10/10 [00:06<00:00,  1.49it/s]\n"
     ]
    },
    {
     "name": "stdout",
     "output_type": "stream",
     "text": [
      "Validation Accuracy: 0.8198 | AUC: 0.8358 | AP: 0.4633\n",
      "Best model updated\n",
      "Starting epoch 3/10\n"
     ]
    },
    {
     "name": "stderr",
     "output_type": "stream",
     "text": [
      "100%|██████████| 77/77 [00:50<00:00,  1.51it/s]\n"
     ]
    },
    {
     "name": "stdout",
     "output_type": "stream",
     "text": [
      "Epoch 3/10, Loss: 0.8586\n"
     ]
    },
    {
     "name": "stderr",
     "output_type": "stream",
     "text": [
      "100%|██████████| 10/10 [00:06<00:00,  1.58it/s]\n"
     ]
    },
    {
     "name": "stdout",
     "output_type": "stream",
     "text": [
      "Validation Accuracy: 0.8536 | AUC: 0.8366 | AP: 0.4771\n",
      "Best model updated\n",
      "Starting epoch 4/10\n"
     ]
    },
    {
     "name": "stderr",
     "output_type": "stream",
     "text": [
      "100%|██████████| 77/77 [00:51<00:00,  1.50it/s]\n"
     ]
    },
    {
     "name": "stdout",
     "output_type": "stream",
     "text": [
      "Epoch 4/10, Loss: 0.8175\n"
     ]
    },
    {
     "name": "stderr",
     "output_type": "stream",
     "text": [
      "100%|██████████| 10/10 [00:06<00:00,  1.43it/s]\n"
     ]
    },
    {
     "name": "stdout",
     "output_type": "stream",
     "text": [
      "Validation Accuracy: 0.8440 | AUC: 0.8399 | AP: 0.4853\n",
      "Best model updated\n",
      "Starting epoch 5/10\n"
     ]
    },
    {
     "name": "stderr",
     "output_type": "stream",
     "text": [
      "100%|██████████| 77/77 [00:52<00:00,  1.46it/s]\n"
     ]
    },
    {
     "name": "stdout",
     "output_type": "stream",
     "text": [
      "Epoch 5/10, Loss: 0.7880\n"
     ]
    },
    {
     "name": "stderr",
     "output_type": "stream",
     "text": [
      "100%|██████████| 10/10 [00:06<00:00,  1.55it/s]\n"
     ]
    },
    {
     "name": "stdout",
     "output_type": "stream",
     "text": [
      "Validation Accuracy: 0.7645 | AUC: 0.8448 | AP: 0.4876\n",
      "Best model updated\n",
      "Starting epoch 6/10\n"
     ]
    },
    {
     "name": "stderr",
     "output_type": "stream",
     "text": [
      "100%|██████████| 77/77 [00:51<00:00,  1.49it/s]\n"
     ]
    },
    {
     "name": "stdout",
     "output_type": "stream",
     "text": [
      "Epoch 6/10, Loss: 0.7558\n"
     ]
    },
    {
     "name": "stderr",
     "output_type": "stream",
     "text": [
      "100%|██████████| 10/10 [00:06<00:00,  1.56it/s]\n"
     ]
    },
    {
     "name": "stdout",
     "output_type": "stream",
     "text": [
      "Validation Accuracy: 0.7698 | AUC: 0.8360 | AP: 0.4967\n",
      "Best model updated\n",
      "Starting epoch 7/10\n"
     ]
    },
    {
     "name": "stderr",
     "output_type": "stream",
     "text": [
      "100%|██████████| 77/77 [00:51<00:00,  1.49it/s]\n"
     ]
    },
    {
     "name": "stdout",
     "output_type": "stream",
     "text": [
      "Epoch 7/10, Loss: 0.7278\n"
     ]
    },
    {
     "name": "stderr",
     "output_type": "stream",
     "text": [
      "100%|██████████| 10/10 [00:06<00:00,  1.55it/s]\n"
     ]
    },
    {
     "name": "stdout",
     "output_type": "stream",
     "text": [
      "Validation Accuracy: 0.7911 | AUC: 0.8336 | AP: 0.4856\n",
      "Starting epoch 8/10\n"
     ]
    },
    {
     "name": "stderr",
     "output_type": "stream",
     "text": [
      "100%|██████████| 77/77 [00:54<00:00,  1.42it/s]\n"
     ]
    },
    {
     "name": "stdout",
     "output_type": "stream",
     "text": [
      "Epoch 8/10, Loss: 0.7087\n"
     ]
    },
    {
     "name": "stderr",
     "output_type": "stream",
     "text": [
      "100%|██████████| 10/10 [00:06<00:00,  1.48it/s]\n"
     ]
    },
    {
     "name": "stdout",
     "output_type": "stream",
     "text": [
      "Validation Accuracy: 0.7879 | AUC: 0.8230 | AP: 0.4738\n",
      "Starting epoch 9/10\n"
     ]
    },
    {
     "name": "stderr",
     "output_type": "stream",
     "text": [
      "100%|██████████| 77/77 [00:54<00:00,  1.40it/s]\n"
     ]
    },
    {
     "name": "stdout",
     "output_type": "stream",
     "text": [
      "Epoch 9/10, Loss: 0.6873\n"
     ]
    },
    {
     "name": "stderr",
     "output_type": "stream",
     "text": [
      "100%|██████████| 10/10 [00:07<00:00,  1.39it/s]\n"
     ]
    },
    {
     "name": "stdout",
     "output_type": "stream",
     "text": [
      "Validation Accuracy: 0.8129 | AUC: 0.8386 | AP: 0.4907\n",
      "Starting epoch 10/10\n"
     ]
    },
    {
     "name": "stderr",
     "output_type": "stream",
     "text": [
      "100%|██████████| 77/77 [00:52<00:00,  1.47it/s]\n"
     ]
    },
    {
     "name": "stdout",
     "output_type": "stream",
     "text": [
      "Epoch 10/10, Loss: 0.6633\n"
     ]
    },
    {
     "name": "stderr",
     "output_type": "stream",
     "text": [
      "100%|██████████| 10/10 [00:06<00:00,  1.52it/s]\n"
     ]
    },
    {
     "name": "stdout",
     "output_type": "stream",
     "text": [
      "Validation Accuracy: 0.8427 | AUC: 0.8353 | AP: 0.4888\n",
      "Training completed. Validating on test set...\n"
     ]
    },
    {
     "name": "stderr",
     "output_type": "stream",
     "text": [
      "100%|██████████| 10/10 [00:06<00:00,  1.53it/s]"
     ]
    },
    {
     "name": "stdout",
     "output_type": "stream",
     "text": [
      "Test Accuracy in model: 0.8601, AUC: 0.8725, AP: 0.5342\n"
     ]
    },
    {
     "name": "stderr",
     "output_type": "stream",
     "text": [
      "\n"
     ]
    }
   ],
   "source": [
    "from Model import GraphGRUMortalityModel\n",
    "model = GraphGRUMortalityModel(input_dim=data[\"padded_tensor_train\"].shape[2], hidden_dim=64, n1_gat_layers=1, n2_gru_layers=2, X_core=data[\"padded_tensor_core\"], \n",
    "                               core_padding_mask=data[\"padding_mask_core\"], num_heads=4, dropout=0.2, seq_len=data[\"padded_tensor_train\"].shape[1], k=k, gnn_flag=True).to(DEVICE)\n",
    "\n",
    "model.train_all(dataloaders, datasets, epochs=10, learning_rate=1e-3)\n",
    "print(\"Training completed. Validating on test set...\")\n",
    "\n",
    "acc, auc, pr =  model.validate(dataloaders['test'], datasets['test'])\n",
    "print(f'Test Accuracy in model: {acc:.4f}, AUC: {auc:.4f}, AP: {pr:.4f}')"
   ]
  },
  {
   "cell_type": "code",
   "execution_count": 2,
   "metadata": {},
   "outputs": [],
   "source": [
    "import torch\n",
    "import torch.nn as nn   \n",
    "DEVICE = torch.device(\"cuda\" if torch.cuda.is_available() else \"cpu\")\n",
    "notes_tensor_train = torch.stack(data[\"notes_df_train\"][\"embeddings\"].values.tolist(), dim=0).to(DEVICE)\n",
    "notes_tensor_test = torch.stack(data[\"notes_df_test\"][\"embeddings\"].values.tolist(), dim=0).to(DEVICE)\n",
    "\n",
    "labels_train = torch.tensor(data[\"y_train\"][\"mort_30day\"].values, dtype=torch.float32).to(DEVICE)\n",
    "labels_test = torch.tensor(data[\"y_test\"][\"mort_30day\"].values, dtype=torch.float32).to(DEVICE)\n"
   ]
  },
  {
   "cell_type": "code",
   "execution_count": 3,
   "metadata": {},
   "outputs": [
    {
     "name": "stdout",
     "output_type": "stream",
     "text": [
      "Epoch [1/100], Loss: 0.2686\n",
      "Epoch [2/100], Loss: 0.4134\n",
      "Epoch [3/100], Loss: 0.4066\n",
      "Epoch [4/100], Loss: 0.2905\n",
      "Epoch [5/100], Loss: 0.2815\n",
      "Epoch [6/100], Loss: 0.3076\n",
      "Epoch [7/100], Loss: 0.2741\n",
      "Epoch [8/100], Loss: 0.1840\n",
      "Epoch [9/100], Loss: 0.1674\n",
      "Epoch [10/100], Loss: 0.1917\n",
      "Epoch [11/100], Loss: 0.2063\n",
      "Epoch [12/100], Loss: 0.4376\n",
      "Epoch [13/100], Loss: 0.2411\n",
      "Epoch [14/100], Loss: 0.2334\n",
      "Epoch [15/100], Loss: 0.2155\n",
      "Epoch [16/100], Loss: 0.1334\n",
      "Epoch [17/100], Loss: 0.2676\n",
      "Epoch [18/100], Loss: 0.4278\n",
      "Epoch [19/100], Loss: 0.2282\n",
      "Epoch [20/100], Loss: 0.3209\n",
      "Epoch [21/100], Loss: 0.3917\n",
      "Epoch [22/100], Loss: 0.3429\n",
      "Epoch [23/100], Loss: 0.2995\n",
      "Epoch [24/100], Loss: 0.3291\n",
      "Epoch [25/100], Loss: 0.5416\n",
      "Epoch [26/100], Loss: 0.2831\n",
      "Epoch [27/100], Loss: 0.2806\n",
      "Epoch [28/100], Loss: 0.2724\n",
      "Epoch [29/100], Loss: 0.2515\n",
      "Epoch [30/100], Loss: 0.2461\n",
      "Epoch [31/100], Loss: 0.1546\n",
      "Epoch [32/100], Loss: 0.2422\n",
      "Epoch [33/100], Loss: 0.1155\n",
      "Epoch [34/100], Loss: 0.4550\n",
      "Epoch [35/100], Loss: 0.2105\n",
      "Epoch [36/100], Loss: 0.3894\n",
      "Epoch [37/100], Loss: 0.2119\n",
      "Epoch [38/100], Loss: 0.3200\n",
      "Epoch [39/100], Loss: 0.3036\n",
      "Epoch [40/100], Loss: 0.1244\n",
      "Epoch [41/100], Loss: 0.3107\n",
      "Epoch [42/100], Loss: 0.3236\n",
      "Epoch [43/100], Loss: 0.2888\n",
      "Epoch [44/100], Loss: 0.4065\n",
      "Epoch [45/100], Loss: 0.0742\n",
      "Epoch [46/100], Loss: 0.2831\n",
      "Epoch [47/100], Loss: 0.1385\n",
      "Epoch [48/100], Loss: 0.2183\n",
      "Epoch [49/100], Loss: 0.2584\n",
      "Epoch [50/100], Loss: 0.1741\n",
      "Epoch [51/100], Loss: 0.3838\n",
      "Epoch [52/100], Loss: 0.6119\n",
      "Epoch [53/100], Loss: 0.2674\n",
      "Epoch [54/100], Loss: 0.4110\n",
      "Epoch [55/100], Loss: 0.3388\n",
      "Epoch [56/100], Loss: 0.3499\n",
      "Epoch [57/100], Loss: 0.1878\n",
      "Epoch [58/100], Loss: 0.1677\n",
      "Epoch [59/100], Loss: 0.4063\n",
      "Epoch [60/100], Loss: 0.1231\n",
      "Epoch [61/100], Loss: 0.2399\n",
      "Epoch [62/100], Loss: 0.5063\n",
      "Epoch [63/100], Loss: 0.3754\n",
      "Epoch [64/100], Loss: 0.3404\n",
      "Epoch [65/100], Loss: 0.5076\n",
      "Epoch [66/100], Loss: 0.1880\n",
      "Epoch [67/100], Loss: 0.3072\n",
      "Epoch [68/100], Loss: 0.2170\n",
      "Epoch [69/100], Loss: 0.5865\n",
      "Epoch [70/100], Loss: 0.3003\n",
      "Epoch [71/100], Loss: 0.3739\n",
      "Epoch [72/100], Loss: 0.4121\n",
      "Epoch [73/100], Loss: 0.3108\n",
      "Epoch [74/100], Loss: 0.3099\n",
      "Epoch [75/100], Loss: 0.1410\n",
      "Epoch [76/100], Loss: 0.3068\n",
      "Epoch [77/100], Loss: 0.1669\n",
      "Epoch [78/100], Loss: 0.3396\n",
      "Epoch [79/100], Loss: 0.3891\n",
      "Epoch [80/100], Loss: 0.2122\n",
      "Epoch [81/100], Loss: 0.4117\n",
      "Epoch [82/100], Loss: 0.1697\n",
      "Epoch [83/100], Loss: 0.2311\n",
      "Epoch [84/100], Loss: 0.3599\n",
      "Epoch [85/100], Loss: 0.2526\n",
      "Epoch [86/100], Loss: 0.2662\n",
      "Epoch [87/100], Loss: 0.2872\n",
      "Epoch [88/100], Loss: 0.3216\n",
      "Epoch [89/100], Loss: 0.3942\n",
      "Epoch [90/100], Loss: 0.1656\n",
      "Epoch [91/100], Loss: 0.3928\n",
      "Epoch [92/100], Loss: 0.3228\n",
      "Epoch [93/100], Loss: 0.3564\n",
      "Epoch [94/100], Loss: 0.2433\n",
      "Epoch [95/100], Loss: 0.3819\n",
      "Epoch [96/100], Loss: 0.3818\n",
      "Epoch [97/100], Loss: 0.3845\n",
      "Epoch [98/100], Loss: 0.2821\n",
      "Epoch [99/100], Loss: 0.4893\n",
      "Epoch [100/100], Loss: 0.2576\n",
      "Test ROC-AUC: 0.8354\n",
      "Test AP: 0.4516\n"
     ]
    }
   ],
   "source": [
    "from sklearn.metrics import roc_auc_score, average_precision_score\n",
    "from torch.utils.data import DataLoader, TensorDataset\n",
    "class MLP(nn.Module):\n",
    "    def __init__(self, input_dim, hidden_dim=512, dropout=0.3):\n",
    "        super(MLP, self).__init__()\n",
    "        self.layers = nn.Sequential(\n",
    "            nn.Linear(input_dim, hidden_dim),\n",
    "            nn.ReLU(),\n",
    "            nn.Dropout(dropout),\n",
    "            nn.Linear(hidden_dim, hidden_dim // 2),\n",
    "            nn.ReLU(),\n",
    "            nn.Dropout(dropout),\n",
    "            nn.Linear(hidden_dim // 2, 1),\n",
    "            nn.Sigmoid()\n",
    "        )\n",
    "    \n",
    "    def forward(self, x):\n",
    "        return self.layers(x).squeeze()\n",
    "\n",
    "# Initialize model\n",
    "input_dim = notes_tensor_train.shape[1]\n",
    "model = MLP(input_dim).to(DEVICE)\n",
    "\n",
    "# Training setup\n",
    "criterion = nn.BCELoss()\n",
    "optimizer = torch.optim.Adam(model.parameters(), lr=0.001)\n",
    "\n",
    "# Training loop\n",
    "model.train()\n",
    "epochs = 100\n",
    "\n",
    "# Create dataset and dataloader for training\n",
    "train_dataset = TensorDataset(notes_tensor_train[:labels_train.shape[0]], labels_train)\n",
    "train_loader = DataLoader(train_dataset, batch_size=256, shuffle=True)\n",
    "for epoch in range(epochs):\n",
    "    for notes, labels in train_loader:\n",
    "        notes, labels = notes.to(DEVICE), labels.to(DEVICE)\n",
    "        \n",
    "        optimizer.zero_grad()\n",
    "        outputs = model(notes)\n",
    "        loss = criterion(outputs, labels)\n",
    "        loss.backward()\n",
    "        optimizer.step()\n",
    "    \n",
    "    print(f'Epoch [{epoch+1}/{epochs}], Loss: {loss.item():.4f}')\n",
    "\n",
    "# Evaluation\n",
    "model.eval()\n",
    "with torch.no_grad():\n",
    "    test_outputs = model(notes_tensor_test)\n",
    "    test_probs = test_outputs.cpu().numpy()\n",
    "    test_labels = labels_test.cpu().numpy()\n",
    "    \n",
    "    roc_auc = roc_auc_score(test_labels, test_probs)\n",
    "    ap_score = average_precision_score(test_labels, test_probs)\n",
    "    \n",
    "    print(f'Test ROC-AUC: {roc_auc:.4f}')\n",
    "    print(f'Test AP: {ap_score:.4f}')"
   ]
  },
  {
   "cell_type": "code",
   "execution_count": 13,
   "metadata": {},
   "outputs": [
    {
     "data": {
      "application/vnd.microsoft.datawrangler.viewer.v0+json": {
       "columns": [
        {
         "name": "index",
         "rawType": "int64",
         "type": "integer"
        },
        {
         "name": "subject_id",
         "rawType": "int64",
         "type": "integer"
        },
        {
         "name": "mort_30day",
         "rawType": "int64",
         "type": "integer"
        },
        {
         "name": "prolonged_stay",
         "rawType": "int64",
         "type": "integer"
        },
        {
         "name": "readmission_30day",
         "rawType": "int64",
         "type": "integer"
        }
       ],
       "ref": "ec620ff1-ce1b-48b4-b7fe-bbb0e5d377c2",
       "rows": [
        [
         "0",
         "3",
         "0",
         "1",
         "0"
        ],
        [
         "1",
         "4",
         "0",
         "0",
         "0"
        ],
        [
         "2",
         "9",
         "1",
         "0",
         "0"
        ],
        [
         "3",
         "11",
         "0",
         "1",
         "0"
        ],
        [
         "4",
         "18",
         "0",
         "0",
         "0"
        ],
        [
         "5",
         "20",
         "0",
         "0",
         "0"
        ],
        [
         "6",
         "21",
         "0",
         "1",
         "0"
        ],
        [
         "7",
         "24",
         "0",
         "0",
         "0"
        ],
        [
         "8",
         "26",
         "0",
         "0",
         "0"
        ],
        [
         "9",
         "28",
         "0",
         "0",
         "0"
        ],
        [
         "10",
         "31",
         "1",
         "1",
         "0"
        ],
        [
         "11",
         "32",
         "0",
         "1",
         "0"
        ],
        [
         "12",
         "33",
         "0",
         "0",
         "0"
        ],
        [
         "13",
         "36",
         "0",
         "1",
         "1"
        ],
        [
         "14",
         "37",
         "0",
         "0",
         "0"
        ],
        [
         "15",
         "38",
         "0",
         "1",
         "0"
        ],
        [
         "16",
         "41",
         "0",
         "1",
         "0"
        ],
        [
         "17",
         "43",
         "0",
         "1",
         "0"
        ],
        [
         "18",
         "45",
         "0",
         "1",
         "0"
        ],
        [
         "19",
         "46",
         "0",
         "0",
         "0"
        ],
        [
         "20",
         "53",
         "0",
         "0",
         "0"
        ],
        [
         "21",
         "55",
         "0",
         "0",
         "0"
        ],
        [
         "22",
         "62",
         "0",
         "0",
         "0"
        ],
        [
         "23",
         "64",
         "0",
         "1",
         "0"
        ],
        [
         "24",
         "65",
         "0",
         "1",
         "0"
        ],
        [
         "25",
         "71",
         "0",
         "0",
         "0"
        ],
        [
         "26",
         "73",
         "0",
         "0",
         "0"
        ],
        [
         "27",
         "75",
         "0",
         "0",
         "0"
        ],
        [
         "28",
         "83",
         "0",
         "0",
         "0"
        ],
        [
         "29",
         "84",
         "1",
         "0",
         "0"
        ],
        [
         "30",
         "85",
         "0",
         "1",
         "0"
        ],
        [
         "31",
         "86",
         "0",
         "0",
         "0"
        ],
        [
         "32",
         "88",
         "0",
         "0",
         "0"
        ],
        [
         "33",
         "91",
         "1",
         "1",
         "0"
        ],
        [
         "34",
         "94",
         "0",
         "0",
         "0"
        ],
        [
         "35",
         "95",
         "0",
         "0",
         "0"
        ],
        [
         "36",
         "96",
         "0",
         "1",
         "0"
        ],
        [
         "37",
         "98",
         "0",
         "0",
         "0"
        ],
        [
         "38",
         "99",
         "0",
         "0",
         "0"
        ],
        [
         "39",
         "103",
         "1",
         "1",
         "1"
        ],
        [
         "40",
         "107",
         "0",
         "0",
         "0"
        ],
        [
         "41",
         "109",
         "0",
         "1",
         "0"
        ],
        [
         "42",
         "114",
         "0",
         "0",
         "0"
        ],
        [
         "43",
         "115",
         "0",
         "1",
         "0"
        ],
        [
         "44",
         "117",
         "0",
         "0",
         "0"
        ],
        [
         "45",
         "123",
         "0",
         "0",
         "0"
        ],
        [
         "46",
         "124",
         "0",
         "1",
         "0"
        ],
        [
         "47",
         "130",
         "0",
         "0",
         "1"
        ],
        [
         "48",
         "133",
         "0",
         "1",
         "0"
        ],
        [
         "49",
         "135",
         "0",
         "1",
         "0"
        ]
       ],
       "shape": {
        "columns": 4,
        "rows": 19738
       }
      },
      "text/html": [
       "<div>\n",
       "<style scoped>\n",
       "    .dataframe tbody tr th:only-of-type {\n",
       "        vertical-align: middle;\n",
       "    }\n",
       "\n",
       "    .dataframe tbody tr th {\n",
       "        vertical-align: top;\n",
       "    }\n",
       "\n",
       "    .dataframe thead th {\n",
       "        text-align: right;\n",
       "    }\n",
       "</style>\n",
       "<table border=\"1\" class=\"dataframe\">\n",
       "  <thead>\n",
       "    <tr style=\"text-align: right;\">\n",
       "      <th></th>\n",
       "      <th>subject_id</th>\n",
       "      <th>mort_30day</th>\n",
       "      <th>prolonged_stay</th>\n",
       "      <th>readmission_30day</th>\n",
       "    </tr>\n",
       "  </thead>\n",
       "  <tbody>\n",
       "    <tr>\n",
       "      <th>0</th>\n",
       "      <td>3</td>\n",
       "      <td>0</td>\n",
       "      <td>1</td>\n",
       "      <td>0</td>\n",
       "    </tr>\n",
       "    <tr>\n",
       "      <th>1</th>\n",
       "      <td>4</td>\n",
       "      <td>0</td>\n",
       "      <td>0</td>\n",
       "      <td>0</td>\n",
       "    </tr>\n",
       "    <tr>\n",
       "      <th>2</th>\n",
       "      <td>9</td>\n",
       "      <td>1</td>\n",
       "      <td>0</td>\n",
       "      <td>0</td>\n",
       "    </tr>\n",
       "    <tr>\n",
       "      <th>3</th>\n",
       "      <td>11</td>\n",
       "      <td>0</td>\n",
       "      <td>1</td>\n",
       "      <td>0</td>\n",
       "    </tr>\n",
       "    <tr>\n",
       "      <th>4</th>\n",
       "      <td>18</td>\n",
       "      <td>0</td>\n",
       "      <td>0</td>\n",
       "      <td>0</td>\n",
       "    </tr>\n",
       "    <tr>\n",
       "      <th>...</th>\n",
       "      <td>...</td>\n",
       "      <td>...</td>\n",
       "      <td>...</td>\n",
       "      <td>...</td>\n",
       "    </tr>\n",
       "    <tr>\n",
       "      <th>19833</th>\n",
       "      <td>99983</td>\n",
       "      <td>0</td>\n",
       "      <td>0</td>\n",
       "      <td>0</td>\n",
       "    </tr>\n",
       "    <tr>\n",
       "      <th>19834</th>\n",
       "      <td>99985</td>\n",
       "      <td>0</td>\n",
       "      <td>1</td>\n",
       "      <td>0</td>\n",
       "    </tr>\n",
       "    <tr>\n",
       "      <th>19835</th>\n",
       "      <td>99991</td>\n",
       "      <td>0</td>\n",
       "      <td>1</td>\n",
       "      <td>0</td>\n",
       "    </tr>\n",
       "    <tr>\n",
       "      <th>19836</th>\n",
       "      <td>99992</td>\n",
       "      <td>0</td>\n",
       "      <td>0</td>\n",
       "      <td>0</td>\n",
       "    </tr>\n",
       "    <tr>\n",
       "      <th>19837</th>\n",
       "      <td>99995</td>\n",
       "      <td>0</td>\n",
       "      <td>0</td>\n",
       "      <td>0</td>\n",
       "    </tr>\n",
       "  </tbody>\n",
       "</table>\n",
       "<p>19738 rows × 4 columns</p>\n",
       "</div>"
      ],
      "text/plain": [
       "       subject_id  mort_30day  prolonged_stay  readmission_30day\n",
       "0               3           0               1                  0\n",
       "1               4           0               0                  0\n",
       "2               9           1               0                  0\n",
       "3              11           0               1                  0\n",
       "4              18           0               0                  0\n",
       "...           ...         ...             ...                ...\n",
       "19833       99983           0               0                  0\n",
       "19834       99985           0               1                  0\n",
       "19835       99991           0               1                  0\n",
       "19836       99992           0               0                  0\n",
       "19837       99995           0               0                  0\n",
       "\n",
       "[19738 rows x 4 columns]"
      ]
     },
     "execution_count": 13,
     "metadata": {},
     "output_type": "execute_result"
    }
   ],
   "source": [
    "data[\"y_train\"]"
   ]
  }
 ],
 "metadata": {
  "colab": {
   "provenance": []
  },
  "kernelspec": {
   "display_name": "Python 3 (ipykernel)",
   "language": "python",
   "name": "python3"
  },
  "language_info": {
   "codemirror_mode": {
    "name": "ipython",
    "version": 3
   },
   "file_extension": ".py",
   "mimetype": "text/x-python",
   "name": "python",
   "nbconvert_exporter": "python",
   "pygments_lexer": "ipython3",
   "version": "3.10.15"
  },
  "widgets": {
   "application/vnd.jupyter.widget-state+json": {
    "1ddf7f8e5bd9405fb67d08725d4983e5": {
     "model_module": "@jupyter-widgets/controls",
     "model_module_version": "1.5.0",
     "model_name": "ProgressStyleModel",
     "state": {
      "_model_module": "@jupyter-widgets/controls",
      "_model_module_version": "1.5.0",
      "_model_name": "ProgressStyleModel",
      "_view_count": null,
      "_view_module": "@jupyter-widgets/base",
      "_view_module_version": "1.2.0",
      "_view_name": "StyleView",
      "bar_color": "black",
      "description_width": ""
     }
    },
    "56463d5b8bee4a088d7c9d7613fd6e20": {
     "model_module": "@jupyter-widgets/base",
     "model_module_version": "1.2.0",
     "model_name": "LayoutModel",
     "state": {
      "_model_module": "@jupyter-widgets/base",
      "_model_module_version": "1.2.0",
      "_model_name": "LayoutModel",
      "_view_count": null,
      "_view_module": "@jupyter-widgets/base",
      "_view_module_version": "1.2.0",
      "_view_name": "LayoutView",
      "align_content": null,
      "align_items": null,
      "align_self": null,
      "border": null,
      "bottom": null,
      "display": null,
      "flex": null,
      "flex_flow": null,
      "grid_area": null,
      "grid_auto_columns": null,
      "grid_auto_flow": null,
      "grid_auto_rows": null,
      "grid_column": null,
      "grid_gap": null,
      "grid_row": null,
      "grid_template_areas": null,
      "grid_template_columns": null,
      "grid_template_rows": null,
      "height": null,
      "justify_content": null,
      "justify_items": null,
      "left": null,
      "margin": null,
      "max_height": null,
      "max_width": null,
      "min_height": null,
      "min_width": null,
      "object_fit": null,
      "object_position": null,
      "order": null,
      "overflow": null,
      "overflow_x": null,
      "overflow_y": null,
      "padding": null,
      "right": null,
      "top": null,
      "visibility": null,
      "width": "auto"
     }
    },
    "78c007406aa24a9f80d79038bb6e14a1": {
     "model_module": "@jupyter-widgets/controls",
     "model_module_version": "1.5.0",
     "model_name": "FloatProgressModel",
     "state": {
      "_dom_classes": [],
      "_model_module": "@jupyter-widgets/controls",
      "_model_module_version": "1.5.0",
      "_model_name": "FloatProgressModel",
      "_view_count": null,
      "_view_module": "@jupyter-widgets/controls",
      "_view_module_version": "1.5.0",
      "_view_name": "ProgressView",
      "bar_style": "",
      "description": "",
      "description_tooltip": null,
      "layout": "IPY_MODEL_fb91ad428b04480f995aced9d968ba18",
      "max": 100,
      "min": 0,
      "orientation": "horizontal",
      "style": "IPY_MODEL_1ddf7f8e5bd9405fb67d08725d4983e5",
      "value": 84
     }
    },
    "befffb4f7372406291ce48f9bfcdb07b": {
     "model_module": "@jupyter-widgets/controls",
     "model_module_version": "1.5.0",
     "model_name": "FloatProgressModel",
     "state": {
      "_dom_classes": [],
      "_model_module": "@jupyter-widgets/controls",
      "_model_module_version": "1.5.0",
      "_model_name": "FloatProgressModel",
      "_view_count": null,
      "_view_module": "@jupyter-widgets/controls",
      "_view_module_version": "1.5.0",
      "_view_name": "ProgressView",
      "bar_style": "",
      "description": "",
      "description_tooltip": null,
      "layout": "IPY_MODEL_56463d5b8bee4a088d7c9d7613fd6e20",
      "max": 100,
      "min": 0,
      "orientation": "horizontal",
      "style": "IPY_MODEL_da6f1034c8da4045a1b7aee2d5f78d5d",
      "value": 100
     }
    },
    "c82cd5cfb39e42af888dc187b5d8a58c": {
     "model_module": "@jupyter-widgets/base",
     "model_module_version": "1.2.0",
     "model_name": "LayoutModel",
     "state": {
      "_model_module": "@jupyter-widgets/base",
      "_model_module_version": "1.2.0",
      "_model_name": "LayoutModel",
      "_view_count": null,
      "_view_module": "@jupyter-widgets/base",
      "_view_module_version": "1.2.0",
      "_view_name": "LayoutView",
      "align_content": null,
      "align_items": null,
      "align_self": null,
      "border": null,
      "bottom": null,
      "display": null,
      "flex": null,
      "flex_flow": null,
      "grid_area": null,
      "grid_auto_columns": null,
      "grid_auto_flow": null,
      "grid_auto_rows": null,
      "grid_column": null,
      "grid_gap": null,
      "grid_row": null,
      "grid_template_areas": null,
      "grid_template_columns": null,
      "grid_template_rows": null,
      "height": null,
      "justify_content": null,
      "justify_items": null,
      "left": null,
      "margin": null,
      "max_height": null,
      "max_width": null,
      "min_height": null,
      "min_width": null,
      "object_fit": null,
      "object_position": null,
      "order": null,
      "overflow": null,
      "overflow_x": null,
      "overflow_y": null,
      "padding": null,
      "right": null,
      "top": null,
      "visibility": null,
      "width": "auto"
     }
    },
    "c94eb62fe73b4171937f354e2c2f06fa": {
     "model_module": "@jupyter-widgets/controls",
     "model_module_version": "1.5.0",
     "model_name": "ProgressStyleModel",
     "state": {
      "_model_module": "@jupyter-widgets/controls",
      "_model_module_version": "1.5.0",
      "_model_name": "ProgressStyleModel",
      "_view_count": null,
      "_view_module": "@jupyter-widgets/base",
      "_view_module_version": "1.2.0",
      "_view_name": "StyleView",
      "bar_color": "black",
      "description_width": ""
     }
    },
    "da6f1034c8da4045a1b7aee2d5f78d5d": {
     "model_module": "@jupyter-widgets/controls",
     "model_module_version": "1.5.0",
     "model_name": "ProgressStyleModel",
     "state": {
      "_model_module": "@jupyter-widgets/controls",
      "_model_module_version": "1.5.0",
      "_model_name": "ProgressStyleModel",
      "_view_count": null,
      "_view_module": "@jupyter-widgets/base",
      "_view_module_version": "1.2.0",
      "_view_name": "StyleView",
      "bar_color": "black",
      "description_width": ""
     }
    },
    "e6c51c60ee844703a0339b2e1dccc64b": {
     "model_module": "@jupyter-widgets/controls",
     "model_module_version": "1.5.0",
     "model_name": "FloatProgressModel",
     "state": {
      "_dom_classes": [],
      "_model_module": "@jupyter-widgets/controls",
      "_model_module_version": "1.5.0",
      "_model_name": "FloatProgressModel",
      "_view_count": null,
      "_view_module": "@jupyter-widgets/controls",
      "_view_module_version": "1.5.0",
      "_view_name": "ProgressView",
      "bar_style": "",
      "description": "",
      "description_tooltip": null,
      "layout": "IPY_MODEL_c82cd5cfb39e42af888dc187b5d8a58c",
      "max": 100,
      "min": 0,
      "orientation": "horizontal",
      "style": "IPY_MODEL_c94eb62fe73b4171937f354e2c2f06fa",
      "value": 59
     }
    },
    "fb91ad428b04480f995aced9d968ba18": {
     "model_module": "@jupyter-widgets/base",
     "model_module_version": "1.2.0",
     "model_name": "LayoutModel",
     "state": {
      "_model_module": "@jupyter-widgets/base",
      "_model_module_version": "1.2.0",
      "_model_name": "LayoutModel",
      "_view_count": null,
      "_view_module": "@jupyter-widgets/base",
      "_view_module_version": "1.2.0",
      "_view_name": "LayoutView",
      "align_content": null,
      "align_items": null,
      "align_self": null,
      "border": null,
      "bottom": null,
      "display": null,
      "flex": null,
      "flex_flow": null,
      "grid_area": null,
      "grid_auto_columns": null,
      "grid_auto_flow": null,
      "grid_auto_rows": null,
      "grid_column": null,
      "grid_gap": null,
      "grid_row": null,
      "grid_template_areas": null,
      "grid_template_columns": null,
      "grid_template_rows": null,
      "height": null,
      "justify_content": null,
      "justify_items": null,
      "left": null,
      "margin": null,
      "max_height": null,
      "max_width": null,
      "min_height": null,
      "min_width": null,
      "object_fit": null,
      "object_position": null,
      "order": null,
      "overflow": null,
      "overflow_x": null,
      "overflow_y": null,
      "padding": null,
      "right": null,
      "top": null,
      "visibility": null,
      "width": "auto"
     }
    }
   }
  }
 },
 "nbformat": 4,
 "nbformat_minor": 0
}
