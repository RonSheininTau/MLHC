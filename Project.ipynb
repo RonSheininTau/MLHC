{
 "cells": [
  {
   "cell_type": "markdown",
   "metadata": {},
   "source": [
    "# Load Data"
   ]
  },
  {
   "cell_type": "code",
   "execution_count": 34,
   "metadata": {},
   "outputs": [],
   "source": [
    "hyperparameters = {'hidden_dim': 64, 'batch_size': 128, 'n1_gat_layers': 1, 'n2_gru_layers': 1, 'num_heads': 4, 'dropout': 0.04033931265087129, 'learning_rate': 0.00015574186652855083, 'pos_lambda': 0.5756532880616873, 'bios_hidden_dim': 32, 'pres_hidden_dim': 32, 'k': 5, 'num_clusters': 240}"
   ]
  },
  {
   "cell_type": "code",
   "execution_count": 55,
   "metadata": {},
   "outputs": [
    {
     "name": "stdout",
     "output_type": "stream",
     "text": [
      "1. Include only first admissions: N=32513\n",
      "2. Exclusion by ages: N=25548\n",
      "3. Include only patients who admitted for at least 24 hours: N=25168\n",
      "4. Exclude patients who died within 54-hours of admission: N=24556\n"
     ]
    },
    {
     "name": "stderr",
     "output_type": "stream",
     "text": [
      "/home/bnet/kupershmidt/HML/preprocess.py:209: FutureWarning: 'H' is deprecated and will be removed in a future version, please use 'h' instead.\n",
      "  pivot = pd.pivot_table(merged, index=['subject_id', 'hadm_id', pd.Grouper(key='charttime', freq=PREDICT_FREQ)],\n",
      "/home/bnet/kupershmidt/HML/preprocess.py:269: SettingWithCopyWarning: \n",
      "A value is trying to be set on a copy of a slice from a DataFrame\n",
      "\n",
      "See the caveats in the documentation: https://pandas.pydata.org/pandas-docs/stable/user_guide/indexing.html#returning-a-view-versus-a-copy\n",
      "  X_train.drop(columns=[\"mort_30day\",\"prolonged_stay\",\"readmission_30day\"], axis=1, inplace=True)\n",
      "/home/bnet/kupershmidt/HML/preprocess.py:273: SettingWithCopyWarning: \n",
      "A value is trying to be set on a copy of a slice from a DataFrame\n",
      "\n",
      "See the caveats in the documentation: https://pandas.pydata.org/pandas-docs/stable/user_guide/indexing.html#returning-a-view-versus-a-copy\n",
      "  X_val.drop(columns=[\"mort_30day\",\"prolonged_stay\",\"readmission_30day\"], axis=1, inplace=True)\n",
      "/home/bnet/kupershmidt/HML/preprocess.py:277: SettingWithCopyWarning: \n",
      "A value is trying to be set on a copy of a slice from a DataFrame\n",
      "\n",
      "See the caveats in the documentation: https://pandas.pydata.org/pandas-docs/stable/user_guide/indexing.html#returning-a-view-versus-a-copy\n",
      "  X_test.drop(columns=[\"mort_30day\",\"prolonged_stay\",\"readmission_30day\"], axis=1, inplace=True)\n"
     ]
    },
    {
     "name": "stdout",
     "output_type": "stream",
     "text": [
      "Pooled embeddings shape: 24529\n",
      "Number of subjects: 24529\n"
     ]
    }
   ],
   "source": [
    "import preprocess\n",
    "import imp\n",
    "imp.reload(preprocess)\n",
    "\n",
    "data = preprocess.preprocess_pipeline(num_clusters=hyperparameters['num_clusters'])"
   ]
  },
  {
   "cell_type": "markdown",
   "metadata": {},
   "source": [
    "# Datasets creation"
   ]
  },
  {
   "cell_type": "code",
   "execution_count": 56,
   "metadata": {},
   "outputs": [
    {
     "data": {
      "text/plain": [
       "True"
      ]
     },
     "execution_count": 56,
     "metadata": {},
     "output_type": "execute_result"
    }
   ],
   "source": [
    "data[\"prescriptions_train\"].shape[0] == data[\"padded_tensor_train\"].shape[0]"
   ]
  },
  {
   "cell_type": "code",
   "execution_count": 57,
   "metadata": {},
   "outputs": [],
   "source": [
    "import Dataset\n",
    "import imp\n",
    "imp.reload(Dataset)\n",
    "import torch\n",
    "from torch.utils.data import DataLoader\n",
    "DEVICE = torch.device(\"cuda\" if torch.cuda.is_available() else \"cpu\")\n",
    "k = hyperparameters['k']\n",
    "\n",
    "train_labels = torch.tensor(data[\"y_train\"][['mort_30day', 'prolonged_stay', 'readmission_30day']].values, dtype=torch.float32).to(DEVICE)\n",
    "val_labels = torch.tensor(data[\"y_val\"][['mort_30day', 'prolonged_stay', 'readmission_30day']].values, dtype=torch.float32).to(DEVICE)\n",
    "test_labels = torch.tensor(data[\"y_test\"][['mort_30day', 'prolonged_stay', 'readmission_30day']].values, dtype=torch.float32).to(DEVICE)\n",
    "\n",
    "\n",
    "batch_size = hyperparameters['batch_size']\n",
    "datasets = {x: Dataset.PatientDataset(d, y, core=data[\"padded_tensor_core\"], padding_mask=m, padding_mask_core=data[\"padding_mask_core\"], k=k ,notes=n, bios=b, prescriptions=p) for x, d, y, m, n, b, p in\n",
    "        zip(['train', 'val', 'test'], [data[\"padded_tensor_train\"], data[\"padded_tensor_val\"], data[\"padded_tensor_test\"]],\n",
    "            [train_labels, val_labels, test_labels],\n",
    "            [data[\"padding_mask_train\"], data[\"padding_mask_val\"], data[\"padding_mask_test\"]],\n",
    "            [torch.stack(data[\"notes_df_train\"].embeddings.values.tolist()),\n",
    "             torch.stack(data[\"notes_df_val\"].embeddings.values.tolist()),\n",
    "             torch.stack(data[\"notes_df_test\"].embeddings.values.tolist())],\n",
    "             [torch.tensor(data[\"bio_train\"].values >= 1, dtype=torch.float32).to(DEVICE),\n",
    "              torch.tensor(data[\"bio_val\"].values >= 1, dtype=torch.float32).to(DEVICE),\n",
    "              torch.tensor(data[\"bio_test\"].values >= 1, dtype=torch.float32).to(DEVICE)],\n",
    "              [torch.tensor(data[\"prescriptions_train\"].values, dtype=torch.float32).to(DEVICE), \n",
    "              torch.tensor(data[\"prescriptions_val\"].values, dtype=torch.float32).to(DEVICE), \n",
    "              torch.tensor(data[\"prescriptions_test\"].values, dtype=torch.float32).to(DEVICE)])}\n",
    "dataloaders = {x: DataLoader(datasets[x], batch_size=batch_size, shuffle=True) for x in ['train', 'val', 'test']}"
   ]
  },
  {
   "cell_type": "markdown",
   "metadata": {},
   "source": [
    "# Model Training"
   ]
  },
  {
   "cell_type": "code",
   "execution_count": 60,
   "metadata": {},
   "outputs": [
    {
     "name": "stdout",
     "output_type": "stream",
     "text": [
      "Pos weight 0: 7.5538\n",
      "Pos weight 1: 1.1253\n",
      "Pos weight 2: 23.8500\n",
      "Starting epoch 1/10\n",
      "100%|██████████| 152/152 [01:29<00:00,  1.70it/s]\n",
      "Epoch 1/10, Loss: 2.3834\n",
      "100%|██████████| 20/20 [00:11<00:00,  1.73it/s]\n",
      "Val Mortality - AUC: 0.7387 | AP: 0.2987\n",
      "Val Prolonged LOS - AUC: 0.7005 | AP: 0.6752\n",
      "Val Readmission - AUC: 0.5604 | AP: 0.0474\n",
      "Best model updated\n",
      "Starting epoch 2/10\n",
      "100%|██████████| 152/152 [01:34<00:00,  1.62it/s]\n",
      "Epoch 2/10, Loss: 2.2576\n",
      "100%|██████████| 20/20 [00:11<00:00,  1.78it/s]\n",
      "Val Mortality - AUC: 0.7743 | AP: 0.3333\n",
      "Val Prolonged LOS - AUC: 0.7356 | AP: 0.7048\n",
      "Val Readmission - AUC: 0.6125 | AP: 0.0556\n",
      "Best model updated\n",
      "Starting epoch 3/10\n",
      "100%|██████████| 152/152 [01:28<00:00,  1.71it/s]\n",
      "Epoch 3/10, Loss: 2.2027\n",
      "100%|██████████| 20/20 [00:11<00:00,  1.77it/s]\n",
      "Val Mortality - AUC: 0.7897 | AP: 0.3498\n",
      "Val Prolonged LOS - AUC: 0.7542 | AP: 0.7252\n",
      "Val Readmission - AUC: 0.6268 | AP: 0.0586\n",
      "Best model updated\n",
      "Starting epoch 4/10\n",
      "100%|██████████| 152/152 [01:29<00:00,  1.69it/s]\n",
      "Epoch 4/10, Loss: 2.1629\n",
      "100%|██████████| 20/20 [00:11<00:00,  1.78it/s]\n",
      "Val Mortality - AUC: 0.7973 | AP: 0.3573\n",
      "Val Prolonged LOS - AUC: 0.7661 | AP: 0.7413\n",
      "Val Readmission - AUC: 0.6352 | AP: 0.0606\n",
      "Best model updated\n",
      "Starting epoch 5/10\n",
      "100%|██████████| 152/152 [01:29<00:00,  1.71it/s]\n",
      "Epoch 5/10, Loss: 2.1301\n",
      "100%|██████████| 20/20 [00:11<00:00,  1.77it/s]\n",
      "Val Mortality - AUC: 0.8071 | AP: 0.3683\n",
      "Val Prolonged LOS - AUC: 0.7752 | AP: 0.7534\n",
      "Val Readmission - AUC: 0.6452 | AP: 0.0631\n",
      "Best model updated\n",
      "Starting epoch 6/10\n",
      "100%|██████████| 152/152 [01:29<00:00,  1.70it/s]\n",
      "Epoch 6/10, Loss: 2.1076\n",
      "100%|██████████| 20/20 [00:11<00:00,  1.77it/s]\n",
      "Val Mortality - AUC: 0.8154 | AP: 0.3810\n",
      "Val Prolonged LOS - AUC: 0.7821 | AP: 0.7605\n",
      "Val Readmission - AUC: 0.6342 | AP: 0.0645\n",
      "Best model updated\n",
      "Starting epoch 7/10\n",
      "100%|██████████| 152/152 [01:29<00:00,  1.71it/s]\n",
      "Epoch 7/10, Loss: 2.0843\n",
      "100%|██████████| 20/20 [00:11<00:00,  1.78it/s]\n",
      "Val Mortality - AUC: 0.8205 | AP: 0.3883\n",
      "Val Prolonged LOS - AUC: 0.7872 | AP: 0.7645\n",
      "Val Readmission - AUC: 0.6332 | AP: 0.0626\n",
      "Best model updated\n",
      "Starting epoch 8/10\n",
      "100%|██████████| 152/152 [01:28<00:00,  1.71it/s]\n",
      "Epoch 8/10, Loss: 2.0616\n",
      "100%|██████████| 20/20 [00:11<00:00,  1.73it/s]\n",
      "Val Mortality - AUC: 0.8276 | AP: 0.3958\n",
      "Val Prolonged LOS - AUC: 0.7910 | AP: 0.7677\n",
      "Val Readmission - AUC: 0.6422 | AP: 0.0660\n",
      "Best model updated\n",
      "Starting epoch 9/10\n",
      "100%|██████████| 152/152 [01:28<00:00,  1.72it/s]\n",
      "Epoch 9/10, Loss: 2.0410\n",
      "100%|██████████| 20/20 [00:11<00:00,  1.72it/s]\n",
      "Val Mortality - AUC: 0.8301 | AP: 0.3975\n",
      "Val Prolonged LOS - AUC: 0.7943 | AP: 0.7702\n",
      "Val Readmission - AUC: 0.6301 | AP: 0.0676\n",
      "Best model updated\n",
      "Starting epoch 10/10\n",
      "100%|██████████| 152/152 [01:31<00:00,  1.66it/s]\n",
      "Epoch 10/10, Loss: 2.0233\n",
      "100%|██████████| 20/20 [00:11<00:00,  1.70it/s]\n",
      "Val Mortality - AUC: 0.8332 | AP: 0.4032\n",
      "Val Prolonged LOS - AUC: 0.7986 | AP: 0.7746\n",
      "Val Readmission - AUC: 0.6306 | AP: 0.0683\n",
      "Best model updated\n",
      "Training completed. Validating on test set...\n",
      "100%|██████████| 20/20 [00:11<00:00,  1.75it/s]\n"
     ]
    },
    {
     "data": {
      "text/plain": [
       "(0.8342341733666645,\n",
       " 0.4550947284802778,\n",
       " 0.7827208694437608,\n",
       " 0.7601116657029308,\n",
       " 0.6215462319144759,\n",
       " 0.08462695438594925)"
      ]
     },
     "execution_count": 60,
     "metadata": {},
     "output_type": "execute_result"
    }
   ],
   "source": [
    "import Model \n",
    "import imp\n",
    "imp.reload(Model)\n",
    "model = Model.GraphGRUMortalityModel(input_dim=data[\"padded_tensor_train\"].shape[2], hidden_dim=hyperparameters['hidden_dim'], \n",
    "                                     n1_gat_layers=2, n2_gru_layers=1, \n",
    "                                     X_core=data[\"padded_tensor_core\"], num_of_bios=data[\"bio_train\"].shape[1],\n",
    "                                     num_prescriptions=data[\"prescriptions_train\"].shape[-1], \n",
    "                                     bios_hidden_dim=hyperparameters['bios_hidden_dim'], pres_hidden_dim=hyperparameters['pres_hidden_dim'], \n",
    "                                     core_padding_mask=data[\"padding_mask_core\"], num_heads=hyperparameters['num_heads'], \n",
    "                                     dropout=hyperparameters['dropout'], seq_len=data[\"padded_tensor_train\"].shape[1], k=k, gnn_flag=False).to(DEVICE)\n",
    "torch.manual_seed(1234)\n",
    "model.train_all(dataloaders, datasets, epochs=10, learning_rate=hyperparameters['learning_rate'], pos_lambda=hyperparameters['pos_lambda'])\n",
    "print(\"Training completed. Validating on test set...\")\n",
    "\n",
    "model.validate(dataloaders['test'], datasets['test'])\n",
    "#print(f'Test Accuracy in model: {acc:.4f}, AUC: {auc:.4f}, AP: {pr:.4f}')"
   ]
  },
  {
   "cell_type": "code",
   "execution_count": 61,
   "metadata": {},
   "outputs": [
    {
     "name": "stdout",
     "output_type": "stream",
     "text": [
      "  0%|          | 0/20 [00:00<?, ?it/s]"
     ]
    },
    {
     "name": "stdout",
     "output_type": "stream",
     "text": [
      "100%|██████████| 20/20 [00:11<00:00,  1.72it/s]\n",
      "Test Mortality: AUC-ROC: 0.83  AP: 0.46\n",
      "Test Prolonged Stay: AUC-ROC: 0.78  AP: 0.76\n",
      "Test Readmission: AUC-ROC: 0.62  AP: 0.08\n"
     ]
    }
   ],
   "source": [
    "res = model.validate(dataloaders['test'], datasets['test'])\n",
    "\n",
    "print(f\"Test Mortality: AUC-ROC: {res[0]:.2f}  AP: {res[1]:.2f}\")\n",
    "print(f\"Test Prolonged Stay: AUC-ROC: {res[2]:.2f}  AP: {res[3]:.2f}\")\n",
    "print(f\"Test Readmission: AUC-ROC: {res[4]:.2f}  AP: {res[5]:.2f}\")"
   ]
  },
  {
   "cell_type": "code",
   "execution_count": 62,
   "metadata": {},
   "outputs": [],
   "source": [
    "torch.save(model, 'baseline_model.pt')\n"
   ]
  },
  {
   "cell_type": "code",
   "execution_count": null,
   "metadata": {},
   "outputs": [],
   "source": [
    "import pandas as pd\n",
    "x, y, padding_mask, idx, notes, bios, prescriptions = next(iter(dataloaders['test']))\n",
    "edge_index = datasets['test'].get_edge_index(x, padding_mask, idx).to(DEVICE)\n",
    "pd.DataFrame(edge_index.T.cpu().numpy()).to_csv('edge_index.csv', index=False)"
   ]
  },
  {
   "cell_type": "markdown",
   "metadata": {},
   "source": [
    "<!-- 100%|██████████| 10/10 [00:07<00:00,  1.38it/s]\n",
    "Test Mortality: AUC-ROC: 0.85  AP: 0.52\n",
    "Test Prolonged Stay: AUC-ROC: 0.82  AP: 0.80\n",
    "Test Readmission: AUC-ROC: 0.62  AP: 0.08 -->"
   ]
  },
  {
   "cell_type": "markdown",
   "metadata": {},
   "source": [
    "<!-- Test Mortality: AUC-ROC: 0.87  AP: 0.52\n",
    "Test Prolonged Stay: AUC-ROC: 0.83  AP: 0.81\n",
    "Test Readmission: AUC-ROC: 0.62  AP: 0.08 -->"
   ]
  }
 ],
 "metadata": {
  "colab": {
   "provenance": []
  },
  "kernelspec": {
   "display_name": "Python 3 (ipykernel)",
   "language": "python",
   "name": "python3"
  },
  "widgets": {
   "application/vnd.jupyter.widget-state+json": {
    "1ddf7f8e5bd9405fb67d08725d4983e5": {
     "model_module": "@jupyter-widgets/controls",
     "model_module_version": "1.5.0",
     "model_name": "ProgressStyleModel",
     "state": {
      "_model_module": "@jupyter-widgets/controls",
      "_model_module_version": "1.5.0",
      "_model_name": "ProgressStyleModel",
      "_view_count": null,
      "_view_module": "@jupyter-widgets/base",
      "_view_module_version": "1.2.0",
      "_view_name": "StyleView",
      "bar_color": "black",
      "description_width": ""
     }
    },
    "56463d5b8bee4a088d7c9d7613fd6e20": {
     "model_module": "@jupyter-widgets/base",
     "model_module_version": "1.2.0",
     "model_name": "LayoutModel",
     "state": {
      "_model_module": "@jupyter-widgets/base",
      "_model_module_version": "1.2.0",
      "_model_name": "LayoutModel",
      "_view_count": null,
      "_view_module": "@jupyter-widgets/base",
      "_view_module_version": "1.2.0",
      "_view_name": "LayoutView",
      "align_content": null,
      "align_items": null,
      "align_self": null,
      "border": null,
      "bottom": null,
      "display": null,
      "flex": null,
      "flex_flow": null,
      "grid_area": null,
      "grid_auto_columns": null,
      "grid_auto_flow": null,
      "grid_auto_rows": null,
      "grid_column": null,
      "grid_gap": null,
      "grid_row": null,
      "grid_template_areas": null,
      "grid_template_columns": null,
      "grid_template_rows": null,
      "height": null,
      "justify_content": null,
      "justify_items": null,
      "left": null,
      "margin": null,
      "max_height": null,
      "max_width": null,
      "min_height": null,
      "min_width": null,
      "object_fit": null,
      "object_position": null,
      "order": null,
      "overflow": null,
      "overflow_x": null,
      "overflow_y": null,
      "padding": null,
      "right": null,
      "top": null,
      "visibility": null,
      "width": "auto"
     }
    },
    "78c007406aa24a9f80d79038bb6e14a1": {
     "model_module": "@jupyter-widgets/controls",
     "model_module_version": "1.5.0",
     "model_name": "FloatProgressModel",
     "state": {
      "_dom_classes": [],
      "_model_module": "@jupyter-widgets/controls",
      "_model_module_version": "1.5.0",
      "_model_name": "FloatProgressModel",
      "_view_count": null,
      "_view_module": "@jupyter-widgets/controls",
      "_view_module_version": "1.5.0",
      "_view_name": "ProgressView",
      "bar_style": "",
      "description": "",
      "description_tooltip": null,
      "layout": "IPY_MODEL_fb91ad428b04480f995aced9d968ba18",
      "max": 100,
      "min": 0,
      "orientation": "horizontal",
      "style": "IPY_MODEL_1ddf7f8e5bd9405fb67d08725d4983e5",
      "value": 84
     }
    },
    "befffb4f7372406291ce48f9bfcdb07b": {
     "model_module": "@jupyter-widgets/controls",
     "model_module_version": "1.5.0",
     "model_name": "FloatProgressModel",
     "state": {
      "_dom_classes": [],
      "_model_module": "@jupyter-widgets/controls",
      "_model_module_version": "1.5.0",
      "_model_name": "FloatProgressModel",
      "_view_count": null,
      "_view_module": "@jupyter-widgets/controls",
      "_view_module_version": "1.5.0",
      "_view_name": "ProgressView",
      "bar_style": "",
      "description": "",
      "description_tooltip": null,
      "layout": "IPY_MODEL_56463d5b8bee4a088d7c9d7613fd6e20",
      "max": 100,
      "min": 0,
      "orientation": "horizontal",
      "style": "IPY_MODEL_da6f1034c8da4045a1b7aee2d5f78d5d",
      "value": 100
     }
    },
    "c82cd5cfb39e42af888dc187b5d8a58c": {
     "model_module": "@jupyter-widgets/base",
     "model_module_version": "1.2.0",
     "model_name": "LayoutModel",
     "state": {
      "_model_module": "@jupyter-widgets/base",
      "_model_module_version": "1.2.0",
      "_model_name": "LayoutModel",
      "_view_count": null,
      "_view_module": "@jupyter-widgets/base",
      "_view_module_version": "1.2.0",
      "_view_name": "LayoutView",
      "align_content": null,
      "align_items": null,
      "align_self": null,
      "border": null,
      "bottom": null,
      "display": null,
      "flex": null,
      "flex_flow": null,
      "grid_area": null,
      "grid_auto_columns": null,
      "grid_auto_flow": null,
      "grid_auto_rows": null,
      "grid_column": null,
      "grid_gap": null,
      "grid_row": null,
      "grid_template_areas": null,
      "grid_template_columns": null,
      "grid_template_rows": null,
      "height": null,
      "justify_content": null,
      "justify_items": null,
      "left": null,
      "margin": null,
      "max_height": null,
      "max_width": null,
      "min_height": null,
      "min_width": null,
      "object_fit": null,
      "object_position": null,
      "order": null,
      "overflow": null,
      "overflow_x": null,
      "overflow_y": null,
      "padding": null,
      "right": null,
      "top": null,
      "visibility": null,
      "width": "auto"
     }
    },
    "c94eb62fe73b4171937f354e2c2f06fa": {
     "model_module": "@jupyter-widgets/controls",
     "model_module_version": "1.5.0",
     "model_name": "ProgressStyleModel",
     "state": {
      "_model_module": "@jupyter-widgets/controls",
      "_model_module_version": "1.5.0",
      "_model_name": "ProgressStyleModel",
      "_view_count": null,
      "_view_module": "@jupyter-widgets/base",
      "_view_module_version": "1.2.0",
      "_view_name": "StyleView",
      "bar_color": "black",
      "description_width": ""
     }
    },
    "da6f1034c8da4045a1b7aee2d5f78d5d": {
     "model_module": "@jupyter-widgets/controls",
     "model_module_version": "1.5.0",
     "model_name": "ProgressStyleModel",
     "state": {
      "_model_module": "@jupyter-widgets/controls",
      "_model_module_version": "1.5.0",
      "_model_name": "ProgressStyleModel",
      "_view_count": null,
      "_view_module": "@jupyter-widgets/base",
      "_view_module_version": "1.2.0",
      "_view_name": "StyleView",
      "bar_color": "black",
      "description_width": ""
     }
    },
    "e6c51c60ee844703a0339b2e1dccc64b": {
     "model_module": "@jupyter-widgets/controls",
     "model_module_version": "1.5.0",
     "model_name": "FloatProgressModel",
     "state": {
      "_dom_classes": [],
      "_model_module": "@jupyter-widgets/controls",
      "_model_module_version": "1.5.0",
      "_model_name": "FloatProgressModel",
      "_view_count": null,
      "_view_module": "@jupyter-widgets/controls",
      "_view_module_version": "1.5.0",
      "_view_name": "ProgressView",
      "bar_style": "",
      "description": "",
      "description_tooltip": null,
      "layout": "IPY_MODEL_c82cd5cfb39e42af888dc187b5d8a58c",
      "max": 100,
      "min": 0,
      "orientation": "horizontal",
      "style": "IPY_MODEL_c94eb62fe73b4171937f354e2c2f06fa",
      "value": 59
     }
    },
    "fb91ad428b04480f995aced9d968ba18": {
     "model_module": "@jupyter-widgets/base",
     "model_module_version": "1.2.0",
     "model_name": "LayoutModel",
     "state": {
      "_model_module": "@jupyter-widgets/base",
      "_model_module_version": "1.2.0",
      "_model_name": "LayoutModel",
      "_view_count": null,
      "_view_module": "@jupyter-widgets/base",
      "_view_module_version": "1.2.0",
      "_view_name": "LayoutView",
      "align_content": null,
      "align_items": null,
      "align_self": null,
      "border": null,
      "bottom": null,
      "display": null,
      "flex": null,
      "flex_flow": null,
      "grid_area": null,
      "grid_auto_columns": null,
      "grid_auto_flow": null,
      "grid_auto_rows": null,
      "grid_column": null,
      "grid_gap": null,
      "grid_row": null,
      "grid_template_areas": null,
      "grid_template_columns": null,
      "grid_template_rows": null,
      "height": null,
      "justify_content": null,
      "justify_items": null,
      "left": null,
      "margin": null,
      "max_height": null,
      "max_width": null,
      "min_height": null,
      "min_width": null,
      "object_fit": null,
      "object_position": null,
      "order": null,
      "overflow": null,
      "overflow_x": null,
      "overflow_y": null,
      "padding": null,
      "right": null,
      "top": null,
      "visibility": null,
      "width": "auto"
     }
    }
   }
  }
 },
 "nbformat": 4,
 "nbformat_minor": 0
}
