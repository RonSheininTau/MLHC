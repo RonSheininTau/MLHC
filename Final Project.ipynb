{
 "cells": [
  {
   "cell_type": "markdown",
   "metadata": {
    "id": "O949bBTz2RnR"
   },
   "source": [
    "## Setup"
   ]
  },
  {
   "cell_type": "code",
   "execution_count": 1,
   "metadata": {
    "executionInfo": {
     "elapsed": 2175,
     "status": "ok",
     "timestamp": 1754564723760,
     "user": {
      "displayName": "Yael Kupershmidt",
      "userId": "00404238359436170384"
     },
     "user_tz": -180
    },
    "id": "KIE3DXDp109Q"
   },
   "outputs": [],
   "source": [
    "# from google.colab import auth\n",
    "# from google.cloud import bigquery\n",
    "# from google.colab import data_table\n",
    "# from google.colab import widgets\n",
    "\n",
    "# from collections import Counter\n",
    "# import re\n",
    "# import numpy as np\n",
    "# import pandas as pd\n",
    "# import math\n",
    "\n"
   ]
  },
  {
   "cell_type": "code",
   "execution_count": null,
   "metadata": {
    "colab": {
     "base_uri": "https://localhost:8080/"
    },
    "executionInfo": {
     "elapsed": 22629,
     "status": "ok",
     "timestamp": 1754564746394,
     "user": {
      "displayName": "Yael Kupershmidt",
      "userId": "00404238359436170384"
     },
     "user_tz": -180
    },
    "id": "oUeMEbyU2Uga",
    "outputId": "8402b305-b170-4709-eae5-ddb9cc1eaad1"
   },
   "outputs": [],
   "source": [
    "# import os\n",
    "# from google.colab import drive\n",
    "# import sys\n",
    "\n",
    "# drive.mount('/content/drive')\n",
    "# os.chdir('/content/drive/MyDrive/HML/Final Project')\n",
    "# sys.path.append(os.path.abspath('/content/drive/MyDrive/HML/Final Project'))"
   ]
  },
  {
   "cell_type": "code",
   "execution_count": 3,
   "metadata": {
    "executionInfo": {
     "elapsed": 6357,
     "status": "ok",
     "timestamp": 1754564787170,
     "user": {
      "displayName": "Yael Kupershmidt",
      "userId": "00404238359436170384"
     },
     "user_tz": -180
    },
    "id": "z2DeVlHnNdm2"
   },
   "outputs": [],
   "source": [
    "# !pip install duckdb --quiet\n",
    "# import duckdb"
   ]
  },
  {
   "cell_type": "code",
   "execution_count": 4,
   "metadata": {
    "executionInfo": {
     "elapsed": 4092,
     "status": "ok",
     "timestamp": 1754564841428,
     "user": {
      "displayName": "Yael Kupershmidt",
      "userId": "00404238359436170384"
     },
     "user_tz": -180
    },
    "id": "ZSLwVEZTNX5S"
   },
   "outputs": [],
   "source": [
    "# drive_path = '/content/drive/MyDrive/HML/Final Project/MIMIC-III'\n",
    "# con = duckdb.connect(f'{drive_path}/mimiciii.duckdb')"
   ]
  },
  {
   "cell_type": "code",
   "execution_count": 5,
   "metadata": {},
   "outputs": [
    {
     "name": "stderr",
     "output_type": "stream",
     "text": [
      "2025-08-25 12:58:33.506851: E external/local_xla/xla/stream_executor/cuda/cuda_fft.cc:467] Unable to register cuFFT factory: Attempting to register factory for plugin cuFFT when one has already been registered\n",
      "WARNING: All log messages before absl::InitializeLog() is called are written to STDERR\n",
      "E0000 00:00:1756115913.520552 1853399 cuda_dnn.cc:8579] Unable to register cuDNN factory: Attempting to register factory for plugin cuDNN when one has already been registered\n",
      "E0000 00:00:1756115913.524836 1853399 cuda_blas.cc:1407] Unable to register cuBLAS factory: Attempting to register factory for plugin cuBLAS when one has already been registered\n",
      "W0000 00:00:1756115913.535862 1853399 computation_placer.cc:177] computation placer already registered. Please check linkage and avoid linking the same target more than once.\n",
      "W0000 00:00:1756115913.535875 1853399 computation_placer.cc:177] computation placer already registered. Please check linkage and avoid linking the same target more than once.\n",
      "W0000 00:00:1756115913.535877 1853399 computation_placer.cc:177] computation placer already registered. Please check linkage and avoid linking the same target more than once.\n",
      "W0000 00:00:1756115913.535878 1853399 computation_placer.cc:177] computation placer already registered. Please check linkage and avoid linking the same target more than once.\n",
      "2025-08-25 12:58:33.540462: I tensorflow/core/platform/cpu_feature_guard.cc:210] This TensorFlow binary is optimized to use available CPU instructions in performance-critical operations.\n",
      "To enable the following instructions: AVX2 FMA, in other operations, rebuild TensorFlow with the appropriate compiler flags.\n"
     ]
    }
   ],
   "source": [
    "import pandas as pd\n",
    "import numpy as np\n",
    "from tqdm import tqdm \n",
    "\n",
    "import torch\n",
    "from torch_geometric.nn import GATv2Conv\n",
    "from torch.nn.utils.rnn import pack_padded_sequence, pad_packed_sequence\n",
    "\n",
    "import torch.nn as nn\n",
    "import torch.nn.functional as F\n",
    "from torch.utils.data import DataLoader\n",
    "\n",
    "from tensorflow.keras.preprocessing.sequence import pad_sequences\n"
   ]
  },
  {
   "cell_type": "markdown",
   "metadata": {
    "id": "18obiL-i3Up1"
   },
   "source": [
    "## Loading data"
   ]
  },
  {
   "cell_type": "code",
   "execution_count": null,
   "metadata": {
    "executionInfo": {
     "elapsed": 2434,
     "status": "ok",
     "timestamp": 1754564996788,
     "user": {
      "displayName": "Yael Kupershmidt",
      "userId": "00404238359436170384"
     },
     "user_tz": -180
    },
    "id": "1IsleQzR3RVc"
   },
   "outputs": [],
   "source": [
    "subject_ids = pd.read_csv('data/initial_cohort.csv')['subject_id'].to_list()\n",
    "lavbevent_meatdata = pd.read_csv('data/labs_metadata.csv')\n",
    "vital_meatdata = pd.read_csv('data/vital_metadata.csv')"
   ]
  },
  {
   "cell_type": "code",
   "execution_count": null,
   "metadata": {
    "colab": {
     "base_uri": "https://localhost:8080/",
     "height": 49,
     "referenced_widgets": [
      "befffb4f7372406291ce48f9bfcdb07b",
      "56463d5b8bee4a088d7c9d7613fd6e20",
      "da6f1034c8da4045a1b7aee2d5f78d5d"
     ]
    },
    "executionInfo": {
     "elapsed": 5786,
     "status": "ok",
     "timestamp": 1754564888143,
     "user": {
      "displayName": "Yael Kupershmidt",
      "userId": "00404238359436170384"
     },
     "user_tz": -180
    },
    "id": "AS2L1U3z3RSs",
    "outputId": "3d491053-ad59-4cbb-e4bf-c4e6b8a91188"
   },
   "outputs": [],
   "source": [
    "ICUQ = \\\n",
    "\"\"\"--sql\n",
    "SELECT admissions.subject_id::INTEGER AS subject_id, admissions.hadm_id::INTEGER AS hadm_id\n",
    ", admissions.admittime::DATE AS admittime, admissions.dischtime::DATE AS dischtime\n",
    ", admissions.ethnicity, admissions.deathtime::DATE AS deathtime\n",
    ", patients.gender, patients.dob::DATE AS dob, icustays.icustay_id::INTEGER AS icustay_id, patients.dod::DATE as dod,\n",
    "icustays.intime::DATE AS intime,icustays.outtime::DATE AS outtime\n",
    "FROM admissions\n",
    "INNER JOIN patients\n",
    "    ON admissions.subject_id = patients.subject_id\n",
    "LEFT JOIN icustays\n",
    "    ON admissions.hadm_id = icustays.hadm_id\n",
    "\n",
    "WHERE admissions.has_chartevents_data = 1\n",
    "AND admissions.subject_id::INTEGER IN ?\n",
    "ORDER BY admissions.subject_id, admissions.hadm_id, admissions.admittime;\n",
    "\"\"\"\n",
    "\n",
    "# icu =  con.execute(ICUQ, [subject_ids]).fetchdf().rename(str.lower, axis='columns')\n"
   ]
  },
  {
   "cell_type": "code",
   "execution_count": null,
   "metadata": {
    "colab": {
     "base_uri": "https://localhost:8080/",
     "height": 79,
     "referenced_widgets": [
      "e6c51c60ee844703a0339b2e1dccc64b",
      "c82cd5cfb39e42af888dc187b5d8a58c",
      "c94eb62fe73b4171937f354e2c2f06fa",
      "78c007406aa24a9f80d79038bb6e14a1",
      "fb91ad428b04480f995aced9d968ba18",
      "1ddf7f8e5bd9405fb67d08725d4983e5"
     ]
    },
    "executionInfo": {
     "elapsed": 315317,
     "status": "ok",
     "timestamp": 1754565343251,
     "user": {
      "displayName": "Yael Kupershmidt",
      "userId": "00404238359436170384"
     },
     "user_tz": -180
    },
    "id": "JYcG1ZyK3ROu",
    "outputId": "48833e31-a0af-4ee5-ed98-abe2f2aadbff"
   },
   "outputs": [],
   "source": [
    "LABQUERY = \\\n",
    "f\"\"\"--sql\n",
    "SELECT labevents.subject_id::INTEGER AS subject_id\\\n",
    "      , labevents.hadm_id::INTEGER AS hadm_id\\\n",
    "      , labevents.charttime::DATE AS charttime\n",
    "      , labevents.itemid::INTEGER AS itemid\\\n",
    "      , labevents.valuenum::DOUBLE AS valuenum\n",
    "      , admissions.admittime::DATE AS admittime\n",
    "FROM labevents\n",
    "          INNER JOIN admissions\n",
    "                    ON labevents.subject_id = admissions.subject_id\n",
    "                        AND labevents.hadm_id = admissions.hadm_id\n",
    "                        AND labevents.charttime::DATE between\n",
    "                            (admissions.admittime::DATE)\n",
    "                            AND (admissions.admittime::DATE + interval 48 hour)\n",
    "                        AND itemid::INTEGER IN ? \\\n",
    "                        \"\"\"\n",
    "\n",
    "VITQUERY = f\"\"\"--sql\n",
    "        SELECT chartevents.subject_id::INTEGER AS subject_id\\\n",
    "             , chartevents.hadm_id::INTEGER AS hadm_id\\\n",
    "             , chartevents.charttime::DATE AS charttime\\\n",
    "             , chartevents.itemid::INTEGER AS itemid\\\n",
    "             , chartevents.valuenum::DOUBLE AS valuenum\\\n",
    "             , admissions.admittime::DATE AS admittime\\\n",
    "        FROM chartevents\n",
    "                 INNER JOIN admissions\n",
    "                            ON chartevents.subject_id = admissions.subject_id\n",
    "                                AND chartevents.hadm_id = admissions.hadm_id\n",
    "                                AND chartevents.charttime::DATE between\n",
    "                                   (admissions.admittime::DATE)\n",
    "                                   AND (admissions.admittime::DATE + interval 48 hour)\n",
    "                                AND itemid::INTEGER in ?\n",
    "      -- exclude rows marked as error\n",
    "      AND chartevents.error::INTEGER IS DISTINCT \\\n",
    "        FROM 1 \\\n",
    "        \"\"\"\n",
    "\n",
    "\n",
    "# lab = con.execute(LABQUERY, [lavbevent_meatdata['itemid'].tolist()]).fetchdf().rename(str.lower, axis='columns')\n",
    "# vit = con.execute(VITQUERY, [vital_meatdata['itemid'].tolist()]).fetchdf().rename(str.lower, axis='columns')"
   ]
  },
  {
   "cell_type": "code",
   "execution_count": 9,
   "metadata": {
    "executionInfo": {
     "elapsed": 307,
     "status": "ok",
     "timestamp": 1754566848823,
     "user": {
      "displayName": "Yael Kupershmidt",
      "userId": "00404238359436170384"
     },
     "user_tz": -180
    },
    "id": "63QSy3WiOcK7"
   },
   "outputs": [],
   "source": [
    "pred_window = 13*24      # duration of prediction window (hours)\n",
    "pred_gap = 24            # minimal gap between prediction and target (hours)\n",
    "min_los = 24             # minimal length of stay (hours)\n",
    "min_target_onset = 2*24  # minimal time of target since admission (hours)\n",
    "pred_freq = '4H'        # prediction frequency\n",
    "\n",
    "labs = pd.read_csv('data/labs.csv')\n",
    "vits = pd.read_csv('data/vits.csv')\n",
    "hosps = pd.read_csv('data/icu.csv')\n",
    "\n",
    "for col in ['admittime', 'dischtime', 'dob', 'dod', 'intime', 'outtime']:\n",
    "    hosps[col] = pd.to_datetime(hosps[col].str.strip(), errors='coerce')"
   ]
  },
  {
   "cell_type": "code",
   "execution_count": 10,
   "metadata": {},
   "outputs": [
    {
     "name": "stdout",
     "output_type": "stream",
     "text": [
      "Labels created successfully!\n",
      "Shape: (40156, 5)\n",
      "\n",
      "Label distributions:\n",
      "30-day mortality: 5671 / 40156 (0.141)\n",
      "Prolonged stay: 17308 / 40156 (0.431)\n",
      "30-day readmission: 2147 / 40156 (0.053)\n"
     ]
    }
   ],
   "source": [
    "# Create labels for each subject_id and hadm_id combination\n",
    "def create_labels(hosps):\n",
    "    \"\"\"\n",
    "    Create three labels for each subject_id and hadm_id:\n",
    "    1. 30-day mortality (died within 30 days of discharge or during admission)\n",
    "    2. Prolonged stay (length of stay > 7 days)\n",
    "    3. 30-day readmission (readmitted within 30 days of discharge)\n",
    "    \"\"\"\n",
    "    \n",
    "    hosps_sorted = hosps.sort_values(['subject_id', 'admittime'])[['subject_id','hadm_id', 'admittime','dischtime','dod']].drop_duplicates().copy()\n",
    "    hosps_sorted['los_hosp_hr'] = (hosps_sorted['dischtime'] - hosps_sorted['admittime']).dt.total_seconds()/3600\n",
    "    hosps_sorted['mort_30day'] = 0\n",
    "    \n",
    "    died_during_admission = (~hosps_sorted['dod'].isna()) & (hosps_sorted['dod'] <= hosps_sorted['dischtime'])\n",
    "    hosps_sorted.loc[died_during_admission, 'mort_30day'] = 1\n",
    "    days_to_death_post_discharge = (hosps_sorted['dod'] - hosps_sorted['dischtime']).dt.total_seconds() / (24 * 3600)\n",
    "    died_within_30_days = (~hosps_sorted['dod'].isna()) & (days_to_death_post_discharge <= 30) & (days_to_death_post_discharge >= 0)\n",
    "    hosps_sorted.loc[died_within_30_days, 'mort_30day'] = 1\n",
    "    \n",
    "    hosps_sorted['prolonged_stay'] = (hosps_sorted['los_hosp_hr'] > 7 * 24).astype(int)\n",
    "    hosps_sorted['readmission_30day'] = 0\n",
    "    \n",
    "    hosps_sorted['next_admittime'] = hosps_sorted.groupby('subject_id')['admittime'].shift(-1)\n",
    "    days_between = (hosps_sorted['next_admittime'] - hosps_sorted['dischtime']).dt.total_seconds() / (24 * 3600)\n",
    "    hosps_sorted['readmission_30day'] = ((days_between > 0) & (days_between <= 30)).astype(int)\n",
    "    \n",
    "    return hosps_sorted[['subject_id', 'hadm_id', 'mort_30day', 'prolonged_stay', 'readmission_30day']]\n",
    "\n",
    "labels_df = create_labels(hosps)\n",
    "print(\"Labels created successfully!\")\n",
    "print(f\"Shape: {labels_df.shape}\")\n",
    "print(\"\\nLabel distributions:\")\n",
    "print(f\"30-day mortality: {labels_df['mort_30day'].sum()} / {len(labels_df)} ({labels_df['mort_30day'].mean():.3f})\")\n",
    "print(f\"Prolonged stay: {labels_df['prolonged_stay'].sum()} / {len(labels_df)} ({labels_df['prolonged_stay'].mean():.3f})\")\n",
    "print(f\"30-day readmission: {labels_df['readmission_30day'].sum()} / {len(labels_df)} ({labels_df['readmission_30day'].mean():.3f})\")"
   ]
  },
  {
   "cell_type": "code",
   "execution_count": null,
   "metadata": {},
   "outputs": [],
   "source": [
    "bios = pd.read_csv('data/bios.csv')\n",
    "bios['charttime'] = pd.to_datetime(bios['charttime'].str.strip(), errors='coerce')"
   ]
  },
  {
   "cell_type": "markdown",
   "metadata": {},
   "source": [
    "## preprocessing"
   ]
  },
  {
   "cell_type": "code",
   "execution_count": 12,
   "metadata": {},
   "outputs": [],
   "source": [
    "# ethnicity  - to category\n",
    "hosps.ethnicity = hosps.ethnicity.str.lower()\n",
    "hosps.loc[(hosps.ethnicity.str.contains('^white')),'ethnicity'] = 'white'\n",
    "hosps.loc[(hosps.ethnicity.str.contains('^black')),'ethnicity'] = 'black'\n",
    "hosps.loc[(hosps.ethnicity.str.contains('^hisp')) | (hosps.ethnicity.str.contains('^latin')),'ethnicity'] = 'hispanic'\n",
    "hosps.loc[(hosps.ethnicity.str.contains('^asia')),'ethnicity'] = 'asian'\n",
    "hosps.loc[~(hosps.ethnicity.str.contains('|'.join(['white', 'black', 'hispanic', 'asian']))),'ethnicity'] = 'other'\n",
    "\n",
    "# ethnicity - one hot encoding\n",
    "hosps['eth_white'] = (hosps['ethnicity'] == 'white').astype(int)\n",
    "hosps['eth_black'] = (hosps['ethnicity'] == 'black').astype(int)\n",
    "hosps['eth_hispanic'] = (hosps['ethnicity'] == 'hispanic').astype(int)\n",
    "hosps['eth_asian'] = (hosps['ethnicity'] == 'asian').astype(int)\n",
    "hosps['eth_other'] = (hosps['ethnicity'] == 'other').astype(int)\n",
    "hosps.drop(['ethnicity', 'deathtime'], inplace=True, axis=1)"
   ]
  },
  {
   "cell_type": "code",
   "execution_count": 13,
   "metadata": {
    "colab": {
     "base_uri": "https://localhost:8080/",
     "height": 356
    },
    "executionInfo": {
     "elapsed": 305,
     "status": "error",
     "timestamp": 1754566885343,
     "user": {
      "displayName": "Yael Kupershmidt",
      "userId": "00404238359436170384"
     },
     "user_tz": -180
    },
    "id": "ynUWK92_VQdK",
    "outputId": "b0a3f0ea-1e36-48d3-e6ce-b584be199fdf"
   },
   "outputs": [
    {
     "name": "stdout",
     "output_type": "stream",
     "text": [
      "1. Include only first admissions: N=32513\n",
      "2. Exclusion by ages: N=25548\n",
      "3. Include only patients who admitted for at least 24 hours: N=25168\n",
      "4. Exclude patients who died within 48-hours of admission: N=24825\n"
     ]
    }
   ],
   "source": [
    "\n",
    "# Generate feature columns for los, age and mortality\n",
    "def age(admittime, dob):\n",
    "    if admittime < dob:\n",
    "      return 0\n",
    "    return admittime.year - dob.year - ((admittime.month, admittime.day) < (dob.month, dob.day))\n",
    "\n",
    "hosps['age'] = hosps.apply(lambda row: age(row['admittime'], row['dob']), axis=1)\n",
    "hosps['los_hosp_hr'] = (hosps.dischtime - hosps.admittime).dt.total_seconds()/3600\n",
    "hosps['mort'] = np.where(~np.isnat(hosps.dod),1,0)\n",
    "\n",
    "# Gender to binary\n",
    "hosps['gender'] = np.where(hosps['gender'] == \"M\", 1, 0)\n",
    "\n",
    "# @title Q1.1 - Patient Exclusion Criteria\n",
    "hosps = hosps.sort_values('admittime').groupby('subject_id').first().reset_index()\n",
    "print(f\"1. Include only first admissions: N={hosps.shape[0]}\")\n",
    "\n",
    "hosps = hosps[hosps.age.between(18,90)]\n",
    "print(f\"2. Exclusion by ages: N={hosps.shape[0]}\")\n",
    "\n",
    "# Exclude patients hospitalized for less than 24 hours\n",
    "hosps = hosps[hosps['los_hosp_hr'] >= min_los]\n",
    "print(f\"3. Include only patients who admitted for at least {min_los} hours: N={hosps.shape[0]}\")\n",
    "\n",
    "# Exclude patients that died in the first 48 hours of admission\n",
    "hours_to_death = (hosps['dod'] - hosps['admittime']).dt.total_seconds() / 3600\n",
    "hosps = hosps[~((hosps['mort'].astype(bool)) & (hours_to_death < min_target_onset))]\n",
    "print(f\"4. Exclude patients who died within {min_target_onset}-hours of admission: N={hosps.shape[0]}\")"
   ]
  },
  {
   "cell_type": "code",
   "execution_count": 14,
   "metadata": {},
   "outputs": [
    {
     "name": "stderr",
     "output_type": "stream",
     "text": [
      "/tmp/ipykernel_1853399/9803228.py:15: FutureWarning: 'H' is deprecated and will be removed in a future version, please use 'h' instead.\n",
      "  pivot = pd.pivot_table(merged, index=['subject_id', 'hadm_id', pd.Grouper(key='charttime', freq=pred_freq)],\n"
     ]
    }
   ],
   "source": [
    "labs = labs[labs['hadm_id'].isin(hosps['hadm_id'])]\n",
    "labs = pd.merge(labs,lavbevent_meatdata,on='itemid')\n",
    "labs = labs[labs['valuenum'].between(labs['min'],labs['max'],  inclusive='both')]\n",
    "\n",
    "vits = vits[vits['hadm_id'].isin(hosps['hadm_id'])]\n",
    "vits = pd.merge(vits,vital_meatdata,on='itemid')\n",
    "vits = vits[vits['valuenum'].between(vits['min'],vits['max'], inclusive='both')]\n",
    "\n",
    "vits.loc[(vits['feature name'] == 'TempF'),'valuenum'] = (vits[vits['feature name'] == 'TempF']['valuenum']-32)/1.8\n",
    "vits.loc[vits['feature name'] == 'TempF','feature name'] = 'TempC'\n",
    "\n",
    "merged = pd.concat([vits, labs])\n",
    "merged['charttime'] = pd.to_datetime(merged['charttime'], errors='coerce')\n",
    "\n",
    "pivot = pd.pivot_table(merged, index=['subject_id', 'hadm_id', pd.Grouper(key='charttime', freq=pred_freq)],\n",
    "                       columns=['feature name'], values='valuenum', aggfunc=['mean', 'max', 'min', 'std'])\n",
    "pivot.columns = [f'{c[1]}_{c[0]}' for c in pivot.columns.to_flat_index()]\n",
    "\n",
    "# temp = merged.copy()\n",
    "\n",
    "merged = pd.merge(hosps, pivot.reset_index(), on=['subject_id', 'hadm_id'])\n",
    "merged[pivot.columns] = merged.groupby(['subject_id', 'hadm_id'])[pivot.columns].ffill()\n"
   ]
  },
  {
   "cell_type": "code",
   "execution_count": 15,
   "metadata": {},
   "outputs": [],
   "source": [
    "bios_onehot = pd.get_dummies(bios, columns=['org_itemid'], prefix='org')\n",
    "groupby_cols = ['subject_id', 'hadm_id']\n",
    "onehot_cols = [col for col in bios_onehot.columns if col.startswith('org_')]\n",
    "bios_table = bios_onehot.groupby(groupby_cols)[onehot_cols].sum().reset_index()\n",
    "for col in onehot_cols:\n",
    "    bios_table[col] = (bios_table[col] > 0).astype(int)"
   ]
  },
  {
   "cell_type": "code",
   "execution_count": 16,
   "metadata": {},
   "outputs": [],
   "source": [
    "# Left join merged with bios_table on (subject_id, hadm_id, charttime)\n",
    "merged_with_bios = merged[['subject_id', 'hadm_id']].merge(\n",
    "    bios_table,\n",
    "    on=['subject_id', 'hadm_id'],\n",
    "    how='left'\n",
    ")\n",
    "\n",
    "onehot_cols = [col for col in merged_with_bios.columns if col.startswith('org_')]\n",
    "merged_with_bios[onehot_cols] = merged_with_bios[onehot_cols].fillna(0).astype(int)\n",
    "bios = merged_with_bios.drop(columns=['hadm_id']).drop_duplicates().set_index('subject_id')\n"
   ]
  },
  {
   "cell_type": "code",
   "execution_count": 17,
   "metadata": {},
   "outputs": [],
   "source": [
    "merged = merged.sort_values(['subject_id', 'hadm_id', 'charttime'])\n",
    "labs_features_names = set(labs['feature name'])\n",
    "vits_features_names = set(vits['feature name'])\n",
    "labs_features = [col for col in merged.columns if col.split('_')[0] in labs_features_names]\n",
    "vits_features = [col for col in merged.columns if col.split('_')[0] in vits_features_names]\n",
    "\n",
    "lab_diff_cols = {}\n",
    "for col in labs_features:\n",
    "    if col.find(\"mean\") >= 0:\n",
    "      base = merged.groupby(['subject_id', 'hadm_id'])[col].transform('first')\n",
    "      lab_diff_cols[f'{col}_diff'] = merged[col] - base\n",
    "\n",
    "lab_diff_df = pd.DataFrame(lab_diff_cols)\n",
    "\n",
    "vital_diff_cols = {}\n",
    "for col in vits_features:\n",
    "  if col.find(\"mean\") >= 0:\n",
    "      diff_series = merged.groupby(['subject_id', 'hadm_id'])[col].diff()\n",
    "      vital_diff_cols[f'{col}_diff'] = diff_series\n",
    "\n",
    "vital_diff_df = pd.DataFrame(vital_diff_cols)\n",
    "\n",
    "# Concatenate back to original DataFrame\n",
    "merged = pd.concat([merged, lab_diff_df, vital_diff_df], axis=1)"
   ]
  },
  {
   "cell_type": "code",
   "execution_count": 18,
   "metadata": {},
   "outputs": [],
   "source": [
    "merged['charttime'] = pd.to_datetime(merged['charttime'], errors='coerce')\n",
    "\n",
    "time_to_death = (merged['dod'] - merged['charttime']).dt.total_seconds() / (60 * 60)\n",
    "merged['target'] = (pd.notnull(time_to_death) & (time_to_death <= pred_window + pred_gap)).astype(int)\n",
    "merged = merged[time_to_death.isna() | (time_to_death >= pred_gap)]"
   ]
  },
  {
   "cell_type": "code",
   "execution_count": null,
   "metadata": {},
   "outputs": [
    {
     "name": "stdout",
     "output_type": "stream",
     "text": [
      "(248568, 273)\n"
     ]
    },
    {
     "data": {
      "text/html": [
       "<div>\n",
       "<style scoped>\n",
       "    .dataframe tbody tr th:only-of-type {\n",
       "        vertical-align: middle;\n",
       "    }\n",
       "\n",
       "    .dataframe tbody tr th {\n",
       "        vertical-align: top;\n",
       "    }\n",
       "\n",
       "    .dataframe thead th {\n",
       "        text-align: right;\n",
       "    }\n",
       "</style>\n",
       "<table border=\"1\" class=\"dataframe\">\n",
       "  <thead>\n",
       "    <tr style=\"text-align: right;\">\n",
       "      <th></th>\n",
       "      <th></th>\n",
       "      <th>drug</th>\n",
       "      <th>0.45% Sodium Chloride</th>\n",
       "      <th>0.83% Sodium Chloride</th>\n",
       "      <th>0.9% Sodium Chloride</th>\n",
       "      <th>0.9% Sodium Chloride (Mini Bag Plus)</th>\n",
       "      <th>1/2 NS</th>\n",
       "      <th>5% Dextrose</th>\n",
       "      <th>5% Dextrose (EXCEL BAG)</th>\n",
       "      <th>Acetaminophen</th>\n",
       "      <th>Acetaminophen (Liquid)</th>\n",
       "      <th>Acetaminophen IV</th>\n",
       "      <th>...</th>\n",
       "      <th>Valsartan</th>\n",
       "      <th>Vancomycin</th>\n",
       "      <th>Vancomycin HCl</th>\n",
       "      <th>Vasopressin</th>\n",
       "      <th>Vial</th>\n",
       "      <th>Vitamin D</th>\n",
       "      <th>Warfarin</th>\n",
       "      <th>Zolpidem Tartrate</th>\n",
       "      <th>traZODONE</th>\n",
       "      <th>traZODONE HCl</th>\n",
       "    </tr>\n",
       "    <tr>\n",
       "      <th>subject_id</th>\n",
       "      <th>hadm_id</th>\n",
       "      <th>charttime</th>\n",
       "      <th></th>\n",
       "      <th></th>\n",
       "      <th></th>\n",
       "      <th></th>\n",
       "      <th></th>\n",
       "      <th></th>\n",
       "      <th></th>\n",
       "      <th></th>\n",
       "      <th></th>\n",
       "      <th></th>\n",
       "      <th></th>\n",
       "      <th></th>\n",
       "      <th></th>\n",
       "      <th></th>\n",
       "      <th></th>\n",
       "      <th></th>\n",
       "      <th></th>\n",
       "      <th></th>\n",
       "      <th></th>\n",
       "      <th></th>\n",
       "      <th></th>\n",
       "    </tr>\n",
       "  </thead>\n",
       "  <tbody>\n",
       "    <tr>\n",
       "      <th rowspan=\"5\" valign=\"top\">4</th>\n",
       "      <th rowspan=\"5\" valign=\"top\">185777</th>\n",
       "      <th>2191-03-16 00:00:00</th>\n",
       "      <td>0</td>\n",
       "      <td>0</td>\n",
       "      <td>0</td>\n",
       "      <td>0</td>\n",
       "      <td>0</td>\n",
       "      <td>0</td>\n",
       "      <td>0</td>\n",
       "      <td>1</td>\n",
       "      <td>0</td>\n",
       "      <td>0</td>\n",
       "      <td>...</td>\n",
       "      <td>0</td>\n",
       "      <td>0</td>\n",
       "      <td>1</td>\n",
       "      <td>0</td>\n",
       "      <td>0</td>\n",
       "      <td>0</td>\n",
       "      <td>0</td>\n",
       "      <td>0</td>\n",
       "      <td>0</td>\n",
       "      <td>0</td>\n",
       "    </tr>\n",
       "    <tr>\n",
       "      <th>2191-03-16 04:00:00</th>\n",
       "      <td>0</td>\n",
       "      <td>0</td>\n",
       "      <td>0</td>\n",
       "      <td>0</td>\n",
       "      <td>0</td>\n",
       "      <td>0</td>\n",
       "      <td>0</td>\n",
       "      <td>1</td>\n",
       "      <td>0</td>\n",
       "      <td>0</td>\n",
       "      <td>...</td>\n",
       "      <td>0</td>\n",
       "      <td>0</td>\n",
       "      <td>1</td>\n",
       "      <td>0</td>\n",
       "      <td>0</td>\n",
       "      <td>0</td>\n",
       "      <td>0</td>\n",
       "      <td>0</td>\n",
       "      <td>0</td>\n",
       "      <td>0</td>\n",
       "    </tr>\n",
       "    <tr>\n",
       "      <th>2191-03-16 08:00:00</th>\n",
       "      <td>0</td>\n",
       "      <td>0</td>\n",
       "      <td>0</td>\n",
       "      <td>0</td>\n",
       "      <td>0</td>\n",
       "      <td>0</td>\n",
       "      <td>0</td>\n",
       "      <td>1</td>\n",
       "      <td>0</td>\n",
       "      <td>0</td>\n",
       "      <td>...</td>\n",
       "      <td>0</td>\n",
       "      <td>0</td>\n",
       "      <td>1</td>\n",
       "      <td>0</td>\n",
       "      <td>0</td>\n",
       "      <td>0</td>\n",
       "      <td>0</td>\n",
       "      <td>0</td>\n",
       "      <td>0</td>\n",
       "      <td>0</td>\n",
       "    </tr>\n",
       "    <tr>\n",
       "      <th>2191-03-16 12:00:00</th>\n",
       "      <td>0</td>\n",
       "      <td>0</td>\n",
       "      <td>0</td>\n",
       "      <td>0</td>\n",
       "      <td>0</td>\n",
       "      <td>0</td>\n",
       "      <td>0</td>\n",
       "      <td>1</td>\n",
       "      <td>0</td>\n",
       "      <td>0</td>\n",
       "      <td>...</td>\n",
       "      <td>0</td>\n",
       "      <td>0</td>\n",
       "      <td>1</td>\n",
       "      <td>0</td>\n",
       "      <td>0</td>\n",
       "      <td>0</td>\n",
       "      <td>0</td>\n",
       "      <td>0</td>\n",
       "      <td>0</td>\n",
       "      <td>0</td>\n",
       "    </tr>\n",
       "    <tr>\n",
       "      <th>2191-03-16 16:00:00</th>\n",
       "      <td>0</td>\n",
       "      <td>0</td>\n",
       "      <td>0</td>\n",
       "      <td>0</td>\n",
       "      <td>0</td>\n",
       "      <td>0</td>\n",
       "      <td>0</td>\n",
       "      <td>1</td>\n",
       "      <td>0</td>\n",
       "      <td>0</td>\n",
       "      <td>...</td>\n",
       "      <td>0</td>\n",
       "      <td>0</td>\n",
       "      <td>1</td>\n",
       "      <td>0</td>\n",
       "      <td>0</td>\n",
       "      <td>0</td>\n",
       "      <td>0</td>\n",
       "      <td>0</td>\n",
       "      <td>0</td>\n",
       "      <td>0</td>\n",
       "    </tr>\n",
       "    <tr>\n",
       "      <th>...</th>\n",
       "      <th>...</th>\n",
       "      <th>...</th>\n",
       "      <td>...</td>\n",
       "      <td>...</td>\n",
       "      <td>...</td>\n",
       "      <td>...</td>\n",
       "      <td>...</td>\n",
       "      <td>...</td>\n",
       "      <td>...</td>\n",
       "      <td>...</td>\n",
       "      <td>...</td>\n",
       "      <td>...</td>\n",
       "      <td>...</td>\n",
       "      <td>...</td>\n",
       "      <td>...</td>\n",
       "      <td>...</td>\n",
       "      <td>...</td>\n",
       "      <td>...</td>\n",
       "      <td>...</td>\n",
       "      <td>...</td>\n",
       "      <td>...</td>\n",
       "      <td>...</td>\n",
       "      <td>...</td>\n",
       "    </tr>\n",
       "    <tr>\n",
       "      <th rowspan=\"5\" valign=\"top\">99999</th>\n",
       "      <th rowspan=\"5\" valign=\"top\">113369</th>\n",
       "      <th>2117-12-31 20:00:00</th>\n",
       "      <td>0</td>\n",
       "      <td>0</td>\n",
       "      <td>2</td>\n",
       "      <td>0</td>\n",
       "      <td>1</td>\n",
       "      <td>0</td>\n",
       "      <td>0</td>\n",
       "      <td>1</td>\n",
       "      <td>0</td>\n",
       "      <td>0</td>\n",
       "      <td>...</td>\n",
       "      <td>0</td>\n",
       "      <td>0</td>\n",
       "      <td>0</td>\n",
       "      <td>0</td>\n",
       "      <td>0</td>\n",
       "      <td>0</td>\n",
       "      <td>0</td>\n",
       "      <td>0</td>\n",
       "      <td>0</td>\n",
       "      <td>0</td>\n",
       "    </tr>\n",
       "    <tr>\n",
       "      <th>2118-01-01 00:00:00</th>\n",
       "      <td>0</td>\n",
       "      <td>0</td>\n",
       "      <td>1</td>\n",
       "      <td>0</td>\n",
       "      <td>0</td>\n",
       "      <td>0</td>\n",
       "      <td>0</td>\n",
       "      <td>1</td>\n",
       "      <td>0</td>\n",
       "      <td>0</td>\n",
       "      <td>...</td>\n",
       "      <td>0</td>\n",
       "      <td>0</td>\n",
       "      <td>0</td>\n",
       "      <td>0</td>\n",
       "      <td>0</td>\n",
       "      <td>0</td>\n",
       "      <td>0</td>\n",
       "      <td>0</td>\n",
       "      <td>0</td>\n",
       "      <td>0</td>\n",
       "    </tr>\n",
       "    <tr>\n",
       "      <th>2118-01-01 04:00:00</th>\n",
       "      <td>0</td>\n",
       "      <td>0</td>\n",
       "      <td>1</td>\n",
       "      <td>0</td>\n",
       "      <td>0</td>\n",
       "      <td>0</td>\n",
       "      <td>0</td>\n",
       "      <td>1</td>\n",
       "      <td>0</td>\n",
       "      <td>0</td>\n",
       "      <td>...</td>\n",
       "      <td>0</td>\n",
       "      <td>0</td>\n",
       "      <td>0</td>\n",
       "      <td>0</td>\n",
       "      <td>0</td>\n",
       "      <td>0</td>\n",
       "      <td>0</td>\n",
       "      <td>0</td>\n",
       "      <td>0</td>\n",
       "      <td>0</td>\n",
       "    </tr>\n",
       "    <tr>\n",
       "      <th>2118-01-01 08:00:00</th>\n",
       "      <td>0</td>\n",
       "      <td>0</td>\n",
       "      <td>1</td>\n",
       "      <td>0</td>\n",
       "      <td>0</td>\n",
       "      <td>0</td>\n",
       "      <td>0</td>\n",
       "      <td>1</td>\n",
       "      <td>0</td>\n",
       "      <td>0</td>\n",
       "      <td>...</td>\n",
       "      <td>0</td>\n",
       "      <td>0</td>\n",
       "      <td>0</td>\n",
       "      <td>0</td>\n",
       "      <td>0</td>\n",
       "      <td>0</td>\n",
       "      <td>0</td>\n",
       "      <td>0</td>\n",
       "      <td>0</td>\n",
       "      <td>0</td>\n",
       "    </tr>\n",
       "    <tr>\n",
       "      <th>2118-01-01 12:00:00</th>\n",
       "      <td>0</td>\n",
       "      <td>0</td>\n",
       "      <td>1</td>\n",
       "      <td>0</td>\n",
       "      <td>0</td>\n",
       "      <td>0</td>\n",
       "      <td>0</td>\n",
       "      <td>1</td>\n",
       "      <td>0</td>\n",
       "      <td>0</td>\n",
       "      <td>...</td>\n",
       "      <td>0</td>\n",
       "      <td>0</td>\n",
       "      <td>0</td>\n",
       "      <td>0</td>\n",
       "      <td>0</td>\n",
       "      <td>0</td>\n",
       "      <td>0</td>\n",
       "      <td>0</td>\n",
       "      <td>0</td>\n",
       "      <td>0</td>\n",
       "    </tr>\n",
       "  </tbody>\n",
       "</table>\n",
       "<p>248568 rows × 273 columns</p>\n",
       "</div>"
      ],
      "text/plain": [
       "drug                                    0.45% Sodium Chloride  \\\n",
       "subject_id hadm_id charttime                                    \n",
       "4          185777  2191-03-16 00:00:00                      0   \n",
       "                   2191-03-16 04:00:00                      0   \n",
       "                   2191-03-16 08:00:00                      0   \n",
       "                   2191-03-16 12:00:00                      0   \n",
       "                   2191-03-16 16:00:00                      0   \n",
       "...                                                       ...   \n",
       "99999      113369  2117-12-31 20:00:00                      0   \n",
       "                   2118-01-01 00:00:00                      0   \n",
       "                   2118-01-01 04:00:00                      0   \n",
       "                   2118-01-01 08:00:00                      0   \n",
       "                   2118-01-01 12:00:00                      0   \n",
       "\n",
       "drug                                    0.83% Sodium Chloride  \\\n",
       "subject_id hadm_id charttime                                    \n",
       "4          185777  2191-03-16 00:00:00                      0   \n",
       "                   2191-03-16 04:00:00                      0   \n",
       "                   2191-03-16 08:00:00                      0   \n",
       "                   2191-03-16 12:00:00                      0   \n",
       "                   2191-03-16 16:00:00                      0   \n",
       "...                                                       ...   \n",
       "99999      113369  2117-12-31 20:00:00                      0   \n",
       "                   2118-01-01 00:00:00                      0   \n",
       "                   2118-01-01 04:00:00                      0   \n",
       "                   2118-01-01 08:00:00                      0   \n",
       "                   2118-01-01 12:00:00                      0   \n",
       "\n",
       "drug                                    0.9% Sodium Chloride  \\\n",
       "subject_id hadm_id charttime                                   \n",
       "4          185777  2191-03-16 00:00:00                     0   \n",
       "                   2191-03-16 04:00:00                     0   \n",
       "                   2191-03-16 08:00:00                     0   \n",
       "                   2191-03-16 12:00:00                     0   \n",
       "                   2191-03-16 16:00:00                     0   \n",
       "...                                                      ...   \n",
       "99999      113369  2117-12-31 20:00:00                     2   \n",
       "                   2118-01-01 00:00:00                     1   \n",
       "                   2118-01-01 04:00:00                     1   \n",
       "                   2118-01-01 08:00:00                     1   \n",
       "                   2118-01-01 12:00:00                     1   \n",
       "\n",
       "drug                                    0.9% Sodium Chloride (Mini Bag Plus)  \\\n",
       "subject_id hadm_id charttime                                                   \n",
       "4          185777  2191-03-16 00:00:00                                     0   \n",
       "                   2191-03-16 04:00:00                                     0   \n",
       "                   2191-03-16 08:00:00                                     0   \n",
       "                   2191-03-16 12:00:00                                     0   \n",
       "                   2191-03-16 16:00:00                                     0   \n",
       "...                                                                      ...   \n",
       "99999      113369  2117-12-31 20:00:00                                     0   \n",
       "                   2118-01-01 00:00:00                                     0   \n",
       "                   2118-01-01 04:00:00                                     0   \n",
       "                   2118-01-01 08:00:00                                     0   \n",
       "                   2118-01-01 12:00:00                                     0   \n",
       "\n",
       "drug                                    1/2 NS  5% Dextrose  \\\n",
       "subject_id hadm_id charttime                                  \n",
       "4          185777  2191-03-16 00:00:00       0            0   \n",
       "                   2191-03-16 04:00:00       0            0   \n",
       "                   2191-03-16 08:00:00       0            0   \n",
       "                   2191-03-16 12:00:00       0            0   \n",
       "                   2191-03-16 16:00:00       0            0   \n",
       "...                                        ...          ...   \n",
       "99999      113369  2117-12-31 20:00:00       1            0   \n",
       "                   2118-01-01 00:00:00       0            0   \n",
       "                   2118-01-01 04:00:00       0            0   \n",
       "                   2118-01-01 08:00:00       0            0   \n",
       "                   2118-01-01 12:00:00       0            0   \n",
       "\n",
       "drug                                    5% Dextrose (EXCEL BAG)  \\\n",
       "subject_id hadm_id charttime                                      \n",
       "4          185777  2191-03-16 00:00:00                        0   \n",
       "                   2191-03-16 04:00:00                        0   \n",
       "                   2191-03-16 08:00:00                        0   \n",
       "                   2191-03-16 12:00:00                        0   \n",
       "                   2191-03-16 16:00:00                        0   \n",
       "...                                                         ...   \n",
       "99999      113369  2117-12-31 20:00:00                        0   \n",
       "                   2118-01-01 00:00:00                        0   \n",
       "                   2118-01-01 04:00:00                        0   \n",
       "                   2118-01-01 08:00:00                        0   \n",
       "                   2118-01-01 12:00:00                        0   \n",
       "\n",
       "drug                                    Acetaminophen  Acetaminophen (Liquid)  \\\n",
       "subject_id hadm_id charttime                                                    \n",
       "4          185777  2191-03-16 00:00:00              1                       0   \n",
       "                   2191-03-16 04:00:00              1                       0   \n",
       "                   2191-03-16 08:00:00              1                       0   \n",
       "                   2191-03-16 12:00:00              1                       0   \n",
       "                   2191-03-16 16:00:00              1                       0   \n",
       "...                                               ...                     ...   \n",
       "99999      113369  2117-12-31 20:00:00              1                       0   \n",
       "                   2118-01-01 00:00:00              1                       0   \n",
       "                   2118-01-01 04:00:00              1                       0   \n",
       "                   2118-01-01 08:00:00              1                       0   \n",
       "                   2118-01-01 12:00:00              1                       0   \n",
       "\n",
       "drug                                    Acetaminophen IV  ...  Valsartan  \\\n",
       "subject_id hadm_id charttime                              ...              \n",
       "4          185777  2191-03-16 00:00:00                 0  ...          0   \n",
       "                   2191-03-16 04:00:00                 0  ...          0   \n",
       "                   2191-03-16 08:00:00                 0  ...          0   \n",
       "                   2191-03-16 12:00:00                 0  ...          0   \n",
       "                   2191-03-16 16:00:00                 0  ...          0   \n",
       "...                                                  ...  ...        ...   \n",
       "99999      113369  2117-12-31 20:00:00                 0  ...          0   \n",
       "                   2118-01-01 00:00:00                 0  ...          0   \n",
       "                   2118-01-01 04:00:00                 0  ...          0   \n",
       "                   2118-01-01 08:00:00                 0  ...          0   \n",
       "                   2118-01-01 12:00:00                 0  ...          0   \n",
       "\n",
       "drug                                    Vancomycin  Vancomycin HCl  \\\n",
       "subject_id hadm_id charttime                                         \n",
       "4          185777  2191-03-16 00:00:00           0               1   \n",
       "                   2191-03-16 04:00:00           0               1   \n",
       "                   2191-03-16 08:00:00           0               1   \n",
       "                   2191-03-16 12:00:00           0               1   \n",
       "                   2191-03-16 16:00:00           0               1   \n",
       "...                                            ...             ...   \n",
       "99999      113369  2117-12-31 20:00:00           0               0   \n",
       "                   2118-01-01 00:00:00           0               0   \n",
       "                   2118-01-01 04:00:00           0               0   \n",
       "                   2118-01-01 08:00:00           0               0   \n",
       "                   2118-01-01 12:00:00           0               0   \n",
       "\n",
       "drug                                    Vasopressin  Vial  Vitamin D  \\\n",
       "subject_id hadm_id charttime                                           \n",
       "4          185777  2191-03-16 00:00:00            0     0          0   \n",
       "                   2191-03-16 04:00:00            0     0          0   \n",
       "                   2191-03-16 08:00:00            0     0          0   \n",
       "                   2191-03-16 12:00:00            0     0          0   \n",
       "                   2191-03-16 16:00:00            0     0          0   \n",
       "...                                             ...   ...        ...   \n",
       "99999      113369  2117-12-31 20:00:00            0     0          0   \n",
       "                   2118-01-01 00:00:00            0     0          0   \n",
       "                   2118-01-01 04:00:00            0     0          0   \n",
       "                   2118-01-01 08:00:00            0     0          0   \n",
       "                   2118-01-01 12:00:00            0     0          0   \n",
       "\n",
       "drug                                    Warfarin  Zolpidem Tartrate  \\\n",
       "subject_id hadm_id charttime                                          \n",
       "4          185777  2191-03-16 00:00:00         0                  0   \n",
       "                   2191-03-16 04:00:00         0                  0   \n",
       "                   2191-03-16 08:00:00         0                  0   \n",
       "                   2191-03-16 12:00:00         0                  0   \n",
       "                   2191-03-16 16:00:00         0                  0   \n",
       "...                                          ...                ...   \n",
       "99999      113369  2117-12-31 20:00:00         0                  0   \n",
       "                   2118-01-01 00:00:00         0                  0   \n",
       "                   2118-01-01 04:00:00         0                  0   \n",
       "                   2118-01-01 08:00:00         0                  0   \n",
       "                   2118-01-01 12:00:00         0                  0   \n",
       "\n",
       "drug                                    traZODONE  traZODONE HCl  \n",
       "subject_id hadm_id charttime                                      \n",
       "4          185777  2191-03-16 00:00:00          0              0  \n",
       "                   2191-03-16 04:00:00          0              0  \n",
       "                   2191-03-16 08:00:00          0              0  \n",
       "                   2191-03-16 12:00:00          0              0  \n",
       "                   2191-03-16 16:00:00          0              0  \n",
       "...                                           ...            ...  \n",
       "99999      113369  2117-12-31 20:00:00          0              0  \n",
       "                   2118-01-01 00:00:00          0              0  \n",
       "                   2118-01-01 04:00:00          0              0  \n",
       "                   2118-01-01 08:00:00          0              0  \n",
       "                   2118-01-01 12:00:00          0              0  \n",
       "\n",
       "[248568 rows x 273 columns]"
      ]
     },
     "execution_count": 58,
     "metadata": {},
     "output_type": "execute_result"
    }
   ],
   "source": [
    "prescriptions = pd.read_csv('data/prescriptions.csv', index_col=0)\n",
    "prescriptions = prescriptions.loc[prescriptions.hadm_id.isin(merged.hadm_id) & prescriptions.subject_id.isin(merged.subject_id)]\n",
    "\n",
    "# Convert date columns to datetime\n",
    "prescriptions['startdate'] = pd.to_datetime(prescriptions['startdate'])\n",
    "prescriptions['enddate'] = pd.to_datetime(prescriptions['enddate'])\n",
    "prescriptions['startdate'] = prescriptions['startdate'].fillna(prescriptions['enddate'])\n",
    "prescriptions['enddate'] = prescriptions['enddate'].fillna(prescriptions['startdate'])\n",
    "prescriptions = prescriptions.dropna(subset=['startdate', 'enddate'], how='all')\n",
    "\n",
    "item_counts = prescriptions[[\"subject_id\", \"drug\"]].drop_duplicates()[\"drug\"].value_counts()\n",
    "valid_items = item_counts[item_counts > 240].index\n",
    "prescriptions_filtered = prescriptions[prescriptions[\"drug\"].isin(valid_items)][['subject_id', \"hadm_id\", 'drug', 'startdate', 'enddate']].drop_duplicates()\n",
    "\n",
    "# Merge on subject_id and hadm_id once (cartesian product within each admission)\n",
    "merged_all = merged.merge(\n",
    "    prescriptions_filtered,\n",
    "    on=[\"subject_id\", \"hadm_id\"],\n",
    "    suffixes=(\"\", \"_presc\")\n",
    ")\n",
    "\n",
    "# Filter by charttime between prescription window\n",
    "mask = (merged_all[\"charttime\"].dt.date >= merged_all[\"startdate\"].dt.date) & \\\n",
    "       (merged_all[\"charttime\"].dt.date <= merged_all[\"enddate\"].dt.date)\n",
    "\n",
    "merged_all = merged_all[mask]\n",
    "\n",
    "merged_all['value'] = 1\n",
    "drug_pivot = merged_all.pivot_table(\n",
    "    index=['subject_id', 'hadm_id', 'charttime'],\n",
    "    columns='drug',\n",
    "    values='value',\n",
    "    aggfunc='count',\n",
    "    fill_value=0\n",
    ")\n",
    "\n",
    "tmp = merged.merge(drug_pivot.reset_index().drop_duplicates(), on=['subject_id', 'hadm_id', 'charttime'], how='left')"
   ]
  },
  {
   "cell_type": "code",
   "execution_count": null,
   "metadata": {},
   "outputs": [
    {
     "data": {
      "text/plain": [
       "False"
      ]
     },
     "execution_count": 77,
     "metadata": {},
     "output_type": "execute_result"
    }
   ],
   "source": [
    "# merged.shape, drug_pivot.reset_index().drop_duplicates().shape, merged_all.shape\n",
    "# tmp = merged.merge(drug_pivot.reset_index().drop_duplicates(), on=['subject_id', 'hadm_id', 'charttime'], how='left')\n"
   ]
  },
  {
   "cell_type": "code",
   "execution_count": 19,
   "metadata": {},
   "outputs": [
    {
     "name": "stderr",
     "output_type": "stream",
     "text": [
      "/tmp/ipykernel_3951244/2957874448.py:24: SettingWithCopyWarning: \n",
      "A value is trying to be set on a copy of a slice from a DataFrame\n",
      "\n",
      "See the caveats in the documentation: https://pandas.pydata.org/pandas-docs/stable/user_guide/indexing.html#returning-a-view-versus-a-copy\n",
      "  X_train.drop(columns=[\"target\", \"mort_30day\", \"prolonged_stay\", \"readmission_30day\"], axis=1, inplace=True)\n",
      "/tmp/ipykernel_3951244/2957874448.py:28: SettingWithCopyWarning: \n",
      "A value is trying to be set on a copy of a slice from a DataFrame\n",
      "\n",
      "See the caveats in the documentation: https://pandas.pydata.org/pandas-docs/stable/user_guide/indexing.html#returning-a-view-versus-a-copy\n",
      "  X_val.drop(columns=[\"target\",\"mort_30day\",\"prolonged_stay\",\"readmission_30day\"], axis=1, inplace=True)\n",
      "/tmp/ipykernel_3951244/2957874448.py:32: SettingWithCopyWarning: \n",
      "A value is trying to be set on a copy of a slice from a DataFrame\n",
      "\n",
      "See the caveats in the documentation: https://pandas.pydata.org/pandas-docs/stable/user_guide/indexing.html#returning-a-view-versus-a-copy\n",
      "  X_test.drop(columns=[\"target\",\"mort_30day\",\"prolonged_stay\",\"readmission_30day\"], axis=1, inplace=True)\n"
     ]
    }
   ],
   "source": [
    "import numpy as np\n",
    "from sklearn.model_selection import GroupShuffleSplit\n",
    "\n",
    "merged_clean = merged.reset_index(drop=True)\n",
    "\n",
    "np.random.seed(0)\n",
    "\n",
    "#Split to train & test (all data of a single patient needs to be in the same group)\n",
    "X = merged_clean\n",
    "X = X.merge(labels_df, on=['subject_id', 'hadm_id'], how='inner')\n",
    "groups = merged_clean['subject_id']\n",
    "\n",
    "gss = GroupShuffleSplit(n_splits=1, train_size=.8, test_size=0.1)\n",
    "train_index, test_index = next(gss.split(X, groups=groups))\n",
    "val_index = list(set(X.index.to_list()) - (set(train_index.tolist()) | set(test_index.tolist())))\n",
    "\n",
    "X_train = X.iloc[train_index]\n",
    "X_val = X.iloc[val_index]\n",
    "X_test = X.iloc[test_index]\n",
    "\n",
    "y_train = X_train[[\"subject_id\", \"mort_30day\", \"prolonged_stay\", \"readmission_30day\"]].drop_duplicates()\n",
    "y_train = y_train.groupby('subject_id',as_index=False).max()\n",
    "\n",
    "X_train.drop(columns=[\"target\", \"mort_30day\", \"prolonged_stay\", \"readmission_30day\"], axis=1, inplace=True)\n",
    "\n",
    "y_val = X_val[[\"subject_id\", \"mort_30day\", \"prolonged_stay\", \"readmission_30day\"]].drop_duplicates()\n",
    "y_val = y_val.groupby('subject_id',as_index=False).max()\n",
    "X_val.drop(columns=[\"target\",\"mort_30day\",\"prolonged_stay\",\"readmission_30day\"], axis=1, inplace=True)\n",
    "\n",
    "y_test = X_test[[\"subject_id\",\"mort_30day\",\"prolonged_stay\",\"readmission_30day\"]].drop_duplicates()\n",
    "y_test = y_test.groupby('subject_id',as_index=False).max()\n",
    "X_test.drop(columns=[\"target\",\"mort_30day\",\"prolonged_stay\",\"readmission_30day\"], axis=1, inplace=True)"
   ]
  },
  {
   "cell_type": "code",
   "execution_count": 20,
   "metadata": {},
   "outputs": [
    {
     "name": "stdout",
     "output_type": "stream",
     "text": [
      "Pooled embeddings shape: 24796\n",
      "Number of subjects: 24796\n"
     ]
    }
   ],
   "source": [
    "import sys, numpy\n",
    "import pickle\n",
    "# Create an alias so pickle can find the old path\n",
    "sys.modules[\"numpy._core.numeric\"] = numpy.core.numeric  \n",
    "\n",
    "with open(\"data/notes_with_embeddings.pkl\", \"rb\") as f:\n",
    "    notes = pickle.load(f)\n",
    "    notes_ordered = X[['subject_id']].drop_duplicates().merge(\n",
    "    notes[[\"subject_id\",\"embeddings\"]], \n",
    "    on='subject_id', \n",
    "    how='left'\n",
    ")\n",
    "\n",
    "    embeddings_dict = {}\n",
    "\n",
    "for idx, row in notes_ordered.iterrows():\n",
    "    subject_id = row['subject_id']\n",
    "    embeddings = row['embeddings']\n",
    "    try:\n",
    "        if isinstance(embeddings, np.ndarray) :\n",
    "            # Convert to tensor if it's not already\n",
    "            if not isinstance(embeddings, torch.Tensor):\n",
    "                embeddings = torch.tensor(embeddings, dtype=torch.float32)\n",
    "            \n",
    "            # Perform average pooling across the sequence dimension\n",
    "            # Assuming embeddings shape is (sequence_length, embedding_dim)\n",
    "            pooled_embedding = torch.mean(embeddings, dim=0)  # Shape: (embedding_dim,)\n",
    "            embeddings_dict[subject_id] = pooled_embedding\n",
    "        else:\n",
    "            # Handle missing embeddings with zero vector\n",
    "            # Assuming embedding dimension is 768 (common for transformers)\n",
    "            embeddings_dict[subject_id] = torch.zeros(768, dtype=torch.float32)\n",
    "    except Exception as e:\n",
    "        flag = 1\n",
    "\n",
    "# Convert to a tensor where each row corresponds to a subject_id\n",
    "subject_ids_list = notes_ordered['subject_id'].tolist()\n",
    "pooled_embeddings = [embeddings_dict[subject_id] for subject_id in subject_ids_list]\n",
    "\n",
    "print(f\"Pooled embeddings shape: {len(pooled_embeddings)}\")\n",
    "print(f\"Number of subjects: {len(subject_ids_list)}\")\n",
    "\n",
    "notes_df = pd.DataFrame({\n",
    "    'subject_id': subject_ids_list,\n",
    "    'embeddings': pooled_embeddings}).set_index('subject_id')"
   ]
  },
  {
   "cell_type": "code",
   "execution_count": 21,
   "metadata": {},
   "outputs": [],
   "source": [
    "from sklearn.preprocessing import StandardScaler\n",
    "\n",
    "num_cols = X_train.select_dtypes(include='float').columns\n",
    "scaler = StandardScaler()\n",
    "\n",
    "X_train.loc[:, num_cols] = scaler.fit_transform(X_train[num_cols])\n",
    "X_val.loc[:, num_cols] = scaler.transform(X_val[num_cols])\n",
    "X_test.loc[:, num_cols] = scaler.transform(X_test[num_cols])\n",
    "\n",
    "baseline_df = X_train[X_train.charttime.dt.date == X_train.admittime.dt.date].mean(axis=0).fillna(0)\n",
    "X_train.loc[:, num_cols] = X_train[num_cols].fillna(baseline_df)\n",
    "X_val.loc[:, num_cols] = X_val[num_cols].fillna(baseline_df)\n",
    "X_test.loc[:, num_cols] = X_test[num_cols].fillna(baseline_df)"
   ]
  },
  {
   "cell_type": "code",
   "execution_count": 22,
   "metadata": {},
   "outputs": [],
   "source": [
    "to_drop = ['hadm_id','icustay_id','intime','outtime','admittime', 'dischtime', 'dod','dob', 'mort', 'los_hosp_hr', 'charttime','adm_to_death']\n",
    "\n",
    "to_keep = ~X_train.columns.isin(to_drop)\n",
    "to_keep = X_train.columns[to_keep]\n",
    "X_train = X_train[to_keep]\n",
    "X_test = X_test[to_keep]\n",
    "X_val = X_val[to_keep]"
   ]
  },
  {
   "cell_type": "code",
   "execution_count": 23,
   "metadata": {},
   "outputs": [],
   "source": [
    "from sklearn.cluster import KMeans\n",
    "import numpy as np\n",
    "\n",
    "def cluster_and_select_subjects(X_train, num_clusters=10, random_state=42):\n",
    "    \"\"\"\n",
    "    Calculate the first row of each subject_id in X_train, cluster it to num_clusters \n",
    "    and choose one subject_id from each cluster.\n",
    "    \n",
    "    Parameters:\n",
    "    X_train: DataFrame with subject_id column\n",
    "    num_clusters: int, number of clusters to create\n",
    "    random_state: int, for reproducibility\n",
    "    \n",
    "    Returns:\n",
    "    list: selected subject_ids, one from each cluster\n",
    "    \"\"\"\n",
    "    first_rows = X_train.groupby('subject_id').first().reset_index()\n",
    "    \n",
    "    features_for_clustering = first_rows.drop('subject_id', axis=1)\n",
    "    \n",
    "\n",
    "    kmeans = KMeans(n_clusters=num_clusters, random_state=random_state, n_init=10)\n",
    "    cluster_labels = kmeans.fit_predict(features_for_clustering)\n",
    "    \n",
    "\n",
    "    first_rows['cluster'] = cluster_labels\n",
    "    \n",
    "\n",
    "    np.random.seed(random_state)\n",
    "    selected_subjects = []\n",
    "    \n",
    "    for cluster_id in range(num_clusters):\n",
    "        cluster_subjects = first_rows[first_rows['cluster'] == cluster_id]['subject_id'].values\n",
    "        if len(cluster_subjects) > 0:\n",
    "            selected_subject = np.random.choice(cluster_subjects)\n",
    "            selected_subjects.append(selected_subject)\n",
    "    \n",
    "    return selected_subjects\n",
    "\n",
    "selected_subjects = cluster_and_select_subjects(X_train, num_clusters=100, random_state=42)"
   ]
  },
  {
   "cell_type": "code",
   "execution_count": 24,
   "metadata": {},
   "outputs": [],
   "source": [
    "DEVICE = torch.device(\"cuda\" if torch.cuda.is_available() else \"cpu\")\n",
    "\n",
    "# Create X_core with rows where subject_id is in selected_subjects\n",
    "X_core = X_train[X_train['subject_id'].isin(selected_subjects)]\n",
    "y_core = y_train[y_train['subject_id'].isin(selected_subjects)]\n",
    "\n",
    "# Update X_train to exclude the selected subjects\n",
    "X_train = X_train[~X_train['subject_id'].isin(selected_subjects)]\n",
    "y_train = y_train[~y_train['subject_id'].isin(selected_subjects)]\n",
    "\n",
    "train_labels = torch.tensor(y_train[['mort_30day', 'prolonged_stay', 'readmission_30day']].values, dtype=torch.float32).to(DEVICE)\n",
    "val_labels = torch.tensor(y_val[['mort_30day', 'prolonged_stay', 'readmission_30day']].values, dtype=torch.float32).to(DEVICE)\n",
    "test_labels = torch.tensor(y_test[['mort_30day', 'prolonged_stay', 'readmission_30day']].values, dtype=torch.float32).to(DEVICE)\n",
    "\n",
    "notes_df_train = notes_df.loc[X_train.subject_id.unique()]\n",
    "notes_df_val = notes_df.loc[X_val.subject_id.unique()]\n",
    "notes_df_test = notes_df.loc[X_test.subject_id.unique()]\n",
    "\n",
    "bios_train = bios.loc[X_train.subject_id.unique()]\n",
    "bios_val = bios.loc[X_val.subject_id.unique()]\n",
    "bios_test = bios.loc[X_test.subject_id.unique()]"
   ]
  },
  {
   "cell_type": "code",
   "execution_count": 25,
   "metadata": {},
   "outputs": [],
   "source": [
    "def generate_series_data(df, group_col=\"subject_id\", maxlen=18):\n",
    "  grouped = df.groupby(group_col)\n",
    "  subject_sequences = [group.values[:, 1:] for _, group in grouped]\n",
    "  padded_tensor = pad_sequences(subject_sequences, padding='post', dtype='float32')\n",
    "  sequence_lengths = [len(seq) for seq in subject_sequences]\n",
    "  padding_mask = np.zeros((len(sequence_lengths), maxlen), dtype=np.float32)\n",
    "  for i, length in enumerate(sequence_lengths):\n",
    "      padding_mask[i, :length] = 1.0\n",
    "  padded_tensor = torch.tensor(padded_tensor, dtype=torch.float32)\n",
    "  padding_mask = torch.tensor(padding_mask, dtype=torch.float32)\n",
    "  return padded_tensor, padding_mask"
   ]
  },
  {
   "cell_type": "code",
   "execution_count": 26,
   "metadata": {},
   "outputs": [],
   "source": [
    "#import NoteEmbedder\n",
    "#import imp\n",
    "#os.environ[\"TRANSFORMERS_CACHE\"] = \"/home/bnet/ronsheinin/MLHC/MLHC/cache\"\n",
    "#imp.reload(NoteEmbedder)\n",
    "#import os\n",
    "#notes = pd.read_csv('data/notes.csv')\n",
    "#note_embeddings = NoteEmbedder.run_embeeding(notes)"
   ]
  },
  {
   "cell_type": "markdown",
   "metadata": {},
   "source": [
    "## Model"
   ]
  },
  {
   "cell_type": "code",
   "execution_count": 31,
   "metadata": {},
   "outputs": [],
   "source": [
    "import torch\n",
    "from torch.utils.data import Dataset\n",
    "\n",
    "\n",
    "class PatientDataset(Dataset):\n",
    "    def __init__(self, X, y, core, padding_mask, padding_mask_core, notes, bios, k=5):\n",
    "        self.core = core\n",
    "        self.X = X\n",
    "        self.y = y\n",
    "        self.padding_mask = padding_mask\n",
    "        self.padding_mask_core = padding_mask_core\n",
    "        self.k = k\n",
    "        self.notes = notes\n",
    "        self.bios = torch.tensor(bios)\n",
    "        self.node_to_neighbors = self.build_knn_graph(X, core, padding_mask, padding_mask_core, k=k)\n",
    "\n",
    "\n",
    "    def __len__(self):\n",
    "        return len(self.X)\n",
    "    \n",
    "    def __getitem__(self, idx):\n",
    "        return self.X[idx], self.y[idx], self.padding_mask[idx], idx, self.notes[idx], self.bios[idx]\n",
    "\n",
    "\n",
    "    def get_edge_index(self, batch, padding_mask_batch, batch_indices):\n",
    "        \"\"\"\n",
    "        Returns a tensor representing the edge index of the graph.\n",
    "        \n",
    "        Returns:\n",
    "            edge_index: tensor of shape (2, num_edges) representing graph edges\n",
    "        \"\"\"\n",
    "        batch_size, seq_len, _ = batch.shape\n",
    "        core_size = self.core.shape[0]\n",
    "        total_patients = batch_size + core_size\n",
    "\n",
    "        batch_size = batch.shape[0]\n",
    "        # all_patients = torch.cat([batch, self.core], dim=0)\n",
    "        all_padding_mask = torch.cat([padding_mask_batch, self.padding_mask_core.to(padding_mask_batch.device)], dim=0)\n",
    "\n",
    "        edges = []\n",
    "        \n",
    "        for patient_idx in range(total_patients):\n",
    "            for t in range(seq_len - 1):\n",
    "                if all_padding_mask[patient_idx, t] > 0 and all_padding_mask[patient_idx, t + 1] > 0:\n",
    "                    node_curr = patient_idx * seq_len + t\n",
    "                    node_next = patient_idx * seq_len + t + 1\n",
    "   \n",
    "                    edges.append([node_curr, node_next])\n",
    "                    edges.append([node_next, node_curr])\n",
    "        \n",
    "        edges = [torch.tensor(edges).t()]\n",
    "\n",
    "        neighbors_list = []\n",
    "        for idx in batch_indices:\n",
    "            neighbors_list.extend(self.node_to_neighbors[idx.item() * seq_len: (idx.item() + 1) * seq_len])\n",
    "            # for i in range(seq_len):\n",
    "            #     neighbors_list.append(list(self.node_to_neighbors[idx.item() * seq_len + i]))\n",
    "        \n",
    "        # for i in range(self.X.shape[0] * seq_len, self.X.shape[0] * seq_len + core_size * seq_len):\n",
    "        #     neighbors_list.append(list(self.node_to_neighbors[i]))\n",
    "        neighbors_list.extend(self.node_to_neighbors[self.X.shape[0] * seq_len:])\n",
    "    \n",
    "        for t in range(seq_len):\n",
    "            valid_patients = all_padding_mask[:, t] > 0\n",
    "            valid_indices = torch.where(valid_patients)[0] \n",
    "\n",
    "            if len(valid_indices) > 1:\n",
    "                for i, patient_idx in enumerate(valid_indices):\n",
    "                    node_curr = patient_idx * seq_len + t\n",
    "                    to_append = torch.tensor(neighbors_list[node_curr], dtype=torch.long) - (self.X.shape[0] - batch_size) * seq_len  # Adjust index for core patients\n",
    "                    edges.append(torch.stack([to_append, torch.full_like(to_append, node_curr)], dim=0))\n",
    "\n",
    "        \n",
    "        if edges:\n",
    "            edge_index = torch.cat(edges, dim=1).to(torch.long)\n",
    "        else:\n",
    "            edge_index = torch.empty((2, 0), dtype=torch.long)\n",
    "        \n",
    "        return edge_index\n",
    "\n",
    "\n",
    "        \n",
    "    @staticmethod\n",
    "    def build_knn_graph(batch, core, padding_mask_batch, padding_mask_core, k=5):\n",
    "        \"\"\"\n",
    "        Build a KNN graph from batch and core tensors.\n",
    "        \n",
    "        Args:\n",
    "            batch: 3D tensor (batch_size, seq_len, features)\n",
    "            core: 3D tensor (core_size, seq_len, features)\n",
    "            padding_mask_batch: 2D tensor (batch_size, seq_len) indicating valid time points\n",
    "            padding_mask_core: 2D tensor (core_size, seq_len) indicating valid time points\n",
    "            k: number of nearest neighbors for patient connections\n",
    "        \n",
    "        Returns:\n",
    "            edge_index: tensor of shape (2, num_edges) representing graph edges\n",
    "        \"\"\"\n",
    "\n",
    "        batch_size, seq_len, _ = batch.shape\n",
    "        core_size = core.shape[0]\n",
    "        total_patients = batch_size + core_size\n",
    "        batch_size = batch.shape[0]\n",
    "\n",
    "        all_patients = torch.cat([batch, core], dim=0)\n",
    "        all_padding_mask = torch.cat([padding_mask_batch, padding_mask_core], dim=0)\n",
    "        \n",
    "        node_to_neighbors = {i: set() for i in range(total_patients * seq_len)}\n",
    "\n",
    "        edges = []\n",
    "           \n",
    "        for t in range(seq_len):\n",
    "            valid_patients = all_padding_mask[:, t] > 0\n",
    "            valid_indices = torch.where(valid_patients)[0] \n",
    "\n",
    "            core_patients = all_padding_mask[batch_size:, t] > 0\n",
    "            core_indices = torch.where(core_patients)[0] + batch_size\n",
    "\n",
    "            if len(valid_indices) > 1:\n",
    "                features_t = all_patients[valid_indices, t, :]\n",
    "                features_t_to = all_patients[core_indices, t, :]\n",
    "\n",
    "                distances = torch.cdist(features_t, features_t_to, p=2)\n",
    "                \n",
    "                for i, patient_idx in enumerate(valid_indices):\n",
    "                    num_neighbors = min(k, len(core_indices))\n",
    "                    _, nearest_indices = torch.topk(distances[i], num_neighbors, largest=False)\n",
    "                    \n",
    "                    for j in nearest_indices:\n",
    "                        neighbor_idx = core_indices[j]\n",
    "                        node_curr = patient_idx * seq_len + t\n",
    "                        node_neighbor = neighbor_idx * seq_len + t\n",
    "\n",
    "                        edges.append([node_neighbor, node_curr])\n",
    "                        \n",
    "                        node_to_neighbors[node_curr.item()].add(node_neighbor.item())\n",
    "        \n",
    "        result = [list(node_to_neighbors[i]) for i in range(total_patients * seq_len)]\n",
    "        return result\n",
    "\n",
    "# dataset = PatientDataset(core=padd_tensor_core, X=padded_tensor_train, y=labels_train, padding_mask=padding_mask_train, padding_mask_core=padding_mask_core, k=5)\n",
    "# dataset.cal_graphs()"
   ]
  },
  {
   "cell_type": "code",
   "execution_count": 66,
   "metadata": {},
   "outputs": [],
   "source": [
    "from sklearn.metrics import average_precision_score, roc_auc_score\n",
    "\n",
    "\n",
    "DEVICE = torch.device('cuda' if torch.cuda.is_available() else 'cpu')\n",
    "#DEVICE = torch.device('cpu')  # For testing purposes, use CPU\n",
    "\n",
    "\n",
    "class GraphGRUMortalityModel(nn.Module):\n",
    "    def __init__(self, input_dim, hidden_dim, n1_gat_layers, n2_gru_layers, X_core, core_padding_mask,\n",
    "                 num_heads=4, dropout=0.1, seq_len=18, k=5, notes_embedding_dim = 768, \n",
    "                 bios_embedding_dim = 128, bio_num_embeddings = 1000,\n",
    "                 gnn_flag=True):\n",
    "        \"\"\"\n",
    "        Mortality prediction model with Graph Attention + GRU layers\n",
    "        \n",
    "        Args:\n",
    "            input_dim: Input feature dimension\n",
    "            hidden_dim: Hidden dimension for GAT and GRU layers\n",
    "            n1_gat_layers: Number of Graph Attention layers\n",
    "            n2_gru_layers: Number of GRU layers\n",
    "            X_core_dim: Core set dimension (number of core patients)\n",
    "            num_heads: Number of attention heads for GAT\n",
    "            dropout: Dropout rate\n",
    "            seq_len: Sequence length\n",
    "        \"\"\"\n",
    "        super(GraphGRUMortalityModel, self).__init__()\n",
    "        \n",
    "        self.input_dim = input_dim\n",
    "        self.hidden_dim = hidden_dim\n",
    "        self.n1_gat_layers = n1_gat_layers\n",
    "        self.n2_gru_layers = n2_gru_layers\n",
    "        self.X_core = X_core.to(DEVICE)\n",
    "        self.core_padding_mask = core_padding_mask.to(DEVICE)\n",
    "        self.seq_len = seq_len\n",
    "        self.num_heads = num_heads\n",
    "        self.gnn_flag = gnn_flag\n",
    "        \n",
    "        self.notes_layer = nn.Linear(notes_embedding_dim, hidden_dim).to(DEVICE)\n",
    "\n",
    "        self.bios_embedding_bag = nn.EmbeddingBag(num_embeddings=bio_num_embeddings, embedding_dim=bios_embedding_dim, mode='mean').to(DEVICE)\n",
    "        self.bios_embedding_bag.weight.requires_grad = True\n",
    "        self.bios_layer = nn.Linear(bios_embedding_dim, hidden_dim).to(DEVICE)\n",
    "\n",
    "        self.gat_layers = nn.ModuleList().to(DEVICE)\n",
    "        \n",
    "        self.gat_layers.append(\n",
    "            GATv2Conv(input_dim, hidden_dim // num_heads, heads=num_heads, dropout=dropout, concat=True)\n",
    "        )\n",
    "        \n",
    "        for _ in range(n1_gat_layers - 1):\n",
    "            self.gat_layers.append(\n",
    "                GATv2Conv(hidden_dim, hidden_dim // num_heads, heads=num_heads, dropout=dropout, concat=True)\n",
    "            )\n",
    "        \n",
    "        if self.gnn_flag:\n",
    "            self.gru = nn.GRU(hidden_dim, hidden_dim, n2_gru_layers, batch_first=True, dropout=dropout)\n",
    "        else:\n",
    "            self.gru = nn.GRU(input_dim, hidden_dim, n2_gru_layers, batch_first=True, dropout=dropout)\n",
    "        \n",
    "        self.classifier1 = nn.Sequential(\n",
    "            nn.Linear(5 * hidden_dim, 2 * hidden_dim),\n",
    "            nn.ReLU(),\n",
    "            nn.Dropout(dropout),\n",
    "            nn.Linear(2 * hidden_dim, hidden_dim),\n",
    "            nn.ReLU(),\n",
    "            nn.Dropout(dropout),\n",
    "            nn.Linear(hidden_dim, hidden_dim // 2),\n",
    "            nn.ReLU(),\n",
    "            nn.Dropout(dropout),\n",
    "            nn.Linear(hidden_dim // 2, 1)\n",
    "        )\n",
    "\n",
    "        self.classifier2 = nn.Sequential(\n",
    "            nn.Linear(5 * hidden_dim, 2 * hidden_dim),\n",
    "            nn.ReLU(),\n",
    "            nn.Dropout(dropout),\n",
    "            nn.Linear(2 * hidden_dim, hidden_dim),\n",
    "            nn.ReLU(),\n",
    "            nn.Dropout(dropout),\n",
    "            nn.Linear(hidden_dim, hidden_dim // 2),\n",
    "            nn.ReLU(),\n",
    "            nn.Dropout(dropout),\n",
    "            nn.Linear(hidden_dim // 2, 1)\n",
    "        )\n",
    "\n",
    "        self.classifier3 = nn.Sequential(\n",
    "            nn.Linear(5 * hidden_dim, 2 * hidden_dim),\n",
    "            nn.ReLU(),\n",
    "            nn.Dropout(dropout),\n",
    "            nn.Linear(2 * hidden_dim, hidden_dim),\n",
    "            nn.ReLU(),\n",
    "            nn.Dropout(dropout),\n",
    "            nn.Linear(hidden_dim, hidden_dim // 2),\n",
    "            nn.ReLU(),\n",
    "            nn.Dropout(dropout),\n",
    "            nn.Linear(hidden_dim // 2, 1)\n",
    "        )\n",
    "        \n",
    "        self.dropout = nn.Dropout(dropout).to(DEVICE)\n",
    "        self.k = k\n",
    "\n",
    "        self.best_model = None\n",
    "\n",
    "        # initialize weights\n",
    "        for p in self.parameters():\n",
    "          try:\n",
    "              if p.requires_grad:\n",
    "                nn.init.xavier_uniform_(p) #, -0.15, 0.15)\n",
    "          except ValueError:\n",
    "              pass\n",
    "\n",
    "        \n",
    "    def forward(self, x ,padding_mask, edge_index, notes, bios):\n",
    "        batch_size = x.size(0)\n",
    "        \n",
    "        if self.gnn_flag:\n",
    "            all_patients = torch.cat([x, self.X_core], dim=0)  # (batch_size + X_core_dim, seq_len, input_dim)\n",
    "            total_patients = batch_size + self.X_core.shape[0]\n",
    "            \n",
    "            # Reshape for graph processing: (total_patients * seq_len, input_dim)\n",
    "            graph_input = all_patients.view(total_patients * self.seq_len, -1)\n",
    "            # Apply GAT layers\n",
    "            for gat_layer in self.gat_layers:\n",
    "                graph_input = F.relu(gat_layer(graph_input, edge_index))\n",
    "            \n",
    "            # Reshape back to sequence format: (total_patients, seq_len, hidden_dim)\n",
    "            graph_output = graph_input.view(total_patients, self.seq_len, -1)\n",
    "\n",
    "            # Extract only batch patients (exclude core)\n",
    "        \n",
    "            batch_output = graph_output[:batch_size]  # (batch_size, seq_len, hidden_dim)\n",
    "        \n",
    "        else:\n",
    "            batch_output = x\n",
    "        # Apply GRU layers\n",
    "        # Pack sequences for efficient processing\n",
    "        # lengths from mask (True = pad) → count valid steps\n",
    "        lengths = (padding_mask.to(bool)).sum(dim=1)                       # (batch,)\n",
    "        lengths = lengths.clamp(min=1).cpu()\n",
    "\n",
    "        mask_index = padding_mask.sum(dim=1).long() - 1  # Get the last valid index for each sequence\n",
    "        mask_expanded = padding_mask.unsqueeze(-1)    \n",
    "        gru_output, _ = self.gru(batch_output)\n",
    "        out = torch.cat([\n",
    "            gru_output[torch.arange(gru_output.size(0)), mask_index, :],\n",
    "            (gru_output * mask_expanded).sum(dim=1) / mask_expanded.sum(dim=1),\n",
    "            (gru_output * mask_expanded).max(dim=1)[0]\n",
    "        ], dim=-1) \n",
    "        notes = F.relu(self.notes_layer(notes))\n",
    "        \n",
    "        indices_list = [row.nonzero(as_tuple=True)[0] for row in bios]\n",
    "        indices = torch.cat(indices_list).to(torch.long).to(DEVICE)\n",
    "        # offsets = where each sample starts\n",
    "        lengths = [len(i) for i in indices_list]\n",
    "        offsets = torch.tensor([0] + torch.cumsum(torch.tensor(lengths[:-1]), dim=0).tolist(), dtype=torch.long).to(DEVICE)\n",
    "        bios_embeddings = self.bios_embedding_bag(indices, offsets)\n",
    "        bios = F.relu(self.bios_layer(bios_embeddings))\n",
    "\n",
    "        X_concat = torch.cat([out, notes, bios], dim=-1)  # (batch_size, seq_len, 2*hidden_dim)\n",
    "        preds1 = self.classifier1(X_concat)  # (batch_size, 1)\n",
    "        preds2 = self.classifier2(X_concat)\n",
    "        preds3 = self.classifier3(X_concat)\n",
    "        predictions = torch.concat([preds1, preds2, preds3], dim=1)\n",
    "        return predictions\n",
    "    \n",
    "    \n",
    "    def masked_bce_loss(self, logits, targets, mask, pos_weight=None):\n",
    "        T = min(logits.shape[1], targets.shape[1], mask.shape[1])\n",
    "        logits, targets, mask = logits[:, :T], targets[:, :T], mask[:, :T]\n",
    "        loss = nn.BCEWithLogitsLoss(reduction='none', pos_weight=pos_weight)(logits, targets)\n",
    "        return (loss * mask).sum() / mask.sum()\n",
    "    \n",
    "\n",
    "    def train_all(self, dataloaders, datasets, epochs: int = 10, learning_rate: float = 1e-3, pos_lambda : float = 1):\n",
    "        self.train()\n",
    "        optim = torch.optim.Adam(self.parameters(), lr=learning_rate)\n",
    "        best_validation_accuracy = - float('inf')\n",
    "        losses = []\n",
    "        for i in range(datasets['train'].y.shape[1]):\n",
    "            targets = datasets['train'].y[:,i] # Get the max target for each patien\n",
    "            pos_weight = (targets == 0).sum() / (targets == 1).sum()  # Adjust pos_weight as needed\n",
    "            losses.append(nn.BCEWithLogitsLoss(reduction='mean', pos_weight=pos_weight))\n",
    "            print(f'Pos weight {i}: {pos_weight:.4f}')\n",
    "\n",
    "\n",
    "        for epoch in range(epochs):\n",
    "            print(f'Starting epoch {epoch + 1}/{epochs}')\n",
    "            total = 0\n",
    "            for x, y, padding_mask, idx, notes, bios in tqdm(dataloaders['train']):\n",
    "                optim.zero_grad()\n",
    "\n",
    "                x, padding_mask, y, notes, bios = x.to(DEVICE), padding_mask.to(DEVICE), y.to(DEVICE), notes.to(DEVICE), bios.to(DEVICE)\n",
    "                edge_index = datasets['train'].get_edge_index(x, padding_mask, idx).to(DEVICE)\n",
    "                predictions = self.forward(x, padding_mask, edge_index, notes, bios)\n",
    "                loss = losses[0](predictions[:, 0], y[:, 0]) + \\\n",
    "                       losses[1](predictions[:, 1], y[:, 1]) + \\\n",
    "                       losses[2](predictions[:, 2], y[:, 2])\n",
    "                #loss = F.binary_cross_entropy_with_logits(predictions.view(-1), y.view(-1))\n",
    "                loss.backward()\n",
    "                optim.step()\n",
    "                \n",
    "                total += loss.item()\n",
    "            avg_loss = total / len(dataloaders['train'])\n",
    "            print(f'Epoch {epoch + 1}/{epochs}, Loss: {avg_loss:.4f}')\n",
    "            validation_accuracy = self.validate(dataloaders['val'], datasets['val'])\n",
    "            # 'mort_30day', 'prolonged_stay', 'readmission_30day'\n",
    "            print(f'Validation Accuracy mort_30day: AUC - {validation_accuracy[0]:.4f} | AP - {validation_accuracy[1]:.4f}')\n",
    "            print(f'prolonged_stay: AUC - {validation_accuracy[2]:.4f} | AP - {validation_accuracy[3]:.4f}')\n",
    "            print(f'readmission_30day: AUC - {validation_accuracy[4]:.4f} | AP - {validation_accuracy[5]:.4f}')\n",
    "            if validation_accuracy[1] > best_validation_accuracy:\n",
    "                best_validation_accuracy = validation_accuracy[1]\n",
    "                self.best_model = self.state_dict()\n",
    "                print(\"Best model updated\")\n",
    "        self.load_state_dict(self.best_model)\n",
    "\n",
    "    def validate(self, dataloader, dataset):\n",
    "        self.eval()\n",
    "        correct = 0\n",
    "        total = 0\n",
    "        with torch.no_grad():\n",
    "            all_true_labels = {i: [] for i in range(3)}\n",
    "            all_predicted_labels = {i: [] for i in range(3)}\n",
    "            for x, y, padding_mask, idx, notes, bios in tqdm(dataloader):\n",
    "                x, padding_mask, y, notes, bios = x.to(DEVICE), padding_mask.to(DEVICE), y.to(DEVICE), notes.to(DEVICE), bios.to(DEVICE)\n",
    "                # edge_index = dataset.build_knn_graph(x, self.X_core, padding_mask, self.core_padding_mask, k=self.k).to(DEVICE)\n",
    "                edge_index = dataset.get_edge_index(x, padding_mask, idx).to(DEVICE)\n",
    "                predictions = self.forward(x, padding_mask, edge_index, notes, bios)\n",
    "                for i in range(3):\n",
    "                    all_true_labels[i].extend(y[:, i].cpu().numpy())\n",
    "                    all_predicted_labels[i].extend(torch.sigmoid(predictions[:, i]).cpu().numpy().flatten())\n",
    "                # all_true_labels.extend(y.cpu().numpy())\n",
    "                # all_predicted_labels.extend(torch.sigmoid(predictions).cpu().numpy().flatten())\n",
    "                predicted_labels = (torch.sigmoid(predictions[:,0]) > 0.5).float()\n",
    "                correct += (predicted_labels == y[:,0]).sum().item()\n",
    "                total += y[:,0].shape[0]\n",
    "        accuracy = correct / total if total > 0 else 0\n",
    "        self.train()\n",
    "        return roc_auc_score(all_true_labels[0], all_predicted_labels[0]), average_precision_score(all_true_labels[0], all_predicted_labels[0]), \\\n",
    "                roc_auc_score(all_true_labels[1], all_predicted_labels[1]), average_precision_score(all_true_labels[1], all_predicted_labels[1]), \\\n",
    "                roc_auc_score(all_true_labels[2], all_predicted_labels[2]), average_precision_score(all_true_labels[2], all_predicted_labels[2])\n",
    "\n",
    "\n",
    "    \n"
   ]
  },
  {
   "cell_type": "code",
   "execution_count": 62,
   "metadata": {},
   "outputs": [],
   "source": [
    "batch_size = 256\n",
    "hidden_dim = 64\n",
    "k = 7\n",
    "\n",
    "padded_tensor_train, padding_mask_train = generate_series_data(X_train, group_col=\"subject_id\", maxlen=18)\n",
    "padded_tensor_val, padding_mask_val = generate_series_data(X_val, group_col=\"subject_id\", maxlen=18)\n",
    "padded_tensor_test, padding_mask_test = generate_series_data(X_test, group_col=\"subject_id\", maxlen=18)\n",
    "padd_tensor_core, padding_mask_core = generate_series_data(X_core, group_col=\"subject_id\", maxlen=18)\n",
    "\n",
    "datasets = {x: PatientDataset(d, y, core=padd_tensor_core, padding_mask=m, padding_mask_core=padding_mask_core, k=k ,notes=n, bios=b) for x, d, y, m, n, b in\n",
    "        zip(['train', 'val', 'test'], [padded_tensor_train, padded_tensor_val, padded_tensor_test], \n",
    "            [train_labels, val_labels, test_labels], \n",
    "            [padding_mask_train, padding_mask_val, padding_mask_test],\n",
    "            [torch.stack(notes_df_train.embeddings.values.tolist()), \n",
    "             torch.stack(notes_df_val.embeddings.values.tolist()), \n",
    "             torch.stack(notes_df_test.embeddings.values.tolist())],\n",
    "             [bios_train.values, bios_val.values, bios_test.values])}\n",
    "dataloaders = {x: DataLoader(datasets[x], batch_size=batch_size, shuffle=True) for x in ['train', 'val', 'test']}\n",
    "\n",
    "\n"
   ]
  },
  {
   "cell_type": "code",
   "execution_count": 67,
   "metadata": {},
   "outputs": [
    {
     "name": "stderr",
     "output_type": "stream",
     "text": [
      "/home/bnet/kupershmidt/anaconda3/envs/spider/lib/python3.10/site-packages/torch/nn/modules/rnn.py:123: UserWarning: dropout option adds dropout after all but last recurrent layer, so non-zero dropout expects num_layers greater than 1, but got dropout=0.1 and num_layers=1\n",
      "  warnings.warn(\n"
     ]
    },
    {
     "name": "stdout",
     "output_type": "stream",
     "text": [
      "Pos weight 0: 6.8976\n",
      "Pos weight 1: 1.1203\n",
      "Pos weight 2: 21.9756\n",
      "Starting epoch 1/15\n"
     ]
    },
    {
     "name": "stderr",
     "output_type": "stream",
     "text": [
      "100%|██████████| 78/78 [00:46<00:00,  1.66it/s]\n"
     ]
    },
    {
     "name": "stdout",
     "output_type": "stream",
     "text": [
      "Epoch 1/15, Loss: 3.1464\n"
     ]
    },
    {
     "name": "stderr",
     "output_type": "stream",
     "text": [
      "100%|██████████| 10/10 [00:05<00:00,  1.74it/s]\n"
     ]
    },
    {
     "name": "stdout",
     "output_type": "stream",
     "text": [
      "Validation Accuracy mort_30day: AUC - 0.8033 | AP - 0.3666\n",
      "prolonged_stay: AUC - 0.6586 | AP - 0.5978\n",
      "readmission_30day: AUC - 0.5744 | AP - 0.0516\n",
      "Best model updated\n",
      "Starting epoch 2/15\n"
     ]
    },
    {
     "name": "stderr",
     "output_type": "stream",
     "text": [
      "100%|██████████| 78/78 [00:46<00:00,  1.67it/s]\n"
     ]
    },
    {
     "name": "stdout",
     "output_type": "stream",
     "text": [
      "Epoch 2/15, Loss: 2.9294\n"
     ]
    },
    {
     "name": "stderr",
     "output_type": "stream",
     "text": [
      "100%|██████████| 10/10 [00:05<00:00,  1.77it/s]\n"
     ]
    },
    {
     "name": "stdout",
     "output_type": "stream",
     "text": [
      "Validation Accuracy mort_30day: AUC - 0.8132 | AP - 0.3801\n",
      "prolonged_stay: AUC - 0.6790 | AP - 0.6259\n",
      "readmission_30day: AUC - 0.5873 | AP - 0.0507\n",
      "Best model updated\n",
      "Starting epoch 3/15\n"
     ]
    },
    {
     "name": "stderr",
     "output_type": "stream",
     "text": [
      "100%|██████████| 78/78 [00:47<00:00,  1.64it/s]\n"
     ]
    },
    {
     "name": "stdout",
     "output_type": "stream",
     "text": [
      "Epoch 3/15, Loss: 2.8442\n"
     ]
    },
    {
     "name": "stderr",
     "output_type": "stream",
     "text": [
      "100%|██████████| 10/10 [00:05<00:00,  1.77it/s]\n"
     ]
    },
    {
     "name": "stdout",
     "output_type": "stream",
     "text": [
      "Validation Accuracy mort_30day: AUC - 0.8172 | AP - 0.4058\n",
      "prolonged_stay: AUC - 0.7014 | AP - 0.6516\n",
      "readmission_30day: AUC - 0.6022 | AP - 0.0574\n",
      "Best model updated\n",
      "Starting epoch 4/15\n"
     ]
    },
    {
     "name": "stderr",
     "output_type": "stream",
     "text": [
      "100%|██████████| 78/78 [00:47<00:00,  1.66it/s]\n"
     ]
    },
    {
     "name": "stdout",
     "output_type": "stream",
     "text": [
      "Epoch 4/15, Loss: 2.7833\n"
     ]
    },
    {
     "name": "stderr",
     "output_type": "stream",
     "text": [
      "100%|██████████| 10/10 [00:06<00:00,  1.59it/s]\n"
     ]
    },
    {
     "name": "stdout",
     "output_type": "stream",
     "text": [
      "Validation Accuracy mort_30day: AUC - 0.8120 | AP - 0.3968\n",
      "prolonged_stay: AUC - 0.7222 | AP - 0.6690\n",
      "readmission_30day: AUC - 0.6104 | AP - 0.0573\n",
      "Starting epoch 5/15\n"
     ]
    },
    {
     "name": "stderr",
     "output_type": "stream",
     "text": [
      "100%|██████████| 78/78 [00:47<00:00,  1.63it/s]\n"
     ]
    },
    {
     "name": "stdout",
     "output_type": "stream",
     "text": [
      "Epoch 5/15, Loss: 2.7385\n"
     ]
    },
    {
     "name": "stderr",
     "output_type": "stream",
     "text": [
      "100%|██████████| 10/10 [00:06<00:00,  1.53it/s]\n"
     ]
    },
    {
     "name": "stdout",
     "output_type": "stream",
     "text": [
      "Validation Accuracy mort_30day: AUC - 0.8066 | AP - 0.3977\n",
      "prolonged_stay: AUC - 0.7229 | AP - 0.6731\n",
      "readmission_30day: AUC - 0.6131 | AP - 0.0599\n",
      "Starting epoch 6/15\n"
     ]
    },
    {
     "name": "stderr",
     "output_type": "stream",
     "text": [
      "100%|██████████| 78/78 [00:45<00:00,  1.70it/s]\n"
     ]
    },
    {
     "name": "stdout",
     "output_type": "stream",
     "text": [
      "Epoch 6/15, Loss: 2.6829\n"
     ]
    },
    {
     "name": "stderr",
     "output_type": "stream",
     "text": [
      "100%|██████████| 10/10 [00:05<00:00,  1.74it/s]\n"
     ]
    },
    {
     "name": "stdout",
     "output_type": "stream",
     "text": [
      "Validation Accuracy mort_30day: AUC - 0.8109 | AP - 0.4068\n",
      "prolonged_stay: AUC - 0.7289 | AP - 0.6816\n",
      "readmission_30day: AUC - 0.6171 | AP - 0.0617\n",
      "Best model updated\n",
      "Starting epoch 7/15\n"
     ]
    },
    {
     "name": "stderr",
     "output_type": "stream",
     "text": [
      "100%|██████████| 78/78 [00:46<00:00,  1.68it/s]\n"
     ]
    },
    {
     "name": "stdout",
     "output_type": "stream",
     "text": [
      "Epoch 7/15, Loss: 2.6617\n"
     ]
    },
    {
     "name": "stderr",
     "output_type": "stream",
     "text": [
      "100%|██████████| 10/10 [00:05<00:00,  1.81it/s]\n"
     ]
    },
    {
     "name": "stdout",
     "output_type": "stream",
     "text": [
      "Validation Accuracy mort_30day: AUC - 0.8000 | AP - 0.3966\n",
      "prolonged_stay: AUC - 0.7166 | AP - 0.6666\n",
      "readmission_30day: AUC - 0.6212 | AP - 0.0642\n",
      "Starting epoch 8/15\n"
     ]
    },
    {
     "name": "stderr",
     "output_type": "stream",
     "text": [
      "100%|██████████| 78/78 [00:46<00:00,  1.67it/s]\n"
     ]
    },
    {
     "name": "stdout",
     "output_type": "stream",
     "text": [
      "Epoch 8/15, Loss: 2.6205\n"
     ]
    },
    {
     "name": "stderr",
     "output_type": "stream",
     "text": [
      "100%|██████████| 10/10 [00:05<00:00,  1.73it/s]\n"
     ]
    },
    {
     "name": "stdout",
     "output_type": "stream",
     "text": [
      "Validation Accuracy mort_30day: AUC - 0.8110 | AP - 0.3993\n",
      "prolonged_stay: AUC - 0.7276 | AP - 0.6795\n",
      "readmission_30day: AUC - 0.6024 | AP - 0.0623\n",
      "Starting epoch 9/15\n"
     ]
    },
    {
     "name": "stderr",
     "output_type": "stream",
     "text": [
      "100%|██████████| 78/78 [00:47<00:00,  1.65it/s]\n"
     ]
    },
    {
     "name": "stdout",
     "output_type": "stream",
     "text": [
      "Epoch 9/15, Loss: 2.5928\n"
     ]
    },
    {
     "name": "stderr",
     "output_type": "stream",
     "text": [
      "100%|██████████| 10/10 [00:05<00:00,  1.79it/s]\n"
     ]
    },
    {
     "name": "stdout",
     "output_type": "stream",
     "text": [
      "Validation Accuracy mort_30day: AUC - 0.8078 | AP - 0.3963\n",
      "prolonged_stay: AUC - 0.7265 | AP - 0.6779\n",
      "readmission_30day: AUC - 0.6390 | AP - 0.0712\n",
      "Starting epoch 10/15\n"
     ]
    },
    {
     "name": "stderr",
     "output_type": "stream",
     "text": [
      "100%|██████████| 78/78 [00:45<00:00,  1.71it/s]\n"
     ]
    },
    {
     "name": "stdout",
     "output_type": "stream",
     "text": [
      "Epoch 10/15, Loss: 2.5751\n"
     ]
    },
    {
     "name": "stderr",
     "output_type": "stream",
     "text": [
      "100%|██████████| 10/10 [00:05<00:00,  1.81it/s]\n"
     ]
    },
    {
     "name": "stdout",
     "output_type": "stream",
     "text": [
      "Validation Accuracy mort_30day: AUC - 0.8019 | AP - 0.4042\n",
      "prolonged_stay: AUC - 0.7202 | AP - 0.6697\n",
      "readmission_30day: AUC - 0.6271 | AP - 0.0737\n",
      "Starting epoch 11/15\n"
     ]
    },
    {
     "name": "stderr",
     "output_type": "stream",
     "text": [
      "100%|██████████| 78/78 [00:44<00:00,  1.74it/s]\n"
     ]
    },
    {
     "name": "stdout",
     "output_type": "stream",
     "text": [
      "Epoch 11/15, Loss: 2.5274\n"
     ]
    },
    {
     "name": "stderr",
     "output_type": "stream",
     "text": [
      "100%|██████████| 10/10 [00:05<00:00,  1.81it/s]\n"
     ]
    },
    {
     "name": "stdout",
     "output_type": "stream",
     "text": [
      "Validation Accuracy mort_30day: AUC - 0.8003 | AP - 0.4154\n",
      "prolonged_stay: AUC - 0.7142 | AP - 0.6625\n",
      "readmission_30day: AUC - 0.6395 | AP - 0.0801\n",
      "Best model updated\n",
      "Starting epoch 12/15\n"
     ]
    },
    {
     "name": "stderr",
     "output_type": "stream",
     "text": [
      "100%|██████████| 78/78 [00:46<00:00,  1.68it/s]\n"
     ]
    },
    {
     "name": "stdout",
     "output_type": "stream",
     "text": [
      "Epoch 12/15, Loss: 2.4972\n"
     ]
    },
    {
     "name": "stderr",
     "output_type": "stream",
     "text": [
      "100%|██████████| 10/10 [00:05<00:00,  1.75it/s]\n"
     ]
    },
    {
     "name": "stdout",
     "output_type": "stream",
     "text": [
      "Validation Accuracy mort_30day: AUC - 0.7965 | AP - 0.4082\n",
      "prolonged_stay: AUC - 0.7240 | AP - 0.6759\n",
      "readmission_30day: AUC - 0.6319 | AP - 0.0742\n",
      "Starting epoch 13/15\n"
     ]
    },
    {
     "name": "stderr",
     "output_type": "stream",
     "text": [
      "100%|██████████| 78/78 [00:46<00:00,  1.68it/s]\n"
     ]
    },
    {
     "name": "stdout",
     "output_type": "stream",
     "text": [
      "Epoch 13/15, Loss: 2.4619\n"
     ]
    },
    {
     "name": "stderr",
     "output_type": "stream",
     "text": [
      "100%|██████████| 10/10 [00:05<00:00,  1.80it/s]\n"
     ]
    },
    {
     "name": "stdout",
     "output_type": "stream",
     "text": [
      "Validation Accuracy mort_30day: AUC - 0.7994 | AP - 0.4028\n",
      "prolonged_stay: AUC - 0.7202 | AP - 0.6744\n",
      "readmission_30day: AUC - 0.6389 | AP - 0.0777\n",
      "Starting epoch 14/15\n"
     ]
    },
    {
     "name": "stderr",
     "output_type": "stream",
     "text": [
      "100%|██████████| 78/78 [00:45<00:00,  1.70it/s]\n"
     ]
    },
    {
     "name": "stdout",
     "output_type": "stream",
     "text": [
      "Epoch 14/15, Loss: 2.4072\n"
     ]
    },
    {
     "name": "stderr",
     "output_type": "stream",
     "text": [
      "100%|██████████| 10/10 [00:05<00:00,  1.80it/s]\n"
     ]
    },
    {
     "name": "stdout",
     "output_type": "stream",
     "text": [
      "Validation Accuracy mort_30day: AUC - 0.8003 | AP - 0.3941\n",
      "prolonged_stay: AUC - 0.7263 | AP - 0.6772\n",
      "readmission_30day: AUC - 0.6330 | AP - 0.0718\n",
      "Starting epoch 15/15\n"
     ]
    },
    {
     "name": "stderr",
     "output_type": "stream",
     "text": [
      "100%|██████████| 78/78 [00:47<00:00,  1.66it/s]\n"
     ]
    },
    {
     "name": "stdout",
     "output_type": "stream",
     "text": [
      "Epoch 15/15, Loss: 2.4107\n"
     ]
    },
    {
     "name": "stderr",
     "output_type": "stream",
     "text": [
      "100%|██████████| 10/10 [00:05<00:00,  1.73it/s]\n"
     ]
    },
    {
     "name": "stdout",
     "output_type": "stream",
     "text": [
      "Validation Accuracy mort_30day: AUC - 0.7971 | AP - 0.3946\n",
      "prolonged_stay: AUC - 0.7119 | AP - 0.6703\n",
      "readmission_30day: AUC - 0.6299 | AP - 0.0776\n",
      "Training completed. Validating on test set...\n"
     ]
    },
    {
     "name": "stderr",
     "output_type": "stream",
     "text": [
      "100%|██████████| 10/10 [00:05<00:00,  1.72it/s]"
     ]
    },
    {
     "name": "stdout",
     "output_type": "stream",
     "text": [
      "Test Accuracy in model: AUC1: 0.8553, AP1: 0.5122, AUC2: 0.8022, AP2: 0.7665, AUC3: 0.6503, AP3: 0.0833\n"
     ]
    },
    {
     "name": "stderr",
     "output_type": "stream",
     "text": [
      "\n"
     ]
    }
   ],
   "source": [
    "model = GraphGRUMortalityModel(input_dim=padded_tensor_train.shape[2], hidden_dim=hidden_dim, n1_gat_layers=1, n2_gru_layers=1, \n",
    "                               X_core=padd_tensor_core, core_padding_mask=padding_mask_core, \n",
    "                               num_heads=4, dropout=0.1, seq_len=padded_tensor_train.shape[1], k=k, \n",
    "                                notes_embedding_dim=768, bios_embedding_dim=64, bio_num_embeddings=bios_train.values.shape[1],\n",
    "                               gnn_flag=True).to(DEVICE)\n",
    "\n",
    "model.train_all(dataloaders, datasets, epochs=15, learning_rate=1e-3)\n",
    "print(\"Training completed. Validating on test set...\")\n",
    "\n",
    "auc1, pr1, auc2, pr2, auc3, pr3 =  model.validate(dataloaders['test'], datasets['test'])\n",
    "print(f'Test Accuracy in model: AUC1: {auc1:.4f}, AP1: {pr1:.4f}, AUC2: {auc2:.4f}, AP2: {pr2:.4f}, AUC3: {auc3:.4f}, AP3: {pr3:.4f}')"
   ]
  },
  {
   "cell_type": "code",
   "execution_count": null,
   "metadata": {},
   "outputs": [
    {
     "name": "stderr",
     "output_type": "stream",
     "text": [
      "100%|██████████| 10/10 [00:04<00:00,  2.13it/s]"
     ]
    },
    {
     "name": "stdout",
     "output_type": "stream",
     "text": [
      "Test Accuracy in model: 0.7863, AUC: 0.8395, AP: 0.4951\n"
     ]
    },
    {
     "name": "stderr",
     "output_type": "stream",
     "text": [
      "100%|██████████| 77/77 [00:50<00:00,  1.54it/s]\n"
     ]
    },
    {
     "name": "stdout",
     "output_type": "stream",
     "text": [
      "Epoch 1/15, Loss: 1.5944\n"
     ]
    },
    {
     "name": "stderr",
     "output_type": "stream",
     "text": [
      "100%|██████████| 10/10 [00:06<00:00,  1.62it/s]\n"
     ]
    },
    {
     "name": "stdout",
     "output_type": "stream",
     "text": [
      "Validation Accuracy: 0.3713 | AUC: 0.7740 | AP: 0.1687\n",
      "Best model updated\n",
      "Starting epoch 2/15\n"
     ]
    },
    {
     "name": "stderr",
     "output_type": "stream",
     "text": [
      "100%|██████████| 77/77 [00:49<00:00,  1.56it/s]\n"
     ]
    },
    {
     "name": "stdout",
     "output_type": "stream",
     "text": [
      "Epoch 2/15, Loss: 1.4701\n"
     ]
    },
    {
     "name": "stderr",
     "output_type": "stream",
     "text": [
      "100%|██████████| 10/10 [00:06<00:00,  1.45it/s]\n"
     ]
    },
    {
     "name": "stdout",
     "output_type": "stream",
     "text": [
      "Validation Accuracy: 0.5278 | AUC: 0.7918 | AP: 0.1959\n",
      "Best model updated\n",
      "Starting epoch 3/15\n"
     ]
    },
    {
     "name": "stderr",
     "output_type": "stream",
     "text": [
      "100%|██████████| 77/77 [00:48<00:00,  1.57it/s]\n"
     ]
    },
    {
     "name": "stdout",
     "output_type": "stream",
     "text": [
      "Epoch 3/15, Loss: 1.4253\n"
     ]
    },
    {
     "name": "stderr",
     "output_type": "stream",
     "text": [
      "100%|██████████| 10/10 [00:06<00:00,  1.49it/s]\n"
     ]
    },
    {
     "name": "stdout",
     "output_type": "stream",
     "text": [
      "Validation Accuracy: 0.5637 | AUC: 0.8071 | AP: 0.2007\n",
      "Best model updated\n",
      "Starting epoch 4/15\n"
     ]
    },
    {
     "name": "stderr",
     "output_type": "stream",
     "text": [
      "100%|██████████| 77/77 [00:48<00:00,  1.58it/s]\n"
     ]
    },
    {
     "name": "stdout",
     "output_type": "stream",
     "text": [
      "Epoch 4/15, Loss: 1.4124\n"
     ]
    },
    {
     "name": "stderr",
     "output_type": "stream",
     "text": [
      "100%|██████████| 10/10 [00:06<00:00,  1.49it/s]\n"
     ]
    },
    {
     "name": "stdout",
     "output_type": "stream",
     "text": [
      "Validation Accuracy: 0.6510 | AUC: 0.8170 | AP: 0.2071\n",
      "Best model updated\n",
      "Starting epoch 5/15\n"
     ]
    },
    {
     "name": "stderr",
     "output_type": "stream",
     "text": [
      "100%|██████████| 77/77 [00:48<00:00,  1.58it/s]\n"
     ]
    },
    {
     "name": "stdout",
     "output_type": "stream",
     "text": [
      "Epoch 5/15, Loss: 1.3996\n"
     ]
    },
    {
     "name": "stderr",
     "output_type": "stream",
     "text": [
      "100%|██████████| 10/10 [00:06<00:00,  1.63it/s]\n"
     ]
    },
    {
     "name": "stdout",
     "output_type": "stream",
     "text": [
      "Validation Accuracy: 0.7417 | AUC: 0.7936 | AP: 0.2050\n",
      "Starting epoch 6/15\n"
     ]
    },
    {
     "name": "stderr",
     "output_type": "stream",
     "text": [
      "100%|██████████| 77/77 [00:49<00:00,  1.55it/s]\n"
     ]
    },
    {
     "name": "stdout",
     "output_type": "stream",
     "text": [
      "Epoch 6/15, Loss: 1.3517\n"
     ]
    },
    {
     "name": "stderr",
     "output_type": "stream",
     "text": [
      "100%|██████████| 10/10 [00:06<00:00,  1.63it/s]\n"
     ]
    },
    {
     "name": "stdout",
     "output_type": "stream",
     "text": [
      "Validation Accuracy: 0.7804 | AUC: 0.7955 | AP: 0.2005\n",
      "Starting epoch 7/15\n"
     ]
    },
    {
     "name": "stderr",
     "output_type": "stream",
     "text": [
      "100%|██████████| 77/77 [00:49<00:00,  1.55it/s]\n"
     ]
    },
    {
     "name": "stdout",
     "output_type": "stream",
     "text": [
      "Epoch 7/15, Loss: 1.3370\n"
     ]
    },
    {
     "name": "stderr",
     "output_type": "stream",
     "text": [
      "100%|██████████| 10/10 [00:06<00:00,  1.63it/s]\n"
     ]
    },
    {
     "name": "stdout",
     "output_type": "stream",
     "text": [
      "Validation Accuracy: 0.7522 | AUC: 0.8047 | AP: 0.2153\n",
      "Best model updated\n",
      "Starting epoch 8/15\n"
     ]
    },
    {
     "name": "stderr",
     "output_type": "stream",
     "text": [
      "100%|██████████| 77/77 [00:49<00:00,  1.55it/s]\n"
     ]
    },
    {
     "name": "stdout",
     "output_type": "stream",
     "text": [
      "Epoch 8/15, Loss: 1.3255\n"
     ]
    },
    {
     "name": "stderr",
     "output_type": "stream",
     "text": [
      "100%|██████████| 10/10 [00:06<00:00,  1.63it/s]\n"
     ]
    },
    {
     "name": "stdout",
     "output_type": "stream",
     "text": [
      "Validation Accuracy: 0.5780 | AUC: 0.8325 | AP: 0.2263\n",
      "Best model updated\n",
      "Starting epoch 9/15\n"
     ]
    },
    {
     "name": "stderr",
     "output_type": "stream",
     "text": [
      "100%|██████████| 77/77 [00:49<00:00,  1.55it/s]\n"
     ]
    },
    {
     "name": "stdout",
     "output_type": "stream",
     "text": [
      "Epoch 9/15, Loss: 1.3074\n"
     ]
    },
    {
     "name": "stderr",
     "output_type": "stream",
     "text": [
      "100%|██████████| 10/10 [00:06<00:00,  1.63it/s]\n"
     ]
    },
    {
     "name": "stdout",
     "output_type": "stream",
     "text": [
      "Validation Accuracy: 0.6640 | AUC: 0.8306 | AP: 0.2243\n",
      "Starting epoch 10/15\n"
     ]
    },
    {
     "name": "stderr",
     "output_type": "stream",
     "text": [
      "100%|██████████| 77/77 [00:49<00:00,  1.55it/s]\n"
     ]
    },
    {
     "name": "stdout",
     "output_type": "stream",
     "text": [
      "Epoch 10/15, Loss: 1.2698\n"
     ]
    },
    {
     "name": "stderr",
     "output_type": "stream",
     "text": [
      "100%|██████████| 10/10 [00:06<00:00,  1.63it/s]\n"
     ]
    },
    {
     "name": "stdout",
     "output_type": "stream",
     "text": [
      "Validation Accuracy: 0.6267 | AUC: 0.8325 | AP: 0.2238\n",
      "Starting epoch 11/15\n"
     ]
    },
    {
     "name": "stderr",
     "output_type": "stream",
     "text": [
      "100%|██████████| 77/77 [00:49<00:00,  1.55it/s]\n"
     ]
    },
    {
     "name": "stdout",
     "output_type": "stream",
     "text": [
      "Epoch 11/15, Loss: 1.2637\n"
     ]
    },
    {
     "name": "stderr",
     "output_type": "stream",
     "text": [
      "100%|██████████| 10/10 [00:06<00:00,  1.63it/s]\n"
     ]
    },
    {
     "name": "stdout",
     "output_type": "stream",
     "text": [
      "Validation Accuracy: 0.7628 | AUC: 0.8211 | AP: 0.2248\n",
      "Starting epoch 12/15\n"
     ]
    },
    {
     "name": "stderr",
     "output_type": "stream",
     "text": [
      "100%|██████████| 77/77 [00:49<00:00,  1.55it/s]\n"
     ]
    },
    {
     "name": "stdout",
     "output_type": "stream",
     "text": [
      "Epoch 12/15, Loss: 1.2288\n"
     ]
    },
    {
     "name": "stderr",
     "output_type": "stream",
     "text": [
      "100%|██████████| 10/10 [00:06<00:00,  1.63it/s]\n"
     ]
    },
    {
     "name": "stdout",
     "output_type": "stream",
     "text": [
      "Validation Accuracy: 0.6178 | AUC: 0.8314 | AP: 0.2235\n",
      "Starting epoch 13/15\n"
     ]
    },
    {
     "name": "stderr",
     "output_type": "stream",
     "text": [
      "100%|██████████| 77/77 [00:49<00:00,  1.55it/s]\n"
     ]
    },
    {
     "name": "stdout",
     "output_type": "stream",
     "text": [
      "Epoch 13/15, Loss: 1.1946\n"
     ]
    },
    {
     "name": "stderr",
     "output_type": "stream",
     "text": [
      "100%|██████████| 10/10 [00:06<00:00,  1.63it/s]\n"
     ]
    },
    {
     "name": "stdout",
     "output_type": "stream",
     "text": [
      "Validation Accuracy: 0.7001 | AUC: 0.8297 | AP: 0.2405\n",
      "Best model updated\n",
      "Starting epoch 14/15\n"
     ]
    },
    {
     "name": "stderr",
     "output_type": "stream",
     "text": [
      "100%|██████████| 77/77 [00:49<00:00,  1.55it/s]\n"
     ]
    },
    {
     "name": "stdout",
     "output_type": "stream",
     "text": [
      "Epoch 14/15, Loss: 1.1705\n"
     ]
    },
    {
     "name": "stderr",
     "output_type": "stream",
     "text": [
      "100%|██████████| 10/10 [00:06<00:00,  1.63it/s]\n"
     ]
    },
    {
     "name": "stdout",
     "output_type": "stream",
     "text": [
      "Validation Accuracy: 0.6207 | AUC: 0.8285 | AP: 0.2405\n",
      "Best model updated\n",
      "Starting epoch 15/15\n"
     ]
    },
    {
     "name": "stderr",
     "output_type": "stream",
     "text": [
      "100%|██████████| 77/77 [00:49<00:00,  1.54it/s]\n"
     ]
    },
    {
     "name": "stdout",
     "output_type": "stream",
     "text": [
      "Epoch 15/15, Loss: 1.1669\n"
     ]
    },
    {
     "name": "stderr",
     "output_type": "stream",
     "text": [
      "100%|██████████| 10/10 [00:06<00:00,  1.63it/s]\n"
     ]
    },
    {
     "name": "stdout",
     "output_type": "stream",
     "text": [
      "Validation Accuracy: 0.5813 | AUC: 0.8371 | AP: 0.2379\n",
      "Training completed. Validating on test set...\n"
     ]
    },
    {
     "name": "stderr",
     "output_type": "stream",
     "text": [
      "100%|██████████| 10/10 [00:06<00:00,  1.62it/s]"
     ]
    },
    {
     "name": "stdout",
     "output_type": "stream",
     "text": [
      "Test Accuracy in BaseLine model: 0.5691, AUC: 0.8350, AP: 0.2529\n"
     ]
    },
    {
     "name": "stderr",
     "output_type": "stream",
     "text": [
      "\n"
     ]
    }
   ],
   "source": [
    "\n",
    "acc, auc, pr =  model.validate(dataloaders['test'], datasets['test'])\n",
    "print(f'Test Accuracy in model: {acc:.4f}, AUC: {auc:.4f}, AP: {pr:.4f}')"
   ]
  },
  {
   "cell_type": "code",
   "execution_count": null,
   "metadata": {},
   "outputs": [
    {
     "name": "stderr",
     "output_type": "stream",
     "text": [
      "[I 2025-08-18 16:49:33,775] A new study created in memory with name: no-name-909f0b03-19ae-42e6-aaf8-4896d952bb34\n",
      "/home/bnet/kupershmidt/anaconda3/envs/spider/lib/python3.10/site-packages/torch/nn/modules/rnn.py:123: UserWarning: dropout option adds dropout after all but last recurrent layer, so non-zero dropout expects num_layers greater than 1, but got dropout=0.2 and num_layers=1\n",
      "  warnings.warn(\n"
     ]
    },
    {
     "name": "stdout",
     "output_type": "stream",
     "text": [
      "Pos weight: 11.4991\n",
      "Starting epoch 1/10\n"
     ]
    },
    {
     "name": "stderr",
     "output_type": "stream",
     "text": [
      " 32%|███▏      | 25/78 [01:23<02:58,  3.36s/it]"
     ]
    }
   ],
   "source": [
    "import optuna\n",
    "import gc\n",
    "import joblib\n",
    "def objective_mlp(trial):\n",
    "    hidden_dim = trial.suggest_int('hidden_dim', 32, 128, step=16)\n",
    "    n1_gat_layers = trial.suggest_int('n1_gat_layers', 1, 5)\n",
    "    n2_gru_layers = trial.suggest_int('n2_gru_layers', 1, 5)\n",
    "    dropout = trial.suggest_float('dropout', 0.1, 0.5, step=0.1)\n",
    "    num_heads = trial.suggest_int('num_heads', 2, 8, step=2)\n",
    "    k = trial.suggest_int('k', 5, 15, step=2)\n",
    "    lr= trial.suggest_float('learning_rate', 1e-4, 1e-2, log=True)\n",
    "\n",
    "    model = GraphGRUMortalityModel(input_dim=padded_tensor_train.shape[2], hidden_dim=hidden_dim, n1_gat_layers=n1_gat_layers,\n",
    "                                   n2_gru_layers=n2_gru_layers, X_core=padd_tensor_core, core_padding_mask=padding_mask_core,\n",
    "                                   num_heads=num_heads, dropout=dropout, seq_len=padded_tensor_train.shape[1], k=k, gnn_flag=True).to(DEVICE)\n",
    "\n",
    "    model.train_all(dataloaders, datasets, epochs=10, learning_rate=lr)\n",
    "    \n",
    "    acc, auc, pr = model.validate(dataloaders['test'], datasets['test'])\n",
    "    \n",
    "    del model \n",
    "    torch.cuda.empty_cache() \n",
    "    gc.collect()\n",
    "    return pr\n",
    "\n",
    "batch_size = 256\n",
    "\n",
    "study = optuna.create_study(direction='maximize')\n",
    "study.optimize(objective_mlp, n_trials=20)  \n",
    "print(\"Best trial:\")\n",
    "print(study.best_trial)\n",
    "print(\"Best hyperparameters:\", study.best_trial.params) \n",
    "joblib.dump(study, 'optuna_study.pkl')\n"
   ]
  },
  {
   "cell_type": "code",
   "execution_count": 27,
   "metadata": {},
   "outputs": [
    {
     "name": "stdout",
     "output_type": "stream",
     "text": [
      "FrozenTrial(number=12, state=TrialState.COMPLETE, values=[0.4732600299259349], datetime_start=datetime.datetime(2025, 8, 21, 1, 10, 11, 209685), datetime_complete=datetime.datetime(2025, 8, 21, 1, 34, 42, 427077), params={'hidden_dim': 96, 'n1_gat_layers': 1, 'n2_gru_layers': 1, 'dropout': 0.1, 'num_heads': 6, 'k': 5, 'learning_rate': 0.002245162564243561}, user_attrs={}, system_attrs={}, intermediate_values={}, distributions={'hidden_dim': IntDistribution(high=128, log=False, low=32, step=16), 'n1_gat_layers': IntDistribution(high=5, log=False, low=1, step=1), 'n2_gru_layers': IntDistribution(high=5, log=False, low=1, step=1), 'dropout': FloatDistribution(high=0.5, log=False, low=0.1, step=0.1), 'num_heads': IntDistribution(high=8, log=False, low=2, step=2), 'k': IntDistribution(high=15, log=False, low=5, step=2), 'learning_rate': FloatDistribution(high=0.01, log=True, low=0.0001, step=None)}, trial_id=12, value=None)\n",
      "Best hyperparameters: {'hidden_dim': 96, 'n1_gat_layers': 1, 'n2_gru_layers': 1, 'dropout': 0.1, 'num_heads': 6, 'k': 5, 'learning_rate': 0.002245162564243561}\n"
     ]
    }
   ],
   "source": [
    "print(study.best_trial)\n",
    "print(\"Best hyperparameters:\", study.best_trial.params) "
   ]
  },
  {
   "cell_type": "code",
   "execution_count": null,
   "metadata": {},
   "outputs": [
    {
     "name": "stderr",
     "output_type": "stream",
     "text": [
      "/home/bnet/kupershmidt/anaconda3/envs/spider/lib/python3.10/site-packages/torch/nn/modules/rnn.py:123: UserWarning: dropout option adds dropout after all but last recurrent layer, so non-zero dropout expects num_layers greater than 1, but got dropout=0.1 and num_layers=1\n",
      "  warnings.warn(\n"
     ]
    },
    {
     "name": "stdout",
     "output_type": "stream",
     "text": [
      "Pos weight: 6.8976\n",
      "Starting epoch 1/15\n"
     ]
    },
    {
     "name": "stderr",
     "output_type": "stream",
     "text": [
      "  0%|          | 0/78 [00:00<?, ?it/s]"
     ]
    },
    {
     "name": "stderr",
     "output_type": "stream",
     "text": [
      "100%|██████████| 78/78 [00:38<00:00,  2.02it/s]\n"
     ]
    },
    {
     "name": "stdout",
     "output_type": "stream",
     "text": [
      "Epoch 1/15, Loss: 1.0871\n"
     ]
    },
    {
     "name": "stderr",
     "output_type": "stream",
     "text": [
      "100%|██████████| 10/10 [00:04<00:00,  2.14it/s]\n"
     ]
    },
    {
     "name": "stdout",
     "output_type": "stream",
     "text": [
      "Validation Accuracy: 0.7996 | AUC: 0.8001 | AP: 0.3765\n",
      "Best model updated\n",
      "Starting epoch 2/15\n"
     ]
    },
    {
     "name": "stderr",
     "output_type": "stream",
     "text": [
      "100%|██████████| 78/78 [00:38<00:00,  2.02it/s]\n"
     ]
    },
    {
     "name": "stdout",
     "output_type": "stream",
     "text": [
      "Epoch 2/15, Loss: 0.9812\n"
     ]
    },
    {
     "name": "stderr",
     "output_type": "stream",
     "text": [
      "100%|██████████| 10/10 [00:05<00:00,  1.86it/s]\n"
     ]
    },
    {
     "name": "stdout",
     "output_type": "stream",
     "text": [
      "Validation Accuracy: 0.7407 | AUC: 0.8194 | AP: 0.4082\n",
      "Best model updated\n",
      "Starting epoch 3/15\n"
     ]
    },
    {
     "name": "stderr",
     "output_type": "stream",
     "text": [
      "100%|██████████| 78/78 [00:39<00:00,  1.98it/s]\n"
     ]
    },
    {
     "name": "stdout",
     "output_type": "stream",
     "text": [
      "Epoch 3/15, Loss: 0.9296\n"
     ]
    },
    {
     "name": "stderr",
     "output_type": "stream",
     "text": [
      "100%|██████████| 10/10 [00:04<00:00,  2.16it/s]\n"
     ]
    },
    {
     "name": "stdout",
     "output_type": "stream",
     "text": [
      "Validation Accuracy: 0.7956 | AUC: 0.8275 | AP: 0.4212\n",
      "Best model updated\n",
      "Starting epoch 4/15\n"
     ]
    },
    {
     "name": "stderr",
     "output_type": "stream",
     "text": [
      "100%|██████████| 78/78 [00:38<00:00,  2.05it/s]\n"
     ]
    },
    {
     "name": "stdout",
     "output_type": "stream",
     "text": [
      "Epoch 4/15, Loss: 0.9071\n"
     ]
    },
    {
     "name": "stderr",
     "output_type": "stream",
     "text": [
      "100%|██████████| 10/10 [00:04<00:00,  2.15it/s]\n"
     ]
    },
    {
     "name": "stdout",
     "output_type": "stream",
     "text": [
      "Validation Accuracy: 0.7060 | AUC: 0.8355 | AP: 0.4343\n",
      "Best model updated\n",
      "Starting epoch 5/15\n"
     ]
    },
    {
     "name": "stderr",
     "output_type": "stream",
     "text": [
      "100%|██████████| 78/78 [00:38<00:00,  2.04it/s]\n"
     ]
    },
    {
     "name": "stdout",
     "output_type": "stream",
     "text": [
      "Epoch 5/15, Loss: 0.8704\n"
     ]
    },
    {
     "name": "stderr",
     "output_type": "stream",
     "text": [
      "100%|██████████| 10/10 [00:04<00:00,  2.14it/s]\n"
     ]
    },
    {
     "name": "stdout",
     "output_type": "stream",
     "text": [
      "Validation Accuracy: 0.8319 | AUC: 0.8412 | AP: 0.4420\n",
      "Best model updated\n",
      "Starting epoch 6/15\n"
     ]
    },
    {
     "name": "stderr",
     "output_type": "stream",
     "text": [
      " 28%|██▊       | 22/78 [00:10<00:27,  2.04it/s]\n"
     ]
    },
    {
     "ename": "KeyboardInterrupt",
     "evalue": "",
     "output_type": "error",
     "traceback": [
      "\u001b[0;31m---------------------------------------------------------------------------\u001b[0m",
      "\u001b[0;31mKeyboardInterrupt\u001b[0m                         Traceback (most recent call last)",
      "Cell \u001b[0;32mIn[112], line 13\u001b[0m\n\u001b[1;32m      6\u001b[0m k \u001b[38;5;241m=\u001b[39m study\u001b[38;5;241m.\u001b[39mbest_trial\u001b[38;5;241m.\u001b[39mparams[\u001b[38;5;124m'\u001b[39m\u001b[38;5;124mk\u001b[39m\u001b[38;5;124m'\u001b[39m]\n\u001b[1;32m      8\u001b[0m model \u001b[38;5;241m=\u001b[39m GraphGRUMortalityModel(input_dim\u001b[38;5;241m=\u001b[39mpadded_tensor_train\u001b[38;5;241m.\u001b[39mshape[\u001b[38;5;241m2\u001b[39m], hidden_dim\u001b[38;5;241m=\u001b[39mhidden_dim, n1_gat_layers\u001b[38;5;241m=\u001b[39mn1_gat_layers,\n\u001b[1;32m      9\u001b[0m                             n2_gru_layers\u001b[38;5;241m=\u001b[39mn2_gru_layers, X_core\u001b[38;5;241m=\u001b[39mpadd_tensor_core, core_padding_mask\u001b[38;5;241m=\u001b[39mpadding_mask_core,\n\u001b[1;32m     10\u001b[0m                             num_heads\u001b[38;5;241m=\u001b[39mnum_heads, dropout\u001b[38;5;241m=\u001b[39mdropout, seq_len\u001b[38;5;241m=\u001b[39mpadded_tensor_train\u001b[38;5;241m.\u001b[39mshape[\u001b[38;5;241m1\u001b[39m], k\u001b[38;5;241m=\u001b[39mk, gnn_flag\u001b[38;5;241m=\u001b[39m\u001b[38;5;28;01mTrue\u001b[39;00m)\u001b[38;5;241m.\u001b[39mto(DEVICE)\n\u001b[0;32m---> 13\u001b[0m \u001b[43mmodel\u001b[49m\u001b[38;5;241;43m.\u001b[39;49m\u001b[43mtrain_all\u001b[49m\u001b[43m(\u001b[49m\u001b[43mdataloaders\u001b[49m\u001b[43m,\u001b[49m\u001b[43m \u001b[49m\u001b[43mdatasets\u001b[49m\u001b[43m,\u001b[49m\u001b[43m \u001b[49m\u001b[43mepochs\u001b[49m\u001b[38;5;241;43m=\u001b[39;49m\u001b[38;5;241;43m15\u001b[39;49m\u001b[43m,\u001b[49m\u001b[43m \u001b[49m\u001b[43mlearning_rate\u001b[49m\u001b[38;5;241;43m=\u001b[39;49m\u001b[38;5;241;43m1e-3\u001b[39;49m\u001b[43m)\u001b[49m\n\u001b[1;32m     14\u001b[0m \u001b[38;5;28mprint\u001b[39m(\u001b[38;5;124m\"\u001b[39m\u001b[38;5;124mTraining completed. Validating on test set...\u001b[39m\u001b[38;5;124m\"\u001b[39m)\n\u001b[1;32m     16\u001b[0m acc, auc, pr \u001b[38;5;241m=\u001b[39m  model\u001b[38;5;241m.\u001b[39mvalidate(dataloaders[\u001b[38;5;124m'\u001b[39m\u001b[38;5;124mtest\u001b[39m\u001b[38;5;124m'\u001b[39m], datasets[\u001b[38;5;124m'\u001b[39m\u001b[38;5;124mtest\u001b[39m\u001b[38;5;124m'\u001b[39m])\n",
      "Cell \u001b[0;32mIn[107], line 163\u001b[0m, in \u001b[0;36mGraphGRUMortalityModel.train_all\u001b[0;34m(self, dataloaders, datasets, epochs, learning_rate, pos_lambda)\u001b[0m\n\u001b[1;32m    160\u001b[0m optim\u001b[38;5;241m.\u001b[39mzero_grad()\n\u001b[1;32m    162\u001b[0m x, padding_mask, y, notes \u001b[38;5;241m=\u001b[39m x\u001b[38;5;241m.\u001b[39mto(DEVICE), padding_mask\u001b[38;5;241m.\u001b[39mto(DEVICE), y\u001b[38;5;241m.\u001b[39mto(DEVICE), notes\u001b[38;5;241m.\u001b[39mto(DEVICE)\n\u001b[0;32m--> 163\u001b[0m edge_index \u001b[38;5;241m=\u001b[39m \u001b[43mdatasets\u001b[49m\u001b[43m[\u001b[49m\u001b[38;5;124;43m'\u001b[39;49m\u001b[38;5;124;43mtrain\u001b[39;49m\u001b[38;5;124;43m'\u001b[39;49m\u001b[43m]\u001b[49m\u001b[38;5;241;43m.\u001b[39;49m\u001b[43mget_edge_index\u001b[49m\u001b[43m(\u001b[49m\u001b[43mx\u001b[49m\u001b[43m,\u001b[49m\u001b[43m \u001b[49m\u001b[43mpadding_mask\u001b[49m\u001b[43m,\u001b[49m\u001b[43m \u001b[49m\u001b[43midx\u001b[49m\u001b[43m)\u001b[49m\u001b[38;5;241m.\u001b[39mto(DEVICE)\n\u001b[1;32m    164\u001b[0m predictions \u001b[38;5;241m=\u001b[39m \u001b[38;5;28mself\u001b[39m\u001b[38;5;241m.\u001b[39mforward(x, padding_mask, edge_index, notes)\n\u001b[1;32m    165\u001b[0m loss \u001b[38;5;241m=\u001b[39m nn\u001b[38;5;241m.\u001b[39mBCEWithLogitsLoss(reduction\u001b[38;5;241m=\u001b[39m\u001b[38;5;124m'\u001b[39m\u001b[38;5;124mmean\u001b[39m\u001b[38;5;124m'\u001b[39m, pos_weight\u001b[38;5;241m=\u001b[39mpos_weight)(predictions, y[:, \u001b[38;5;241m0\u001b[39m])\n",
      "Cell \u001b[0;32mIn[94], line 47\u001b[0m, in \u001b[0;36mPatientDataset.get_edge_index\u001b[0;34m(self, batch, padding_mask_batch, batch_indices)\u001b[0m\n\u001b[1;32m     44\u001b[0m             node_curr \u001b[38;5;241m=\u001b[39m patient_idx \u001b[38;5;241m*\u001b[39m seq_len \u001b[38;5;241m+\u001b[39m t\n\u001b[1;32m     45\u001b[0m             node_next \u001b[38;5;241m=\u001b[39m patient_idx \u001b[38;5;241m*\u001b[39m seq_len \u001b[38;5;241m+\u001b[39m t \u001b[38;5;241m+\u001b[39m \u001b[38;5;241m1\u001b[39m\n\u001b[0;32m---> 47\u001b[0m             \u001b[43medges\u001b[49m\u001b[38;5;241;43m.\u001b[39;49m\u001b[43mappend\u001b[49m\u001b[43m(\u001b[49m\u001b[43m[\u001b[49m\u001b[43mnode_curr\u001b[49m\u001b[43m,\u001b[49m\u001b[43m \u001b[49m\u001b[43mnode_next\u001b[49m\u001b[43m]\u001b[49m\u001b[43m)\u001b[49m\n\u001b[1;32m     48\u001b[0m             edges\u001b[38;5;241m.\u001b[39mappend([node_next, node_curr])\n\u001b[1;32m     50\u001b[0m edges \u001b[38;5;241m=\u001b[39m [torch\u001b[38;5;241m.\u001b[39mtensor(edges)\u001b[38;5;241m.\u001b[39mt()]\n",
      "\u001b[0;31mKeyboardInterrupt\u001b[0m: "
     ]
    }
   ],
   "source": [
    "hidden_dim = study.best_trial.params['hidden_dim']\n",
    "n1_gat_layers = study.best_trial.params['n1_gat_layers']\n",
    "n2_gru_layers = study.best_trial.params['n2_gru_layers']\n",
    "dropout = study.best_trial.params['dropout']\n",
    "num_heads = study.best_trial.params['num_heads']\n",
    "k = study.best_trial.params['k']\n",
    "\n",
    "model = GraphGRUMortalityModel(input_dim=padded_tensor_train.shape[2], hidden_dim=hidden_dim, n1_gat_layers=n1_gat_layers,\n",
    "                            n2_gru_layers=n2_gru_layers, X_core=padd_tensor_core, core_padding_mask=padding_mask_core,\n",
    "                            num_heads=num_heads, dropout=dropout, seq_len=padded_tensor_train.shape[1], k=k, gnn_flag=True).to(DEVICE)\n",
    "\n",
    "\n",
    "model.train_all(dataloaders, datasets, epochs=15, learning_rate=study.best_trial.params['learning_rate'])\n",
    "print(\"Training completed. Validating on test set...\")\n",
    "\n",
    "acc, auc, pr =  model.validate(dataloaders['test'], datasets['test'])\n",
    "print(f'Test Accuracy in GNN model: {acc:.4f}, AUC: {auc:.4f}, AP: {pr:.4f}')"
   ]
  },
  {
   "cell_type": "code",
   "execution_count": null,
   "metadata": {},
   "outputs": [],
   "source": [
    "model = GraphGRUMortalityModel(input_dim=padded_tensor_train.shape[2], hidden_dim=hidden_dim, n1_gat_layers=2, n2_gru_layers=2, X_core=padd_tensor_core, \n",
    "                               core_padding_mask=padding_mask_core, num_heads=4, dropout=0.1, seq_len=padded_tensor_train.shape[1], k=k, gnn_falg=False).to(DEVICE)\n",
    "\n",
    "model.train_all(dataloaders, datasets, epochs=15, learning_rate=1e-3)\n",
    "print(\"Training completed. Validating on test set...\")\n",
    "\n",
    "acc, auc, pr =  model.validate(dataloaders['test'], datasets['test'])\n",
    "print(f'Test Accuracy in GNN model: {acc:.4f}, AUC: {auc:.4f}, AP: {pr:.4f}')"
   ]
  }
 ],
 "metadata": {
  "colab": {
   "provenance": []
  },
  "kernelspec": {
   "display_name": "Python 3 (ipykernel)",
   "language": "python",
   "name": "python3"
  },
  "widgets": {
   "application/vnd.jupyter.widget-state+json": {
    "1ddf7f8e5bd9405fb67d08725d4983e5": {
     "model_module": "@jupyter-widgets/controls",
     "model_module_version": "1.5.0",
     "model_name": "ProgressStyleModel",
     "state": {
      "_model_module": "@jupyter-widgets/controls",
      "_model_module_version": "1.5.0",
      "_model_name": "ProgressStyleModel",
      "_view_count": null,
      "_view_module": "@jupyter-widgets/base",
      "_view_module_version": "1.2.0",
      "_view_name": "StyleView",
      "bar_color": "black",
      "description_width": ""
     }
    },
    "56463d5b8bee4a088d7c9d7613fd6e20": {
     "model_module": "@jupyter-widgets/base",
     "model_module_version": "1.2.0",
     "model_name": "LayoutModel",
     "state": {
      "_model_module": "@jupyter-widgets/base",
      "_model_module_version": "1.2.0",
      "_model_name": "LayoutModel",
      "_view_count": null,
      "_view_module": "@jupyter-widgets/base",
      "_view_module_version": "1.2.0",
      "_view_name": "LayoutView",
      "align_content": null,
      "align_items": null,
      "align_self": null,
      "border": null,
      "bottom": null,
      "display": null,
      "flex": null,
      "flex_flow": null,
      "grid_area": null,
      "grid_auto_columns": null,
      "grid_auto_flow": null,
      "grid_auto_rows": null,
      "grid_column": null,
      "grid_gap": null,
      "grid_row": null,
      "grid_template_areas": null,
      "grid_template_columns": null,
      "grid_template_rows": null,
      "height": null,
      "justify_content": null,
      "justify_items": null,
      "left": null,
      "margin": null,
      "max_height": null,
      "max_width": null,
      "min_height": null,
      "min_width": null,
      "object_fit": null,
      "object_position": null,
      "order": null,
      "overflow": null,
      "overflow_x": null,
      "overflow_y": null,
      "padding": null,
      "right": null,
      "top": null,
      "visibility": null,
      "width": "auto"
     }
    },
    "78c007406aa24a9f80d79038bb6e14a1": {
     "model_module": "@jupyter-widgets/controls",
     "model_module_version": "1.5.0",
     "model_name": "FloatProgressModel",
     "state": {
      "_dom_classes": [],
      "_model_module": "@jupyter-widgets/controls",
      "_model_module_version": "1.5.0",
      "_model_name": "FloatProgressModel",
      "_view_count": null,
      "_view_module": "@jupyter-widgets/controls",
      "_view_module_version": "1.5.0",
      "_view_name": "ProgressView",
      "bar_style": "",
      "description": "",
      "description_tooltip": null,
      "layout": "IPY_MODEL_fb91ad428b04480f995aced9d968ba18",
      "max": 100,
      "min": 0,
      "orientation": "horizontal",
      "style": "IPY_MODEL_1ddf7f8e5bd9405fb67d08725d4983e5",
      "value": 84
     }
    },
    "befffb4f7372406291ce48f9bfcdb07b": {
     "model_module": "@jupyter-widgets/controls",
     "model_module_version": "1.5.0",
     "model_name": "FloatProgressModel",
     "state": {
      "_dom_classes": [],
      "_model_module": "@jupyter-widgets/controls",
      "_model_module_version": "1.5.0",
      "_model_name": "FloatProgressModel",
      "_view_count": null,
      "_view_module": "@jupyter-widgets/controls",
      "_view_module_version": "1.5.0",
      "_view_name": "ProgressView",
      "bar_style": "",
      "description": "",
      "description_tooltip": null,
      "layout": "IPY_MODEL_56463d5b8bee4a088d7c9d7613fd6e20",
      "max": 100,
      "min": 0,
      "orientation": "horizontal",
      "style": "IPY_MODEL_da6f1034c8da4045a1b7aee2d5f78d5d",
      "value": 100
     }
    },
    "c82cd5cfb39e42af888dc187b5d8a58c": {
     "model_module": "@jupyter-widgets/base",
     "model_module_version": "1.2.0",
     "model_name": "LayoutModel",
     "state": {
      "_model_module": "@jupyter-widgets/base",
      "_model_module_version": "1.2.0",
      "_model_name": "LayoutModel",
      "_view_count": null,
      "_view_module": "@jupyter-widgets/base",
      "_view_module_version": "1.2.0",
      "_view_name": "LayoutView",
      "align_content": null,
      "align_items": null,
      "align_self": null,
      "border": null,
      "bottom": null,
      "display": null,
      "flex": null,
      "flex_flow": null,
      "grid_area": null,
      "grid_auto_columns": null,
      "grid_auto_flow": null,
      "grid_auto_rows": null,
      "grid_column": null,
      "grid_gap": null,
      "grid_row": null,
      "grid_template_areas": null,
      "grid_template_columns": null,
      "grid_template_rows": null,
      "height": null,
      "justify_content": null,
      "justify_items": null,
      "left": null,
      "margin": null,
      "max_height": null,
      "max_width": null,
      "min_height": null,
      "min_width": null,
      "object_fit": null,
      "object_position": null,
      "order": null,
      "overflow": null,
      "overflow_x": null,
      "overflow_y": null,
      "padding": null,
      "right": null,
      "top": null,
      "visibility": null,
      "width": "auto"
     }
    },
    "c94eb62fe73b4171937f354e2c2f06fa": {
     "model_module": "@jupyter-widgets/controls",
     "model_module_version": "1.5.0",
     "model_name": "ProgressStyleModel",
     "state": {
      "_model_module": "@jupyter-widgets/controls",
      "_model_module_version": "1.5.0",
      "_model_name": "ProgressStyleModel",
      "_view_count": null,
      "_view_module": "@jupyter-widgets/base",
      "_view_module_version": "1.2.0",
      "_view_name": "StyleView",
      "bar_color": "black",
      "description_width": ""
     }
    },
    "da6f1034c8da4045a1b7aee2d5f78d5d": {
     "model_module": "@jupyter-widgets/controls",
     "model_module_version": "1.5.0",
     "model_name": "ProgressStyleModel",
     "state": {
      "_model_module": "@jupyter-widgets/controls",
      "_model_module_version": "1.5.0",
      "_model_name": "ProgressStyleModel",
      "_view_count": null,
      "_view_module": "@jupyter-widgets/base",
      "_view_module_version": "1.2.0",
      "_view_name": "StyleView",
      "bar_color": "black",
      "description_width": ""
     }
    },
    "e6c51c60ee844703a0339b2e1dccc64b": {
     "model_module": "@jupyter-widgets/controls",
     "model_module_version": "1.5.0",
     "model_name": "FloatProgressModel",
     "state": {
      "_dom_classes": [],
      "_model_module": "@jupyter-widgets/controls",
      "_model_module_version": "1.5.0",
      "_model_name": "FloatProgressModel",
      "_view_count": null,
      "_view_module": "@jupyter-widgets/controls",
      "_view_module_version": "1.5.0",
      "_view_name": "ProgressView",
      "bar_style": "",
      "description": "",
      "description_tooltip": null,
      "layout": "IPY_MODEL_c82cd5cfb39e42af888dc187b5d8a58c",
      "max": 100,
      "min": 0,
      "orientation": "horizontal",
      "style": "IPY_MODEL_c94eb62fe73b4171937f354e2c2f06fa",
      "value": 59
     }
    },
    "fb91ad428b04480f995aced9d968ba18": {
     "model_module": "@jupyter-widgets/base",
     "model_module_version": "1.2.0",
     "model_name": "LayoutModel",
     "state": {
      "_model_module": "@jupyter-widgets/base",
      "_model_module_version": "1.2.0",
      "_model_name": "LayoutModel",
      "_view_count": null,
      "_view_module": "@jupyter-widgets/base",
      "_view_module_version": "1.2.0",
      "_view_name": "LayoutView",
      "align_content": null,
      "align_items": null,
      "align_self": null,
      "border": null,
      "bottom": null,
      "display": null,
      "flex": null,
      "flex_flow": null,
      "grid_area": null,
      "grid_auto_columns": null,
      "grid_auto_flow": null,
      "grid_auto_rows": null,
      "grid_column": null,
      "grid_gap": null,
      "grid_row": null,
      "grid_template_areas": null,
      "grid_template_columns": null,
      "grid_template_rows": null,
      "height": null,
      "justify_content": null,
      "justify_items": null,
      "left": null,
      "margin": null,
      "max_height": null,
      "max_width": null,
      "min_height": null,
      "min_width": null,
      "object_fit": null,
      "object_position": null,
      "order": null,
      "overflow": null,
      "overflow_x": null,
      "overflow_y": null,
      "padding": null,
      "right": null,
      "top": null,
      "visibility": null,
      "width": "auto"
     }
    }
   }
  }
 },
 "nbformat": 4,
 "nbformat_minor": 0
}
