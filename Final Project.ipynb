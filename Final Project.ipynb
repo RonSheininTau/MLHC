{
 "cells": [
  {
   "cell_type": "markdown",
   "metadata": {
    "id": "O949bBTz2RnR"
   },
   "source": [
    "## Setup"
   ]
  },
  {
   "cell_type": "code",
   "execution_count": null,
   "metadata": {
    "executionInfo": {
     "elapsed": 2175,
     "status": "ok",
     "timestamp": 1754564723760,
     "user": {
      "displayName": "Yael Kupershmidt",
      "userId": "00404238359436170384"
     },
     "user_tz": -180
    },
    "id": "KIE3DXDp109Q"
   },
   "outputs": [],
   "source": [
    "# from google.colab import auth\n",
    "# from google.cloud import bigquery\n",
    "# from google.colab import data_table\n",
    "# from google.colab import widgets\n",
    "\n",
    "# from collections import Counter\n",
    "# import re\n",
    "# import numpy as np\n",
    "# import pandas as pd\n",
    "# import math\n",
    "\n"
   ]
  },
  {
   "cell_type": "code",
   "execution_count": null,
   "metadata": {
    "colab": {
     "base_uri": "https://localhost:8080/"
    },
    "executionInfo": {
     "elapsed": 22629,
     "status": "ok",
     "timestamp": 1754564746394,
     "user": {
      "displayName": "Yael Kupershmidt",
      "userId": "00404238359436170384"
     },
     "user_tz": -180
    },
    "id": "oUeMEbyU2Uga",
    "outputId": "8402b305-b170-4709-eae5-ddb9cc1eaad1"
   },
   "outputs": [],
   "source": [
    "# import os\n",
    "# from google.colab import drive\n",
    "# import sys\n",
    "\n",
    "# drive.mount('/content/drive')\n",
    "# os.chdir('/content/drive/MyDrive/HML/Final Project')\n",
    "# sys.path.append(os.path.abspath('/content/drive/MyDrive/HML/Final Project'))"
   ]
  },
  {
   "cell_type": "code",
   "execution_count": null,
   "metadata": {
    "executionInfo": {
     "elapsed": 6357,
     "status": "ok",
     "timestamp": 1754564787170,
     "user": {
      "displayName": "Yael Kupershmidt",
      "userId": "00404238359436170384"
     },
     "user_tz": -180
    },
    "id": "z2DeVlHnNdm2"
   },
   "outputs": [],
   "source": [
    "# !pip install duckdb --quiet\n",
    "# import duckdb"
   ]
  },
  {
   "cell_type": "code",
   "execution_count": null,
   "metadata": {
    "executionInfo": {
     "elapsed": 4092,
     "status": "ok",
     "timestamp": 1754564841428,
     "user": {
      "displayName": "Yael Kupershmidt",
      "userId": "00404238359436170384"
     },
     "user_tz": -180
    },
    "id": "ZSLwVEZTNX5S"
   },
   "outputs": [],
   "source": [
    "# drive_path = '/content/drive/MyDrive/HML/Final Project/MIMIC-III'\n",
    "# con = duckdb.connect(f'{drive_path}/mimiciii.duckdb')"
   ]
  },
  {
   "cell_type": "code",
   "execution_count": 5,
   "metadata": {},
   "outputs": [
    {
     "name": "stderr",
     "output_type": "stream",
     "text": [
      "2025-08-21 09:41:32.336309: E external/local_xla/xla/stream_executor/cuda/cuda_fft.cc:467] Unable to register cuFFT factory: Attempting to register factory for plugin cuFFT when one has already been registered\n",
      "WARNING: All log messages before absl::InitializeLog() is called are written to STDERR\n",
      "E0000 00:00:1755758492.349580 3463189 cuda_dnn.cc:8579] Unable to register cuDNN factory: Attempting to register factory for plugin cuDNN when one has already been registered\n",
      "E0000 00:00:1755758492.353730 3463189 cuda_blas.cc:1407] Unable to register cuBLAS factory: Attempting to register factory for plugin cuBLAS when one has already been registered\n",
      "W0000 00:00:1755758492.364581 3463189 computation_placer.cc:177] computation placer already registered. Please check linkage and avoid linking the same target more than once.\n",
      "W0000 00:00:1755758492.364593 3463189 computation_placer.cc:177] computation placer already registered. Please check linkage and avoid linking the same target more than once.\n",
      "W0000 00:00:1755758492.364595 3463189 computation_placer.cc:177] computation placer already registered. Please check linkage and avoid linking the same target more than once.\n",
      "W0000 00:00:1755758492.364596 3463189 computation_placer.cc:177] computation placer already registered. Please check linkage and avoid linking the same target more than once.\n",
      "2025-08-21 09:41:32.368650: I tensorflow/core/platform/cpu_feature_guard.cc:210] This TensorFlow binary is optimized to use available CPU instructions in performance-critical operations.\n",
      "To enable the following instructions: AVX2 FMA, in other operations, rebuild TensorFlow with the appropriate compiler flags.\n"
     ]
    }
   ],
   "source": [
    "import pandas as pd\n",
    "import numpy as np\n",
    "from tqdm import tqdm \n",
    "\n",
    "import torch\n",
    "from torch_geometric.nn import GATv2Conv\n",
    "from torch.nn.utils.rnn import pack_padded_sequence, pad_packed_sequence\n",
    "\n",
    "import torch.nn as nn\n",
    "import torch.nn.functional as F\n",
    "from torch.utils.data import DataLoader\n",
    "\n",
    "from tensorflow.keras.preprocessing.sequence import pad_sequences\n"
   ]
  },
  {
   "cell_type": "markdown",
   "metadata": {
    "id": "18obiL-i3Up1"
   },
   "source": [
    "## Loading data"
   ]
  },
  {
   "cell_type": "code",
   "execution_count": null,
   "metadata": {
    "executionInfo": {
     "elapsed": 2434,
     "status": "ok",
     "timestamp": 1754564996788,
     "user": {
      "displayName": "Yael Kupershmidt",
      "userId": "00404238359436170384"
     },
     "user_tz": -180
    },
    "id": "1IsleQzR3RVc"
   },
   "outputs": [],
   "source": [
    "subject_ids = pd.read_csv('data/initial_cohort.csv')['subject_id'].to_list()\n",
    "lavbevent_meatdata = pd.read_csv('data/labs_metadata.csv')\n",
    "vital_meatdata = pd.read_csv('data/vital_metadata.csv')"
   ]
  },
  {
   "cell_type": "code",
   "execution_count": 7,
   "metadata": {
    "colab": {
     "base_uri": "https://localhost:8080/",
     "height": 49,
     "referenced_widgets": [
      "befffb4f7372406291ce48f9bfcdb07b",
      "56463d5b8bee4a088d7c9d7613fd6e20",
      "da6f1034c8da4045a1b7aee2d5f78d5d"
     ]
    },
    "executionInfo": {
     "elapsed": 5786,
     "status": "ok",
     "timestamp": 1754564888143,
     "user": {
      "displayName": "Yael Kupershmidt",
      "userId": "00404238359436170384"
     },
     "user_tz": -180
    },
    "id": "AS2L1U3z3RSs",
    "outputId": "3d491053-ad59-4cbb-e4bf-c4e6b8a91188"
   },
   "outputs": [],
   "source": [
    "ICUQ = \\\n",
    "\"\"\"--sql\n",
    "SELECT admissions.subject_id::INTEGER AS subject_id, admissions.hadm_id::INTEGER AS hadm_id\n",
    ", admissions.admittime::DATE AS admittime, admissions.dischtime::DATE AS dischtime\n",
    ", admissions.ethnicity, admissions.deathtime::DATE AS deathtime\n",
    ", patients.gender, patients.dob::DATE AS dob, icustays.icustay_id::INTEGER AS icustay_id, patients.dod::DATE as dod,\n",
    "icustays.intime::DATE AS intime,icustays.outtime::DATE AS outtime\n",
    "FROM admissions\n",
    "INNER JOIN patients\n",
    "    ON admissions.subject_id = patients.subject_id\n",
    "LEFT JOIN icustays\n",
    "    ON admissions.hadm_id = icustays.hadm_id\n",
    "\n",
    "WHERE admissions.has_chartevents_data = 1\n",
    "AND admissions.subject_id::INTEGER IN ?\n",
    "ORDER BY admissions.subject_id, admissions.hadm_id, admissions.admittime;\n",
    "\"\"\"\n",
    "\n",
    "# icu =  con.execute(ICUQ, [subject_ids]).fetchdf().rename(str.lower, axis='columns')\n"
   ]
  },
  {
   "cell_type": "code",
   "execution_count": 8,
   "metadata": {
    "colab": {
     "base_uri": "https://localhost:8080/",
     "height": 79,
     "referenced_widgets": [
      "e6c51c60ee844703a0339b2e1dccc64b",
      "c82cd5cfb39e42af888dc187b5d8a58c",
      "c94eb62fe73b4171937f354e2c2f06fa",
      "78c007406aa24a9f80d79038bb6e14a1",
      "fb91ad428b04480f995aced9d968ba18",
      "1ddf7f8e5bd9405fb67d08725d4983e5"
     ]
    },
    "executionInfo": {
     "elapsed": 315317,
     "status": "ok",
     "timestamp": 1754565343251,
     "user": {
      "displayName": "Yael Kupershmidt",
      "userId": "00404238359436170384"
     },
     "user_tz": -180
    },
    "id": "JYcG1ZyK3ROu",
    "outputId": "48833e31-a0af-4ee5-ed98-abe2f2aadbff"
   },
   "outputs": [],
   "source": [
    "LABQUERY = \\\n",
    "f\"\"\"--sql\n",
    "SELECT labevents.subject_id::INTEGER AS subject_id\\\n",
    "      , labevents.hadm_id::INTEGER AS hadm_id\\\n",
    "      , labevents.charttime::DATE AS charttime\n",
    "      , labevents.itemid::INTEGER AS itemid\\\n",
    "      , labevents.valuenum::DOUBLE AS valuenum\n",
    "      , admissions.admittime::DATE AS admittime\n",
    "FROM labevents\n",
    "          INNER JOIN admissions\n",
    "                    ON labevents.subject_id = admissions.subject_id\n",
    "                        AND labevents.hadm_id = admissions.hadm_id\n",
    "                        AND labevents.charttime::DATE between\n",
    "                            (admissions.admittime::DATE)\n",
    "                            AND (admissions.admittime::DATE + interval 48 hour)\n",
    "                        AND itemid::INTEGER IN ? \\\n",
    "                        \"\"\"\n",
    "\n",
    "VITQUERY = f\"\"\"--sql\n",
    "        SELECT chartevents.subject_id::INTEGER AS subject_id\\\n",
    "             , chartevents.hadm_id::INTEGER AS hadm_id\\\n",
    "             , chartevents.charttime::DATE AS charttime\\\n",
    "             , chartevents.itemid::INTEGER AS itemid\\\n",
    "             , chartevents.valuenum::DOUBLE AS valuenum\\\n",
    "             , admissions.admittime::DATE AS admittime\\\n",
    "        FROM chartevents\n",
    "                 INNER JOIN admissions\n",
    "                            ON chartevents.subject_id = admissions.subject_id\n",
    "                                AND chartevents.hadm_id = admissions.hadm_id\n",
    "                                AND chartevents.charttime::DATE between\n",
    "                                   (admissions.admittime::DATE)\n",
    "                                   AND (admissions.admittime::DATE + interval 48 hour)\n",
    "                                AND itemid::INTEGER in ?\n",
    "      -- exclude rows marked as error\n",
    "      AND chartevents.error::INTEGER IS DISTINCT \\\n",
    "        FROM 1 \\\n",
    "        \"\"\"\n",
    "\n",
    "\n",
    "# lab = con.execute(LABQUERY, [lavbevent_meatdata['itemid'].tolist()]).fetchdf().rename(str.lower, axis='columns')\n",
    "# vit = con.execute(VITQUERY, [vital_meatdata['itemid'].tolist()]).fetchdf().rename(str.lower, axis='columns')"
   ]
  },
  {
   "cell_type": "code",
   "execution_count": 9,
   "metadata": {
    "executionInfo": {
     "elapsed": 307,
     "status": "ok",
     "timestamp": 1754566848823,
     "user": {
      "displayName": "Yael Kupershmidt",
      "userId": "00404238359436170384"
     },
     "user_tz": -180
    },
    "id": "63QSy3WiOcK7"
   },
   "outputs": [],
   "source": [
    "pred_window = 13*24      # duration of prediction window (hours)\n",
    "pred_gap = 24            # minimal gap between prediction and target (hours)\n",
    "min_los = 24             # minimal length of stay (hours)\n",
    "min_target_onset = 2*24  # minimal time of target since admission (hours)\n",
    "pred_freq = '4H'        # prediction frequency\n",
    "\n",
    "labs = pd.read_csv('data/labs.csv')\n",
    "vits = pd.read_csv('data/vits.csv')\n",
    "hosps = pd.read_csv('data/icu.csv')\n",
    "\n",
    "for col in ['admittime', 'dischtime', 'dob', 'dod', 'intime', 'outtime']:\n",
    "    hosps[col] = pd.to_datetime(hosps[col].str.strip(), errors='coerce')"
   ]
  },
  {
   "cell_type": "code",
   "execution_count": 10,
   "metadata": {},
   "outputs": [],
   "source": [
    "bios = pd.read_csv('data/bios.csv')\n",
    "bios['charttime'] = pd.to_datetime(bios['charttime'].str.strip(), errors='coerce')"
   ]
  },
  {
   "cell_type": "markdown",
   "metadata": {},
   "source": [
    "## preprocessing"
   ]
  },
  {
   "cell_type": "code",
   "execution_count": 11,
   "metadata": {},
   "outputs": [],
   "source": [
    "# ethnicity  - to category\n",
    "hosps.ethnicity = hosps.ethnicity.str.lower()\n",
    "hosps.loc[(hosps.ethnicity.str.contains('^white')),'ethnicity'] = 'white'\n",
    "hosps.loc[(hosps.ethnicity.str.contains('^black')),'ethnicity'] = 'black'\n",
    "hosps.loc[(hosps.ethnicity.str.contains('^hisp')) | (hosps.ethnicity.str.contains('^latin')),'ethnicity'] = 'hispanic'\n",
    "hosps.loc[(hosps.ethnicity.str.contains('^asia')),'ethnicity'] = 'asian'\n",
    "hosps.loc[~(hosps.ethnicity.str.contains('|'.join(['white', 'black', 'hispanic', 'asian']))),'ethnicity'] = 'other'\n",
    "\n",
    "# ethnicity - one hot encoding\n",
    "hosps['eth_white'] = (hosps['ethnicity'] == 'white').astype(int)\n",
    "hosps['eth_black'] = (hosps['ethnicity'] == 'black').astype(int)\n",
    "hosps['eth_hispanic'] = (hosps['ethnicity'] == 'hispanic').astype(int)\n",
    "hosps['eth_asian'] = (hosps['ethnicity'] == 'asian').astype(int)\n",
    "hosps['eth_other'] = (hosps['ethnicity'] == 'other').astype(int)\n",
    "hosps.drop(['ethnicity', 'deathtime'], inplace=True, axis=1)"
   ]
  },
  {
   "cell_type": "code",
   "execution_count": 22,
   "metadata": {},
   "outputs": [],
   "source": [
    "bios_onehot = pd.get_dummies(bios, columns=['org_itemid'], prefix='org')\n",
    "groupby_cols = ['subject_id', 'hadm_id', 'charttime']\n",
    "onehot_cols = [col for col in bios_onehot.columns if col.startswith('org_')]\n",
    "bios_table = bios_onehot.groupby(groupby_cols)[onehot_cols].sum().reset_index()\n",
    "for col in onehot_cols:\n",
    "    bios_table[col] = (bios_table[col] > 0).astype(int)"
   ]
  },
  {
   "cell_type": "code",
   "execution_count": null,
   "metadata": {
    "colab": {
     "base_uri": "https://localhost:8080/",
     "height": 356
    },
    "executionInfo": {
     "elapsed": 305,
     "status": "error",
     "timestamp": 1754566885343,
     "user": {
      "displayName": "Yael Kupershmidt",
      "userId": "00404238359436170384"
     },
     "user_tz": -180
    },
    "id": "ynUWK92_VQdK",
    "outputId": "b0a3f0ea-1e36-48d3-e6ce-b584be199fdf"
   },
   "outputs": [
    {
     "name": "stdout",
     "output_type": "stream",
     "text": [
      "1. Include only first admissions: N=32513\n",
      "2. Exclusion by ages: N=25548\n",
      "3. Include only patients who admitted for at least 24 hours: N=25168\n",
      "4. Exclude patients who died within 48-hours of admission: N=24825\n"
     ]
    }
   ],
   "source": [
    "\n",
    "# Generate feature columns for los, age and mortality\n",
    "def age(admittime, dob):\n",
    "    if admittime < dob:\n",
    "      return 0\n",
    "    return admittime.year - dob.year - ((admittime.month, admittime.day) < (dob.month, dob.day))\n",
    "\n",
    "hosps['age'] = hosps.apply(lambda row: age(row['admittime'], row['dob']), axis=1)\n",
    "hosps['los_hosp_hr'] = (hosps.dischtime - hosps.admittime).dt.total_seconds()/3600\n",
    "hosps['mort'] = np.where(~np.isnat(hosps.dod),1,0)\n",
    "\n",
    "# Gender to binary\n",
    "hosps['gender'] = np.where(hosps['gender'] == \"M\", 1, 0)\n",
    "\n",
    "# @title Q1.1 - Patient Exclusion Criteria\n",
    "hosps = hosps.sort_values('admittime').groupby('subject_id').first().reset_index()\n",
    "print(f\"1. Include only first admissions: N={hosps.shape[0]}\")\n",
    "\n",
    "hosps = hosps[hosps.age.between(18,90)]\n",
    "print(f\"2. Exclusion by ages: N={hosps.shape[0]}\")\n",
    "\n",
    "# Exclude patients hospitalized for less than 24 hours\n",
    "hosps = hosps[hosps['los_hosp_hr'] >= min_los]\n",
    "print(f\"3. Include only patients who admitted for at least {min_los} hours: N={hosps.shape[0]}\")\n",
    "\n",
    "# Exclude patients that died in the first 48 hours of admission\n",
    "hours_to_death = (hosps['dod'] - hosps['admittime']).dt.total_seconds() / 3600\n",
    "hosps = hosps[~((hosps['mort'].astype(bool)) & (hours_to_death < min_target_onset))]\n",
    "print(f\"4. Exclude patients who died within {min_target_onset}-hours of admission: N={hosps.shape[0]}\")"
   ]
  },
  {
   "cell_type": "code",
   "execution_count": 18,
   "metadata": {},
   "outputs": [
    {
     "name": "stderr",
     "output_type": "stream",
     "text": [
      "/tmp/ipykernel_3463189/9803228.py:15: FutureWarning: 'H' is deprecated and will be removed in a future version, please use 'h' instead.\n",
      "  pivot = pd.pivot_table(merged, index=['subject_id', 'hadm_id', pd.Grouper(key='charttime', freq=pred_freq)],\n"
     ]
    }
   ],
   "source": [
    "labs = labs[labs['hadm_id'].isin(hosps['hadm_id'])]\n",
    "labs = pd.merge(labs,lavbevent_meatdata,on='itemid')\n",
    "labs = labs[labs['valuenum'].between(labs['min'],labs['max'],  inclusive='both')]\n",
    "\n",
    "vits = vits[vits['hadm_id'].isin(hosps['hadm_id'])]\n",
    "vits = pd.merge(vits,vital_meatdata,on='itemid')\n",
    "vits = vits[vits['valuenum'].between(vits['min'],vits['max'], inclusive='both')]\n",
    "\n",
    "vits.loc[(vits['feature name'] == 'TempF'),'valuenum'] = (vits[vits['feature name'] == 'TempF']['valuenum']-32)/1.8\n",
    "vits.loc[vits['feature name'] == 'TempF','feature name'] = 'TempC'\n",
    "\n",
    "merged = pd.concat([vits, labs])\n",
    "merged['charttime'] = pd.to_datetime(merged['charttime'], errors='coerce')\n",
    "\n",
    "pivot = pd.pivot_table(merged, index=['subject_id', 'hadm_id', pd.Grouper(key='charttime', freq=pred_freq)],\n",
    "                       columns=['feature name'], values='valuenum', aggfunc=['mean', 'max', 'min', 'std'])\n",
    "pivot.columns = [f'{c[1]}_{c[0]}' for c in pivot.columns.to_flat_index()]\n",
    "\n",
    "# temp = merged.copy()\n",
    "\n",
    "merged = pd.merge(hosps, pivot.reset_index(), on=['subject_id', 'hadm_id'])\n",
    "merged[pivot.columns] = merged.groupby(['subject_id', 'hadm_id'])[pivot.columns].ffill()\n"
   ]
  },
  {
   "cell_type": "code",
   "execution_count": null,
   "metadata": {},
   "outputs": [
    {
     "name": "stdout",
     "output_type": "stream",
     "text": [
      "Original merged shape: (279735, 131)\n",
      "Bios_table shape: (10727, 241)\n",
      "Merged with bios shape: (279735, 241)\n",
      "Number of rows with bios data: 279735\n",
      "Left join completed and NaN values filled with 0\n"
     ]
    }
   ],
   "source": [
    "# Left join merged with bios_table on (subject_id, hadm_id, charttime)\n",
    "merged_with_bios = merged[['subject_id', 'hadm_id', 'charttime']].merge(\n",
    "    bios_table,\n",
    "    on=['subject_id', 'hadm_id', 'charttime'],\n",
    "    how='left'\n",
    ")\n",
    "\n",
    "onehot_cols = [col for col in merged_with_bios.columns if col.startswith('spec_org_')]\n",
    "merged_with_bios[onehot_cols] = merged_with_bios[onehot_cols].fillna(0).astype(int)\n"
   ]
  },
  {
   "cell_type": "code",
   "execution_count": 13,
   "metadata": {},
   "outputs": [],
   "source": [
    "merged = merged.sort_values(['subject_id', 'hadm_id', 'charttime'])\n",
    "labs_features_names = set(labs['feature name'])\n",
    "vits_features_names = set(vits['feature name'])\n",
    "labs_features = [col for col in merged.columns if col.split('_')[0] in labs_features_names]\n",
    "vits_features = [col for col in merged.columns if col.split('_')[0] in vits_features_names]\n",
    "\n",
    "lab_diff_cols = {}\n",
    "for col in labs_features:\n",
    "    if col.find(\"mean\") >= 0:\n",
    "      base = merged.groupby(['subject_id', 'hadm_id'])[col].transform('first')\n",
    "      lab_diff_cols[f'{col}_diff'] = merged[col] - base\n",
    "\n",
    "lab_diff_df = pd.DataFrame(lab_diff_cols)\n",
    "\n",
    "vital_diff_cols = {}\n",
    "for col in vits_features:\n",
    "  if col.find(\"mean\") >= 0:\n",
    "      diff_series = merged.groupby(['subject_id', 'hadm_id'])[col].diff()\n",
    "      vital_diff_cols[f'{col}_diff'] = diff_series\n",
    "\n",
    "vital_diff_df = pd.DataFrame(vital_diff_cols)\n",
    "\n",
    "# Concatenate back to original DataFrame\n",
    "merged = pd.concat([merged, lab_diff_df, vital_diff_df], axis=1)"
   ]
  },
  {
   "cell_type": "code",
   "execution_count": 14,
   "metadata": {},
   "outputs": [],
   "source": [
    "merged['charttime'] = pd.to_datetime(merged['charttime'], errors='coerce')\n",
    "\n",
    "time_to_death = (merged['dod'] - merged['charttime']).dt.total_seconds() / (60 * 60)\n",
    "merged['target'] = (pd.notnull(time_to_death) & (time_to_death <= pred_window + pred_gap)).astype(int)\n",
    "merged = merged[time_to_death.isna() | (time_to_death >= pred_gap)]"
   ]
  },
  {
   "cell_type": "code",
   "execution_count": 15,
   "metadata": {},
   "outputs": [],
   "source": [
    "#min_max_chartime = merged.groupby(\"subject_id\").agg({\"charttime\": [\"min\", \"max\"]})\n",
    "#min_max_chartime.columns = ['min_charttime', 'max_charttime']\n",
    "#min_max_chartime.to_csv('data/min_max_chartime.csv')"
   ]
  },
  {
   "cell_type": "code",
   "execution_count": 16,
   "metadata": {},
   "outputs": [],
   "source": [
    "import numpy as np\n",
    "from sklearn.model_selection import GroupShuffleSplit\n",
    "\n",
    "merged_clean = merged.reset_index(drop=True)\n",
    "\n",
    "np.random.seed(0)\n",
    "\n",
    "#Split to train & test (all data of a single patient needs to be in the same group)\n",
    "X = merged_clean\n",
    "y = merged_clean['target']\n",
    "groups = merged_clean['subject_id']\n",
    "\n",
    "gss = GroupShuffleSplit(n_splits=1, train_size=.8, test_size=0.1)\n",
    "train_index, test_index = next(gss.split(X, y, groups))\n",
    "val_index = list(set(X.index.to_list()) - (set(train_index.tolist()) | set(test_index.tolist())))\n",
    "\n",
    "X_train, y_train = X.iloc[train_index], y.iloc[train_index]\n",
    "X_val, y_val = X.iloc[val_index], y.iloc[val_index]\n",
    "X_test, y_test = X.iloc[test_index], y.iloc[test_index]"
   ]
  },
  {
   "cell_type": "code",
   "execution_count": 17,
   "metadata": {},
   "outputs": [],
   "source": [
    "from sklearn.preprocessing import StandardScaler\n",
    "\n",
    "\n",
    "\n",
    "num_cols = X_train.select_dtypes(include='float').columns\n",
    "scaler = StandardScaler()\n",
    "\n",
    "X_train.loc[:, num_cols] = scaler.fit_transform(X_train[num_cols])\n",
    "X_val.loc[:, num_cols] = scaler.transform(X_val[num_cols])\n",
    "X_test.loc[:, num_cols] = scaler.transform(X_test[num_cols])\n",
    "\n",
    "baseline_df = X_train[X_train.charttime.dt.date == X_train.admittime.dt.date].mean(axis=0).fillna(0)\n",
    "X_train.loc[:, num_cols] = X_train[num_cols].fillna(baseline_df)\n",
    "X_val.loc[:, num_cols] = X_val[num_cols].fillna(baseline_df)\n",
    "X_test.loc[:, num_cols] = X_test[num_cols].fillna(baseline_df)"
   ]
  },
  {
   "cell_type": "code",
   "execution_count": 18,
   "metadata": {},
   "outputs": [],
   "source": [
    "to_drop = ['hadm_id','icustay_id','intime','outtime','admittime', 'dischtime', 'dod','dob', 'mort', 'los_hosp_hr', 'charttime','adm_to_death']\n",
    "\n",
    "to_keep = ~X_train.columns.isin(to_drop)\n",
    "to_keep = X_train.columns[to_keep]\n",
    "X_train = X_train[to_keep]\n",
    "X_test = X_test[to_keep]\n",
    "X_val = X_val[to_keep]"
   ]
  },
  {
   "cell_type": "code",
   "execution_count": 19,
   "metadata": {},
   "outputs": [],
   "source": [
    "from sklearn.cluster import KMeans\n",
    "import numpy as np\n",
    "\n",
    "def cluster_and_select_subjects(X_train, num_clusters=10, random_state=42):\n",
    "    \"\"\"\n",
    "    Calculate the first row of each subject_id in X_train, cluster it to num_clusters \n",
    "    and choose one subject_id from each cluster.\n",
    "    \n",
    "    Parameters:\n",
    "    X_train: DataFrame with subject_id column\n",
    "    num_clusters: int, number of clusters to create\n",
    "    random_state: int, for reproducibility\n",
    "    \n",
    "    Returns:\n",
    "    list: selected subject_ids, one from each cluster\n",
    "    \"\"\"\n",
    "    first_rows = X_train.groupby('subject_id').first().reset_index()\n",
    "    \n",
    "    features_for_clustering = first_rows.drop('subject_id', axis=1)\n",
    "    \n",
    "\n",
    "    kmeans = KMeans(n_clusters=num_clusters, random_state=random_state, n_init=10)\n",
    "    cluster_labels = kmeans.fit_predict(features_for_clustering)\n",
    "    \n",
    "\n",
    "    first_rows['cluster'] = cluster_labels\n",
    "    \n",
    "\n",
    "    np.random.seed(random_state)\n",
    "    selected_subjects = []\n",
    "    \n",
    "    for cluster_id in range(num_clusters):\n",
    "        cluster_subjects = first_rows[first_rows['cluster'] == cluster_id]['subject_id'].values\n",
    "        if len(cluster_subjects) > 0:\n",
    "            selected_subject = np.random.choice(cluster_subjects)\n",
    "            selected_subjects.append(selected_subject)\n",
    "    \n",
    "    return selected_subjects\n",
    "\n",
    "selected_subjects = cluster_and_select_subjects(X_train, num_clusters=150, random_state=42)"
   ]
  },
  {
   "cell_type": "code",
   "execution_count": 20,
   "metadata": {},
   "outputs": [],
   "source": [
    "# Create X_core with rows where subject_id is in selected_subjects\n",
    "X_core = X_train[X_train['subject_id'].isin(selected_subjects)]\n",
    "\n",
    "# Update X_train to exclude the selected subjects\n",
    "X_train = X_train[~X_train['subject_id'].isin(selected_subjects)]"
   ]
  },
  {
   "cell_type": "code",
   "execution_count": 21,
   "metadata": {},
   "outputs": [],
   "source": [
    "def generate_series_data(df, group_col=\"subject_id\", maxlen=18):\n",
    "  grouped = df.groupby(group_col)\n",
    "  subject_sequences = [group.values[:, 1:] for _, group in grouped]\n",
    "  padded_tensor = pad_sequences(subject_sequences, padding='post', dtype='float32')\n",
    "  sequence_lengths = [len(seq) for seq in subject_sequences]\n",
    "  padding_mask = np.zeros((len(sequence_lengths), maxlen), dtype=np.float32)\n",
    "  for i, length in enumerate(sequence_lengths):\n",
    "      padding_mask[i, :length] = 1.0\n",
    "  labels = padded_tensor[:,:,-1]\n",
    "  padded_tensor = padded_tensor[:,:,:-1]\n",
    "  padded_tensor = torch.tensor(padded_tensor, dtype=torch.float32)\n",
    "  labels = torch.tensor(labels, dtype=torch.float32)\n",
    "  padding_mask = torch.tensor(padding_mask, dtype=torch.float32)\n",
    "  return padded_tensor, labels, padding_mask"
   ]
  },
  {
   "cell_type": "code",
   "execution_count": 22,
   "metadata": {},
   "outputs": [],
   "source": [
    "#import NoteEmbedder\n",
    "#import imp\n",
    "#os.environ[\"TRANSFORMERS_CACHE\"] = \"/home/bnet/ronsheinin/MLHC/MLHC/cache\"\n",
    "#imp.reload(NoteEmbedder)\n",
    "#import os\n",
    "#notes = pd.read_csv('data/notes.csv')\n",
    "#note_embeddings = NoteEmbedder.run_embeeding(notes)"
   ]
  },
  {
   "cell_type": "markdown",
   "metadata": {},
   "source": [
    "## Model"
   ]
  },
  {
   "cell_type": "code",
   "execution_count": 24,
   "metadata": {},
   "outputs": [],
   "source": [
    "# def build_knn_graph2(batch, core, padding_mask_batch, padding_mask_core, k=5):\n",
    "#         \"\"\"\n",
    "#         Build a KNN graph from batch and core tensors.\n",
    "        \n",
    "#         Args:\n",
    "#             batch: 3D tensor (batch_size, seq_len, features)\n",
    "#             core: 3D tensor (core_size, seq_len, features)\n",
    "#             padding_mask_batch: 2D tensor (batch_size, seq_len) indicating valid time points\n",
    "#             padding_mask_core: 2D tensor (core_size, seq_len) indicating valid time points\n",
    "#             k: number of nearest neighbors for patient connections\n",
    "        \n",
    "#         Returns:\n",
    "#             edge_index: tensor of shape (2, num_edges) representing graph edges\n",
    "#         \"\"\"\n",
    "#         batch_size, seq_len, _ = batch.shape\n",
    "#         core_size = core.shape[0]\n",
    "#         total_patients = batch_size + core_size\n",
    "#         batch_size = batch.shape[0]\n",
    "\n",
    "#         all_patients = torch.cat([batch, core], dim=0)\n",
    "#         all_padding_mask = torch.cat([padding_mask_batch, padding_mask_core], dim=0)\n",
    "        \n",
    "#         edges = []\n",
    "        \n",
    "#         for patient_idx in range(total_patients):\n",
    "#             for t in range(seq_len - 1):\n",
    "            \n",
    "#                 if all_padding_mask[patient_idx, t] > 0 and all_padding_mask[patient_idx, t + 1] > 0:\n",
    "#                     node_curr = patient_idx * seq_len + t\n",
    "#                     node_next = patient_idx * seq_len + t + 1\n",
    "   \n",
    "#                     edges.append([node_curr, node_next])\n",
    "#                     edges.append([node_next, node_curr])\n",
    "        \n",
    "        \n",
    "#         for t in range(seq_len):\n",
    "#             valid_patients = all_padding_mask[:, t] > 0\n",
    "#             valid_indices = torch.where(valid_patients)[0] \n",
    "            \n",
    "\n",
    "#             valid_patients_to = all_padding_mask[batch_size:, t] > 0\n",
    "#             valid_indices_to = torch.where(valid_patients_to)[0] + batch_size\n",
    "\n",
    "\n",
    "#             if len(valid_indices) > 1:\n",
    "#                 features_t = all_patients[valid_indices, t, :]\n",
    "#                 features_t_to = all_patients[valid_indices_to, t, :]\n",
    "\n",
    "#                 distances = torch.cdist(features_t, features_t_to, p=2)\n",
    "                \n",
    "#                 for i, patient_idx in enumerate(valid_indices):\n",
    "#                     num_neighbors = min(k, len(valid_indices_to))\n",
    "#                     _, nearest_indices = torch.topk(distances[i], num_neighbors, largest=False)\n",
    "                    \n",
    "#                     for j in nearest_indices:\n",
    "#                         neighbor_idx = valid_indices_to[j]\n",
    "#                         node_curr = patient_idx * seq_len + t\n",
    "#                         node_neighbor = neighbor_idx * seq_len + t\n",
    "#                         edges.append([node_neighbor, node_curr])\n",
    "\n",
    "        \n",
    "#         if edges:\n",
    "#             edge_index = torch.tensor(edges, dtype=torch.long).t()\n",
    "#         else:\n",
    "#             edge_index = torch.empty((2, 0), dtype=torch.long)\n",
    "        \n",
    "#         return edge_index"
   ]
  },
  {
   "cell_type": "code",
   "execution_count": 33,
   "metadata": {},
   "outputs": [],
   "source": [
    "import torch\n",
    "from torch.utils.data import Dataset\n",
    "\n",
    "\n",
    "class PatientDataset(Dataset):\n",
    "    def __init__(self, X, y, core, padding_mask, padding_mask_core, k=5):\n",
    "        self.core = core\n",
    "        self.X = X\n",
    "        self.y = y\n",
    "        self.padding_mask = padding_mask\n",
    "        self.padding_mask_core = padding_mask_core\n",
    "        self.k = k\n",
    "        self.node_to_neighbors = self.build_knn_graph(X, core, padding_mask, padding_mask_core, k=k)\n",
    "\n",
    "\n",
    "    def __len__(self):\n",
    "        return len(self.X)\n",
    "    \n",
    "    def __getitem__(self, idx):\n",
    "        return self.X[idx], self.y[idx], self.padding_mask[idx], idx\n",
    "    \n",
    "    # def cal_graphs(self):\n",
    "    #     if self.edge_list is not None:\n",
    "    #         return self.edge_list\n",
    "        \n",
    "    #     edge_list = []\n",
    "    #     for patient_idx in range(len(self.X)):\n",
    "    #         edges = self.build_knn_graph(self.X[patient_idx:patient_idx+1], self.core, \n",
    "    #                                             self.padding_mask[patient_idx:patient_idx+1], self.padding_mask_core, k=self.k)\n",
    "    #         edge_list.append(edges)\n",
    "    #     self.edge_list = torch.cat(edge_list, dim=1).T\n",
    "\n",
    "    def get_edge_index(self, batch, padding_mask_batch, batch_indices):\n",
    "        \"\"\"\n",
    "        Returns a tensor representing the edge index of the graph.\n",
    "        \n",
    "        Returns:\n",
    "            edge_index: tensor of shape (2, num_edges) representing graph edges\n",
    "        \"\"\"\n",
    "        batch_size, seq_len, _ = batch.shape\n",
    "        core_size = self.core.shape[0]\n",
    "        total_patients = batch_size + core_size\n",
    "\n",
    "        batch_size = batch.shape[0]\n",
    "        # all_patients = torch.cat([batch, self.core], dim=0)\n",
    "        all_padding_mask = torch.cat([padding_mask_batch, self.padding_mask_core.to(padding_mask_batch.device)], dim=0)\n",
    "\n",
    "        edges = []\n",
    "        \n",
    "        for patient_idx in range(total_patients):\n",
    "            for t in range(seq_len - 1):\n",
    "                if all_padding_mask[patient_idx, t] > 0 and all_padding_mask[patient_idx, t + 1] > 0:\n",
    "                    node_curr = patient_idx * seq_len + t\n",
    "                    node_next = patient_idx * seq_len + t + 1\n",
    "   \n",
    "                    edges.append([node_curr, node_next])\n",
    "                    edges.append([node_next, node_curr])\n",
    "        \n",
    "        edges = [torch.tensor(edges).t()]\n",
    "\n",
    "        neighbors_list = []\n",
    "        for idx in batch_indices:\n",
    "            neighbors_list.extend(self.node_to_neighbors[idx.item() * seq_len: (idx.item() + 1) * seq_len])\n",
    "            # for i in range(seq_len):\n",
    "            #     neighbors_list.append(list(self.node_to_neighbors[idx.item() * seq_len + i]))\n",
    "        \n",
    "        # for i in range(self.X.shape[0] * seq_len, self.X.shape[0] * seq_len + core_size * seq_len):\n",
    "        #     neighbors_list.append(list(self.node_to_neighbors[i]))\n",
    "        neighbors_list.extend(self.node_to_neighbors[self.X.shape[0] * seq_len:])\n",
    "    \n",
    "        for t in range(seq_len):\n",
    "            valid_patients = all_padding_mask[:, t] > 0\n",
    "            valid_indices = torch.where(valid_patients)[0] \n",
    "\n",
    "            if len(valid_indices) > 1:\n",
    "                for i, patient_idx in enumerate(valid_indices):\n",
    "                    node_curr = patient_idx * seq_len + t\n",
    "                    to_append = torch.tensor(neighbors_list[node_curr], dtype=torch.long) - (self.X.shape[0] - batch_size) * seq_len  # Adjust index for core patients\n",
    "                    edges.append(torch.stack([to_append, torch.full_like(to_append, node_curr)], dim=0))\n",
    "\n",
    "        \n",
    "        if edges:\n",
    "            edge_index = torch.cat(edges, dim=1).to(torch.long)\n",
    "        else:\n",
    "            edge_index = torch.empty((2, 0), dtype=torch.long)\n",
    "        \n",
    "        return edge_index\n",
    "\n",
    "\n",
    "        \n",
    "    @staticmethod\n",
    "    def build_knn_graph(batch, core, padding_mask_batch, padding_mask_core, k=5):\n",
    "        \"\"\"\n",
    "        Build a KNN graph from batch and core tensors.\n",
    "        \n",
    "        Args:\n",
    "            batch: 3D tensor (batch_size, seq_len, features)\n",
    "            core: 3D tensor (core_size, seq_len, features)\n",
    "            padding_mask_batch: 2D tensor (batch_size, seq_len) indicating valid time points\n",
    "            padding_mask_core: 2D tensor (core_size, seq_len) indicating valid time points\n",
    "            k: number of nearest neighbors for patient connections\n",
    "        \n",
    "        Returns:\n",
    "            edge_index: tensor of shape (2, num_edges) representing graph edges\n",
    "        \"\"\"\n",
    "\n",
    "        batch_size, seq_len, _ = batch.shape\n",
    "        core_size = core.shape[0]\n",
    "        total_patients = batch_size + core_size\n",
    "        batch_size = batch.shape[0]\n",
    "        all_patients = torch.cat([batch, core], dim=0)\n",
    "        all_padding_mask = torch.cat([padding_mask_batch, padding_mask_core], dim=0)\n",
    "        \n",
    "        node_to_neighbors = {i: set() for i in range(total_patients * seq_len)}\n",
    "\n",
    "        edges = []\n",
    "           \n",
    "        for t in range(seq_len):\n",
    "            valid_patients = all_padding_mask[:, t] > 0\n",
    "            valid_indices = torch.where(valid_patients)[0] \n",
    "\n",
    "            core_patients = all_padding_mask[batch_size:, t] > 0\n",
    "            core_indices = torch.where(core_patients)[0] + batch_size\n",
    "\n",
    "            if len(valid_indices) > 1:\n",
    "                features_t = all_patients[valid_indices, t, :]\n",
    "                features_t_to = all_patients[core_indices, t, :]\n",
    "\n",
    "                distances = torch.cdist(features_t, features_t_to, p=2)\n",
    "                \n",
    "                for i, patient_idx in enumerate(valid_indices):\n",
    "                    num_neighbors = min(k, len(core_indices))\n",
    "                    _, nearest_indices = torch.topk(distances[i], num_neighbors, largest=False)\n",
    "                    \n",
    "                    for j in nearest_indices:\n",
    "                        neighbor_idx = core_indices[j]\n",
    "                        node_curr = patient_idx * seq_len + t\n",
    "                        node_neighbor = neighbor_idx * seq_len + t\n",
    "\n",
    "                        edges.append([node_neighbor, node_curr])\n",
    "                        \n",
    "                        node_to_neighbors[node_curr.item()].add(node_neighbor.item())\n",
    "        \n",
    "        result = [list(node_to_neighbors[i]) for i in range(total_patients * seq_len)]\n",
    "        return result\n",
    "\n",
    "# dataset = PatientDataset(core=padd_tensor_core, X=padded_tensor_train, y=labels_train, padding_mask=padding_mask_train, padding_mask_core=padding_mask_core, k=5)\n",
    "# dataset.cal_graphs()"
   ]
  },
  {
   "cell_type": "code",
   "execution_count": 34,
   "metadata": {},
   "outputs": [],
   "source": [
    "from sklearn.metrics import average_precision_score, roc_auc_score\n",
    "\n",
    "\n",
    "DEVICE = torch.device('cuda' if torch.cuda.is_available() else 'cpu')\n",
    "#DEVICE = torch.device('cpu')  # For testing purposes, use CPU\n",
    "\n",
    "\n",
    "class GraphGRUMortalityModel(nn.Module):\n",
    "    def __init__(self, input_dim, hidden_dim, n1_gat_layers, n2_gru_layers, X_core, core_padding_mask,\n",
    "                 num_heads=4, dropout=0.1, seq_len=18, k=5, gnn_flag=True):\n",
    "        \"\"\"\n",
    "        Mortality prediction model with Graph Attention + GRU layers\n",
    "        \n",
    "        Args:\n",
    "            input_dim: Input feature dimension\n",
    "            hidden_dim: Hidden dimension for GAT and GRU layers\n",
    "            n1_gat_layers: Number of Graph Attention layers\n",
    "            n2_gru_layers: Number of GRU layers\n",
    "            X_core_dim: Core set dimension (number of core patients)\n",
    "            num_heads: Number of attention heads for GAT\n",
    "            dropout: Dropout rate\n",
    "            seq_len: Sequence length\n",
    "        \"\"\"\n",
    "        super(GraphGRUMortalityModel, self).__init__()\n",
    "        \n",
    "        self.input_dim = input_dim\n",
    "        self.hidden_dim = hidden_dim\n",
    "        self.n1_gat_layers = n1_gat_layers\n",
    "        self.n2_gru_layers = n2_gru_layers\n",
    "        self.X_core = X_core.to(DEVICE)\n",
    "        self.core_padding_mask = core_padding_mask.to(DEVICE)\n",
    "        self.seq_len = seq_len\n",
    "        self.num_heads = num_heads\n",
    "        self.gnn_flag = gnn_flag\n",
    "        \n",
    "        self.gat_layers = nn.ModuleList().to(DEVICE)\n",
    "        \n",
    "        \n",
    "        self.gat_layers.append(\n",
    "            GATv2Conv(input_dim, hidden_dim // num_heads, heads=num_heads, dropout=dropout, concat=True)\n",
    "        )\n",
    "        \n",
    "        for _ in range(n1_gat_layers - 1):\n",
    "            self.gat_layers.append(\n",
    "                GATv2Conv(hidden_dim, hidden_dim // num_heads, heads=num_heads, dropout=dropout, concat=True)\n",
    "            )\n",
    "        \n",
    "        if self.gnn_flag:\n",
    "            self.gru = nn.GRU(hidden_dim, hidden_dim, n2_gru_layers, batch_first=True, dropout=dropout)\n",
    "        else:\n",
    "            self.gru = nn.GRU(input_dim, hidden_dim, n2_gru_layers, batch_first=True, dropout=dropout)\n",
    "        \n",
    "        self.classifier = nn.Linear(hidden_dim, 1).to(DEVICE)\n",
    "        self.dropout = nn.Dropout(dropout).to(DEVICE)\n",
    "        self.k = k\n",
    "\n",
    "        self.best_model = None\n",
    "\n",
    "        # initialize weights\n",
    "        for layer in self.gat_layers:\n",
    "            if isinstance(layer, GATv2Conv):\n",
    "                nn.init.xavier_uniform_(layer.lin_l.weight)\n",
    "                nn.init.xavier_uniform_(layer.lin_r.weight) \n",
    "        nn.init.xavier_uniform_(self.classifier.weight) \n",
    "        nn.init.constant_(self.classifier.bias, 0.0)\n",
    "        nn.init.xavier_uniform_(self.gru.weight_ih_l0)\n",
    "        nn.init.xavier_uniform_(self.gru.weight_hh_l0)\n",
    "        nn.init.constant_(self.gru.bias_ih_l0, 0.0)\n",
    "        nn.init.constant_(self.gru.bias_hh_l0, 0.0)\n",
    "        \n",
    "  \n",
    "        \n",
    "    def forward(self, x ,padding_mask, edge_index):\n",
    "        \"\"\"\n",
    "        Forward pass\n",
    "        \n",
    "        Args:\n",
    "            core: Core patients tensor (X_core_dim, seq_len, input_dim)\n",
    "            x: Batch patients tensor (batch_size, seq_len, input_dim)\n",
    "            y: Target labels (batch_size, seq_len)\n",
    "            padding_mask: Padding mask (batch_size, seq_len)\n",
    "            edge_index: Graph edge indices (2, num_edges)\n",
    "        \n",
    "        Returns:\n",
    "            predictions: Mortality predictions (batch_size, seq_len, 1)\n",
    "        \"\"\"\n",
    "        batch_size = x.size(0)\n",
    "        \n",
    "        if self.gnn_flag:\n",
    "            all_patients = torch.cat([x, self.X_core], dim=0)  # (batch_size + X_core_dim, seq_len, input_dim)\n",
    "            total_patients = batch_size + self.X_core.shape[0]\n",
    "            \n",
    "            # Reshape for graph processing: (total_patients * seq_len, input_dim)\n",
    "            graph_input = all_patients.view(total_patients * self.seq_len, -1)\n",
    "            # Apply GAT layers\n",
    "            for gat_layer in self.gat_layers:\n",
    "                graph_input = F.relu(gat_layer(graph_input, edge_index))\n",
    "            \n",
    "            # Reshape back to sequence format: (total_patients, seq_len, hidden_dim)\n",
    "            graph_output = graph_input.view(total_patients, self.seq_len, -1)\n",
    "\n",
    "            # Extract only batch patients (exclude core)\n",
    "        \n",
    "            batch_output = graph_output[:batch_size]  # (batch_size, seq_len, hidden_dim)\n",
    "        \n",
    "        else:\n",
    "            batch_output = x\n",
    "        # Apply GRU layers\n",
    "        # Pack sequences for efficient processing\n",
    "        # lengths from mask (True = pad) → count valid steps\n",
    "        lengths = (padding_mask.to(bool)).sum(dim=1)                       # (batch,)\n",
    "        lengths = lengths.clamp(min=1).cpu()\n",
    "        #packed_input = pack_padded_sequence(batch_output, lengths, batch_first=True, enforce_sorted=False)\n",
    "        #gru_output, _ = self.gru(packed_input)\n",
    "        # Unpack sequences\n",
    "        #gru_output, _ = pad_packed_sequence(gru_output, batch_first=True, total_length=self.seq_len)\n",
    "\n",
    "\n",
    "        gru_output, _ = self.gru(batch_output)\n",
    "        # Apply classifier\n",
    "        predictions = self.classifier(gru_output)  # (batch_size, seq_len, 1)\n",
    "        \n",
    "        return predictions.squeeze(-1)  # (batch_size, seq_len)\n",
    "    \n",
    "    \n",
    "    def masked_bce_loss(self, logits, targets, mask, pos_weight=None):\n",
    "        T = min(logits.shape[1], targets.shape[1], mask.shape[1])\n",
    "        logits, targets, mask = logits[:, :T], targets[:, :T], mask[:, :T]\n",
    "        loss = nn.BCEWithLogitsLoss(reduction='none', pos_weight=pos_weight)(logits, targets)\n",
    "        return (loss * mask).sum() / mask.sum()\n",
    "    \n",
    "\n",
    "    def train_all(self, dataloaders, datasets, epochs: int = 10, learning_rate: float = 1e-3, pos_lambda : float = 1):\n",
    "        self.train()\n",
    "        optim = torch.optim.Adam(self.parameters(), lr=learning_rate)\n",
    "        best_validation_accuracy = - float('inf')\n",
    "        targets = datasets['train'].y\n",
    "        pos_weight = (targets == 0).sum() / (targets == 1).sum()  # Adjust pos_weight as needed\n",
    "        print(f'Pos weight: {pos_weight:.4f}')\n",
    "\n",
    "\n",
    "        for epoch in range(epochs):\n",
    "            print(f'Starting epoch {epoch + 1}/{epochs}')\n",
    "            total = 0\n",
    "            for x, y, padding_mask, idx in tqdm(dataloaders['train']):\n",
    "                optim.zero_grad()\n",
    "\n",
    "                x, padding_mask, y = x.to(DEVICE), padding_mask.to(DEVICE), y.to(DEVICE)\n",
    "                edge_index = datasets['train'].get_edge_index(x, padding_mask, idx).to(DEVICE)\n",
    "                predictions = self.forward(x, padding_mask, edge_index)\n",
    "                loss = self.masked_bce_loss(\n",
    "                    predictions, y, padding_mask, pos_weight=pos_weight * pos_lambda\n",
    "                )\n",
    "                #loss = F.binary_cross_entropy_with_logits(predictions.view(-1), y.view(-1))\n",
    "                loss.backward()\n",
    "                optim.step()\n",
    "                \n",
    "                total += loss.item()\n",
    "            avg_loss = total / len(dataloaders['train'])\n",
    "            print(f'Epoch {epoch + 1}/{epochs}, Loss: {avg_loss:.4f}')\n",
    "            validation_accuracy = self.validate(dataloaders['val'], datasets['val'])\n",
    "            print(f'Validation Accuracy: {validation_accuracy[0]:.4f} | AUC: {validation_accuracy[1]:.4f} | AP: {validation_accuracy[2]:.4f}')\n",
    "            if validation_accuracy[2] > best_validation_accuracy:\n",
    "                best_validation_accuracy = validation_accuracy[2]\n",
    "                self.best_model = self.state_dict()\n",
    "                print(\"Best model updated\")\n",
    "        self.load_state_dict(self.best_model)\n",
    "\n",
    "    def validate(self, dataloader, dataset):\n",
    "        self.eval()\n",
    "        correct = 0\n",
    "        total = 0\n",
    "        with torch.no_grad():\n",
    "            all_true_labels = []\n",
    "            all_predicted_labels = []\n",
    "            for x, y, padding_mask, idx in tqdm(dataloader):\n",
    "                x, padding_mask, y = x.to(DEVICE), padding_mask.to(DEVICE), y.to(DEVICE)\n",
    "                # edge_index = dataset.build_knn_graph(x, self.X_core, padding_mask, self.core_padding_mask, k=self.k).to(DEVICE)\n",
    "                edge_index = dataset.get_edge_index(x, padding_mask, idx).to(DEVICE)\n",
    "                predictions = self.forward(x, padding_mask, edge_index)\n",
    "                all_true_labels.extend(y.cpu().numpy().flatten())\n",
    "                all_predicted_labels.extend(torch.sigmoid(predictions).cpu().numpy().flatten())\n",
    "                predicted_labels = (torch.sigmoid(predictions) > 0.5).float()\n",
    "                correct += (predicted_labels == y).sum().item()\n",
    "                total += y.numel()\n",
    "        accuracy = correct / total if total > 0 else 0\n",
    "        self.train()\n",
    "        return accuracy, roc_auc_score(all_true_labels, all_predicted_labels), average_precision_score(all_true_labels, all_predicted_labels)\n",
    "\n",
    "\n",
    "    \n"
   ]
  },
  {
   "cell_type": "code",
   "execution_count": 35,
   "metadata": {},
   "outputs": [],
   "source": [
    "batch_size = 256\n",
    "hidden_dim = 64\n",
    "k = 11\n",
    "\n",
    "padded_tensor_train, labels_train, padding_mask_train = generate_series_data(X_train, group_col=\"subject_id\", maxlen=18)\n",
    "padded_tensor_val, labels_val, padding_mask_val = generate_series_data(X_val, group_col=\"subject_id\", maxlen=18)\n",
    "padded_tensor_test, labels_test, padding_mask_test = generate_series_data(X_test, group_col=\"subject_id\", maxlen=18)\n",
    "padd_tensor_core, labels_core, padding_mask_core = generate_series_data(X_core, group_col=\"subject_id\", maxlen=18)\n",
    "\n",
    "datasets = {x: PatientDataset(d, y, core=padd_tensor_core, padding_mask=m, padding_mask_core=padding_mask_core, k=k) for x, d, y, m in\n",
    "        zip(['train', 'val', 'test'], [padded_tensor_train, padded_tensor_val, padded_tensor_test], \n",
    "            [labels_train, labels_val, labels_test], \n",
    "            [padding_mask_train, padding_mask_val, padding_mask_test])}\n",
    "dataloaders = {x: DataLoader(datasets[x], batch_size=batch_size, shuffle=True) for x in ['train', 'val', 'test']}\n"
   ]
  },
  {
   "cell_type": "code",
   "execution_count": 36,
   "metadata": {},
   "outputs": [
    {
     "name": "stdout",
     "output_type": "stream",
     "text": [
      "Pos weight: 20.2490\n",
      "Starting epoch 1/15\n"
     ]
    },
    {
     "name": "stderr",
     "output_type": "stream",
     "text": [
      "  0%|          | 0/77 [00:00<?, ?it/s]"
     ]
    },
    {
     "name": "stderr",
     "output_type": "stream",
     "text": [
      "100%|██████████| 77/77 [00:50<00:00,  1.54it/s]\n"
     ]
    },
    {
     "name": "stdout",
     "output_type": "stream",
     "text": [
      "Epoch 1/15, Loss: 1.5944\n"
     ]
    },
    {
     "name": "stderr",
     "output_type": "stream",
     "text": [
      "100%|██████████| 10/10 [00:06<00:00,  1.62it/s]\n"
     ]
    },
    {
     "name": "stdout",
     "output_type": "stream",
     "text": [
      "Validation Accuracy: 0.3713 | AUC: 0.7740 | AP: 0.1687\n",
      "Best model updated\n",
      "Starting epoch 2/15\n"
     ]
    },
    {
     "name": "stderr",
     "output_type": "stream",
     "text": [
      "100%|██████████| 77/77 [00:49<00:00,  1.56it/s]\n"
     ]
    },
    {
     "name": "stdout",
     "output_type": "stream",
     "text": [
      "Epoch 2/15, Loss: 1.4701\n"
     ]
    },
    {
     "name": "stderr",
     "output_type": "stream",
     "text": [
      "100%|██████████| 10/10 [00:06<00:00,  1.45it/s]\n"
     ]
    },
    {
     "name": "stdout",
     "output_type": "stream",
     "text": [
      "Validation Accuracy: 0.5278 | AUC: 0.7918 | AP: 0.1959\n",
      "Best model updated\n",
      "Starting epoch 3/15\n"
     ]
    },
    {
     "name": "stderr",
     "output_type": "stream",
     "text": [
      "100%|██████████| 77/77 [00:48<00:00,  1.57it/s]\n"
     ]
    },
    {
     "name": "stdout",
     "output_type": "stream",
     "text": [
      "Epoch 3/15, Loss: 1.4253\n"
     ]
    },
    {
     "name": "stderr",
     "output_type": "stream",
     "text": [
      "100%|██████████| 10/10 [00:06<00:00,  1.49it/s]\n"
     ]
    },
    {
     "name": "stdout",
     "output_type": "stream",
     "text": [
      "Validation Accuracy: 0.5637 | AUC: 0.8071 | AP: 0.2007\n",
      "Best model updated\n",
      "Starting epoch 4/15\n"
     ]
    },
    {
     "name": "stderr",
     "output_type": "stream",
     "text": [
      "100%|██████████| 77/77 [00:48<00:00,  1.58it/s]\n"
     ]
    },
    {
     "name": "stdout",
     "output_type": "stream",
     "text": [
      "Epoch 4/15, Loss: 1.4124\n"
     ]
    },
    {
     "name": "stderr",
     "output_type": "stream",
     "text": [
      "100%|██████████| 10/10 [00:06<00:00,  1.49it/s]\n"
     ]
    },
    {
     "name": "stdout",
     "output_type": "stream",
     "text": [
      "Validation Accuracy: 0.6510 | AUC: 0.8170 | AP: 0.2071\n",
      "Best model updated\n",
      "Starting epoch 5/15\n"
     ]
    },
    {
     "name": "stderr",
     "output_type": "stream",
     "text": [
      "100%|██████████| 77/77 [00:48<00:00,  1.58it/s]\n"
     ]
    },
    {
     "name": "stdout",
     "output_type": "stream",
     "text": [
      "Epoch 5/15, Loss: 1.3996\n"
     ]
    },
    {
     "name": "stderr",
     "output_type": "stream",
     "text": [
      "100%|██████████| 10/10 [00:06<00:00,  1.63it/s]\n"
     ]
    },
    {
     "name": "stdout",
     "output_type": "stream",
     "text": [
      "Validation Accuracy: 0.7417 | AUC: 0.7936 | AP: 0.2050\n",
      "Starting epoch 6/15\n"
     ]
    },
    {
     "name": "stderr",
     "output_type": "stream",
     "text": [
      "100%|██████████| 77/77 [00:49<00:00,  1.55it/s]\n"
     ]
    },
    {
     "name": "stdout",
     "output_type": "stream",
     "text": [
      "Epoch 6/15, Loss: 1.3517\n"
     ]
    },
    {
     "name": "stderr",
     "output_type": "stream",
     "text": [
      "100%|██████████| 10/10 [00:06<00:00,  1.63it/s]\n"
     ]
    },
    {
     "name": "stdout",
     "output_type": "stream",
     "text": [
      "Validation Accuracy: 0.7804 | AUC: 0.7955 | AP: 0.2005\n",
      "Starting epoch 7/15\n"
     ]
    },
    {
     "name": "stderr",
     "output_type": "stream",
     "text": [
      "100%|██████████| 77/77 [00:49<00:00,  1.55it/s]\n"
     ]
    },
    {
     "name": "stdout",
     "output_type": "stream",
     "text": [
      "Epoch 7/15, Loss: 1.3370\n"
     ]
    },
    {
     "name": "stderr",
     "output_type": "stream",
     "text": [
      "100%|██████████| 10/10 [00:06<00:00,  1.63it/s]\n"
     ]
    },
    {
     "name": "stdout",
     "output_type": "stream",
     "text": [
      "Validation Accuracy: 0.7522 | AUC: 0.8047 | AP: 0.2153\n",
      "Best model updated\n",
      "Starting epoch 8/15\n"
     ]
    },
    {
     "name": "stderr",
     "output_type": "stream",
     "text": [
      "100%|██████████| 77/77 [00:49<00:00,  1.55it/s]\n"
     ]
    },
    {
     "name": "stdout",
     "output_type": "stream",
     "text": [
      "Epoch 8/15, Loss: 1.3255\n"
     ]
    },
    {
     "name": "stderr",
     "output_type": "stream",
     "text": [
      "100%|██████████| 10/10 [00:06<00:00,  1.63it/s]\n"
     ]
    },
    {
     "name": "stdout",
     "output_type": "stream",
     "text": [
      "Validation Accuracy: 0.5780 | AUC: 0.8325 | AP: 0.2263\n",
      "Best model updated\n",
      "Starting epoch 9/15\n"
     ]
    },
    {
     "name": "stderr",
     "output_type": "stream",
     "text": [
      "100%|██████████| 77/77 [00:49<00:00,  1.55it/s]\n"
     ]
    },
    {
     "name": "stdout",
     "output_type": "stream",
     "text": [
      "Epoch 9/15, Loss: 1.3074\n"
     ]
    },
    {
     "name": "stderr",
     "output_type": "stream",
     "text": [
      "100%|██████████| 10/10 [00:06<00:00,  1.63it/s]\n"
     ]
    },
    {
     "name": "stdout",
     "output_type": "stream",
     "text": [
      "Validation Accuracy: 0.6640 | AUC: 0.8306 | AP: 0.2243\n",
      "Starting epoch 10/15\n"
     ]
    },
    {
     "name": "stderr",
     "output_type": "stream",
     "text": [
      "100%|██████████| 77/77 [00:49<00:00,  1.55it/s]\n"
     ]
    },
    {
     "name": "stdout",
     "output_type": "stream",
     "text": [
      "Epoch 10/15, Loss: 1.2698\n"
     ]
    },
    {
     "name": "stderr",
     "output_type": "stream",
     "text": [
      "100%|██████████| 10/10 [00:06<00:00,  1.63it/s]\n"
     ]
    },
    {
     "name": "stdout",
     "output_type": "stream",
     "text": [
      "Validation Accuracy: 0.6267 | AUC: 0.8325 | AP: 0.2238\n",
      "Starting epoch 11/15\n"
     ]
    },
    {
     "name": "stderr",
     "output_type": "stream",
     "text": [
      "100%|██████████| 77/77 [00:49<00:00,  1.55it/s]\n"
     ]
    },
    {
     "name": "stdout",
     "output_type": "stream",
     "text": [
      "Epoch 11/15, Loss: 1.2637\n"
     ]
    },
    {
     "name": "stderr",
     "output_type": "stream",
     "text": [
      "100%|██████████| 10/10 [00:06<00:00,  1.63it/s]\n"
     ]
    },
    {
     "name": "stdout",
     "output_type": "stream",
     "text": [
      "Validation Accuracy: 0.7628 | AUC: 0.8211 | AP: 0.2248\n",
      "Starting epoch 12/15\n"
     ]
    },
    {
     "name": "stderr",
     "output_type": "stream",
     "text": [
      "100%|██████████| 77/77 [00:49<00:00,  1.55it/s]\n"
     ]
    },
    {
     "name": "stdout",
     "output_type": "stream",
     "text": [
      "Epoch 12/15, Loss: 1.2288\n"
     ]
    },
    {
     "name": "stderr",
     "output_type": "stream",
     "text": [
      "100%|██████████| 10/10 [00:06<00:00,  1.63it/s]\n"
     ]
    },
    {
     "name": "stdout",
     "output_type": "stream",
     "text": [
      "Validation Accuracy: 0.6178 | AUC: 0.8314 | AP: 0.2235\n",
      "Starting epoch 13/15\n"
     ]
    },
    {
     "name": "stderr",
     "output_type": "stream",
     "text": [
      "100%|██████████| 77/77 [00:49<00:00,  1.55it/s]\n"
     ]
    },
    {
     "name": "stdout",
     "output_type": "stream",
     "text": [
      "Epoch 13/15, Loss: 1.1946\n"
     ]
    },
    {
     "name": "stderr",
     "output_type": "stream",
     "text": [
      "100%|██████████| 10/10 [00:06<00:00,  1.63it/s]\n"
     ]
    },
    {
     "name": "stdout",
     "output_type": "stream",
     "text": [
      "Validation Accuracy: 0.7001 | AUC: 0.8297 | AP: 0.2405\n",
      "Best model updated\n",
      "Starting epoch 14/15\n"
     ]
    },
    {
     "name": "stderr",
     "output_type": "stream",
     "text": [
      "100%|██████████| 77/77 [00:49<00:00,  1.55it/s]\n"
     ]
    },
    {
     "name": "stdout",
     "output_type": "stream",
     "text": [
      "Epoch 14/15, Loss: 1.1705\n"
     ]
    },
    {
     "name": "stderr",
     "output_type": "stream",
     "text": [
      "100%|██████████| 10/10 [00:06<00:00,  1.63it/s]\n"
     ]
    },
    {
     "name": "stdout",
     "output_type": "stream",
     "text": [
      "Validation Accuracy: 0.6207 | AUC: 0.8285 | AP: 0.2405\n",
      "Best model updated\n",
      "Starting epoch 15/15\n"
     ]
    },
    {
     "name": "stderr",
     "output_type": "stream",
     "text": [
      "100%|██████████| 77/77 [00:49<00:00,  1.54it/s]\n"
     ]
    },
    {
     "name": "stdout",
     "output_type": "stream",
     "text": [
      "Epoch 15/15, Loss: 1.1669\n"
     ]
    },
    {
     "name": "stderr",
     "output_type": "stream",
     "text": [
      "100%|██████████| 10/10 [00:06<00:00,  1.63it/s]\n"
     ]
    },
    {
     "name": "stdout",
     "output_type": "stream",
     "text": [
      "Validation Accuracy: 0.5813 | AUC: 0.8371 | AP: 0.2379\n",
      "Training completed. Validating on test set...\n"
     ]
    },
    {
     "name": "stderr",
     "output_type": "stream",
     "text": [
      "100%|██████████| 10/10 [00:06<00:00,  1.62it/s]"
     ]
    },
    {
     "name": "stdout",
     "output_type": "stream",
     "text": [
      "Test Accuracy in BaseLine model: 0.5691, AUC: 0.8350, AP: 0.2529\n"
     ]
    },
    {
     "name": "stderr",
     "output_type": "stream",
     "text": [
      "\n"
     ]
    }
   ],
   "source": [
    "model = GraphGRUMortalityModel(input_dim=padded_tensor_train.shape[2], hidden_dim=hidden_dim, n1_gat_layers=2, n2_gru_layers=2, X_core=padd_tensor_core, \n",
    "                               core_padding_mask=padding_mask_core, num_heads=4, dropout=0.1, seq_len=padded_tensor_train.shape[1], k=k, gnn_flag=True).to(DEVICE)\n",
    "\n",
    "model.train_all(dataloaders, datasets, epochs=15, learning_rate=1e-3)\n",
    "print(\"Training completed. Validating on test set...\")\n",
    "\n",
    "acc, auc, pr =  model.validate(dataloaders['test'], datasets['test'])\n",
    "print(f'Test Accuracy in BaseLine model: {acc:.4f}, AUC: {auc:.4f}, AP: {pr:.4f}')"
   ]
  },
  {
   "cell_type": "code",
   "execution_count": null,
   "metadata": {},
   "outputs": [
    {
     "name": "stdout",
     "output_type": "stream",
     "text": [
      "Test Accuracy in BaseLine model: 0.7342, AUC: 0.8546, AP: 0.2779\n"
     ]
    }
   ],
   "source": [
    "\n",
    "acc, auc, pr =  model.validate(dataloaders['test'], datasets['test'])\n",
    "print(f'Test Accuracy in BaseLine model: {acc:.4f}, AUC: {auc:.4f}, AP: {pr:.4f}')"
   ]
  },
  {
   "cell_type": "code",
   "execution_count": null,
   "metadata": {},
   "outputs": [],
   "source": [
    "import optuna\n",
    "import gc\n",
    "import joblib\n",
    "def objective_mlp(trial):\n",
    "    hidden_dim = trial.suggest_int('hidden_dim', 32, 128, step=16)\n",
    "    n1_gat_layers = trial.suggest_int('n1_gat_layers', 1, 5)\n",
    "    n2_gru_layers = trial.suggest_int('n2_gru_layers', 1, 5)\n",
    "    dropout = trial.suggest_float('dropout', 0.1, 0.5, step=0.1)\n",
    "    num_heads = trial.suggest_int('num_heads', 2, 8, step=2)\n",
    "    k = trial.suggest_int('k', 5, 15, step=2)\n",
    "\n",
    "    model = GraphGRUMortalityModel(input_dim=padded_tensor_train.shape[2], hidden_dim=hidden_dim, n1_gat_layers=n1_gat_layers,\n",
    "                                   n2_gru_layers=n2_gru_layers, X_core=padd_tensor_core, core_padding_mask=padding_mask_core,\n",
    "                                   num_heads=num_heads, dropout=dropout, seq_len=padded_tensor_train.shape[1], k=k, gnn_falg=True).to(DEVICE)\n",
    "\n",
    "    model.train_all(dataloaders, datasets, epochs=10, learning_rate=1e-3)\n",
    "    \n",
    "    acc, auc, pr = model.validate(dataloaders['test'], datasets['test'])\n",
    "    \n",
    "    del model \n",
    "    torch.cuda.empty_cache() \n",
    "    gc.collect()\n",
    "    return pr\n",
    "\n",
    "batch_size = 256\n",
    "\n",
    "study = optuna.create_study(direction='maximize')\n",
    "study.optimize(objective_mlp, n_trials=20)  \n",
    "print(\"Best trial:\")\n",
    "print(study.best_trial)\n",
    "print(\"Best hyperparameters:\", study.best_trial.params) \n",
    "joblib.dump(study, 'optuna_study.pkl')\n"
   ]
  },
  {
   "cell_type": "code",
   "execution_count": 27,
   "metadata": {},
   "outputs": [
    {
     "name": "stdout",
     "output_type": "stream",
     "text": [
      "FrozenTrial(number=1, state=TrialState.COMPLETE, values=[0.3055693844824112], datetime_start=datetime.datetime(2025, 8, 17, 19, 18, 21, 898015), datetime_complete=datetime.datetime(2025, 8, 17, 19, 53, 35, 836441), params={'hidden_dim': 48, 'n1_gat_layers': 3, 'n2_gru_layers': 2, 'dropout': 0.1, 'num_heads': 8, 'k': 5}, user_attrs={}, system_attrs={}, intermediate_values={}, distributions={'hidden_dim': IntDistribution(high=128, log=False, low=32, step=16), 'n1_gat_layers': IntDistribution(high=5, log=False, low=1, step=1), 'n2_gru_layers': IntDistribution(high=5, log=False, low=1, step=1), 'dropout': FloatDistribution(high=0.5, log=False, low=0.1, step=0.1), 'num_heads': IntDistribution(high=8, log=False, low=2, step=2), 'k': IntDistribution(high=15, log=False, low=5, step=2)}, trial_id=1, value=None)\n",
      "Best hyperparameters: {'hidden_dim': 48, 'n1_gat_layers': 3, 'n2_gru_layers': 2, 'dropout': 0.1, 'num_heads': 8, 'k': 5}\n"
     ]
    }
   ],
   "source": [
    "print(study.best_trial)\n",
    "print(\"Best hyperparameters:\", study.best_trial.params) "
   ]
  },
  {
   "cell_type": "code",
   "execution_count": 92,
   "metadata": {},
   "outputs": [
    {
     "name": "stdout",
     "output_type": "stream",
     "text": [
      "Starting epoch 1/15\n"
     ]
    },
    {
     "name": "stderr",
     "output_type": "stream",
     "text": [
      "100%|██████████| 78/78 [02:54<00:00,  2.24s/it]\n"
     ]
    },
    {
     "name": "stdout",
     "output_type": "stream",
     "text": [
      "Epoch 1/15, Loss: 0.2867\n",
      "Validation Accuracy: 0.9511 | AUC: 0.4619 | AP: 0.0443\n",
      "Best model updated\n",
      "Starting epoch 2/15\n"
     ]
    },
    {
     "name": "stderr",
     "output_type": "stream",
     "text": [
      "100%|██████████| 78/78 [02:54<00:00,  2.24s/it]\n"
     ]
    },
    {
     "name": "stdout",
     "output_type": "stream",
     "text": [
      "Epoch 2/15, Loss: 0.2454\n",
      "Validation Accuracy: 0.9509 | AUC: 0.6103 | AP: 0.1005\n",
      "Best model updated\n",
      "Starting epoch 3/15\n"
     ]
    },
    {
     "name": "stderr",
     "output_type": "stream",
     "text": [
      "100%|██████████| 78/78 [02:53<00:00,  2.22s/it]\n"
     ]
    },
    {
     "name": "stdout",
     "output_type": "stream",
     "text": [
      "Epoch 3/15, Loss: 0.2396\n",
      "Validation Accuracy: 0.9508 | AUC: 0.6079 | AP: 0.1140\n",
      "Best model updated\n",
      "Starting epoch 4/15\n"
     ]
    },
    {
     "name": "stderr",
     "output_type": "stream",
     "text": [
      "100%|██████████| 78/78 [02:55<00:00,  2.26s/it]\n"
     ]
    },
    {
     "name": "stdout",
     "output_type": "stream",
     "text": [
      "Epoch 4/15, Loss: 0.2375\n",
      "Validation Accuracy: 0.9506 | AUC: 0.6341 | AP: 0.1350\n",
      "Best model updated\n",
      "Starting epoch 5/15\n"
     ]
    },
    {
     "name": "stderr",
     "output_type": "stream",
     "text": [
      "100%|██████████| 78/78 [02:56<00:00,  2.26s/it]\n"
     ]
    },
    {
     "name": "stdout",
     "output_type": "stream",
     "text": [
      "Epoch 5/15, Loss: 0.2301\n",
      "Validation Accuracy: 0.9502 | AUC: 0.7049 | AP: 0.1790\n",
      "Best model updated\n",
      "Starting epoch 6/15\n"
     ]
    },
    {
     "name": "stderr",
     "output_type": "stream",
     "text": [
      "100%|██████████| 78/78 [02:57<00:00,  2.27s/it]\n"
     ]
    },
    {
     "name": "stdout",
     "output_type": "stream",
     "text": [
      "Epoch 6/15, Loss: 0.2279\n",
      "Validation Accuracy: 0.9505 | AUC: 0.7178 | AP: 0.1940\n",
      "Best model updated\n",
      "Starting epoch 7/15\n"
     ]
    },
    {
     "name": "stderr",
     "output_type": "stream",
     "text": [
      "100%|██████████| 78/78 [02:55<00:00,  2.25s/it]\n"
     ]
    },
    {
     "name": "stdout",
     "output_type": "stream",
     "text": [
      "Epoch 7/15, Loss: 0.2245\n",
      "Validation Accuracy: 0.9493 | AUC: 0.7233 | AP: 0.1905\n",
      "Starting epoch 8/15\n"
     ]
    },
    {
     "name": "stderr",
     "output_type": "stream",
     "text": [
      "100%|██████████| 78/78 [03:03<00:00,  2.36s/it]\n"
     ]
    },
    {
     "name": "stdout",
     "output_type": "stream",
     "text": [
      "Epoch 8/15, Loss: 0.2209\n",
      "Validation Accuracy: 0.9505 | AUC: 0.7405 | AP: 0.1930\n",
      "Starting epoch 9/15\n"
     ]
    },
    {
     "name": "stderr",
     "output_type": "stream",
     "text": [
      "100%|██████████| 78/78 [02:54<00:00,  2.23s/it]\n"
     ]
    },
    {
     "name": "stdout",
     "output_type": "stream",
     "text": [
      "Epoch 9/15, Loss: 0.2190\n",
      "Validation Accuracy: 0.9518 | AUC: 0.7652 | AP: 0.2273\n",
      "Best model updated\n",
      "Starting epoch 10/15\n"
     ]
    },
    {
     "name": "stderr",
     "output_type": "stream",
     "text": [
      "100%|██████████| 78/78 [02:54<00:00,  2.23s/it]\n"
     ]
    },
    {
     "name": "stdout",
     "output_type": "stream",
     "text": [
      "Epoch 10/15, Loss: 0.2184\n",
      "Validation Accuracy: 0.9508 | AUC: 0.7820 | AP: 0.2331\n",
      "Best model updated\n",
      "Starting epoch 11/15\n"
     ]
    },
    {
     "name": "stderr",
     "output_type": "stream",
     "text": [
      "100%|██████████| 78/78 [02:51<00:00,  2.19s/it]\n"
     ]
    },
    {
     "name": "stdout",
     "output_type": "stream",
     "text": [
      "Epoch 11/15, Loss: 0.2153\n",
      "Validation Accuracy: 0.9511 | AUC: 0.7725 | AP: 0.2274\n",
      "Starting epoch 12/15\n"
     ]
    },
    {
     "name": "stderr",
     "output_type": "stream",
     "text": [
      "100%|██████████| 78/78 [03:01<00:00,  2.32s/it]\n"
     ]
    },
    {
     "name": "stdout",
     "output_type": "stream",
     "text": [
      "Epoch 12/15, Loss: 0.2179\n",
      "Validation Accuracy: 0.9486 | AUC: 0.7730 | AP: 0.2068\n",
      "Starting epoch 13/15\n"
     ]
    },
    {
     "name": "stderr",
     "output_type": "stream",
     "text": [
      "100%|██████████| 78/78 [02:59<00:00,  2.30s/it]\n"
     ]
    },
    {
     "name": "stdout",
     "output_type": "stream",
     "text": [
      "Epoch 13/15, Loss: 0.2093\n",
      "Validation Accuracy: 0.9496 | AUC: 0.7764 | AP: 0.2037\n",
      "Starting epoch 14/15\n"
     ]
    },
    {
     "name": "stderr",
     "output_type": "stream",
     "text": [
      "100%|██████████| 78/78 [02:53<00:00,  2.23s/it]\n"
     ]
    },
    {
     "name": "stdout",
     "output_type": "stream",
     "text": [
      "Epoch 14/15, Loss: 0.2096\n",
      "Validation Accuracy: 0.9503 | AUC: 0.7686 | AP: 0.1972\n",
      "Starting epoch 15/15\n"
     ]
    },
    {
     "name": "stderr",
     "output_type": "stream",
     "text": [
      "100%|██████████| 78/78 [02:51<00:00,  2.20s/it]\n"
     ]
    },
    {
     "name": "stdout",
     "output_type": "stream",
     "text": [
      "Epoch 15/15, Loss: 0.2072\n",
      "Validation Accuracy: 0.9416 | AUC: 0.7864 | AP: 0.1931\n",
      "Training completed. Validating on test set...\n",
      "Test Accuracy in GNN model: 0.9417, AUC: 0.8056, AP: 0.1985\n"
     ]
    }
   ],
   "source": [
    "hidden_dim = study.best_trial.params['hidden_dim']\n",
    "n1_gat_layers = study.best_trial.params['n1_gat_layers']\n",
    "n2_gru_layers = study.best_trial.params['n2_gru_layers']\n",
    "dropout = study.best_trial.params['dropout']\n",
    "num_heads = study.best_trial.params['num_heads']\n",
    "k = study.best_trial.params['k']\n",
    "\n",
    "model = GraphGRUMortalityModel(input_dim=padded_tensor_train.shape[2], hidden_dim=hidden_dim, n1_gat_layers=n1_gat_layers,\n",
    "                            n2_gru_layers=n2_gru_layers, X_core=padd_tensor_core, core_padding_mask=padding_mask_core,\n",
    "                            num_heads=num_heads, dropout=dropout, seq_len=padded_tensor_train.shape[1], k=k, gnn_falg=True).to(DEVICE)\n",
    "\n",
    "\n",
    "model.train_all(dataloaders, datasets, epochs=15, learning_rate=1e-3)\n",
    "print(\"Training completed. Validating on test set...\")\n",
    "\n",
    "acc, auc, pr =  model.validate(dataloaders['test'], datasets['test'])\n",
    "print(f'Test Accuracy in GNN model: {acc:.4f}, AUC: {auc:.4f}, AP: {pr:.4f}')"
   ]
  },
  {
   "cell_type": "code",
   "execution_count": null,
   "metadata": {},
   "outputs": [],
   "source": [
    "model = GraphGRUMortalityModel(input_dim=padded_tensor_train.shape[2], hidden_dim=hidden_dim, n1_gat_layers=2, n2_gru_layers=2, X_core=padd_tensor_core, \n",
    "                               core_padding_mask=padding_mask_core, num_heads=4, dropout=0.1, seq_len=padded_tensor_train.shape[1], k=k, gnn_falg=False).to(DEVICE)\n",
    "\n",
    "model.train_all(dataloaders, datasets, epochs=15, learning_rate=1e-3)\n",
    "print(\"Training completed. Validating on test set...\")\n",
    "\n",
    "acc, auc, pr =  model.validate(dataloaders['test'], datasets['test'])\n",
    "print(f'Test Accuracy in GNN model: {acc:.4f}, AUC: {auc:.4f}, AP: {pr:.4f}')"
   ]
  }
 ],
 "metadata": {
  "colab": {
   "provenance": []
  },
  "kernelspec": {
   "display_name": "Python 3 (ipykernel)",
   "language": "python",
   "name": "python3"
  },
  "language_info": {
   "codemirror_mode": {
    "name": "ipython",
    "version": 3
   },
   "file_extension": ".py",
   "mimetype": "text/x-python",
   "name": "python",
   "nbconvert_exporter": "python",
   "pygments_lexer": "ipython3",
   "version": "3.10.15"
  },
  "widgets": {
   "application/vnd.jupyter.widget-state+json": {
    "1ddf7f8e5bd9405fb67d08725d4983e5": {
     "model_module": "@jupyter-widgets/controls",
     "model_module_version": "1.5.0",
     "model_name": "ProgressStyleModel",
     "state": {
      "_model_module": "@jupyter-widgets/controls",
      "_model_module_version": "1.5.0",
      "_model_name": "ProgressStyleModel",
      "_view_count": null,
      "_view_module": "@jupyter-widgets/base",
      "_view_module_version": "1.2.0",
      "_view_name": "StyleView",
      "bar_color": "black",
      "description_width": ""
     }
    },
    "56463d5b8bee4a088d7c9d7613fd6e20": {
     "model_module": "@jupyter-widgets/base",
     "model_module_version": "1.2.0",
     "model_name": "LayoutModel",
     "state": {
      "_model_module": "@jupyter-widgets/base",
      "_model_module_version": "1.2.0",
      "_model_name": "LayoutModel",
      "_view_count": null,
      "_view_module": "@jupyter-widgets/base",
      "_view_module_version": "1.2.0",
      "_view_name": "LayoutView",
      "align_content": null,
      "align_items": null,
      "align_self": null,
      "border": null,
      "bottom": null,
      "display": null,
      "flex": null,
      "flex_flow": null,
      "grid_area": null,
      "grid_auto_columns": null,
      "grid_auto_flow": null,
      "grid_auto_rows": null,
      "grid_column": null,
      "grid_gap": null,
      "grid_row": null,
      "grid_template_areas": null,
      "grid_template_columns": null,
      "grid_template_rows": null,
      "height": null,
      "justify_content": null,
      "justify_items": null,
      "left": null,
      "margin": null,
      "max_height": null,
      "max_width": null,
      "min_height": null,
      "min_width": null,
      "object_fit": null,
      "object_position": null,
      "order": null,
      "overflow": null,
      "overflow_x": null,
      "overflow_y": null,
      "padding": null,
      "right": null,
      "top": null,
      "visibility": null,
      "width": "auto"
     }
    },
    "78c007406aa24a9f80d79038bb6e14a1": {
     "model_module": "@jupyter-widgets/controls",
     "model_module_version": "1.5.0",
     "model_name": "FloatProgressModel",
     "state": {
      "_dom_classes": [],
      "_model_module": "@jupyter-widgets/controls",
      "_model_module_version": "1.5.0",
      "_model_name": "FloatProgressModel",
      "_view_count": null,
      "_view_module": "@jupyter-widgets/controls",
      "_view_module_version": "1.5.0",
      "_view_name": "ProgressView",
      "bar_style": "",
      "description": "",
      "description_tooltip": null,
      "layout": "IPY_MODEL_fb91ad428b04480f995aced9d968ba18",
      "max": 100,
      "min": 0,
      "orientation": "horizontal",
      "style": "IPY_MODEL_1ddf7f8e5bd9405fb67d08725d4983e5",
      "value": 84
     }
    },
    "befffb4f7372406291ce48f9bfcdb07b": {
     "model_module": "@jupyter-widgets/controls",
     "model_module_version": "1.5.0",
     "model_name": "FloatProgressModel",
     "state": {
      "_dom_classes": [],
      "_model_module": "@jupyter-widgets/controls",
      "_model_module_version": "1.5.0",
      "_model_name": "FloatProgressModel",
      "_view_count": null,
      "_view_module": "@jupyter-widgets/controls",
      "_view_module_version": "1.5.0",
      "_view_name": "ProgressView",
      "bar_style": "",
      "description": "",
      "description_tooltip": null,
      "layout": "IPY_MODEL_56463d5b8bee4a088d7c9d7613fd6e20",
      "max": 100,
      "min": 0,
      "orientation": "horizontal",
      "style": "IPY_MODEL_da6f1034c8da4045a1b7aee2d5f78d5d",
      "value": 100
     }
    },
    "c82cd5cfb39e42af888dc187b5d8a58c": {
     "model_module": "@jupyter-widgets/base",
     "model_module_version": "1.2.0",
     "model_name": "LayoutModel",
     "state": {
      "_model_module": "@jupyter-widgets/base",
      "_model_module_version": "1.2.0",
      "_model_name": "LayoutModel",
      "_view_count": null,
      "_view_module": "@jupyter-widgets/base",
      "_view_module_version": "1.2.0",
      "_view_name": "LayoutView",
      "align_content": null,
      "align_items": null,
      "align_self": null,
      "border": null,
      "bottom": null,
      "display": null,
      "flex": null,
      "flex_flow": null,
      "grid_area": null,
      "grid_auto_columns": null,
      "grid_auto_flow": null,
      "grid_auto_rows": null,
      "grid_column": null,
      "grid_gap": null,
      "grid_row": null,
      "grid_template_areas": null,
      "grid_template_columns": null,
      "grid_template_rows": null,
      "height": null,
      "justify_content": null,
      "justify_items": null,
      "left": null,
      "margin": null,
      "max_height": null,
      "max_width": null,
      "min_height": null,
      "min_width": null,
      "object_fit": null,
      "object_position": null,
      "order": null,
      "overflow": null,
      "overflow_x": null,
      "overflow_y": null,
      "padding": null,
      "right": null,
      "top": null,
      "visibility": null,
      "width": "auto"
     }
    },
    "c94eb62fe73b4171937f354e2c2f06fa": {
     "model_module": "@jupyter-widgets/controls",
     "model_module_version": "1.5.0",
     "model_name": "ProgressStyleModel",
     "state": {
      "_model_module": "@jupyter-widgets/controls",
      "_model_module_version": "1.5.0",
      "_model_name": "ProgressStyleModel",
      "_view_count": null,
      "_view_module": "@jupyter-widgets/base",
      "_view_module_version": "1.2.0",
      "_view_name": "StyleView",
      "bar_color": "black",
      "description_width": ""
     }
    },
    "da6f1034c8da4045a1b7aee2d5f78d5d": {
     "model_module": "@jupyter-widgets/controls",
     "model_module_version": "1.5.0",
     "model_name": "ProgressStyleModel",
     "state": {
      "_model_module": "@jupyter-widgets/controls",
      "_model_module_version": "1.5.0",
      "_model_name": "ProgressStyleModel",
      "_view_count": null,
      "_view_module": "@jupyter-widgets/base",
      "_view_module_version": "1.2.0",
      "_view_name": "StyleView",
      "bar_color": "black",
      "description_width": ""
     }
    },
    "e6c51c60ee844703a0339b2e1dccc64b": {
     "model_module": "@jupyter-widgets/controls",
     "model_module_version": "1.5.0",
     "model_name": "FloatProgressModel",
     "state": {
      "_dom_classes": [],
      "_model_module": "@jupyter-widgets/controls",
      "_model_module_version": "1.5.0",
      "_model_name": "FloatProgressModel",
      "_view_count": null,
      "_view_module": "@jupyter-widgets/controls",
      "_view_module_version": "1.5.0",
      "_view_name": "ProgressView",
      "bar_style": "",
      "description": "",
      "description_tooltip": null,
      "layout": "IPY_MODEL_c82cd5cfb39e42af888dc187b5d8a58c",
      "max": 100,
      "min": 0,
      "orientation": "horizontal",
      "style": "IPY_MODEL_c94eb62fe73b4171937f354e2c2f06fa",
      "value": 59
     }
    },
    "fb91ad428b04480f995aced9d968ba18": {
     "model_module": "@jupyter-widgets/base",
     "model_module_version": "1.2.0",
     "model_name": "LayoutModel",
     "state": {
      "_model_module": "@jupyter-widgets/base",
      "_model_module_version": "1.2.0",
      "_model_name": "LayoutModel",
      "_view_count": null,
      "_view_module": "@jupyter-widgets/base",
      "_view_module_version": "1.2.0",
      "_view_name": "LayoutView",
      "align_content": null,
      "align_items": null,
      "align_self": null,
      "border": null,
      "bottom": null,
      "display": null,
      "flex": null,
      "flex_flow": null,
      "grid_area": null,
      "grid_auto_columns": null,
      "grid_auto_flow": null,
      "grid_auto_rows": null,
      "grid_column": null,
      "grid_gap": null,
      "grid_row": null,
      "grid_template_areas": null,
      "grid_template_columns": null,
      "grid_template_rows": null,
      "height": null,
      "justify_content": null,
      "justify_items": null,
      "left": null,
      "margin": null,
      "max_height": null,
      "max_width": null,
      "min_height": null,
      "min_width": null,
      "object_fit": null,
      "object_position": null,
      "order": null,
      "overflow": null,
      "overflow_x": null,
      "overflow_y": null,
      "padding": null,
      "right": null,
      "top": null,
      "visibility": null,
      "width": "auto"
     }
    }
   }
  }
 },
 "nbformat": 4,
 "nbformat_minor": 0
}
