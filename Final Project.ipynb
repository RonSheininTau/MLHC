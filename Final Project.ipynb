{
 "cells": [
  {
   "cell_type": "markdown",
   "metadata": {
    "id": "O949bBTz2RnR"
   },
   "source": [
    "## Setup"
   ]
  },
  {
   "cell_type": "code",
   "execution_count": 353,
   "metadata": {
    "executionInfo": {
     "elapsed": 2175,
     "status": "ok",
     "timestamp": 1754564723760,
     "user": {
      "displayName": "Yael Kupershmidt",
      "userId": "00404238359436170384"
     },
     "user_tz": -180
    },
    "id": "KIE3DXDp109Q"
   },
   "outputs": [],
   "source": [
    "# from google.colab import auth\n",
    "# from google.cloud import bigquery\n",
    "# from google.colab import data_table\n",
    "# from google.colab import widgets\n",
    "\n",
    "# from collections import Counter\n",
    "# import re\n",
    "# import numpy as np\n",
    "# import pandas as pd\n",
    "# import math\n",
    "\n"
   ]
  },
  {
   "cell_type": "code",
   "execution_count": 354,
   "metadata": {
    "colab": {
     "base_uri": "https://localhost:8080/"
    },
    "executionInfo": {
     "elapsed": 22629,
     "status": "ok",
     "timestamp": 1754564746394,
     "user": {
      "displayName": "Yael Kupershmidt",
      "userId": "00404238359436170384"
     },
     "user_tz": -180
    },
    "id": "oUeMEbyU2Uga",
    "outputId": "8402b305-b170-4709-eae5-ddb9cc1eaad1"
   },
   "outputs": [],
   "source": [
    "# import os\n",
    "# from google.colab import drive\n",
    "# import sys\n",
    "\n",
    "# drive.mount('/content/drive')\n",
    "# os.chdir('/content/drive/MyDrive/HML/Final Project')\n",
    "# sys.path.append(os.path.abspath('/content/drive/MyDrive/HML/Final Project'))"
   ]
  },
  {
   "cell_type": "code",
   "execution_count": 355,
   "metadata": {
    "executionInfo": {
     "elapsed": 6357,
     "status": "ok",
     "timestamp": 1754564787170,
     "user": {
      "displayName": "Yael Kupershmidt",
      "userId": "00404238359436170384"
     },
     "user_tz": -180
    },
    "id": "z2DeVlHnNdm2"
   },
   "outputs": [],
   "source": [
    "# !pip install duckdb --quiet\n",
    "# import duckdb"
   ]
  },
  {
   "cell_type": "code",
   "execution_count": 356,
   "metadata": {
    "executionInfo": {
     "elapsed": 4092,
     "status": "ok",
     "timestamp": 1754564841428,
     "user": {
      "displayName": "Yael Kupershmidt",
      "userId": "00404238359436170384"
     },
     "user_tz": -180
    },
    "id": "ZSLwVEZTNX5S"
   },
   "outputs": [],
   "source": [
    "# drive_path = '/content/drive/MyDrive/HML/Final Project/MIMIC-III'\n",
    "# con = duckdb.connect(f'{drive_path}/mimiciii.duckdb')"
   ]
  },
  {
   "cell_type": "code",
   "execution_count": 402,
   "metadata": {},
   "outputs": [],
   "source": [
    "import pandas as pd\n",
    "import numpy as np\n",
    "from tqdm import tqdm \n",
    "\n",
    "import torch\n",
    "from torch_geometric.nn import GATv2Conv\n",
    "from torch.nn.utils.rnn import pack_padded_sequence, pad_packed_sequence\n",
    "\n",
    "import torch.nn as nn\n",
    "import torch.nn.functional as F\n",
    "from torch.utils.data import DataLoader\n",
    "\n",
    "from tensorflow.keras.preprocessing.sequence import pad_sequences\n"
   ]
  },
  {
   "cell_type": "markdown",
   "metadata": {
    "id": "18obiL-i3Up1"
   },
   "source": [
    "## Loading data"
   ]
  },
  {
   "cell_type": "code",
   "execution_count": 358,
   "metadata": {
    "executionInfo": {
     "elapsed": 2434,
     "status": "ok",
     "timestamp": 1754564996788,
     "user": {
      "displayName": "Yael Kupershmidt",
      "userId": "00404238359436170384"
     },
     "user_tz": -180
    },
    "id": "1IsleQzR3RVc"
   },
   "outputs": [],
   "source": [
    "subject_ids = pd.read_csv('data/initial_cohort.csv')['subject_id'].to_list()\n",
    "lavbevent_meatdata = pd.read_csv('data/labs_metadata.csv')\n",
    "vital_meatdata = pd.read_csv('data/vital_metadata.csv')"
   ]
  },
  {
   "cell_type": "code",
   "execution_count": 359,
   "metadata": {
    "colab": {
     "base_uri": "https://localhost:8080/",
     "height": 49,
     "referenced_widgets": [
      "befffb4f7372406291ce48f9bfcdb07b",
      "56463d5b8bee4a088d7c9d7613fd6e20",
      "da6f1034c8da4045a1b7aee2d5f78d5d"
     ]
    },
    "executionInfo": {
     "elapsed": 5786,
     "status": "ok",
     "timestamp": 1754564888143,
     "user": {
      "displayName": "Yael Kupershmidt",
      "userId": "00404238359436170384"
     },
     "user_tz": -180
    },
    "id": "AS2L1U3z3RSs",
    "outputId": "3d491053-ad59-4cbb-e4bf-c4e6b8a91188"
   },
   "outputs": [],
   "source": [
    "ICUQ = \\\n",
    "\"\"\"--sql\n",
    "SELECT admissions.subject_id::INTEGER AS subject_id, admissions.hadm_id::INTEGER AS hadm_id\n",
    ", admissions.admittime::DATE AS admittime, admissions.dischtime::DATE AS dischtime\n",
    ", admissions.ethnicity, admissions.deathtime::DATE AS deathtime\n",
    ", patients.gender, patients.dob::DATE AS dob, icustays.icustay_id::INTEGER AS icustay_id, patients.dod::DATE as dod,\n",
    "icustays.intime::DATE AS intime,icustays.outtime::DATE AS outtime\n",
    "FROM admissions\n",
    "INNER JOIN patients\n",
    "    ON admissions.subject_id = patients.subject_id\n",
    "LEFT JOIN icustays\n",
    "    ON admissions.hadm_id = icustays.hadm_id\n",
    "\n",
    "WHERE admissions.has_chartevents_data = 1\n",
    "AND admissions.subject_id::INTEGER IN ?\n",
    "ORDER BY admissions.subject_id, admissions.hadm_id, admissions.admittime;\n",
    "\"\"\"\n",
    "\n",
    "# icu =  con.execute(ICUQ, [subject_ids]).fetchdf().rename(str.lower, axis='columns')\n"
   ]
  },
  {
   "cell_type": "code",
   "execution_count": 360,
   "metadata": {
    "colab": {
     "base_uri": "https://localhost:8080/",
     "height": 79,
     "referenced_widgets": [
      "e6c51c60ee844703a0339b2e1dccc64b",
      "c82cd5cfb39e42af888dc187b5d8a58c",
      "c94eb62fe73b4171937f354e2c2f06fa",
      "78c007406aa24a9f80d79038bb6e14a1",
      "fb91ad428b04480f995aced9d968ba18",
      "1ddf7f8e5bd9405fb67d08725d4983e5"
     ]
    },
    "executionInfo": {
     "elapsed": 315317,
     "status": "ok",
     "timestamp": 1754565343251,
     "user": {
      "displayName": "Yael Kupershmidt",
      "userId": "00404238359436170384"
     },
     "user_tz": -180
    },
    "id": "JYcG1ZyK3ROu",
    "outputId": "48833e31-a0af-4ee5-ed98-abe2f2aadbff"
   },
   "outputs": [],
   "source": [
    "LABQUERY = \\\n",
    "f\"\"\"--sql\n",
    "SELECT labevents.subject_id::INTEGER AS subject_id\\\n",
    "      , labevents.hadm_id::INTEGER AS hadm_id\\\n",
    "      , labevents.charttime::DATE AS charttime\n",
    "      , labevents.itemid::INTEGER AS itemid\\\n",
    "      , labevents.valuenum::DOUBLE AS valuenum\n",
    "      , admissions.admittime::DATE AS admittime\n",
    "FROM labevents\n",
    "          INNER JOIN admissions\n",
    "                    ON labevents.subject_id = admissions.subject_id\n",
    "                        AND labevents.hadm_id = admissions.hadm_id\n",
    "                        AND labevents.charttime::DATE between\n",
    "                            (admissions.admittime::DATE)\n",
    "                            AND (admissions.admittime::DATE + interval 48 hour)\n",
    "                        AND itemid::INTEGER IN ? \\\n",
    "                        \"\"\"\n",
    "\n",
    "VITQUERY = f\"\"\"--sql\n",
    "        SELECT chartevents.subject_id::INTEGER AS subject_id\\\n",
    "             , chartevents.hadm_id::INTEGER AS hadm_id\\\n",
    "             , chartevents.charttime::DATE AS charttime\\\n",
    "             , chartevents.itemid::INTEGER AS itemid\\\n",
    "             , chartevents.valuenum::DOUBLE AS valuenum\\\n",
    "             , admissions.admittime::DATE AS admittime\\\n",
    "        FROM chartevents\n",
    "                 INNER JOIN admissions\n",
    "                            ON chartevents.subject_id = admissions.subject_id\n",
    "                                AND chartevents.hadm_id = admissions.hadm_id\n",
    "                                AND chartevents.charttime::DATE between\n",
    "                                   (admissions.admittime::DATE)\n",
    "                                   AND (admissions.admittime::DATE + interval 48 hour)\n",
    "                                AND itemid::INTEGER in ?\n",
    "      -- exclude rows marked as error\n",
    "      AND chartevents.error::INTEGER IS DISTINCT \\\n",
    "        FROM 1 \\\n",
    "        \"\"\"\n",
    "\n",
    "\n",
    "# lab = con.execute(LABQUERY, [lavbevent_meatdata['itemid'].tolist()]).fetchdf().rename(str.lower, axis='columns')\n",
    "# vit = con.execute(VITQUERY, [vital_meatdata['itemid'].tolist()]).fetchdf().rename(str.lower, axis='columns')"
   ]
  },
  {
   "cell_type": "code",
   "execution_count": 361,
   "metadata": {
    "executionInfo": {
     "elapsed": 307,
     "status": "ok",
     "timestamp": 1754566848823,
     "user": {
      "displayName": "Yael Kupershmidt",
      "userId": "00404238359436170384"
     },
     "user_tz": -180
    },
    "id": "63QSy3WiOcK7"
   },
   "outputs": [],
   "source": [
    "pred_window = 13*24      # duration of prediction window (hours)\n",
    "pred_gap = 24            # minimal gap between prediction and target (hours)\n",
    "min_los = 24             # minimal length of stay (hours)\n",
    "min_target_onset = 2*24  # minimal time of target since admission (hours)\n",
    "pred_freq = '4H'        # prediction frequency\n",
    "\n",
    "labs = pd.read_csv('data/labs.csv')\n",
    "vits = pd.read_csv('data/vits.csv')\n",
    "hosps = pd.read_csv('data/icu.csv')\n",
    "\n",
    "for col in ['admittime', 'dischtime', 'dob', 'dod', 'intime', 'outtime']:\n",
    "    hosps[col] = pd.to_datetime(hosps[col].str.strip(), errors='coerce')"
   ]
  },
  {
   "cell_type": "markdown",
   "metadata": {},
   "source": [
    "## preprocessing"
   ]
  },
  {
   "cell_type": "code",
   "execution_count": 362,
   "metadata": {},
   "outputs": [],
   "source": [
    "# ethnicity  - to category\n",
    "hosps.ethnicity = hosps.ethnicity.str.lower()\n",
    "hosps.loc[(hosps.ethnicity.str.contains('^white')),'ethnicity'] = 'white'\n",
    "hosps.loc[(hosps.ethnicity.str.contains('^black')),'ethnicity'] = 'black'\n",
    "hosps.loc[(hosps.ethnicity.str.contains('^hisp')) | (hosps.ethnicity.str.contains('^latin')),'ethnicity'] = 'hispanic'\n",
    "hosps.loc[(hosps.ethnicity.str.contains('^asia')),'ethnicity'] = 'asian'\n",
    "hosps.loc[~(hosps.ethnicity.str.contains('|'.join(['white', 'black', 'hispanic', 'asian']))),'ethnicity'] = 'other'\n",
    "\n",
    "# ethnicity - one hot encoding\n",
    "hosps['eth_white'] = (hosps['ethnicity'] == 'white').astype(int)\n",
    "hosps['eth_black'] = (hosps['ethnicity'] == 'black').astype(int)\n",
    "hosps['eth_hispanic'] = (hosps['ethnicity'] == 'hispanic').astype(int)\n",
    "hosps['eth_asian'] = (hosps['ethnicity'] == 'asian').astype(int)\n",
    "hosps['eth_other'] = (hosps['ethnicity'] == 'other').astype(int)\n",
    "hosps.drop(['ethnicity', 'deathtime'], inplace=True, axis=1)"
   ]
  },
  {
   "cell_type": "code",
   "execution_count": 363,
   "metadata": {
    "colab": {
     "base_uri": "https://localhost:8080/",
     "height": 356
    },
    "executionInfo": {
     "elapsed": 305,
     "status": "error",
     "timestamp": 1754566885343,
     "user": {
      "displayName": "Yael Kupershmidt",
      "userId": "00404238359436170384"
     },
     "user_tz": -180
    },
    "id": "ynUWK92_VQdK",
    "outputId": "b0a3f0ea-1e36-48d3-e6ce-b584be199fdf"
   },
   "outputs": [
    {
     "name": "stdout",
     "output_type": "stream",
     "text": [
      "1. Include only first admissions: N=32513\n",
      "2. Exclusion by ages: N=25548\n",
      "3. Include only patients who admitted for at least 24 hours: N=25168\n",
      "4. Exclude patients who died within 48-hours of admission: N=24825\n"
     ]
    }
   ],
   "source": [
    "\n",
    "# Generate feature columns for los, age and mortality\n",
    "def age(admittime, dob):\n",
    "    if admittime < dob:\n",
    "      return 0\n",
    "    return admittime.year - dob.year - ((admittime.month, admittime.day) < (dob.month, dob.day))\n",
    "\n",
    "hosps['age'] = hosps.apply(lambda row: age(row['admittime'], row['dob']), axis=1)\n",
    "hosps['los_hosp_hr'] = (hosps.dischtime - hosps.admittime).dt.total_seconds()/3600\n",
    "hosps['mort'] = np.where(~np.isnat(hosps.dod),1,0)\n",
    "\n",
    "# Gender to binary\n",
    "hosps['gender'] = np.where(hosps['gender']==\"M\", 1, 0)\n",
    "\n",
    "# @title Q1.1 - Patient Exclusion Criteria\n",
    "hosps = hosps.sort_values('admittime').groupby('subject_id').first().reset_index()\n",
    "print(f\"1. Include only first admissions: N={hosps.shape[0]}\")\n",
    "\n",
    "hosps = hosps[hosps.age.between(18,90)]\n",
    "print(f\"2. Exclusion by ages: N={hosps.shape[0]}\")\n",
    "\n",
    "# Exclude patients hospitalized for less than 24 hours\n",
    "hosps = hosps[hosps['los_hosp_hr'] >= min_los]\n",
    "print(f\"3. Include only patients who admitted for at least {min_los} hours: N={hosps.shape[0]}\")\n",
    "\n",
    "# Exclude patients that died in the first 48 hours of admission\n",
    "hours_to_death = (hosps['dod'] - hosps['admittime']).dt.total_seconds() / 3600\n",
    "hosps = hosps[~((hosps['mort'].astype(bool)) & (hours_to_death < min_target_onset))]\n",
    "print(f\"4. Exclude patients who died within {min_target_onset}-hours of admission: N={hosps.shape[0]}\")"
   ]
  },
  {
   "cell_type": "code",
   "execution_count": 364,
   "metadata": {},
   "outputs": [
    {
     "name": "stderr",
     "output_type": "stream",
     "text": [
      "/tmp/ipykernel_920661/9803228.py:15: FutureWarning: 'H' is deprecated and will be removed in a future version, please use 'h' instead.\n",
      "  pivot = pd.pivot_table(merged, index=['subject_id', 'hadm_id', pd.Grouper(key='charttime', freq=pred_freq)],\n"
     ]
    }
   ],
   "source": [
    "labs = labs[labs['hadm_id'].isin(hosps['hadm_id'])]\n",
    "labs = pd.merge(labs,lavbevent_meatdata,on='itemid')\n",
    "labs = labs[labs['valuenum'].between(labs['min'],labs['max'],  inclusive='both')]\n",
    "\n",
    "vits = vits[vits['hadm_id'].isin(hosps['hadm_id'])]\n",
    "vits = pd.merge(vits,vital_meatdata,on='itemid')\n",
    "vits = vits[vits['valuenum'].between(vits['min'],vits['max'], inclusive='both')]\n",
    "\n",
    "vits.loc[(vits['feature name'] == 'TempF'),'valuenum'] = (vits[vits['feature name'] == 'TempF']['valuenum']-32)/1.8\n",
    "vits.loc[vits['feature name'] == 'TempF','feature name'] = 'TempC'\n",
    "\n",
    "merged = pd.concat([vits, labs])\n",
    "merged['charttime'] = pd.to_datetime(merged['charttime'], errors='coerce')\n",
    "\n",
    "pivot = pd.pivot_table(merged, index=['subject_id', 'hadm_id', pd.Grouper(key='charttime', freq=pred_freq)],\n",
    "                       columns=['feature name'], values='valuenum', aggfunc=['mean', 'max', 'min', 'std'])\n",
    "pivot.columns = [f'{c[1]}_{c[0]}' for c in pivot.columns.to_flat_index()]\n",
    "\n",
    "# temp = merged.copy()\n",
    "\n",
    "merged = pd.merge(hosps, pivot.reset_index(), on=['subject_id', 'hadm_id'])\n",
    "merged[pivot.columns] = merged.groupby(['subject_id', 'hadm_id'])[pivot.columns].ffill()\n"
   ]
  },
  {
   "cell_type": "code",
   "execution_count": 365,
   "metadata": {},
   "outputs": [],
   "source": [
    "merged = merged.sort_values(['subject_id', 'hadm_id', 'charttime'])\n",
    "labs_features_names = set(labs['feature name'])\n",
    "vits_features_names = set(vits['feature name'])\n",
    "labs_features = [col for col in merged.columns if col.split('_')[0] in labs_features_names]\n",
    "vits_features = [col for col in merged.columns if col.split('_')[0] in vits_features_names]\n",
    "\n",
    "lab_diff_cols = {}\n",
    "for col in labs_features:\n",
    "    if col.find(\"mean\") >= 0:\n",
    "      base = merged.groupby(['subject_id', 'hadm_id'])[col].transform('first')\n",
    "      lab_diff_cols[f'{col}_diff'] = merged[col] - base\n",
    "\n",
    "lab_diff_df = pd.DataFrame(lab_diff_cols)\n",
    "\n",
    "vital_diff_cols = {}\n",
    "for col in vits_features:\n",
    "  if col.find(\"mean\") >= 0:\n",
    "      diff_series = merged.groupby(['subject_id', 'hadm_id'])[col].diff()\n",
    "      vital_diff_cols[f'{col}_diff'] = diff_series\n",
    "\n",
    "vital_diff_df = pd.DataFrame(vital_diff_cols)\n",
    "\n",
    "# Concatenate back to original DataFrame\n",
    "merged = pd.concat([merged, lab_diff_df, vital_diff_df], axis=1)"
   ]
  },
  {
   "cell_type": "code",
   "execution_count": 366,
   "metadata": {},
   "outputs": [],
   "source": [
    "merged['charttime'] = pd.to_datetime(merged['charttime'], errors='coerce')\n",
    "\n",
    "time_to_death = (merged['dod'] - merged['charttime']).dt.total_seconds() / (60 * 60)\n",
    "merged['target'] = (pd.notnull(time_to_death) & (time_to_death <= pred_window + pred_gap)).astype(int)\n",
    "merged = merged[time_to_death.isna() | (time_to_death >= pred_gap)]"
   ]
  },
  {
   "cell_type": "code",
   "execution_count": 367,
   "metadata": {},
   "outputs": [],
   "source": [
    "import numpy as np\n",
    "from sklearn.model_selection import GroupShuffleSplit\n",
    "\n",
    "merged_clean = merged.reset_index(drop=True)\n",
    "\n",
    "np.random.seed(0)\n",
    "\n",
    "#Split to train & test (all data of a single patient needs to be in the same group)\n",
    "X = merged_clean\n",
    "y = merged_clean['target']\n",
    "groups = merged_clean['subject_id']\n",
    "\n",
    "gss = GroupShuffleSplit(n_splits=1, train_size=.8, test_size=0.1)\n",
    "train_index, test_index = next(gss.split(X, y, groups))\n",
    "val_index = list(set(X.index.to_list()) - (set(train_index.tolist()) | set(test_index.tolist())))\n",
    "\n",
    "X_train, y_train = X.iloc[train_index], y.iloc[train_index]\n",
    "X_val, y_val = X.iloc[val_index], y.iloc[val_index]\n",
    "X_test, y_test = X.iloc[test_index], y.iloc[test_index]"
   ]
  },
  {
   "cell_type": "code",
   "execution_count": 368,
   "metadata": {},
   "outputs": [],
   "source": [
    "from sklearn.preprocessing import StandardScaler\n",
    "\n",
    "\n",
    "\n",
    "num_cols = X_train.select_dtypes(include='float').columns\n",
    "scaler = StandardScaler()\n",
    "\n",
    "X_train.loc[:, num_cols] = scaler.fit_transform(X_train[num_cols])\n",
    "X_val.loc[:, num_cols] = scaler.transform(X_val[num_cols])\n",
    "X_test.loc[:, num_cols] = scaler.transform(X_test[num_cols])\n",
    "\n",
    "baseline_df = X_train[X_train.charttime.dt.date == X_train.admittime.dt.date].mean(axis=0).fillna(0)\n",
    "X_train.loc[:, num_cols] = X_train[num_cols].fillna(baseline_df)\n",
    "X_val.loc[:, num_cols] = X_val[num_cols].fillna(baseline_df)\n",
    "X_test.loc[:, num_cols] = X_test[num_cols].fillna(baseline_df)"
   ]
  },
  {
   "cell_type": "code",
   "execution_count": 369,
   "metadata": {},
   "outputs": [],
   "source": [
    "to_drop = ['hadm_id','icustay_id','intime','outtime','admittime', 'dischtime', 'dod','dob', 'mort', 'los_hosp_hr', 'charttime','adm_to_death']\n",
    "\n",
    "to_keep = ~X_train.columns.isin(to_drop)\n",
    "to_keep = X_train.columns[to_keep]\n",
    "X_train = X_train[to_keep]\n",
    "X_test = X_test[to_keep]\n",
    "X_val = X_val[to_keep]"
   ]
  },
  {
   "cell_type": "code",
   "execution_count": 370,
   "metadata": {},
   "outputs": [],
   "source": [
    "from sklearn.cluster import KMeans\n",
    "import numpy as np\n",
    "\n",
    "def cluster_and_select_subjects(X_train, num_clusters=10, random_state=42):\n",
    "    \"\"\"\n",
    "    Calculate the first row of each subject_id in X_train, cluster it to num_clusters \n",
    "    and choose one subject_id from each cluster.\n",
    "    \n",
    "    Parameters:\n",
    "    X_train: DataFrame with subject_id column\n",
    "    num_clusters: int, number of clusters to create\n",
    "    random_state: int, for reproducibility\n",
    "    \n",
    "    Returns:\n",
    "    list: selected subject_ids, one from each cluster\n",
    "    \"\"\"\n",
    "    first_rows = X_train.groupby('subject_id').first().reset_index()\n",
    "    \n",
    "    features_for_clustering = first_rows.drop('subject_id', axis=1)\n",
    "    \n",
    "\n",
    "    kmeans = KMeans(n_clusters=num_clusters, random_state=random_state, n_init=10)\n",
    "    cluster_labels = kmeans.fit_predict(features_for_clustering)\n",
    "    \n",
    "\n",
    "    first_rows['cluster'] = cluster_labels\n",
    "    \n",
    "\n",
    "    np.random.seed(random_state)\n",
    "    selected_subjects = []\n",
    "    \n",
    "    for cluster_id in range(num_clusters):\n",
    "        cluster_subjects = first_rows[first_rows['cluster'] == cluster_id]['subject_id'].values\n",
    "        if len(cluster_subjects) > 0:\n",
    "            selected_subject = np.random.choice(cluster_subjects)\n",
    "            selected_subjects.append(selected_subject)\n",
    "    \n",
    "    return selected_subjects\n",
    "\n",
    "selected_subjects = cluster_and_select_subjects(X_train, num_clusters=40, random_state=42)"
   ]
  },
  {
   "cell_type": "code",
   "execution_count": 371,
   "metadata": {},
   "outputs": [],
   "source": [
    "# Create X_core with rows where subject_id is in selected_subjects\n",
    "X_core = X_train[X_train['subject_id'].isin(selected_subjects)]\n",
    "\n",
    "# Update X_train to exclude the selected subjects\n",
    "X_train = X_train[~X_train['subject_id'].isin(selected_subjects)]"
   ]
  },
  {
   "cell_type": "code",
   "execution_count": 372,
   "metadata": {},
   "outputs": [],
   "source": [
    "def generate_series_data(df, group_col=\"subject_id\", maxlen=18):\n",
    "  grouped = df.groupby(group_col)\n",
    "  subject_sequences = [group.values[:, 1:] for _, group in grouped]\n",
    "  padded_tensor = pad_sequences(subject_sequences, padding='post', dtype='float32')\n",
    "  sequence_lengths = [len(seq) for seq in subject_sequences]\n",
    "  padding_mask = np.zeros((len(sequence_lengths), maxlen), dtype=np.float32)\n",
    "  for i, length in enumerate(sequence_lengths):\n",
    "      padding_mask[i, :length] = 1.0\n",
    "  labels = padded_tensor[:,:,-1]\n",
    "  padded_tensor = padded_tensor[:,:,:-1]\n",
    "  padded_tensor = torch.tensor(padded_tensor, dtype=torch.float32)\n",
    "  labels = torch.tensor(labels, dtype=torch.float32)\n",
    "  padding_mask = torch.tensor(padding_mask, dtype=torch.float32)\n",
    "  return padded_tensor, labels, padding_mask"
   ]
  },
  {
   "cell_type": "markdown",
   "metadata": {},
   "source": [
    "## Model"
   ]
  },
  {
   "cell_type": "code",
   "execution_count": 373,
   "metadata": {},
   "outputs": [],
   "source": [
    "import torch\n",
    "from torch.utils.data import Dataset\n",
    "\n",
    "\n",
    "class PatientDataset(Dataset):\n",
    "    def __init__(self, X, y, padding_mask, k=5, single_patient=False):\n",
    "        # self.core = core\n",
    "        self.X = X\n",
    "        self.y = y\n",
    "        self.padding_mask = padding_mask\n",
    "        # self.padding_mask_core = padding_mask_core\n",
    "        self.k = k\n",
    "        self.single_patient = single_patient\n",
    "        if self.single_patient:\n",
    "            self.cal_graphs()\n",
    "\n",
    "        self.edge_list = None\n",
    "\n",
    "    def __len__(self):\n",
    "        return len(self.X)\n",
    "    \n",
    "    def __getitem__(self, idx):\n",
    "        return self.X[idx], self.y[idx], self.padding_mask[idx]\n",
    "    \n",
    "    def cal_graphs(self):\n",
    "        if self.edge_list is not None:\n",
    "            return self.edge_list\n",
    "        \n",
    "        edge_list = []\n",
    "        for patient_idx in range(len(self.X)):\n",
    "            edges = self.build_knn_graph(self.X[patient_idx:patient_idx+1], self.core, \n",
    "                                                self.padding_mask[patient_idx:patient_idx+1], self.padding_mask_core, k=self.k)\n",
    "            edge_list.append(edges)\n",
    "        self.edge_list = torch.cat(edge_list, dim=1).T\n",
    "        \n",
    "    @staticmethod\n",
    "    def build_knn_graph(batch, core, padding_mask_batch, padding_mask_core, k=5):\n",
    "        \"\"\"\n",
    "        Build a KNN graph from batch and core tensors.\n",
    "        \n",
    "        Args:\n",
    "            batch: 3D tensor (batch_size, seq_len, features)\n",
    "            core: 3D tensor (core_size, seq_len, features)\n",
    "            padding_mask_batch: 2D tensor (batch_size, seq_len) indicating valid time points\n",
    "            padding_mask_core: 2D tensor (core_size, seq_len) indicating valid time points\n",
    "            k: number of nearest neighbors for patient connections\n",
    "        \n",
    "        Returns:\n",
    "            edge_index: tensor of shape (2, num_edges) representing graph edges\n",
    "        \"\"\"\n",
    "        batch_size, seq_len, _ = batch.shape\n",
    "        core_size = core.shape[0]\n",
    "        total_patients = batch_size + core_size\n",
    "    \n",
    "        all_patients = torch.cat([batch, core], dim=0)\n",
    "        all_padding_mask = torch.cat([padding_mask_batch, padding_mask_core], dim=0)\n",
    "        \n",
    "        edges = []\n",
    "        \n",
    "        for patient_idx in range(total_patients):\n",
    "            for t in range(seq_len - 1):\n",
    "            \n",
    "                if all_padding_mask[patient_idx, t] > 0 and all_padding_mask[patient_idx, t + 1] > 0:\n",
    "                    node_curr = patient_idx * seq_len + t\n",
    "                    node_next = patient_idx * seq_len + t + 1\n",
    "   \n",
    "                    edges.append([node_curr, node_next])\n",
    "                    edges.append([node_next, node_curr])\n",
    "        \n",
    "        for t in range(seq_len):\n",
    "            valid_patients = all_padding_mask[:, t] > 0\n",
    "            valid_indices = torch.where(valid_patients)[0]\n",
    "            \n",
    "            if len(valid_indices) > 1:\n",
    "                features_t = all_patients[valid_indices, t, :]  \n",
    "                \n",
    "          \n",
    "                distances = torch.cdist(features_t, features_t, p=2)\n",
    "                \n",
    "                for i, patient_idx in enumerate(valid_indices):\n",
    "                    num_neighbors = min(k + 1, len(valid_indices))\n",
    "                    _, nearest_indices = torch.topk(distances[i], num_neighbors, largest=False)\n",
    "                    nearest_indices = nearest_indices[1:] \n",
    "                    \n",
    "                    for j in nearest_indices:\n",
    "                        neighbor_idx = valid_indices[j]\n",
    "                        node_curr = patient_idx * seq_len + t\n",
    "                        node_neighbor = neighbor_idx * seq_len + t\n",
    "                        edges.append([node_curr, node_neighbor])\n",
    "        \n",
    "        if edges:\n",
    "            edge_index = torch.tensor(edges, dtype=torch.long).t()\n",
    "        else:\n",
    "            edge_index = torch.empty((2, 0), dtype=torch.long)\n",
    "        \n",
    "        return edge_index\n",
    "\n",
    "# dataset = PatientDataset(core=padd_tensor_core, X=padded_tensor, y=labels, padding_mask=padding_mask, padding_mask_core=padding_mask_core, k=5)\n",
    "# dataset.cal_graphs()"
   ]
  },
  {
   "cell_type": "code",
   "execution_count": 418,
   "metadata": {},
   "outputs": [],
   "source": [
    "from sklearn.metrics import average_precision_score, roc_auc_score\n",
    "\n",
    "\n",
    "DEVICE = torch.device('cuda' if torch.cuda.is_available() else 'cpu')\n",
    "\n",
    "\n",
    "class GraphGRUMortalityModel(nn.Module):\n",
    "    def __init__(self, input_dim, hidden_dim, n1_gat_layers, n2_gru_layers, X_core, core_padding_mask,\n",
    "                 num_heads=4, dropout=0.1, seq_len=18, k=5):\n",
    "        \"\"\"\n",
    "        Mortality prediction model with Graph Attention + GRU layers\n",
    "        \n",
    "        Args:\n",
    "            input_dim: Input feature dimension\n",
    "            hidden_dim: Hidden dimension for GAT and GRU layers\n",
    "            n1_gat_layers: Number of Graph Attention layers\n",
    "            n2_gru_layers: Number of GRU layers\n",
    "            X_core_dim: Core set dimension (number of core patients)\n",
    "            num_heads: Number of attention heads for GAT\n",
    "            dropout: Dropout rate\n",
    "            seq_len: Sequence length\n",
    "        \"\"\"\n",
    "        super(GraphGRUMortalityModel, self).__init__()\n",
    "        \n",
    "        self.input_dim = input_dim\n",
    "        self.hidden_dim = hidden_dim\n",
    "        self.n1_gat_layers = n1_gat_layers\n",
    "        self.n2_gru_layers = n2_gru_layers\n",
    "        self.X_core = X_core.to(DEVICE)\n",
    "        self.core_padding_mask = core_padding_mask.to(DEVICE)\n",
    "        self.seq_len = seq_len\n",
    "        self.num_heads = num_heads\n",
    "        \n",
    "        self.gat_layers = nn.ModuleList().to(DEVICE)\n",
    "        \n",
    "        \n",
    "        self.gat_layers.append(\n",
    "            GATv2Conv(input_dim, hidden_dim // num_heads, heads=num_heads, dropout=dropout, concat=True)\n",
    "        )\n",
    "        \n",
    "        for _ in range(n1_gat_layers - 1):\n",
    "            self.gat_layers.append(\n",
    "                GATv2Conv(hidden_dim, hidden_dim // num_heads, heads=num_heads, dropout=dropout, concat=True)\n",
    "            )\n",
    "        \n",
    "        self.gru = nn.GRU(hidden_dim, hidden_dim, n2_gru_layers, batch_first=True, dropout=dropout)\n",
    "        \n",
    "        self.classifier = nn.Linear(hidden_dim, 1).to(DEVICE)\n",
    "        self.dropout = nn.Dropout(dropout).to(DEVICE)\n",
    "        self.k = k\n",
    "\n",
    "        self.best_model = None\n",
    "\n",
    "        # initialize weights\n",
    "        for layer in self.gat_layers:\n",
    "            if isinstance(layer, GATv2Conv):\n",
    "                nn.init.xavier_uniform_(layer.lin_l.weight)\n",
    "                nn.init.xavier_uniform_(layer.lin_r.weight) \n",
    "        nn.init.xavier_uniform_(self.classifier.weight) \n",
    "        nn.init.constant_(self.classifier.bias, 0.0)\n",
    "        nn.init.xavier_uniform_(self.gru.weight_ih_l0)\n",
    "        nn.init.xavier_uniform_(self.gru.weight_hh_l0)\n",
    "        nn.init.constant_(self.gru.bias_ih_l0, 0.0)\n",
    "        nn.init.constant_(self.gru.bias_hh_l0, 0.0)\n",
    "        \n",
    "  \n",
    "        \n",
    "    def forward(self, x ,padding_mask, edge_index):\n",
    "        \"\"\"\n",
    "        Forward pass\n",
    "        \n",
    "        Args:\n",
    "            core: Core patients tensor (X_core_dim, seq_len, input_dim)\n",
    "            x: Batch patients tensor (batch_size, seq_len, input_dim)\n",
    "            y: Target labels (batch_size, seq_len)\n",
    "            padding_mask: Padding mask (batch_size, seq_len)\n",
    "            edge_index: Graph edge indices (2, num_edges)\n",
    "        \n",
    "        Returns:\n",
    "            predictions: Mortality predictions (batch_size, seq_len, 1)\n",
    "        \"\"\"\n",
    "        batch_size = x.size(0)\n",
    "        \n",
    "        # Combine core and batch data\n",
    "        all_patients = torch.cat([x, self.X_core], dim=0)  # (batch_size + X_core_dim, seq_len, input_dim)\n",
    "        total_patients = batch_size + self.X_core.shape[0]\n",
    "        \n",
    "        # Reshape for graph processing: (total_patients * seq_len, input_dim)\n",
    "        graph_input = all_patients.view(total_patients * self.seq_len, -1)\n",
    "        # Apply GAT layers\n",
    "        for gat_layer in self.gat_layers:\n",
    "            graph_input = F.relu(gat_layer(graph_input, edge_index))\n",
    "            # graph_input = self.dropout(graph_input)\n",
    "        \n",
    "        # Reshape back to sequence format: (total_patients, seq_len, hidden_dim)\n",
    "        graph_output = graph_input.view(total_patients, self.seq_len, -1)\n",
    "\n",
    "        # Extract only batch patients (exclude core)\n",
    "        batch_output = graph_output[:batch_size]  # (batch_size, seq_len, hidden_dim)\n",
    "        \n",
    "        # Apply GRU layers\n",
    "        # Pack sequences for efficient processing\n",
    "        gru_output, _ = self.gru(batch_output)\n",
    "        \n",
    "        # Apply classifier\n",
    "        predictions = self.classifier(gru_output)  # (batch_size, seq_len, 1)\n",
    "        \n",
    "        return predictions.squeeze(-1)  # (batch_size, seq_len)\n",
    "    \n",
    "    def train_all(self, dataloaders, datasets, epochs: int = 10, learning_rate: float = 1e-3):\n",
    "        self.train()\n",
    "        optim = torch.optim.Adam(self.parameters(), lr=learning_rate)\n",
    "        best_validation_accuracy = - float('inf')\n",
    "        for epoch in range(epochs):\n",
    "            print(f'Starting epoch {epoch + 1}/{epochs}')\n",
    "            total = 0\n",
    "            for x, y, padding_mask in tqdm(dataloaders['train']):\n",
    "                optim.zero_grad()\n",
    "                x, padding_mask, y = x.to(DEVICE), padding_mask.to(DEVICE), y.to(DEVICE)\n",
    "                edge_index = datasets['train'].build_knn_graph(x, self.X_core, padding_mask, self.core_padding_mask, k=self.k).to(DEVICE)\n",
    "                predictions = self.forward(x, padding_mask, edge_index)\n",
    "                \n",
    "                loss = F.binary_cross_entropy_with_logits(predictions.view(-1), y.view(-1))\n",
    "                loss.backward()\n",
    "                optim.step()\n",
    "                \n",
    "                total += loss.item()\n",
    "            avg_loss = total / len(dataloaders['train'])\n",
    "            print(f'Epoch {epoch + 1}/{epochs}, Loss: {avg_loss:.4f}')\n",
    "            validation_accuracy = self.validate(dataloaders['val'], datasets['val'])\n",
    "            print(f'Validation Accuracy: {validation_accuracy[0]:.4f} | AUC: {validation_accuracy[1]:.4f} | AP: {validation_accuracy[2]:.4f}')\n",
    "            if validation_accuracy[2] > best_validation_accuracy:\n",
    "                best_validation_accuracy = validation_accuracy[2]\n",
    "                self.best_model = self.state_dict()\n",
    "                print(\"Best model updated\")\n",
    "        self.load_state_dict(self.best_model)\n",
    "\n",
    "    def validate(self, dataloader, dataset):\n",
    "        self.eval()\n",
    "        correct = 0\n",
    "        total = 0\n",
    "        with torch.no_grad():\n",
    "            all_true_labels = []\n",
    "            all_predicted_labels = []\n",
    "            for x, y, padding_mask in dataloader:\n",
    "                x, padding_mask, y = x.to(DEVICE), padding_mask.to(DEVICE), y.to(DEVICE)\n",
    "                edge_index = dataset.build_knn_graph(x, self.X_core, padding_mask, self.core_padding_mask, k=self.k).to(DEVICE)\n",
    "                predictions = self.forward(x, padding_mask, edge_index)\n",
    "                all_true_labels.extend(y.cpu().numpy().flatten())\n",
    "                all_predicted_labels.extend(torch.sigmoid(predictions).cpu().numpy().flatten())\n",
    "                predicted_labels = (torch.sigmoid(predictions) > 0.5).float()\n",
    "                correct += (predicted_labels == y).sum().item()\n",
    "                total += y.numel()\n",
    "        accuracy = correct / total if total > 0 else 0\n",
    "        self.train()\n",
    "        return accuracy, roc_auc_score(all_true_labels, all_predicted_labels), average_precision_score(all_true_labels, all_predicted_labels)\n",
    "\n",
    "\n",
    "    \n"
   ]
  },
  {
   "cell_type": "code",
   "execution_count": null,
   "metadata": {},
   "outputs": [
    {
     "name": "stdout",
     "output_type": "stream",
     "text": [
      "Starting epoch 1/10\n"
     ]
    },
    {
     "name": "stderr",
     "output_type": "stream",
     "text": [
      "100%|██████████| 78/78 [04:15<00:00,  3.28s/it]\n"
     ]
    },
    {
     "name": "stdout",
     "output_type": "stream",
     "text": [
      "Epoch 1/10, Loss: 0.1973\n",
      "Validation Accuracy: 0.9511 | AUC: 0.7895 | AP: 0.1447\n",
      "Best model updated\n",
      "Starting epoch 2/10\n"
     ]
    },
    {
     "name": "stderr",
     "output_type": "stream",
     "text": [
      "100%|██████████| 78/78 [04:15<00:00,  3.28s/it]\n"
     ]
    },
    {
     "name": "stdout",
     "output_type": "stream",
     "text": [
      "Epoch 2/10, Loss: 0.1569\n",
      "Validation Accuracy: 0.9508 | AUC: 0.8484 | AP: 0.2260\n",
      "Best model updated\n",
      "Starting epoch 3/10\n"
     ]
    },
    {
     "name": "stderr",
     "output_type": "stream",
     "text": [
      "100%|██████████| 78/78 [04:16<00:00,  3.29s/it]\n"
     ]
    },
    {
     "name": "stdout",
     "output_type": "stream",
     "text": [
      "Epoch 3/10, Loss: 0.1520\n"
     ]
    }
   ],
   "source": [
    "batch_size = 256\n",
    "hidden_dim = 64\n",
    "k = 11\n",
    "\n",
    "padded_tensor_train, labels_train, padding_mask_train = generate_series_data(X_train, group_col=\"subject_id\", maxlen=18)\n",
    "padded_tensor_val, labels_val, padding_mask_val = generate_series_data(X_val, group_col=\"subject_id\", maxlen=18)\n",
    "padded_tensor_test, labels_test, padding_mask_test = generate_series_data(X_test, group_col=\"subject_id\", maxlen=18)\n",
    "padd_tensor_core, labels_core, padding_mask_core = generate_series_data(X_core, group_col=\"subject_id\", maxlen=18)\n",
    "\n",
    "datasets = {x: PatientDataset(d, y, m) for x, d, y, m in\n",
    "        zip(['train', 'val', 'test'], [padded_tensor_train, padded_tensor_val, padded_tensor_test], \n",
    "            [labels_train, labels_val, labels_test], \n",
    "            [padding_mask_train, padding_mask_val, padding_mask_test])}\n",
    "dataloaders = {x: DataLoader(datasets[x], batch_size=batch_size, shuffle=True) for x in ['train', 'val', 'test']}\n",
    "\n",
    "model = GraphGRUMortalityModel(input_dim=padded_tensor_train.shape[2], hidden_dim=hidden_dim, n1_gat_layers=2, n2_gru_layers=2, X_core=padd_tensor_core, \n",
    "                               core_padding_mask=padding_mask_core, num_heads=4, dropout=0.1, seq_len=padded_tensor_train.shape[1], k=k).to(DEVICE)\n",
    "\n",
    "model.train_all(dataloaders, datasets, epochs=10, learning_rate=1e-3)\n"
   ]
  },
  {
   "cell_type": "code",
   "execution_count": null,
   "metadata": {},
   "outputs": [
    {
     "data": {
      "text/plain": [
       "(0.9533154121863799, 0.8812740735428332, 0.266346769721104)"
      ]
     },
     "execution_count": 421,
     "metadata": {},
     "output_type": "execute_result"
    }
   ],
   "source": [
    "model.validate(dataloaders['test'], datasets['test'])"
   ]
  },
  {
   "cell_type": "code",
   "execution_count": null,
   "metadata": {},
   "outputs": [],
   "source": [
    "model"
   ]
  }
 ],
 "metadata": {
  "colab": {
   "provenance": []
  },
  "kernelspec": {
   "display_name": "Python 3 (ipykernel)",
   "language": "python",
   "name": "python3"
  },
  "language_info": {
   "codemirror_mode": {
    "name": "ipython",
    "version": 3
   },
   "file_extension": ".py",
   "mimetype": "text/x-python",
   "name": "python",
   "nbconvert_exporter": "python",
   "pygments_lexer": "ipython3",
   "version": "3.10.15"
  },
  "widgets": {
   "application/vnd.jupyter.widget-state+json": {
    "1ddf7f8e5bd9405fb67d08725d4983e5": {
     "model_module": "@jupyter-widgets/controls",
     "model_module_version": "1.5.0",
     "model_name": "ProgressStyleModel",
     "state": {
      "_model_module": "@jupyter-widgets/controls",
      "_model_module_version": "1.5.0",
      "_model_name": "ProgressStyleModel",
      "_view_count": null,
      "_view_module": "@jupyter-widgets/base",
      "_view_module_version": "1.2.0",
      "_view_name": "StyleView",
      "bar_color": "black",
      "description_width": ""
     }
    },
    "56463d5b8bee4a088d7c9d7613fd6e20": {
     "model_module": "@jupyter-widgets/base",
     "model_module_version": "1.2.0",
     "model_name": "LayoutModel",
     "state": {
      "_model_module": "@jupyter-widgets/base",
      "_model_module_version": "1.2.0",
      "_model_name": "LayoutModel",
      "_view_count": null,
      "_view_module": "@jupyter-widgets/base",
      "_view_module_version": "1.2.0",
      "_view_name": "LayoutView",
      "align_content": null,
      "align_items": null,
      "align_self": null,
      "border": null,
      "bottom": null,
      "display": null,
      "flex": null,
      "flex_flow": null,
      "grid_area": null,
      "grid_auto_columns": null,
      "grid_auto_flow": null,
      "grid_auto_rows": null,
      "grid_column": null,
      "grid_gap": null,
      "grid_row": null,
      "grid_template_areas": null,
      "grid_template_columns": null,
      "grid_template_rows": null,
      "height": null,
      "justify_content": null,
      "justify_items": null,
      "left": null,
      "margin": null,
      "max_height": null,
      "max_width": null,
      "min_height": null,
      "min_width": null,
      "object_fit": null,
      "object_position": null,
      "order": null,
      "overflow": null,
      "overflow_x": null,
      "overflow_y": null,
      "padding": null,
      "right": null,
      "top": null,
      "visibility": null,
      "width": "auto"
     }
    },
    "78c007406aa24a9f80d79038bb6e14a1": {
     "model_module": "@jupyter-widgets/controls",
     "model_module_version": "1.5.0",
     "model_name": "FloatProgressModel",
     "state": {
      "_dom_classes": [],
      "_model_module": "@jupyter-widgets/controls",
      "_model_module_version": "1.5.0",
      "_model_name": "FloatProgressModel",
      "_view_count": null,
      "_view_module": "@jupyter-widgets/controls",
      "_view_module_version": "1.5.0",
      "_view_name": "ProgressView",
      "bar_style": "",
      "description": "",
      "description_tooltip": null,
      "layout": "IPY_MODEL_fb91ad428b04480f995aced9d968ba18",
      "max": 100,
      "min": 0,
      "orientation": "horizontal",
      "style": "IPY_MODEL_1ddf7f8e5bd9405fb67d08725d4983e5",
      "value": 84
     }
    },
    "befffb4f7372406291ce48f9bfcdb07b": {
     "model_module": "@jupyter-widgets/controls",
     "model_module_version": "1.5.0",
     "model_name": "FloatProgressModel",
     "state": {
      "_dom_classes": [],
      "_model_module": "@jupyter-widgets/controls",
      "_model_module_version": "1.5.0",
      "_model_name": "FloatProgressModel",
      "_view_count": null,
      "_view_module": "@jupyter-widgets/controls",
      "_view_module_version": "1.5.0",
      "_view_name": "ProgressView",
      "bar_style": "",
      "description": "",
      "description_tooltip": null,
      "layout": "IPY_MODEL_56463d5b8bee4a088d7c9d7613fd6e20",
      "max": 100,
      "min": 0,
      "orientation": "horizontal",
      "style": "IPY_MODEL_da6f1034c8da4045a1b7aee2d5f78d5d",
      "value": 100
     }
    },
    "c82cd5cfb39e42af888dc187b5d8a58c": {
     "model_module": "@jupyter-widgets/base",
     "model_module_version": "1.2.0",
     "model_name": "LayoutModel",
     "state": {
      "_model_module": "@jupyter-widgets/base",
      "_model_module_version": "1.2.0",
      "_model_name": "LayoutModel",
      "_view_count": null,
      "_view_module": "@jupyter-widgets/base",
      "_view_module_version": "1.2.0",
      "_view_name": "LayoutView",
      "align_content": null,
      "align_items": null,
      "align_self": null,
      "border": null,
      "bottom": null,
      "display": null,
      "flex": null,
      "flex_flow": null,
      "grid_area": null,
      "grid_auto_columns": null,
      "grid_auto_flow": null,
      "grid_auto_rows": null,
      "grid_column": null,
      "grid_gap": null,
      "grid_row": null,
      "grid_template_areas": null,
      "grid_template_columns": null,
      "grid_template_rows": null,
      "height": null,
      "justify_content": null,
      "justify_items": null,
      "left": null,
      "margin": null,
      "max_height": null,
      "max_width": null,
      "min_height": null,
      "min_width": null,
      "object_fit": null,
      "object_position": null,
      "order": null,
      "overflow": null,
      "overflow_x": null,
      "overflow_y": null,
      "padding": null,
      "right": null,
      "top": null,
      "visibility": null,
      "width": "auto"
     }
    },
    "c94eb62fe73b4171937f354e2c2f06fa": {
     "model_module": "@jupyter-widgets/controls",
     "model_module_version": "1.5.0",
     "model_name": "ProgressStyleModel",
     "state": {
      "_model_module": "@jupyter-widgets/controls",
      "_model_module_version": "1.5.0",
      "_model_name": "ProgressStyleModel",
      "_view_count": null,
      "_view_module": "@jupyter-widgets/base",
      "_view_module_version": "1.2.0",
      "_view_name": "StyleView",
      "bar_color": "black",
      "description_width": ""
     }
    },
    "da6f1034c8da4045a1b7aee2d5f78d5d": {
     "model_module": "@jupyter-widgets/controls",
     "model_module_version": "1.5.0",
     "model_name": "ProgressStyleModel",
     "state": {
      "_model_module": "@jupyter-widgets/controls",
      "_model_module_version": "1.5.0",
      "_model_name": "ProgressStyleModel",
      "_view_count": null,
      "_view_module": "@jupyter-widgets/base",
      "_view_module_version": "1.2.0",
      "_view_name": "StyleView",
      "bar_color": "black",
      "description_width": ""
     }
    },
    "e6c51c60ee844703a0339b2e1dccc64b": {
     "model_module": "@jupyter-widgets/controls",
     "model_module_version": "1.5.0",
     "model_name": "FloatProgressModel",
     "state": {
      "_dom_classes": [],
      "_model_module": "@jupyter-widgets/controls",
      "_model_module_version": "1.5.0",
      "_model_name": "FloatProgressModel",
      "_view_count": null,
      "_view_module": "@jupyter-widgets/controls",
      "_view_module_version": "1.5.0",
      "_view_name": "ProgressView",
      "bar_style": "",
      "description": "",
      "description_tooltip": null,
      "layout": "IPY_MODEL_c82cd5cfb39e42af888dc187b5d8a58c",
      "max": 100,
      "min": 0,
      "orientation": "horizontal",
      "style": "IPY_MODEL_c94eb62fe73b4171937f354e2c2f06fa",
      "value": 59
     }
    },
    "fb91ad428b04480f995aced9d968ba18": {
     "model_module": "@jupyter-widgets/base",
     "model_module_version": "1.2.0",
     "model_name": "LayoutModel",
     "state": {
      "_model_module": "@jupyter-widgets/base",
      "_model_module_version": "1.2.0",
      "_model_name": "LayoutModel",
      "_view_count": null,
      "_view_module": "@jupyter-widgets/base",
      "_view_module_version": "1.2.0",
      "_view_name": "LayoutView",
      "align_content": null,
      "align_items": null,
      "align_self": null,
      "border": null,
      "bottom": null,
      "display": null,
      "flex": null,
      "flex_flow": null,
      "grid_area": null,
      "grid_auto_columns": null,
      "grid_auto_flow": null,
      "grid_auto_rows": null,
      "grid_column": null,
      "grid_gap": null,
      "grid_row": null,
      "grid_template_areas": null,
      "grid_template_columns": null,
      "grid_template_rows": null,
      "height": null,
      "justify_content": null,
      "justify_items": null,
      "left": null,
      "margin": null,
      "max_height": null,
      "max_width": null,
      "min_height": null,
      "min_width": null,
      "object_fit": null,
      "object_position": null,
      "order": null,
      "overflow": null,
      "overflow_x": null,
      "overflow_y": null,
      "padding": null,
      "right": null,
      "top": null,
      "visibility": null,
      "width": "auto"
     }
    }
   }
  }
 },
 "nbformat": 4,
 "nbformat_minor": 0
}
